{
 "cells": [
  {
   "cell_type": "code",
   "execution_count": 11,
   "id": "49acaa33-2fa8-4892-877b-4daaf228cb9c",
   "metadata": {},
   "outputs": [
    {
     "name": "stdout",
     "output_type": "stream",
     "text": [
      "The autoreload extension is already loaded. To reload it, use:\n",
      "  %reload_ext autoreload\n"
     ]
    }
   ],
   "source": [
    "%load_ext autoreload\n",
    "\n",
    "%autoreload 2\n",
    "from multiprocessing import Pool\n",
    "import matplotlib.pyplot as plt\n",
    "import pickle\n",
    "from astropy.coordinates import SkyCoord, match_coordinates_3d, match_coordinates_sky\n",
    "import sys\n",
    "import emcee\n",
    "import numpy as np\n",
    "from astropy.cosmology import FlatLambdaCDM\n",
    "import astropy.units as u\n",
    "from astropy.table import Table, QTable, hstack, vstack\n",
    "from astropy import units as u\n",
    "import corner\n",
    "from astropy.coordinates import SkyCoord, match_coordinates_3d\n",
    "cosmo_astropy = FlatLambdaCDM(H0=71.0, Om0=0.265, Ob0 = 0.0448)\n",
    "import iminuit\n",
    "from iminuit import Minuit\n",
    "cosmo_astropy.critical_density(0.4).to(u.Msun / u.Mpc**3).value\n",
    "\n",
    "sys.path.append('/pbs/throng/lsst/users/cpayerne/CLMassDC2/modules/')\n",
    "import CL_WL_miscentering as mis\n",
    "import analysis_Mass_Richness_relation as analysis\n",
    "import CL_WL_two_halo_term as twoh\n",
    "import CL_WL_mass_conversion as utils\n",
    "import CL_DATAOPS_match_catalogs as match\n",
    "import CL_Mass_richness_relation as mr\n",
    "import CL_Likelihood_for_Mass_richness_relation_v2 as likelihood_mr\n",
    "\n",
    "\n",
    "import clmm\n",
    "import clmm.dataops\n",
    "from clmm.dataops import compute_tangential_and_cross_components, make_radial_profile, make_bins\n",
    "from clmm.galaxycluster import GalaxyCluster\n",
    "import clmm.utils as u\n",
    "import astropy.units as un\n",
    "from clmm import Cosmology\n",
    "from clmm.support import mock_data as mock\n",
    "import pyccl as ccl\n",
    "\n",
    "def save_pickle(dat, filename, **kwargs):\n",
    "    file = open(filename,'wb')\n",
    "    pickle.dump(dat, file)\n",
    "    file.close()"
   ]
  },
  {
   "cell_type": "code",
   "execution_count": 12,
   "id": "5ff45640-7f3b-48fe-8e14-6203da8ae230",
   "metadata": {},
   "outputs": [],
   "source": [
    "cosmo = Cosmology(H0 = 71.0, Omega_dm0 = 0.265 - 0.0448, Omega_b0 = 0.0448, Omega_k0 = 0.0)\n",
    "cosmo_astropy = FlatLambdaCDM(H0=71.0, Om0=0.265, Ob0 = 0.0448)\n",
    "cosmo_clmm = Cosmology(H0 = 71.0, Omega_dm0 = 0.265 - 0.0448, Omega_b0 = 0.0448, Omega_k0 = 0.0)\n",
    "cosmo_ccl  = ccl.Cosmology(Omega_c=0.265-0.0448, Omega_b=0.0448, h=0.71, A_s=2.1e-9, n_s=0.96, Neff=0, Omega_g=0)"
   ]
  },
  {
   "cell_type": "code",
   "execution_count": 13,
   "id": "e18fb21d-af73-4b75-acc1-44d009fd8701",
   "metadata": {},
   "outputs": [
    {
     "name": "stdout",
     "output_type": "stream",
     "text": [
      "16\n"
     ]
    }
   ],
   "source": [
    "data = np.load('/pbs/throng/lsst/users/cpayerne/CLMassDC2/notebooks/data_for_notebooks/stacked_esd_profiles_redmapper_true.pkl', allow_pickle=True)\n",
    "profiles = data['stacked profile']\n",
    "covariances = data['stacked covariance']\n",
    "print(len(profiles))\n",
    "\n",
    "#model"
   ]
  },
  {
   "cell_type": "code",
   "execution_count": 14,
   "id": "f693daef-e6a7-4500-9aa4-e6ade895c928",
   "metadata": {},
   "outputs": [
    {
     "data": {
      "text/plain": [
       "'1.1.9'"
      ]
     },
     "execution_count": 14,
     "metadata": {},
     "output_type": "execute_result"
    }
   ],
   "source": [
    "clmm.__version__"
   ]
  },
  {
   "cell_type": "code",
   "execution_count": 15,
   "id": "623f1c3f-2de7-4ac3-af93-20bcac615321",
   "metadata": {},
   "outputs": [],
   "source": [
    "MR_modeling = mr.WL_Mass_Richness()\n",
    "MR_modeling.set_pivot_values(analysis.z0, analysis.richness0)\n",
    "\n",
    "#modeling of the unitary excess surface density profile\n",
    "def esd_modeling(R, log10m, c, z, cosmo):\n",
    "    return clmm.compute_excess_surface_density(R, 10**log10m, c, z, cosmo, delta_mdef=200,\n",
    "                                       halo_profile_model='nfw', massdef='critical')\n",
    "def esd_modeling_2h_nobias(R, z):\n",
    "    moo = clmm.Modeling(massdef='critical', delta_mdef=200, halo_profile_model='nfw')\n",
    "    moo.set_cosmo(cosmo)\n",
    "    return moo.eval_excess_surface_density_2h(R, z, halobias=1)"
   ]
  },
  {
   "cell_type": "code",
   "execution_count": 32,
   "id": "edae6f59-c231-433b-8ed0-4f085d818a18",
   "metadata": {},
   "outputs": [],
   "source": [
    "R = np.linspace(1, 10, 10)\n",
    "y1 = esd_modeling(R, 14, 4, .3, cosmo)\n",
    "y2 = esd_modeling_2h_nobias(R, .3)"
   ]
  },
  {
   "cell_type": "code",
   "execution_count": 37,
   "id": "8b1c9f0c-db09-44cc-b4f5-608ff3516b40",
   "metadata": {},
   "outputs": [
    {
     "data": {
      "text/plain": [
       "[]"
      ]
     },
     "execution_count": 37,
     "metadata": {},
     "output_type": "execute_result"
    },
    {
     "data": {
      "image/png": "[encoded data removed]",
      "text/plain": [
       "<Figure size 432x288 with 1 Axes>"
      ]
     },
     "metadata": {
      "needs_background": "light"
     },
     "output_type": "display_data"
    }
   ],
   "source": [
    "plt.plot(R, y1)\n",
    "plt.plot(R, y1 + 1*y2)\n",
    "plt.loglog()"
   ]
  },
  {
   "cell_type": "code",
   "execution_count": 17,
   "id": "10300ef7-b220-4b4e-8e62-af52c0bded52",
   "metadata": {},
   "outputs": [
    {
     "data": {
      "text/plain": [
       "array([2.15431383e+11])"
      ]
     },
     "execution_count": 17,
     "metadata": {},
     "output_type": "execute_result"
    }
   ],
   "source": [
    "esd_modeling_2h_nobias(, .2)"
   ]
  },
  {
   "cell_type": "code",
   "execution_count": 18,
   "id": "f7e95e2d-0e2f-4b83-9103-d153dc61f587",
   "metadata": {},
   "outputs": [],
   "source": [
    "#defining the likelihood\n",
    "lnL = likelihood_mr.MR_from_Stacked_ESD_profiles(richness_individual = profiles['richness'], \n",
    "                                                   z_individual = profiles['redshift'], \n",
    "                                                   weights_per_bin_individual = profiles['W_l_true'],\n",
    "                                                   covariance_stack = covariances['cov_t'], \n",
    "                                                   esd_stack = profiles['gt'],\n",
    "                                                   radius_stack = profiles['radius'],\n",
    "                                                   MRR_object = MR_modeling, esd_modeling = esd_modeling, cosmo = cosmo)\n",
    "\n",
    "\n",
    "#reshape data \n",
    "lnL.reshape_data(r_min = 1, r_max = 5.5)\n",
    "\n",
    "#define likelihood"
   ]
  },
  {
   "cell_type": "code",
   "execution_count": 19,
   "id": "2fbccdae-6ae7-4e82-93e5-b2a1f74233be",
   "metadata": {},
   "outputs": [],
   "source": [
    "lnL.halo_regime(two_halo = True, esd_2h_nobias_modeling = esd_modeling_2h_nobias, c_m_relation = 'Diemer15')"
   ]
  },
  {
   "cell_type": "code",
   "execution_count": 39,
   "id": "27b0db9b-0cfa-4887-ab71-369e43844f6b",
   "metadata": {},
   "outputs": [
    {
     "data": {
      "image/png": "[encoded data removed]",
      "text/plain": [
       "<Figure size 432x288 with 1 Axes>"
      ]
     },
     "metadata": {
      "needs_background": "light"
     },
     "output_type": "display_data"
    }
   ],
   "source": [
    "for i in range(10):\n",
    "    plt.plot(lnL.esd_2h_nobias[i, :])"
   ]
  },
  {
   "cell_type": "code",
   "execution_count": 28,
   "id": "63f7d0ef-4339-45da-8ab8-e81b51efeff9",
   "metadata": {},
   "outputs": [],
   "source": [
    "def lnLikelihood(p):\n",
    "    logm0, G, F, sigma_int = p\n",
    "    \n",
    "    #prior\n",
    "    if logm0 < 11: return -np.inf\n",
    "    if sigma_int < 0: return -np.inf\n",
    "    if sigma_int > 1: return -np.inf\n",
    "\n",
    "    return lnL.lnLikelihood(p, which='full', scatter_lnc=.2, c_m_relation = 'Diemer15', two_halo_term=True)"
   ]
  }
 ],
 "metadata": {
  "kernelspec": {
   "display_name": "mydesc",
   "language": "python",
   "name": "mydesc"
  },
  "language_info": {
   "codemirror_mode": {
    "name": "ipython",
    "version": 3
   },
   "file_extension": ".py",
   "mimetype": "text/x-python",
   "name": "python",
   "nbconvert_exporter": "python",
   "pygments_lexer": "ipython3",
   "version": "3.7.6"
  }
 },
 "nbformat": 4,
 "nbformat_minor": 5
}
