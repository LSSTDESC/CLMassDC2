{
 "cells": [
  {
   "cell_type": "code",
   "execution_count": 1,
   "id": "2dd8ac07-7619-4b58-a68d-a7142d20791e",
   "metadata": {},
   "outputs": [],
   "source": [
    "%load_ext autoreload\n",
    "%autoreload 2\n",
    "import numpy as np\n",
    "import cosmodc2 as extract_cosmodc2\n",
    "import lens_data as lens\n",
    "import matplotlib.pyplot as plt\n",
    "import GCRCatalogs\n",
    "import healpy\n",
    "import pickle,sys\n",
    "import mysql\n",
    "\n",
    "from mysql.connector import Error\n",
    "from clmm.dataops import compute_galaxy_weights\n",
    "from clmm import Cosmology\n",
    "from scipy.integrate import simps\n",
    "cosmo = Cosmology(H0 = 71.0, Omega_dm0 = 0.265 - 0.0448, Omega_b0 = 0.0448, Omega_k0 = 0.0)\n",
    "\n",
    "conn = mysql.connector.connect(host='ccqserv201', user='qsmaster', port=30040)\n",
    "cursor = conn.cursor(dictionary=True, buffered=True)"
   ]
  },
  {
   "cell_type": "markdown",
   "id": "c3f2dd4c-a188-4e04-8225-81686152a906",
   "metadata": {},
   "source": [
    "# Lens catalog"
   ]
  },
  {
   "cell_type": "code",
   "execution_count": 2,
   "id": "5839bf69-c1c1-47ad-92f3-ce13cd98e162",
   "metadata": {},
   "outputs": [],
   "source": [
    "lens_catalog = lens.lens_catalog\n",
    "index = 10"
   ]
  },
  {
   "cell_type": "markdown",
   "id": "3f177a20-1e7e-4989-9c08-47b047ea9c03",
   "metadata": {},
   "source": [
    "## Cosmodc2 with qserv & GCRCatalogs"
   ]
  },
  {
   "cell_type": "code",
   "execution_count": 3,
   "id": "d70627d6-41c7-48b3-8f0d-3fa589fe41e5",
   "metadata": {},
   "outputs": [],
   "source": [
    "#z, ra, dec = lens_catalog['redshift'][index], lens_catalog['ra'][index], lens_catalog['dec'][index]\n",
    "z, ra, dec = .01, 65, -40"
   ]
  },
  {
   "cell_type": "markdown",
   "id": "b90d509e-0807-4e05-b3d8-90945d5a5207",
   "metadata": {},
   "source": [
    "### true shapes, true redshifts"
   ]
  },
  {
   "cell_type": "code",
   "execution_count": 4,
   "id": "b4c19016-fa55-4d31-b366-2d1dd0291e0e",
   "metadata": {},
   "outputs": [],
   "source": [
    "def query(lens_z, lens_distance, ra, dec, rmax = 10):\n",
    "    r\"\"\"\n",
    "    Attributes:\n",
    "    -----------\n",
    "    z: float\n",
    "        lens redshift\n",
    "    ra: float\n",
    "        lens right ascension\n",
    "    dec: float\n",
    "        lens declinaison\n",
    "    rmax: float\n",
    "        maximum radius\n",
    "    \"\"\"\n",
    "    zmax = 3.\n",
    "    zmin = 0.05\n",
    "    theta_max = (rmax/lens_distance) * (180./np.pi)\n",
    "    query = \"SELECT data.coord_ra as ra, data.coord_dec as dec, data.redshift as z, \"\n",
    "    query += \"data.galaxy_id as galaxy_id, \"\n",
    "    query += \"data.mag_i, data.mag_r, data.mag_y, \"\n",
    "    query += \"data.shear_1 as shear1, data.shear_2 as shear2, data.convergence as kappa, \"\n",
    "    query += \"data.ellipticity_1_true as e1_true, data.ellipticity_2_true as e2_true \" \n",
    "    query += \"FROM cosmoDC2_v1_1_4_image.data as data \"\n",
    "    query += f\"WHERE data.redshift >= {zmin} AND data.redshift < {zmax} \"\n",
    "    query += f\"AND scisql_s2PtInCircle(coord_ra, coord_dec, {ra}, {dec}, {theta_max}) = 1 \"\n",
    "    query += f\"AND data.mag_i <= 28 \"\n",
    "    query += \";\" \n",
    "    return query"
   ]
  },
  {
   "cell_type": "code",
   "execution_count": 15,
   "id": "e646d984-9914-40a7-8ebc-11444bb64026",
   "metadata": {},
   "outputs": [],
   "source": [
    "rmax=.1\n",
    "bckgd_galaxy_catalog = extract_cosmodc2.extract(lens_redshift = z, lens_ra = ra, lens_dec = dec, rmax=rmax, \n",
    "                                                query=query(z, cosmo.eval_da(z), ra, dec, rmax = rmax),\n",
    "                                                conn_qserv=conn, cosmo=cosmo)"
   ]
  },
  {
   "cell_type": "code",
   "execution_count": 16,
   "id": "ba86e7af-528c-476d-bc0a-61e4d463bc7e",
   "metadata": {},
   "outputs": [],
   "source": [
    "cl = bckgd_galaxy_catalog "
   ]
  },
  {
   "cell_type": "code",
   "execution_count": 17,
   "id": "b05f3de0-bb4d-4103-8af3-3716b2211463",
   "metadata": {},
   "outputs": [
    {
     "data": {
      "text/plain": [
       "82940"
      ]
     },
     "execution_count": 17,
     "metadata": {},
     "output_type": "execute_result"
    }
   ],
   "source": [
    "len(cl.galcat)"
   ]
  },
  {
   "cell_type": "code",
   "execution_count": 18,
   "id": "7be261ee-4ca5-4eab-a0a1-317fbb989560",
   "metadata": {},
   "outputs": [
    {
     "data": {
      "image/png": "[encoded data removed]",
      "text/plain": [
       "<Figure size 432x288 with 1 Axes>"
      ]
     },
     "metadata": {
      "needs_background": "light"
     },
     "output_type": "display_data"
    }
   ],
   "source": [
    "bins=50\n",
    "plt.hist(cl.galcat['mag_i'], bins=bins, histtype='step', label='mag_i')\n",
    "plt.hist(cl.galcat['mag_r'], bins=bins, histtype='step', label='mag_r')\n",
    "plt.hist(cl.galcat['mag_y'], bins=bins, histtype='step', label='mag_y')\n",
    "plt.legend(loc='upper left')\n",
    "plt.yscale('log')\n",
    "plt.show()"
   ]
  },
  {
   "cell_type": "code",
   "execution_count": 19,
   "id": "53a19f7f-d982-4dd6-9b34-03d9df536e61",
   "metadata": {},
   "outputs": [],
   "source": [
    "theta_arcmin = 3437.75*(rmax/cosmo.eval_da_z1z2(0, z))\n",
    "S_arcmin2 =np.pi*theta_arcmin**2"
   ]
  },
  {
   "cell_type": "code",
   "execution_count": 20,
   "id": "4a860d8d-dd59-4440-8f97-d494031d4479",
   "metadata": {},
   "outputs": [],
   "source": [
    "mag_i_max=np.linspace(23, 25, 20)"
   ]
  },
  {
   "cell_type": "code",
   "execution_count": 29,
   "id": "40c27da3-0801-41de-8825-7aa5572b8de0",
   "metadata": {},
   "outputs": [
    {
     "data": {
      "text/plain": [
       "<matplotlib.legend.Legend at 0x7f793c92cb50>"
      ]
     },
     "execution_count": 29,
     "metadata": {},
     "output_type": "execute_result"
    },
    {
     "data": {
      "image/png": "[encoded data removed]",
      "text/plain": [
       "<Figure size 720x720 with 1 Axes>"
      ]
     },
     "metadata": {
      "needs_background": "light"
     },
     "output_type": "display_data"
    }
   ],
   "source": [
    "plt.figure(figsize=(10,10))\n",
    "plt.hlines(25, mag_i_max[0], mag_i_max[-1], color='b', label='LSST for weak lensing')\n",
    "for i,mag_i_min_ in enumerate(mag_i_max):\n",
    "    mask=(cl.galcat['mag_i'] < mag_i_min_)\n",
    "    mask = mask * (cl.galcat['mag_r'] < 28)\n",
    "    n_gal_arcmin2=len(cl.galcat[mask])/S_arcmin2\n",
    "    plt.plot(mag_i_min_, n_gal_arcmin2 ,'o', color='k')\n",
    "\n",
    "plt.xlabel(r'SNR i-band > ', fontsize=20)\n",
    "plt.ylabel(r'$n_{\\rm gal}$ $(arcmin^{-2})$', fontsize=20)\n",
    "plt.legend(framealpha=1, fontsize=20)"
   ]
  },
  {
   "cell_type": "code",
   "execution_count": null,
   "id": "c3cca9c6-84b3-4ae5-93fc-a6e2711506b5",
   "metadata": {},
   "outputs": [],
   "source": []
  }
 ],
 "metadata": {
  "kernelspec": {
   "display_name": "mydesc",
   "language": "python",
   "name": "mydesc"
  },
  "language_info": {
   "codemirror_mode": {
    "name": "ipython",
    "version": 3
   },
   "file_extension": ".py",
   "mimetype": "text/x-python",
   "name": "python",
   "nbconvert_exporter": "python",
   "pygments_lexer": "ipython3",
   "version": "3.7.6"
  }
 },
 "nbformat": 4,
 "nbformat_minor": 5
}
