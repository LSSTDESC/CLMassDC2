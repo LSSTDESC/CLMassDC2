{
 "cells": [
  {
   "cell_type": "code",
   "execution_count": 2,
   "id": "2dd8ac07-7619-4b58-a68d-a7142d20791e",
   "metadata": {},
   "outputs": [
    {
     "name": "stdout",
     "output_type": "stream",
     "text": [
      "The autoreload extension is already loaded. To reload it, use:\n",
      "  %reload_ext autoreload\n"
     ]
    }
   ],
   "source": [
    "%load_ext autoreload\n",
    "%autoreload 2\n",
    "import extract_in_cosmodc2 as extract_cosmodc2\n",
    "import lens_data as lens\n",
    "import matplotlib.pyplot as plt\n",
    "import GCRCatalogs"
   ]
  },
  {
   "cell_type": "markdown",
   "id": "c3f2dd4c-a188-4e04-8225-81686152a906",
   "metadata": {},
   "source": [
    "# Lens catalog"
   ]
  },
  {
   "cell_type": "code",
   "execution_count": 3,
   "id": "5839bf69-c1c1-47ad-92f3-ce13cd98e162",
   "metadata": {},
   "outputs": [],
   "source": [
    "lens_catalog = lens.lens_catalog\n",
    "index = 10"
   ]
  },
  {
   "cell_type": "markdown",
   "id": "3f177a20-1e7e-4989-9c08-47b047ea9c03",
   "metadata": {},
   "source": [
    "## Cosmodc2 with qserv"
   ]
  },
  {
   "cell_type": "code",
   "execution_count": 4,
   "id": "d70627d6-41c7-48b3-8f0d-3fa589fe41e5",
   "metadata": {},
   "outputs": [],
   "source": [
    "z, ra, dec = lens_catalog['redshift'][index], lens_catalog['ra'][index], lens_catalog['dec'][index]"
   ]
  },
  {
   "cell_type": "code",
   "execution_count": 6,
   "id": "e646d984-9914-40a7-8ebc-11444bb64026",
   "metadata": {},
   "outputs": [],
   "source": [
    "bckgd_galaxy_catalog = qserv.extract(lens_redshift = z, lens_ra = ra, lens_dec = dec)"
   ]
  },
  {
   "cell_type": "markdown",
   "id": "211f7169-c274-4e87-b36f-c7334e9be5c1",
   "metadata": {},
   "source": [
    "## DC2 with GCR catalog"
   ]
  },
  {
   "cell_type": "code",
   "execution_count": 11,
   "id": "5f1c3d5e-20af-49d0-ae6d-b9337be8ea72",
   "metadata": {},
   "outputs": [],
   "source": [
    "gc_flex = GCRCatalogs.load_catalog(\"cosmoDC2_v1.1.4_image_with_photozs_flexzboost_v1\")\n",
    "gc_bpz = GCRCatalogs.load_catalog(\"cosmoDC2_v1.1.4_image_with_photozs_v1\")\n",
    "z_bins = gc_flex.photoz_pdf_bin_centers"
   ]
  },
  {
   "cell_type": "code",
   "execution_count": null,
   "id": "afd9a64f-0a24-4cd9-83cf-67d6c49d1f2c",
   "metadata": {},
   "outputs": [
    {
     "name": "stderr",
     "output_type": "stream",
     "text": [
      "ERROR:root:Internal Python error in the inspect module.\n",
      "Below is the traceback from this internal error.\n",
      "\n",
      "\n",
      "KeyboardInterrupt\n",
      "\n",
      "Closing remaining open files:/sps/lsst/groups/desc/shared/xgal/cosmoDC2/addons/photoz_v1.1.4/IMAGE/10_year_error_estimates/z_0_1.step_all_withmask.healpix_10066_magwerr.h5...done\n"
     ]
    },
    {
     "name": "stdout",
     "output_type": "stream",
     "text": [
      "Traceback (most recent call last):\n",
      "  File \"/pbs/home/c/cpayerne/.conda/envs/mydesc/lib/python3.7/site-packages/IPython/core/interactiveshell.py\", line 3343, in run_code\n",
      "    exec(code_obj, self.user_global_ns, self.user_ns)\n",
      "  File \"<ipython-input-18-11dc93effbd1>\", line 3, in <module>\n",
      "    catalog_name = \"cosmoDC2_v1.1.4_image_with_photozs_flexzboost_v1\")\n",
      "  File \"/pbs/throng/lsst/users/cpayerne/CLMassDC2/data/data_extraction/extract_cosmoDC2_bckgd_gal_with_qserv.py\", line 128, in extract\n",
      "    dat_photoz = extract_photoz(tab['galaxy_id'], healpix, GCRcatalog=GCRcatalog,catalog_name=catalog_name)\n",
      "  File \"/pbs/throng/lsst/users/cpayerne/CLMassDC2/data/data_extraction/extract_cosmoDC2_bckgd_gal_with_qserv.py\", line 85, in extract_photoz\n",
      "    tab_astropy = Table(GCRcatalog.get_quantities(quantities_photoz))\n",
      "  File \"/pbs/home/c/cpayerne/.conda/envs/mydesc/lib/python3.7/site-packages/GCR/base.py\", line 75, in get_quantities\n",
      "    for data in it:\n",
      "  File \"/pbs/home/c/cpayerne/.conda/envs/mydesc/lib/python3.7/site-packages/GCR/base.py\", line 470, in _get_quantities_iter\n",
      "    native_quantity_getter)\n",
      "  File \"/pbs/home/c/cpayerne/.conda/envs/mydesc/lib/python3.7/site-packages/GCR/base.py\", line 464, in _load_quantities\n",
      "    native_data = self._obtain_native_data_dict(native_quantities_needed, native_quantity_getter)\n",
      "  File \"/pbs/home/c/cpayerne/.conda/envs/mydesc/lib/python3.7/site-packages/GCR/composite.py\", line 329, in _obtain_native_data_dict\n",
      "    cat.cache = cat.instance._load_quantities(quantities_needed, getter)\n",
      "  File \"/pbs/home/c/cpayerne/.conda/envs/mydesc/lib/python3.7/site-packages/GCR/base.py\", line 464, in _load_quantities\n",
      "    native_data = self._obtain_native_data_dict(native_quantities_needed, native_quantity_getter)\n",
      "  File \"/pbs/home/c/cpayerne/.conda/envs/mydesc/lib/python3.7/site-packages/GCRCatalogs/dc2_dm_catalog.py\", line 271, in _obtain_native_data_dict\n",
      "    as_dict=True)\n",
      "  File \"/pbs/home/c/cpayerne/.conda/envs/mydesc/lib/python3.7/site-packages/GCRCatalogs/parquet.py\", line 89, in read_columns\n",
      "    table = self.handle.read(columns=columns)\n",
      "  File \"/pbs/home/c/cpayerne/.conda/envs/mydesc/lib/python3.7/site-packages/pyarrow/parquet.py\", line 337, in read\n",
      "    use_threads=use_threads)\n",
      "KeyboardInterrupt\n",
      "\n",
      "During handling of the above exception, another exception occurred:\n",
      "\n",
      "Traceback (most recent call last):\n",
      "  File \"/pbs/home/c/cpayerne/.conda/envs/mydesc/lib/python3.7/site-packages/IPython/core/interactiveshell.py\", line 2044, in showtraceback\n",
      "    stb = value._render_traceback_()\n",
      "AttributeError: 'KeyboardInterrupt' object has no attribute '_render_traceback_'\n",
      "\n",
      "During handling of the above exception, another exception occurred:\n",
      "\n",
      "Traceback (most recent call last):\n",
      "  File \"/pbs/home/c/cpayerne/.conda/envs/mydesc/lib/python3.7/site-packages/IPython/core/ultratb.py\", line 1169, in get_records\n",
      "    return _fixed_getinnerframes(etb, number_of_lines_of_context, tb_offset)\n",
      "  File \"/pbs/home/c/cpayerne/.conda/envs/mydesc/lib/python3.7/site-packages/IPython/core/ultratb.py\", line 316, in wrapped\n",
      "    return f(*args, **kwargs)\n",
      "  File \"/pbs/home/c/cpayerne/.conda/envs/mydesc/lib/python3.7/site-packages/IPython/core/ultratb.py\", line 350, in _fixed_getinnerframes\n",
      "    records = fix_frame_records_filenames(inspect.getinnerframes(etb, context))\n",
      "  File \"/pbs/home/c/cpayerne/.conda/envs/mydesc/lib/python3.7/inspect.py\", line 1502, in getinnerframes\n",
      "    frameinfo = (tb.tb_frame,) + getframeinfo(tb, context)\n",
      "  File \"/pbs/home/c/cpayerne/.conda/envs/mydesc/lib/python3.7/inspect.py\", line 1460, in getframeinfo\n",
      "    filename = getsourcefile(frame) or getfile(frame)\n",
      "  File \"/pbs/home/c/cpayerne/.conda/envs/mydesc/lib/python3.7/inspect.py\", line 696, in getsourcefile\n",
      "    if getattr(getmodule(object, filename), '__loader__', None) is not None:\n",
      "  File \"/pbs/home/c/cpayerne/.conda/envs/mydesc/lib/python3.7/inspect.py\", line 732, in getmodule\n",
      "    for modname, module in list(sys.modules.items()):\n",
      "KeyboardInterrupt\n"
     ]
    }
   ],
   "source": [
    "bckgd_galaxy_catalog = qserv.extract(lens_redshift = z, lens_ra = ra, lens_dec = dec, \n",
    "                                     photoz=True, photoz_label='flex', GCRcatalog=gc_flex,\n",
    "                                     catalog_name = \"cosmoDC2_v1.1.4_image_with_photozs_flexzboost_v1\")"
   ]
  },
  {
   "cell_type": "code",
   "execution_count": null,
   "id": "e2b0e3e7-17aa-41aa-8bdf-3d5f7018aa04",
   "metadata": {},
   "outputs": [],
   "source": []
  },
  {
   "cell_type": "code",
   "execution_count": null,
   "id": "8956ea33-b734-4b85-889b-87e6ea6bf1f6",
   "metadata": {},
   "outputs": [],
   "source": []
  },
  {
   "cell_type": "code",
   "execution_count": null,
   "id": "faba8f07-ebbd-4e4c-ba20-abaf65d542c7",
   "metadata": {},
   "outputs": [],
   "source": []
  }
 ],
 "metadata": {
  "kernelspec": {
   "display_name": "mydesc",
   "language": "python",
   "name": "mydesc"
  },
  "language_info": {
   "codemirror_mode": {
    "name": "ipython",
    "version": 3
   },
   "file_extension": ".py",
   "mimetype": "text/x-python",
   "name": "python",
   "nbconvert_exporter": "python",
   "pygments_lexer": "ipython3",
   "version": "3.7.6"
  }
 },
 "nbformat": 4,
 "nbformat_minor": 5
}
