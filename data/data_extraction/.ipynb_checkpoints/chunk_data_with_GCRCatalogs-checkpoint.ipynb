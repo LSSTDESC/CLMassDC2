{
 "cells": [
  {
   "cell_type": "code",
   "execution_count": 52,
   "id": "8aa4fc25-07b4-4298-a5da-08df3e60f0f5",
   "metadata": {},
   "outputs": [],
   "source": [
    "import GCRCatalogs\n",
    "import matplotlib.pyplot as plt\n",
    "from astropy.table import Table\n",
    "import numpy as np\n",
    "import sys\n",
    "sys.path.append('/pbs/throng/lsst/users/cpayerne/LikelihoodsClusterAbundance/modules/')\n",
    "import edit"
   ]
  },
  {
   "cell_type": "code",
   "execution_count": 33,
   "id": "b5bfd812-45d6-47d1-bb34-212026cebe4f",
   "metadata": {},
   "outputs": [],
   "source": [
    "cd = GCRCatalogs.load_catalog(\"cosmoDC2_v1.1.4_image_with_photozs_v1\")"
   ]
  },
  {
   "cell_type": "code",
   "execution_count": 34,
   "id": "ef9d9fb9-872f-4de7-8486-aa3cd3417f42",
   "metadata": {},
   "outputs": [],
   "source": [
    "z_bins = cd.photoz_pdf_bin_centers"
   ]
  },
  {
   "cell_type": "code",
   "execution_count": 35,
   "id": "36c57574-a6b3-499a-b89d-2e481ff481b4",
   "metadata": {},
   "outputs": [
    {
     "data": {
      "text/plain": [
       "{'subclass_name': 'composite.CompositeReader',\n",
       " 'description': 'Composite catalog that matches the \"observed\" photometry catalog for\\ncosmoDC2_v1.1.4_image (with names \"scatmag_[band]\" and \"scaterr_[band]\")\\nwith both the base cosmoDC2_v1.1.4_image catalog and the photometric\\nredshift estimates. Caveat: only a subset of the objects, those with\\nscatmag_i<26.5, have photometric redshift estimates. The composite catalog\\nwill return masked arrays that must have the mask applied if you wish to\\nproperly extract both magnitudes and photometric redshifts simultaneously.\\n\\nData used for training BPZ is representative down to scatmag_i < 25.\\n',\n",
       " 'catalogs': [{'catalog_name': 'cosmoDC2_v1.1.4_image',\n",
       "   'matching_method': 'MATCHING_FORMAT'},\n",
       "  {'catalog_name': 'photoz_mock_magnitudes_with_errors_for_cosmoDC2_v1.1.4_image',\n",
       "   'matching_method': 'MATCHING_FORMAT'},\n",
       "  {'catalog_name': 'photoz_pdfs_v1_for_cosmoDC2_v1.1.4_image',\n",
       "   'matching_method': 'MATCHING_FORMAT'}]}"
      ]
     },
     "execution_count": 35,
     "metadata": {},
     "output_type": "execute_result"
    }
   ],
   "source": [
    "cd.get_catalog_info()"
   ]
  },
  {
   "cell_type": "code",
   "execution_count": 36,
   "id": "2b8f96e3-a7b2-4e3b-9300-1232a65a03ba",
   "metadata": {},
   "outputs": [],
   "source": [
    "#xfull = cd.get_quantities(['photoz_mean'],)# return_iterator=True)"
   ]
  },
  {
   "cell_type": "code",
   "execution_count": 37,
   "id": "d77c9b84-9ce5-4b92-9617-32d20649bb18",
   "metadata": {},
   "outputs": [],
   "source": [
    "xchunk = cd.get_quantities([ 'photoz_mean', 'photoz_pdf'], native_filters=[f'healpix_pixel==9687'], return_iterator=True)"
   ]
  },
  {
   "cell_type": "code",
   "execution_count": 38,
   "id": "88059592-f787-4be8-9ef0-cf2b8aa6500e",
   "metadata": {},
   "outputs": [],
   "source": [
    "s = next(xchunk)"
   ]
  },
  {
   "cell_type": "code",
   "execution_count": 46,
   "id": "fd78bd8e-2265-41b4-92aa-153f45be3d5d",
   "metadata": {},
   "outputs": [],
   "source": [
    "t = Table(s)[np.arange(3000)]"
   ]
  },
  {
   "cell_type": "code",
   "execution_count": 47,
   "id": "ab72db14-5c03-42a4-9637-ed7f4f85a9d8",
   "metadata": {},
   "outputs": [],
   "source": [
    "photoz_zbins = [z_bins for i in range(3000)]"
   ]
  },
  {
   "cell_type": "code",
   "execution_count": 48,
   "id": "023c7ad5-da2a-4f86-8c29-e3ebe8c965a3",
   "metadata": {},
   "outputs": [],
   "source": [
    "t['photoz_zbins'] = np.array(photoz_zbins)"
   ]
  },
  {
   "cell_type": "code",
   "execution_count": 53,
   "id": "9db76951-dfcf-4c78-87a3-74c9ed26a66e",
   "metadata": {},
   "outputs": [],
   "source": [
    "where_to_save='/sps/lsst/users/cpayerne/CLMassDC2/cosmoDC2/redmapper_clusters/'\n",
    "name = 'table_of_BPZ_photometric_redshifts.pkl'"
   ]
  },
  {
   "cell_type": "code",
   "execution_count": 54,
   "id": "c6bb86f7-ae7b-429a-bdb2-8660efed5c94",
   "metadata": {},
   "outputs": [],
   "source": [
    "edit.save_pickle(t, where_to_save + name)"
   ]
  },
  {
   "cell_type": "code",
   "execution_count": 55,
   "id": "c3c1d7fc-6ae5-460c-ab6a-2046ca880abe",
   "metadata": {},
   "outputs": [],
   "source": [
    "t1 = edit.load_pickle(where_to_save + name)"
   ]
  },
  {
   "cell_type": "code",
   "execution_count": 56,
   "id": "e42ef046-c655-40af-ad00-40eb5ceffd30",
   "metadata": {},
   "outputs": [
    {
     "data": {
      "text/html": [
       "<div><i>Table length=3000</i>\n",
       "<table id=\"table140424290480912\" class=\"table-striped table-bordered table-condensed\">\n",
       "<thead><tr><th>photoz_mean</th><th>photoz_pdf [301]</th><th>photoz_zbins [301]</th></tr></thead>\n",
       "<thead><tr><th>float32</th><th>float32</th><th>float32</th></tr></thead>\n",
       "<tr><td>0.1711127</td><td>0.0 .. 0.0</td><td>0.005 .. 3.005</td></tr>\n",
       "<tr><td>0.046091713</td><td>0.031847883 .. 0.0</td><td>0.005 .. 3.005</td></tr>\n",
       "<tr><td>0.08217238</td><td>0.030549549 .. 0.0</td><td>0.005 .. 3.005</td></tr>\n",
       "<tr><td>0.067468494</td><td>0.0079375 .. 0.0</td><td>0.005 .. 3.005</td></tr>\n",
       "<tr><td>0.108543746</td><td>0.021528687 .. 0.0</td><td>0.005 .. 3.005</td></tr>\n",
       "<tr><td>0.09332261</td><td>0.0 .. 0.0</td><td>0.005 .. 3.005</td></tr>\n",
       "<tr><td>0.10172408</td><td>0.0 .. 0.0</td><td>0.005 .. 3.005</td></tr>\n",
       "<tr><td>0.10215244</td><td>0.054912634 .. 0.0</td><td>0.005 .. 3.005</td></tr>\n",
       "<tr><td>0.07129784</td><td>0.0062858267 .. 0.0</td><td>0.005 .. 3.005</td></tr>\n",
       "<tr><td>0.1322045</td><td>0.0 .. 0.0</td><td>0.005 .. 3.005</td></tr>\n",
       "<tr><td>...</td><td>...</td><td>...</td></tr>\n",
       "<tr><td>0.4825561</td><td>0.0 .. 0.0</td><td>0.005 .. 3.005</td></tr>\n",
       "<tr><td>0.076288566</td><td>0.00427893 .. 0.0</td><td>0.005 .. 3.005</td></tr>\n",
       "<tr><td>0.47988033</td><td>0.0007704154 .. 0.0</td><td>0.005 .. 3.005</td></tr>\n",
       "<tr><td>0.1023667</td><td>0.0 .. 0.0</td><td>0.005 .. 3.005</td></tr>\n",
       "<tr><td>1.0102654</td><td>0.00015738737 .. 0.0</td><td>0.005 .. 3.005</td></tr>\n",
       "<tr><td>0.25997928</td><td>0.0010602111 .. 0.0</td><td>0.005 .. 3.005</td></tr>\n",
       "<tr><td>0.23632693</td><td>0.0 .. 0.0</td><td>0.005 .. 3.005</td></tr>\n",
       "<tr><td>0.1339126</td><td>0.0024433369 .. 0.0</td><td>0.005 .. 3.005</td></tr>\n",
       "<tr><td>0.14859597</td><td>0.022012541 .. 0.0</td><td>0.005 .. 3.005</td></tr>\n",
       "<tr><td>0.08305756</td><td>0.014859505 .. 0.0</td><td>0.005 .. 3.005</td></tr>\n",
       "</table></div>"
      ],
      "text/plain": [
       "<Table length=3000>\n",
       "photoz_mean   photoz_pdf [301]   photoz_zbins [301]\n",
       "  float32         float32             float32      \n",
       "----------- -------------------- ------------------\n",
       "  0.1711127           0.0 .. 0.0     0.005 .. 3.005\n",
       "0.046091713   0.031847883 .. 0.0     0.005 .. 3.005\n",
       " 0.08217238   0.030549549 .. 0.0     0.005 .. 3.005\n",
       "0.067468494     0.0079375 .. 0.0     0.005 .. 3.005\n",
       "0.108543746   0.021528687 .. 0.0     0.005 .. 3.005\n",
       " 0.09332261           0.0 .. 0.0     0.005 .. 3.005\n",
       " 0.10172408           0.0 .. 0.0     0.005 .. 3.005\n",
       " 0.10215244   0.054912634 .. 0.0     0.005 .. 3.005\n",
       " 0.07129784  0.0062858267 .. 0.0     0.005 .. 3.005\n",
       "  0.1322045           0.0 .. 0.0     0.005 .. 3.005\n",
       "        ...                  ...                ...\n",
       "  0.4825561           0.0 .. 0.0     0.005 .. 3.005\n",
       "0.076288566    0.00427893 .. 0.0     0.005 .. 3.005\n",
       " 0.47988033  0.0007704154 .. 0.0     0.005 .. 3.005\n",
       "  0.1023667           0.0 .. 0.0     0.005 .. 3.005\n",
       "  1.0102654 0.00015738737 .. 0.0     0.005 .. 3.005\n",
       " 0.25997928  0.0010602111 .. 0.0     0.005 .. 3.005\n",
       " 0.23632693           0.0 .. 0.0     0.005 .. 3.005\n",
       "  0.1339126  0.0024433369 .. 0.0     0.005 .. 3.005\n",
       " 0.14859597   0.022012541 .. 0.0     0.005 .. 3.005\n",
       " 0.08305756   0.014859505 .. 0.0     0.005 .. 3.005"
      ]
     },
     "execution_count": 56,
     "metadata": {},
     "output_type": "execute_result"
    }
   ],
   "source": [
    "t1"
   ]
  },
  {
   "cell_type": "code",
   "execution_count": null,
   "id": "d7017aae-a677-4ab5-ac91-049e74e3dd87",
   "metadata": {},
   "outputs": [],
   "source": []
  }
 ],
 "metadata": {
  "kernelspec": {
   "display_name": "mydesc",
   "language": "python",
   "name": "mydesc"
  },
  "language_info": {
   "codemirror_mode": {
    "name": "ipython",
    "version": 3
   },
   "file_extension": ".py",
   "mimetype": "text/x-python",
   "name": "python",
   "nbconvert_exporter": "python",
   "pygments_lexer": "ipython3",
   "version": "3.7.6"
  }
 },
 "nbformat": 4,
 "nbformat_minor": 5
}
