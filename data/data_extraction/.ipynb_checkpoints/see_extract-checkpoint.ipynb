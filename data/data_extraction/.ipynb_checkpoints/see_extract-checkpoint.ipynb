{
 "cells": [
  {
   "cell_type": "code",
   "execution_count": 61,
   "id": "retired-squad",
   "metadata": {},
   "outputs": [],
   "source": [
    "import GCRCatalogs\n",
    "import matplotlib.pyplot as plt\n",
    "import pickle\n",
    "import sys\n",
    "import glob\n",
    "import numpy as np\n",
    "from astropy.cosmology import FlatLambdaCDM\n",
    "import astropy.units as u\n",
    "import sys\n",
    "from astropy.table import Table\n",
    "def load(filename, **kwargs):\n",
    "    \"\"\"Loads GalaxyCluster object to filename using Pickle\"\"\"\n",
    "    with open(filename, 'rb') as fin:\n",
    "        return pickle.load(fin, **kwargs)\n",
    "    from clmm.dataops import compute_galaxy_weights\n",
    "from clmm import Cosmology\n",
    "from scipy.integrate import simps\n",
    "cosmo = Cosmology(H0 = 71.0, Omega_dm0 = 0.265 - 0.0448, Omega_b0 = 0.0448, Omega_k0 = 0.0)"
   ]
  },
  {
   "cell_type": "code",
   "execution_count": 62,
   "id": "4a85ea3c-bc05-4a5e-a778-1bc789a8a925",
   "metadata": {},
   "outputs": [],
   "source": [
    "sys.path.append('/pbs/throng/lsst/users/cpayerne/LikelihoodsClusterAbundance/modules/')\n",
    "import edit"
   ]
  },
  {
   "cell_type": "code",
   "execution_count": 63,
   "id": "d97216cd-09fb-4979-a61c-c67d317a4009",
   "metadata": {},
   "outputs": [],
   "source": [
    "file = glob.glob('/sps/lsst/users/cpayerne/CLMassDC2/cosmoDC2/redmapper_clusters/*')"
   ]
  },
  {
   "cell_type": "code",
   "execution_count": 64,
   "id": "4ba70c23-c14d-40c0-926c-096abaad60cc",
   "metadata": {},
   "outputs": [],
   "source": [
    "f=edit.load_pickle(file[0])"
   ]
  },
  {
   "cell_type": "code",
   "execution_count": 65,
   "id": "c4c09cab-43e7-402c-bbad-46c12055e811",
   "metadata": {},
   "outputs": [
    {
     "data": {
      "text/plain": [
       "0.6351852416992188"
      ]
     },
     "execution_count": 65,
     "metadata": {},
     "output_type": "execute_result"
    }
   ],
   "source": [
    "f.z"
   ]
  },
  {
   "cell_type": "code",
   "execution_count": 66,
   "id": "eb16e9b1-7436-4e20-8d2f-73d1162049b2",
   "metadata": {},
   "outputs": [
    {
     "data": {
      "text/plain": [
       "['ra',\n",
       " 'dec',\n",
       " 'z',\n",
       " 'galaxy_id',\n",
       " 'mag_i',\n",
       " 'mag_r',\n",
       " 'mag_y',\n",
       " 'shear1',\n",
       " 'shear2',\n",
       " 'kappa',\n",
       " 'e1_true',\n",
       " 'e2_true',\n",
       " 'g1',\n",
       " 'g2',\n",
       " 'e1',\n",
       " 'e2',\n",
       " 'photoz_mean_bpz',\n",
       " 'photoz_odds_bpz',\n",
       " 'photoz_mode_bpz',\n",
       " 'sigma_c_my_bpz',\n",
       " 'sigma_c_CLMM_bpz',\n",
       " 'photoz_mean_flex',\n",
       " 'photoz_odds_flex',\n",
       " 'photoz_mode_flex',\n",
       " 'sigma_c_my_flex',\n",
       " 'sigma_c_CLMM_flex']"
      ]
     },
     "execution_count": 66,
     "metadata": {},
     "output_type": "execute_result"
    }
   ],
   "source": [
    "f.galcat.colnames"
   ]
  },
  {
   "cell_type": "code",
   "execution_count": 67,
   "id": "d2fe3a39-92a7-4b32-95b7-46fbeb725e3c",
   "metadata": {},
   "outputs": [
    {
     "data": {
      "text/html": [
       "&lt;Column name=&apos;sigma_c_my_bpz&apos; dtype=&apos;float64&apos; length=10725&gt;\n",
       "<table>\n",
       "<tr><td>1.2286903911905942e+16</td></tr>\n",
       "<tr><td>7328760963924923.0</td></tr>\n",
       "<tr><td>1.6791181163651744e+16</td></tr>\n",
       "<tr><td>1.8184776749551624e+16</td></tr>\n",
       "<tr><td>8843014998596687.0</td></tr>\n",
       "<tr><td>1.159838418653796e+16</td></tr>\n",
       "<tr><td>1.1127849533826592e+16</td></tr>\n",
       "<tr><td>1.426717315601345e+16</td></tr>\n",
       "<tr><td>1.0420700194447212e+16</td></tr>\n",
       "<tr><td>9974287246468088.0</td></tr>\n",
       "<tr><td>7823270251902085.0</td></tr>\n",
       "<tr><td>8498786300579191.0</td></tr>\n",
       "<tr><td>...</td></tr>\n",
       "<tr><td>2987684182796844.5</td></tr>\n",
       "<tr><td>inf</td></tr>\n",
       "<tr><td>4.747256423127905e+16</td></tr>\n",
       "<tr><td>8280588845100788.0</td></tr>\n",
       "<tr><td>8.23588440679559e+16</td></tr>\n",
       "<tr><td>6.3588308573721656e+16</td></tr>\n",
       "<tr><td>1.5465157578079904e+16</td></tr>\n",
       "<tr><td>4425504383083879.0</td></tr>\n",
       "<tr><td>6.975326714565388e+16</td></tr>\n",
       "<tr><td>1.156522120120189e+18</td></tr>\n",
       "<tr><td>6.451470123934501e+16</td></tr>\n",
       "<tr><td>4.8540108078347706e+17</td></tr>\n",
       "</table>"
      ],
      "text/plain": [
       "<Column name='sigma_c_my_bpz' dtype='float64' length=10725>\n",
       "1.2286903911905942e+16\n",
       "    7328760963924923.0\n",
       "1.6791181163651744e+16\n",
       "1.8184776749551624e+16\n",
       "    8843014998596687.0\n",
       " 1.159838418653796e+16\n",
       "1.1127849533826592e+16\n",
       " 1.426717315601345e+16\n",
       "1.0420700194447212e+16\n",
       "    9974287246468088.0\n",
       "    7823270251902085.0\n",
       "    8498786300579191.0\n",
       "                   ...\n",
       "    2987684182796844.5\n",
       "                   inf\n",
       " 4.747256423127905e+16\n",
       "    8280588845100788.0\n",
       "  8.23588440679559e+16\n",
       "6.3588308573721656e+16\n",
       "1.5465157578079904e+16\n",
       "    4425504383083879.0\n",
       " 6.975326714565388e+16\n",
       " 1.156522120120189e+18\n",
       " 6.451470123934501e+16\n",
       "4.8540108078347706e+17"
      ]
     },
     "execution_count": 67,
     "metadata": {},
     "output_type": "execute_result"
    }
   ],
   "source": [
    "f.galcat['sigma_c_my_bpz']"
   ]
  },
  {
   "cell_type": "code",
   "execution_count": 72,
   "id": "97e23683-1c28-4313-a362-388f12d9f47f",
   "metadata": {},
   "outputs": [
    {
     "data": {
      "text/plain": [
       "Text(0, 0.5, '$\\\\Sigma_c ^{-2}$')"
      ]
     },
     "execution_count": 72,
     "metadata": {},
     "output_type": "execute_result"
    },
    {
     "data": {
      "image/png": "[encoded data removed]",
      "text/plain": [
       "<Figure size 432x288 with 1 Axes>"
      ]
     },
     "metadata": {
      "needs_background": "light"
     },
     "output_type": "display_data"
    }
   ],
   "source": [
    "w=1/(f.galcat['sigma_c_my_flex']**2)\n",
    "w=w/max(w)\n",
    "plt.scatter(f.galcat['photoz_mean_flex'], w, label = 'brut force')\n",
    "w=1/(f.galcat['sigma_c_CLMM_flex']**2)\n",
    "w=w/max(w)\n",
    "plt.scatter(f.galcat['photoz_mean_flex'],w, label = 'CLMM')\n",
    "#plt.scatter(f.galcat['photoz_mean'], 1/f.galcat['sigmac_BPZ']**2)\n",
    "#plt.scatter(f.galcat['photoz_mean'], 1./cosmo.eval_sigma_crit(f.z,np.array(f.galcat['photoz_mean'])))\n",
    "plt.legend()\n",
    "#plt.yscale('log')\n",
    "plt.xlabel('z', fontsize=20)\n",
    "plt.ylabel(r'$\\Sigma_c ^{-2}$', fontsize=20)"
   ]
  },
  {
   "cell_type": "code",
   "execution_count": null,
   "id": "5c48bcf0-6e2a-4db5-9d3c-238e0c26fd3a",
   "metadata": {},
   "outputs": [],
   "source": []
  }
 ],
 "metadata": {
  "kernelspec": {
   "display_name": "mydesc",
   "language": "python",
   "name": "mydesc"
  },
  "language_info": {
   "codemirror_mode": {
    "name": "ipython",
    "version": 3
   },
   "file_extension": ".py",
   "mimetype": "text/x-python",
   "name": "python",
   "nbconvert_exporter": "python",
   "pygments_lexer": "ipython3",
   "version": "3.7.6"
  }
 },
 "nbformat": 4,
 "nbformat_minor": 5
}
