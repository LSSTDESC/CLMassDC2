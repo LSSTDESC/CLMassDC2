{
 "cells": [
  {
   "cell_type": "code",
   "execution_count": 1,
   "id": "retired-squad",
   "metadata": {},
   "outputs": [],
   "source": [
    "import GCRCatalogs\n",
    "import matplotlib.pyplot as plt\n",
    "import pickle\n",
    "import sys\n",
    "import numpy as np\n",
    "from astropy.cosmology import FlatLambdaCDM\n",
    "import astropy.units as u\n",
    "from astropy.table import Table\n",
    "def load(filename, **kwargs):\n",
    "    \"\"\"Loads GalaxyCluster object to filename using Pickle\"\"\"\n",
    "    with open(filename, 'rb') as fin:\n",
    "        return pickle.load(fin, **kwargs)"
   ]
  },
  {
   "cell_type": "code",
   "execution_count": 2,
   "id": "elect-excitement",
   "metadata": {},
   "outputs": [
    {
     "data": {
      "text/plain": [
       "['buzzard',\n",
       " 'buzzard_high-res',\n",
       " 'cosmoDC2_v1.1.4_image',\n",
       " 'cosmoDC2_v1.1.4_redmagic_v0.8.1_highdens',\n",
       " 'cosmoDC2_v1.1.4_redmagic_v0.8.1_highlum',\n",
       " 'cosmoDC2_v1.1.4_redmapper_v0.8.1',\n",
       " 'cosmoDC2_v1.1.4_small',\n",
       " 'dc2_object_run1.2i',\n",
       " 'dc2_object_run1.2i_all_columns',\n",
       " 'dc2_object_run1.2i_tract4850',\n",
       " 'dc2_object_run1.2i_with_photoz',\n",
       " 'dc2_object_run1.2p',\n",
       " 'dc2_object_run1.2p_all_columns',\n",
       " 'dc2_object_run1.2p_tract4850',\n",
       " 'dc2_object_run2.2i_dr2_wfd',\n",
       " 'dc2_object_run2.2i_dr2_wfd_with_addons',\n",
       " 'dc2_object_run2.2i_dr3a',\n",
       " 'dc2_object_run2.2i_dr3a_with_metacal',\n",
       " 'dc2_object_run2.2i_dr3a_with_photoz',\n",
       " 'dc2_object_run2.2i_dr6',\n",
       " 'dc2_object_run2.2i_dr6_with_addons',\n",
       " 'dc2_redmagic_run2.2i_dr6_wfd_v0.8.1_highdens',\n",
       " 'dc2_redmagic_run2.2i_dr6_wfd_v0.8.1_highlum',\n",
       " 'dc2_redmapper_run2.2i_dr6_wfd_v0.8.1',\n",
       " 'dc2_truth_run1.2_static',\n",
       " 'dc2_truth_run1.2_variable_lightcurve',\n",
       " 'dc2_truth_run1.2_variable_summary',\n",
       " 'dc2_truth_run2.2i_galaxy_truth_summary',\n",
       " 'dc2_truth_run2.2i_sn_truth_summary',\n",
       " 'dc2_truth_run2.2i_sn_variability_truth',\n",
       " 'dc2_truth_run2.2i_star_lc_stats',\n",
       " 'dc2_truth_run2.2i_star_truth_summary',\n",
       " 'dc2_truth_run2.2i_star_variability_truth',\n",
       " 'dc2_truth_run2.2i_summary_tract_partition',\n",
       " 'dc2_truth_run3.1i_agn_auxiliary_info',\n",
       " 'dc2_truth_run3.1i_agn_truth_summary',\n",
       " 'dc2_truth_run3.1i_agn_variability_truth',\n",
       " 'dc2_truth_run3.1i_lensed_agn_truth_summary',\n",
       " 'dc2_truth_run3.1i_lensed_agn_variability_truth',\n",
       " 'dc2_truth_run3.1i_lensed_host_truth_summary',\n",
       " 'dc2_truth_run3.1i_lensed_sn_variability_truth',\n",
       " 'dc2_truth_run3.1i_lensed_sne_truth_summary',\n",
       " 'protoDC2',\n",
       " 'protoDC2_run1.2',\n",
       " 'skysim5000_v1.1.1']"
      ]
     },
     "execution_count": 2,
     "metadata": {},
     "output_type": "execute_result"
    }
   ],
   "source": [
    "GCRCatalogs.get_available_catalog_names()"
   ]
  },
  {
   "cell_type": "code",
   "execution_count": null,
   "id": "9cc8401d-5b78-4bf5-997f-092bfceb83f9",
   "metadata": {},
   "outputs": [],
   "source": [
    "CLMassDC2/data/lens_catalog_SkySim5000.pkl"
   ]
  },
  {
   "cell_type": "code",
   "execution_count": 3,
   "id": "bacterial-fairy",
   "metadata": {},
   "outputs": [],
   "source": [
    "catalog = GCRCatalogs.load_catalog('cosmoDC2_v1.1.4_redmapper_v0.8.1')"
   ]
  },
  {
   "cell_type": "code",
   "execution_count": 4,
   "id": "endless-watson",
   "metadata": {},
   "outputs": [],
   "source": [
    "quantity = ['cluster_id','ra', 'dec', 'redshift', 'redshift_err', 'richness', 'richness_err']"
   ]
  },
  {
   "cell_type": "code",
   "execution_count": 5,
   "id": "e15024f7-92c3-485d-b73b-2dda63d483e5",
   "metadata": {},
   "outputs": [],
   "source": [
    "dat = catalog.get_quantities(quantity)"
   ]
  },
  {
   "cell_type": "code",
   "execution_count": 6,
   "id": "34149eca-3c81-4ba0-a32c-d9032ddd8d90",
   "metadata": {},
   "outputs": [
    {
     "data": {
      "text/plain": [
       "[<matplotlib.lines.Line2D at 0x7fb9adeb6390>]"
      ]
     },
     "execution_count": 6,
     "metadata": {},
     "output_type": "execute_result"
    },
    {
     "data": {
      "image/png": "[encoded data removed]",
      "text/plain": [
       "<Figure size 432x288 with 1 Axes>"
      ]
     },
     "metadata": {
      "needs_background": "light"
     },
     "output_type": "display_data"
    }
   ],
   "source": [
    "plt.loglog(dat['redshift'], dat['richness'])"
   ]
  },
  {
   "cell_type": "code",
   "execution_count": 7,
   "id": "d7663cb2-13a2-42ad-a22f-c49255829c9e",
   "metadata": {},
   "outputs": [],
   "source": [
    "def save_pickle(dat, filename, **kwargs):\n",
    "    file = open(filename,'wb')\n",
    "    pickle.dump(dat, file)\n",
    "    file.close()"
   ]
  },
  {
   "cell_type": "code",
   "execution_count": 12,
   "id": "c4912e14-56a4-4c2d-b20f-8b9eec713763",
   "metadata": {},
   "outputs": [],
   "source": [
    "#save_pickle(Table(dat), '/pbs/throng/lsst/users/cpayerne/CLMassDC2/data/lens_catalog_cosmoDC2_v1.1.4_redmapper_v0.8.1.pkl')"
   ]
  },
  {
   "cell_type": "code",
   "execution_count": 13,
   "id": "b379cc04-f0e4-4494-84d7-5ca1fec0f16d",
   "metadata": {},
   "outputs": [
    {
     "data": {
      "text/plain": [
       "['dec',\n",
       " 'richness_err',\n",
       " 'richness',\n",
       " 'ra',\n",
       " 'cluster_id',\n",
       " 'redshift_err',\n",
       " 'redshift']"
      ]
     },
     "execution_count": 13,
     "metadata": {},
     "output_type": "execute_result"
    }
   ],
   "source": [
    "Table(dat).colnames"
   ]
  },
  {
   "cell_type": "code",
   "execution_count": null,
   "id": "4a85ea3c-bc05-4a5e-a778-1bc789a8a925",
   "metadata": {},
   "outputs": [],
   "source": []
  }
 ],
 "metadata": {
  "kernelspec": {
   "display_name": "mydesc",
   "language": "python",
   "name": "mydesc"
  },
  "language_info": {
   "codemirror_mode": {
    "name": "ipython",
    "version": 3
   },
   "file_extension": ".py",
   "mimetype": "text/x-python",
   "name": "python",
   "nbconvert_exporter": "python",
   "pygments_lexer": "ipython3",
   "version": "3.7.6"
  }
 },
 "nbformat": 4,
 "nbformat_minor": 5
}
