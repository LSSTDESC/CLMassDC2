{
 "cells": [
  {
   "cell_type": "code",
   "execution_count": 562,
   "id": "retired-squad",
   "metadata": {},
   "outputs": [
    {
     "name": "stdout",
     "output_type": "stream",
     "text": [
      "The autoreload extension is already loaded. To reload it, use:\n",
      "  %reload_ext autoreload\n"
     ]
    }
   ],
   "source": [
    "%load_ext autoreload\n",
    "%autoreload 2\n",
    "\n",
    "import GCRCatalogs\n",
    "import time\n",
    "import matplotlib.pyplot as plt\n",
    "import pickle\n",
    "import sys\n",
    "import clmm.dataops as da\n",
    "import glob\n",
    "import numpy as np\n",
    "from astropy.cosmology import FlatLambdaCDM\n",
    "import astropy.units as u\n",
    "import sys\n",
    "import photoz_utils as utils\n",
    "from astropy.table import Table\n",
    "def load(filename, **kwargs):\n",
    "    \"\"\"Loads GalaxyCluster object to filename using Pickle\"\"\"\n",
    "    with open(filename, 'rb') as fin:\n",
    "        return pickle.load(fin, **kwargs)\n",
    "    from clmm.dataops import compute_galaxy_weights\n",
    "from clmm import Cosmology\n",
    "from scipy.integrate import simps\n",
    "cosmo = Cosmology(H0 = 71.0, Omega_dm0 = 0.265 - 0.0448, Omega_b0 = 0.0448, Omega_k0 = 0.0)"
   ]
  },
  {
   "cell_type": "code",
   "execution_count": 563,
   "id": "3b25b492-633a-45c3-963d-742e7294235e",
   "metadata": {},
   "outputs": [],
   "source": [
    "def delete_file(list_filename):\n",
    "     for f in list_filename:\n",
    "        os.remove(f)"
   ]
  },
  {
   "cell_type": "code",
   "execution_count": 564,
   "id": "4a85ea3c-bc05-4a5e-a778-1bc789a8a925",
   "metadata": {},
   "outputs": [],
   "source": [
    "sys.path.append('/pbs/throng/lsst/users/cpayerne/LikelihoodsClusterAbundance/modules/')\n",
    "import edit"
   ]
  },
  {
   "cell_type": "code",
   "execution_count": 565,
   "id": "d97216cd-09fb-4979-a61c-c67d317a4009",
   "metadata": {},
   "outputs": [],
   "source": [
    "file = glob.glob('/sps/lsst/users/cpayerne/CLMassDC2/cosmoDC2/redmapper_clusters/l*')"
   ]
  },
  {
   "cell_type": "code",
   "execution_count": 566,
   "id": "af078749-3d14-49b2-8315-a42781b9fa8c",
   "metadata": {},
   "outputs": [],
   "source": [
    "#for f in file:\n",
    "#    day = time.ctime(os.path.getmtime(f))[0]\n",
    "#    if day == 'S':\n",
    "#        delete_file([f])"
   ]
  },
  {
   "cell_type": "code",
   "execution_count": 567,
   "id": "419f73b4-b15d-446d-ad93-803d596f9f8a",
   "metadata": {},
   "outputs": [
    {
     "data": {
      "text/plain": [
       "900"
      ]
     },
     "execution_count": 567,
     "metadata": {},
     "output_type": "execute_result"
    }
   ],
   "source": [
    "len(file)"
   ]
  },
  {
   "cell_type": "code",
   "execution_count": 586,
   "id": "4ba70c23-c14d-40c0-926c-096abaad60cc",
   "metadata": {},
   "outputs": [],
   "source": [
    "cl=edit.load_pickle('/pbs/throng/lsst/users/cpayerne/CLMassDC2/data/data_extraction/job/lensing_catalog_halo_23433.pkl')"
   ]
  },
  {
   "cell_type": "code",
   "execution_count": 590,
   "id": "484c0aee-0ff5-45c1-ad35-e00a23e441c9",
   "metadata": {},
   "outputs": [
    {
     "data": {
      "text/plain": [
       "706"
      ]
     },
     "execution_count": 590,
     "metadata": {},
     "output_type": "execute_result"
    }
   ],
   "source": [
    "len(cl['ra'])"
   ]
  },
  {
   "cell_type": "code",
   "execution_count": 588,
   "id": "ce481fcd-b4a9-4fa9-9eac-2995ce42b118",
   "metadata": {},
   "outputs": [
    {
     "data": {
      "text/plain": [
       "['ra',\n",
       " 'dec',\n",
       " 'z',\n",
       " 'galaxy_id',\n",
       " 'mag_i',\n",
       " 'mag_r',\n",
       " 'mag_y',\n",
       " 'shear1',\n",
       " 'shear2',\n",
       " 'kappa',\n",
       " 'e1_true',\n",
       " 'e2_true',\n",
       " 'g1',\n",
       " 'g2',\n",
       " 'e1',\n",
       " 'e2',\n",
       " 'sigma_c_photoz_bpz',\n",
       " 'p_background_bpz',\n",
       " 'photoz_err_bpz',\n",
       " 'sigma_c_photoz_estimate_0_bpz',\n",
       " 'sigma_c_photoz_estimate_1_bpz',\n",
       " 'sigma_c_photoz_estimate_2_bpz',\n",
       " 'z_estimate_0_bpz',\n",
       " 'z_estimate_1_bpz',\n",
       " 'z_estimate_2_bpz',\n",
       " 'photoz_mean_bpz',\n",
       " 'photoz_mode_bpz',\n",
       " 'sigma_c_photoz_bpz_flex',\n",
       " 'p_background_bpz_flex',\n",
       " 'photoz_err_bpz_flex',\n",
       " 'sigma_c_photoz_estimate_0_bpz_flex',\n",
       " 'sigma_c_photoz_estimate_1_bpz_flex',\n",
       " 'sigma_c_photoz_estimate_2_bpz_flex',\n",
       " 'z_estimate_0_bpz_flex',\n",
       " 'z_estimate_1_bpz_flex',\n",
       " 'z_estimate_2_bpz_flex',\n",
       " 'photoz_mean_bpz_flex',\n",
       " 'photoz_mode_bpz_flex',\n",
       " 'sigma_c_photoz_flex',\n",
       " 'p_background_flex',\n",
       " 'photoz_err_flex',\n",
       " 'sigma_c_photoz_estimate_0_flex',\n",
       " 'sigma_c_photoz_estimate_1_flex',\n",
       " 'sigma_c_photoz_estimate_2_flex',\n",
       " 'z_estimate_0_flex',\n",
       " 'z_estimate_1_flex',\n",
       " 'z_estimate_2_flex',\n",
       " 'photoz_mean_flex',\n",
       " 'photoz_mode_flex']"
      ]
     },
     "execution_count": 588,
     "metadata": {},
     "output_type": "execute_result"
    }
   ],
   "source": [
    "cl.colnames"
   ]
  },
  {
   "cell_type": "code",
   "execution_count": 589,
   "id": "5c1bb7bf-583f-453e-a0f0-33cc56d71b22",
   "metadata": {},
   "outputs": [
    {
     "data": {
      "text/plain": [
       "<matplotlib.collections.PathCollection at 0x7fa48dbff890>"
      ]
     },
     "execution_count": 589,
     "metadata": {},
     "output_type": "execute_result"
    },
    {
     "data": {
      "image/png": "[encoded data removed]",
      "text/plain": [
       "<Figure size 432x288 with 1 Axes>"
      ]
     },
     "metadata": {
      "needs_background": "light"
     },
     "output_type": "display_data"
    }
   ],
   "source": [
    "plt.scatter(cl['z_estimate_1_bpz'], cl['z'])\n",
    "plt.scatter(cl['z'], cl['z'])"
   ]
  },
  {
   "cell_type": "code",
   "execution_count": 454,
   "id": "05a12a16-19a6-4913-b7db-653e7b1c83ca",
   "metadata": {},
   "outputs": [
    {
     "data": {
      "text/html": [
       "<div><i>QTable length=12106</i>\n",
       "<table id=\"table140344744960208\" class=\"table-striped table-bordered table-condensed\">\n",
       "<thead><tr><th>ra</th><th>dec</th><th>z</th><th>galaxy_id</th><th>mag_i</th><th>mag_r</th><th>mag_y</th><th>shear1</th><th>shear2</th><th>kappa</th><th>e1_true</th><th>e2_true</th><th>g1</th><th>g2</th><th>e1</th><th>e2</th></tr></thead>\n",
       "<thead><tr><th>float64</th><th>float64</th><th>float64</th><th>int64</th><th>float64</th><th>float64</th><th>float64</th><th>float64</th><th>float64</th><th>float64</th><th>float64</th><th>float64</th><th>float64</th><th>float64</th><th>float64</th><th>float64</th></tr></thead>\n",
       "<tr><td>59.7860375623215</td><td>-27.012078686966106</td><td>0.9442327450888686</td><td>2064455852</td><td>23.972767203339355</td><td>24.887991278656738</td><td>23.46272692013623</td><td>-0.0039734230513385205</td><td>-0.00382549759342503</td><td>-0.012853399120424491</td><td>-0.22450108564953072</td><td>-0.2689385540034375</td><td>-0.003922999177165318</td><td>-0.00377695093559161</td><td>-0.2280479623199316</td><td>-0.2721521399930443</td></tr>\n",
       "<tr><td>59.778230287397164</td><td>-27.00476923740526</td><td>0.939259161032685</td><td>2064456584</td><td>24.315947933274188</td><td>25.289821071701923</td><td>23.699620647507587</td><td>-0.004985150992396936</td><td>-0.001558246594393642</td><td>-0.010644002594056623</td><td>-0.4802483999498356</td><td>-0.12222867602644838</td><td>-0.00493264787561334</td><td>-0.00154183529550864</td><td>-0.4839264864015074</td><td>-0.12352118956840087</td></tr>\n",
       "<tr><td>59.70444267062504</td><td>-27.072017250025265</td><td>0.9502674672626723</td><td>2064440222</td><td>23.93617281937778</td><td>24.602014875652195</td><td>23.53138766312778</td><td>-0.0047798282520949975</td><td>-0.0019356320169247386</td><td>-0.019779532287590662</td><td>-0.0357376717588903</td><td>-0.007044989522435176</td><td>-0.00468711922602799</td><td>-0.001898088710000571</td><td>-0.0404171690539987</td><td>-0.008942867683109187</td></tr>\n",
       "<tr><td>59.765706517449715</td><td>-27.009880090072436</td><td>0.9522794572580184</td><td>2064441955</td><td>24.174966838762597</td><td>25.04274561683877</td><td>23.62837984840615</td><td>-0.004277043276852743</td><td>0.000764091736156912</td><td>-0.011378948191239857</td><td>0.1814592054626445</td><td>0.1522310810184794</td><td>-0.004228922585843664</td><td>0.0007554949977191252</td><td>0.17722625147710905</td><td>0.15322492469093676</td></tr>\n",
       "<tr><td>59.722594909847004</td><td>-27.004540413116477</td><td>1.0534229752044402</td><td>2065034476</td><td>24.585925086992532</td><td>25.10160349275425</td><td>23.90522669221714</td><td>-0.00834802648530919</td><td>-0.007927091624192124</td><td>-0.021758371831410717</td><td>-0.020102685931987226</td><td>-1.6578407233482114e-05</td><td>-0.008170255038229927</td><td>-0.007758283996228501</td><td>-0.028267082613941116</td><td>-0.0077779886862943785</td></tr>\n",
       "<tr><td>59.775047515796835</td><td>-27.061680389216512</td><td>1.0418235186770861</td><td>2065020129</td><td>23.419487518600423</td><td>23.839716476730306</td><td>22.63412527494808</td><td>-0.00422239688896453</td><td>-0.006724168130956775</td><td>-0.015459902301086847</td><td>0.025944689526966564</td><td>0.02209083684321365</td><td>-0.004158112870233824</td><td>-0.006621795814605232</td><td>0.021793352533749175</td><td>0.015471230973889112</td></tr>\n",
       "<tr><td>59.72558772286049</td><td>-27.00342828108485</td><td>1.0521516173848156</td><td>2065031290</td><td>21.51489042647744</td><td>21.887927764734275</td><td>20.686435455163963</td><td>-0.007664508488864241</td><td>-0.0066535047655628815</td><td>-0.021152172235141764</td><td>-0.12977621568635878</td><td>-0.02091729900390755</td><td>-0.007505745663829746</td><td>-0.006515683897532534</td><td>-0.13711078550906405</td><td>-0.027496863409644523</td></tr>\n",
       "<tr><td>59.78573614391231</td><td>-27.004819004399543</td><td>1.0290326021610592</td><td>2065037431</td><td>24.026833963639046</td><td>24.43736023927381</td><td>23.41110749269178</td><td>-0.003874101981142908</td><td>-0.0034703465324328053</td><td>-0.01324374149035501</td><td>-0.07036687783561671</td><td>0.056086269632640046</td><td>-0.003823464999097441</td><td>-0.0034249868914347885</td><td>-0.07420859976008892</td><td>0.052623435067239835</td></tr>\n",
       "<tr><td>59.73939168140826</td><td>-27.10103926402378</td><td>1.0369135224197188</td><td>2065035719</td><td>23.956444400862306</td><td>24.507494587019533</td><td>23.182743686750978</td><td>-0.002407217252281879</td><td>0.002939421868898497</td><td>-0.017560090802707595</td><td>0.03205157349892904</td><td>0.39343656316311987</td><td>-0.002365675770934504</td><td>0.0028886961030278996</td><td>0.029249700084969247</td><td>0.39593522485173693</td></tr>\n",
       "<tr><td>59.7422994821021</td><td>-27.0098222064219</td><td>1.0373498348855668</td><td>2065021994</td><td>23.810813585461364</td><td>24.237937608898864</td><td>23.159970918835388</td><td>-0.0036060648551364816</td><td>0.0007863583415013199</td><td>-0.013321762171673246</td><td>-0.09567323211826126</td><td>-0.3371902901836169</td><td>-0.0035586572693437875</td><td>0.0007760203825249516</td><td>-0.09965249642672734</td><td>-0.33626079575676576</td></tr>\n",
       "<tr><td>...</td><td>...</td><td>...</td><td>...</td><td>...</td><td>...</td><td>...</td><td>...</td><td>...</td><td>...</td><td>...</td><td>...</td><td>...</td><td>...</td><td>...</td><td>...</td></tr>\n",
       "<tr><td>59.09303480523084</td><td>-26.927622546767708</td><td>2.8947461425367584</td><td>1457014483</td><td>24.388740466482233</td><td>24.560218737966608</td><td>24.35979454363067</td><td>0.012689077604706056</td><td>0.005452415144533199</td><td>-0.025733306610858264</td><td>0.04748636445783641</td><td>-0.031306027805153534</td><td>0.012370737620514868</td><td>0.0053156264980305755</td><td>0.059848498594101227</td><td>-0.02594119429001542</td></tr>\n",
       "<tr><td>59.12756985794922</td><td>-26.80130945058441</td><td>2.9087738981392266</td><td>1457020094</td><td>24.400709528333863</td><td>24.535705942518433</td><td>24.424101251966675</td><td>0.023527414400135616</td><td>-0.03435518599483052</td><td>-0.05770672488297435</td><td>0.18343384180025388</td><td>-0.03008547837305967</td><td>0.02224379768667795</td><td>-0.03248082401918321</td><td>0.20430942548893613</td><td>-0.06332659564938989</td></tr>\n",
       "<tr><td>59.12149457308433</td><td>-26.83221312554944</td><td>2.9088143202654013</td><td>1457019498</td><td>24.584872864537733</td><td>24.669576309972303</td><td>24.64063610916664</td><td>0.01791090939412121</td><td>-0.043866479830081295</td><td>-0.04386944310098273</td><td>0.002742646356116657</td><td>0.08517138406724549</td><td>0.01715818918974576</td><td>-0.042022956146478274</td><td>0.020039838870605276</td><td>0.04326966483746491</td></tr>\n",
       "<tr><td>59.02548070245461</td><td>-26.98774315945052</td><td>2.763858648096793</td><td>1456176883</td><td>23.1347450794704</td><td>23.167776543093446</td><td>23.236977058840516</td><td>0.007811526662824364</td><td>-0.03339775377430645</td><td>0.00017607260114671508</td><td>0.004727858343769536</td><td>-0.0018165504553526858</td><td>0.00781290230085498</td><td>-0.03340363523925078</td><td>0.012534474915636152</td><td>-0.035218549385684396</td></tr>\n",
       "<tr><td>59.03110353501816</td><td>-26.998699700798376</td><td>2.969491711513576</td><td>1457664902</td><td>24.001973864793516</td><td>24.088948962449766</td><td>24.087396380662657</td><td>0.0055537950669694025</td><td>-0.030669659921564774</td><td>0.01750795456307319</td><td>-0.01866822854725955</td><td>0.023983493435161155</td><td>0.005652763391585078</td><td>-0.031216191585475467</td><td>-0.013023350031571006</td><td>-0.007244710340247855</td></tr>\n",
       "<tr><td>59.18951501948598</td><td>-26.75330515649201</td><td>2.7906316109724836</td><td>1456206492</td><td>24.552059386676653</td><td>24.559343551105364</td><td>24.64851400703798</td><td>-0.015704039230604594</td><td>-0.004499888852848561</td><td>-0.004232790352563853</td><td>0.0006004380229295441</td><td>0.005367861892731883</td><td>-0.01563784750056932</td><td>-0.0044809220492279984</td><td>-0.015037984354002488</td><td>0.0008857476095206079</td></tr>\n",
       "<tr><td>59.35635103782804</td><td>-26.627276933575782</td><td>2.7852371387072306</td><td>1456205129</td><td>24.596785056410752</td><td>24.519470679579698</td><td>24.759106147108994</td><td>0.009482948932430069</td><td>0.0058631278526441715</td><td>-0.02355313354214328</td><td>-0.16211013414229689</td><td>0.23743934398688443</td><td>0.009264735382728055</td><td>0.00572821054472671</td><td>-0.15210464250211717</td><td>0.24367795551296312</td></tr>\n",
       "<tr><td>59.463673239475185</td><td>-26.858846650516114</td><td>2.786095044165269</td><td>1456195961</td><td>23.616649864596315</td><td>23.63272499887366</td><td>23.745575188082643</td><td>-0.05377856575935497</td><td>0.020400814888475782</td><td>-0.015051278418894531</td><td>-0.003743670267151673</td><td>0.10960443558398811</td><td>-0.052981131990813043</td><td>0.02009830963441899</td><td>-0.05732690932392451</td><td>0.12906425301581756</td></tr>\n",
       "<tr><td>59.403728620699134</td><td>-26.551745920470413</td><td>2.7360115441993207</td><td>1456194480</td><td>24.328754606421175</td><td>24.369077863867464</td><td>24.387239637549104</td><td>-0.006093033088036659</td><td>0.004526147420099398</td><td>-0.033297349573137236</td><td>0.060795370816348</td><td>0.05020420190498142</td><td>-0.005896688973947079</td><td>0.004380295199604628</td><td>0.05487556994905279</td><td>0.054622925608935884</td></tr>\n",
       "<tr><td>58.99288695426104</td><td>-26.96797218555506</td><td>2.766998555260304</td><td>1456195672</td><td>24.24208416741209</td><td>24.207399032524396</td><td>24.424852035454084</td><td>-0.00325304895279499</td><td>-0.017506767919241707</td><td>-0.03025595627212363</td><td>0.036985883435647925</td><td>-0.13125147116508193</td><td>-0.0031575153077161686</td><td>-0.016992639365646732</td><td>0.03360303067075968</td><td>-0.14796642487874764</td></tr>\n",
       "</table></div>"
      ],
      "text/plain": [
       "<QTable length=12106>\n",
       "        ra                 dec         ...           e2          \n",
       "     float64             float64       ...        float64        \n",
       "------------------ ------------------- ... ----------------------\n",
       "  59.7860375623215 -27.012078686966106 ...    -0.2721521399930443\n",
       "59.778230287397164  -27.00476923740526 ...   -0.12352118956840087\n",
       " 59.70444267062504 -27.072017250025265 ...  -0.008942867683109187\n",
       "59.765706517449715 -27.009880090072436 ...    0.15322492469093676\n",
       "59.722594909847004 -27.004540413116477 ... -0.0077779886862943785\n",
       "59.775047515796835 -27.061680389216512 ...   0.015471230973889112\n",
       " 59.72558772286049  -27.00342828108485 ...  -0.027496863409644523\n",
       " 59.78573614391231 -27.004819004399543 ...   0.052623435067239835\n",
       " 59.73939168140826  -27.10103926402378 ...    0.39593522485173693\n",
       "  59.7422994821021   -27.0098222064219 ...   -0.33626079575676576\n",
       "               ...                 ... ...                    ...\n",
       " 59.09303480523084 -26.927622546767708 ...   -0.02594119429001542\n",
       " 59.12756985794922  -26.80130945058441 ...   -0.06332659564938989\n",
       " 59.12149457308433  -26.83221312554944 ...    0.04326966483746491\n",
       " 59.02548070245461  -26.98774315945052 ...  -0.035218549385684396\n",
       " 59.03110353501816 -26.998699700798376 ...  -0.007244710340247855\n",
       " 59.18951501948598  -26.75330515649201 ...  0.0008857476095206079\n",
       " 59.35635103782804 -26.627276933575782 ...    0.24367795551296312\n",
       "59.463673239475185 -26.858846650516114 ...    0.12906425301581756\n",
       "59.403728620699134 -26.551745920470413 ...   0.054622925608935884\n",
       " 58.99288695426104  -26.96797218555506 ...   -0.14796642487874764"
      ]
     },
     "execution_count": 454,
     "metadata": {},
     "output_type": "execute_result"
    }
   ],
   "source": [
    "cl"
   ]
  },
  {
   "cell_type": "code",
   "execution_count": 392,
   "id": "083a05e9-7578-4bc9-95e8-cac9bfe60114",
   "metadata": {},
   "outputs": [
    {
     "data": {
      "text/plain": [
       "(array([18154., 18826.,  8765.,  3801.,  1954.,  1062.,   420.,   174.,\n",
       "          114.,    32.]),\n",
       " array([0.61258201, 0.85052418, 1.08846635, 1.32640852, 1.56435069,\n",
       "        1.80229286, 2.04023503, 2.2781772 , 2.51611937, 2.75406154,\n",
       "        2.99200371]),\n",
       " <a list of 10 Patch objects>)"
      ]
     },
     "execution_count": 392,
     "metadata": {},
     "output_type": "execute_result"
    },
    {
     "data": {
      "image/png": "[encoded data removed]",
      "text/plain": [
       "<Figure size 432x288 with 1 Axes>"
      ]
     },
     "metadata": {
      "needs_background": "light"
     },
     "output_type": "display_data"
    }
   ],
   "source": [
    "plt.hist(cl['z'])"
   ]
  },
  {
   "cell_type": "code",
   "execution_count": 263,
   "id": "8522cf6a-032b-46fd-83e0-1bfa82ec1a8f",
   "metadata": {},
   "outputs": [],
   "source": [
    "theta1, g_t, g_x = cl.compute_tangential_and_cross_components(is_deltasigma=True, cosmo=cosmo)"
   ]
  },
  {
   "cell_type": "code",
   "execution_count": 264,
   "id": "3779fea9-e047-4788-9eaa-7a0a30e32c5f",
   "metadata": {},
   "outputs": [],
   "source": [
    "bin_edges = da.make_bins(0.7, 15, 10, method='evenlog10width')"
   ]
  },
  {
   "cell_type": "code",
   "execution_count": 265,
   "id": "838a18b0-84bd-44d2-837a-bef958118ee4",
   "metadata": {},
   "outputs": [],
   "source": [
    "profile = cl.make_radial_profile(\"Mpc\", bins=bin_edges,cosmo=cosmo)"
   ]
  },
  {
   "cell_type": "code",
   "execution_count": 266,
   "id": "b24a7d3e-703e-4b4c-affb-c89e00cd9fe4",
   "metadata": {},
   "outputs": [
    {
     "data": {
      "text/plain": [
       "[<matplotlib.lines.Line2D at 0x7fa494a2f450>]"
      ]
     },
     "execution_count": 266,
     "metadata": {},
     "output_type": "execute_result"
    },
    {
     "data": {
      "image/png": "[encoded data removed]",
      "text/plain": [
       "<Figure size 432x288 with 1 Axes>"
      ]
     },
     "metadata": {
      "needs_background": "light"
     },
     "output_type": "display_data"
    }
   ],
   "source": [
    "plt.loglog(profile['radius'], profile['gt'])"
   ]
  },
  {
   "cell_type": "code",
   "execution_count": 212,
   "id": "d1b15638-4456-4d6b-bcab-890f8f45141a",
   "metadata": {},
   "outputs": [
    {
     "data": {
      "text/plain": [
       "14.999954554456991"
      ]
     },
     "execution_count": 212,
     "metadata": {},
     "output_type": "execute_result"
    }
   ],
   "source": [
    "np.max(theta1 * cosmo.eval_da_z1z2(0, cl.z))"
   ]
  },
  {
   "cell_type": "code",
   "execution_count": null,
   "id": "1d960d23-d1b1-49a0-a513-38c7c7e7e2cc",
   "metadata": {},
   "outputs": [],
   "source": []
  }
 ],
 "metadata": {
  "kernelspec": {
   "display_name": "mydesc",
   "language": "python",
   "name": "mydesc"
  },
  "language_info": {
   "codemirror_mode": {
    "name": "ipython",
    "version": 3
   },
   "file_extension": ".py",
   "mimetype": "text/x-python",
   "name": "python",
   "nbconvert_exporter": "python",
   "pygments_lexer": "ipython3",
   "version": "3.7.6"
  }
 },
 "nbformat": 4,
 "nbformat_minor": 5
}
