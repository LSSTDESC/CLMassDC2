{
 "cells": [
  {
   "cell_type": "code",
   "execution_count": null,
   "id": "2dd8ac07-7619-4b58-a68d-a7142d20791e",
   "metadata": {},
   "outputs": [],
   "source": [
    "%load_ext autoreload\n",
    "%autoreload 2\n",
    "import numpy as np\n",
    "import extract_bckgd_sources_in_cosmodc2 as extract_cosmodc2\n",
    "import lens_data as lens\n",
    "import matplotlib.pyplot as plt\n",
    "import GCRCatalogs\n",
    "import healpy\n",
    "import pickle\n",
    "import mysql\n",
    "from mysql.connector import Error\n",
    "from clmm.dataops import compute_galaxy_weights\n",
    "from clmm import Cosmology\n",
    "from scipy.integrate import simps\n",
    "cosmo = Cosmology(H0 = 71.0, Omega_dm0 = 0.265 - 0.0448, Omega_b0 = 0.0448, Omega_k0 = 0.0)\n",
    "conn = mysql.connector.connect(host='ccqserv201', user='qsmaster', port=30040)\n",
    "cursor = conn.cursor(dictionary=True, buffered=True)"
   ]
  },
  {
   "cell_type": "markdown",
   "id": "c3f2dd4c-a188-4e04-8225-81686152a906",
   "metadata": {},
   "source": [
    "# Lens catalog"
   ]
  },
  {
   "cell_type": "code",
   "execution_count": null,
   "id": "5839bf69-c1c1-47ad-92f3-ce13cd98e162",
   "metadata": {},
   "outputs": [],
   "source": [
    "lens_catalog = lens.lens_catalog\n",
    "index = 10"
   ]
  },
  {
   "cell_type": "markdown",
   "id": "3f177a20-1e7e-4989-9c08-47b047ea9c03",
   "metadata": {},
   "source": [
    "## Cosmodc2 with qserv & GCRCatalogs"
   ]
  },
  {
   "cell_type": "code",
   "execution_count": null,
   "id": "d70627d6-41c7-48b3-8f0d-3fa589fe41e5",
   "metadata": {},
   "outputs": [],
   "source": [
    "z, ra, dec = lens_catalog['redshift'][index], lens_catalog['ra'][index], lens_catalog['dec'][index]\n",
    "#£z, ra, dec = .5, ra, dec"
   ]
  },
  {
   "cell_type": "markdown",
   "id": "b90d509e-0807-4e05-b3d8-90945d5a5207",
   "metadata": {},
   "source": [
    "### true shapes, true redshifts"
   ]
  },
  {
   "cell_type": "code",
   "execution_count": null,
   "id": "e646d984-9914-40a7-8ebc-11444bb64026",
   "metadata": {},
   "outputs": [],
   "source": [
    "bckgd_galaxy_catalog = extract_cosmodc2.extract(lens_redshift = z, lens_ra = ra, lens_dec = dec, rmax=5, \n",
    "                                                conn_qserv=conn, cosmo=cosmo)"
   ]
  },
  {
   "cell_type": "markdown",
   "id": "461993fd-4d65-478d-b28c-817546724a3d",
   "metadata": {},
   "source": [
    "### photometric redshifts"
   ]
  },
  {
   "cell_type": "code",
   "execution_count": null,
   "id": "5f1c3d5e-20af-49d0-ae6d-b9337be8ea72",
   "metadata": {},
   "outputs": [],
   "source": [
    "gc_flex = GCRCatalogs.load_catalog(\"cosmoDC2_v1.1.4_small_with_photozs_flexzboost_v1\")\n",
    "gc_bpz  = GCRCatalogs.load_catalog(\"cosmoDC2_v1.1.4_small_with_photozs_v1\")\n",
    "z_bins  = gc_flex.photoz_pdf_bin_centers\n",
    "z_bins[0] = 1e-7"
   ]
  },
  {
   "cell_type": "code",
   "execution_count": null,
   "id": "30b53ee1-37cd-493e-bc3e-f6d6c86d1148",
   "metadata": {},
   "outputs": [],
   "source": [
    "#need contiguous healpix pixels\n",
    "id_gal=bckgd_galaxy_catalog.galcat['galaxy_id']\n",
    "ras=bckgd_galaxy_catalog.galcat['ra']\n",
    "decs=bckgd_galaxy_catalog.galcat['dec']\n",
    "healpix = np.unique(healpy.ang2pix(32, ras, decs, nest=False, lonlat=True))"
   ]
  },
  {
   "cell_type": "markdown",
   "id": "fdac802b-1555-4336-80ff-ab77e1418ae3",
   "metadata": {},
   "source": [
    "#### load only photometric informations"
   ]
  },
  {
   "cell_type": "code",
   "execution_count": null,
   "id": "338287db-2768-47bf-8935-380de7f36041",
   "metadata": {},
   "outputs": [],
   "source": [
    "dat = extract_cosmodc2.extract_photoz(id_gal, healpix=healpix, GCRcatalog=gc_flex)"
   ]
  },
  {
   "cell_type": "code",
   "execution_count": null,
   "id": "fbc712ca-b1a6-469c-9f3c-bce9f0288d17",
   "metadata": {},
   "outputs": [],
   "source": [
    "%time\n",
    "w_ls_photoz = extract_cosmodc2.compute_photoz_weights(z, dat['photoz_pdf'].data, dat['pzbins'].data)"
   ]
  },
  {
   "cell_type": "code",
   "execution_count": null,
   "id": "85022f11-bcb8-4a6a-abfd-e9d1b3fd3f5f",
   "metadata": {},
   "outputs": [],
   "source": [
    "%time\n",
    "w_ls_photoz_clmm = extract_cosmodc2.compute_photoz_weights(z, dat['photoz_pdf'].data, dat['pzbins'].data, use_clmm=True)"
   ]
  },
  {
   "cell_type": "code",
   "execution_count": null,
   "id": "6aa43f33-ccac-45ff-8a96-78cd2e03dce0",
   "metadata": {},
   "outputs": [],
   "source": [
    "plt.scatter(w_ls_photoz, w_ls_photoz_clmm, )\n",
    "#plt.scatter(bckgd_galaxy_catalog.galcat['z'], w_ls_photoz, )\n",
    "plt.xlim(0,5e-31)\n",
    "plt.ylim(0,5e-31)"
   ]
  },
  {
   "cell_type": "markdown",
   "id": "32731aa2-4d77-46f2-8070-772e1bc28d12",
   "metadata": {},
   "source": [
    "### load true shapes, true z, correponding photometric informations"
   ]
  },
  {
   "cell_type": "code",
   "execution_count": null,
   "id": "afd9a64f-0a24-4cd9-83cf-67d6c49d1f2c",
   "metadata": {},
   "outputs": [],
   "source": [
    "bckgd_galaxy_catalog = extract_cosmodc2.extract(lens_redshift = z, lens_ra = ra, lens_dec = dec, rmax=5,\n",
    "                                     photoz=True, photoz_label='flex', \n",
    "                                    GCRcatalog=gc_flex, conn_qserv=conn, cosmo=cosmo)"
   ]
  },
  {
   "cell_type": "code",
   "execution_count": null,
   "id": "01671b48-78e5-44c3-b620-8ee68af0f5aa",
   "metadata": {},
   "outputs": [],
   "source": [
    "plt.scatter(bckgd_galaxy_catalog.galcat['z'], bckgd_galaxy_catalog.galcat['w_ls_flex'])\n",
    "plt.scatter(bckgd_galaxy_catalog.galcat['z'], bckgd_galaxy_catalog.galcat['w_ls_true'])"
   ]
  },
  {
   "cell_type": "markdown",
   "id": "b0596795-15da-4dca-a01f-a729a35f6a22",
   "metadata": {},
   "source": [
    "# DC2"
   ]
  },
  {
   "cell_type": "code",
   "execution_count": null,
   "id": "53fe1a30-1da5-4b86-9b65-f153d718cf32",
   "metadata": {},
   "outputs": [],
   "source": [
    "%load_ext autoreload\n",
    "%autoreload 2\n",
    "import extract_bckgd_sources_in_dc2"
   ]
  },
  {
   "cell_type": "code",
   "execution_count": null,
   "id": "7193a816-b835-4c8e-a60f-89ee94167fba",
   "metadata": {},
   "outputs": [],
   "source": [
    "def load(filename, **kwargs):\n",
    "    \"\"\"Loads GalaxyCluster object to filename using Pickle\"\"\"\n",
    "    with open(filename, 'rb') as fin:\n",
    "        return pickle.load(fin, **kwargs)\n",
    "tract_list = load('/pbs/throng/lsst/users/cpayerne/CLMassDC2/data/data_extraction/tract_dc2dr6_coord.pkl')"
   ]
  },
  {
   "cell_type": "code",
   "execution_count": null,
   "id": "61f30102-b8b3-4560-8983-d5aaf46d488b",
   "metadata": {},
   "outputs": [],
   "source": [
    "ra, dec,z = tract_list['ra'][0], tract_list['dec'][0], .1"
   ]
  },
  {
   "cell_type": "code",
   "execution_count": null,
   "id": "f4051045-44d1-4c5e-9430-6d147dc7a537",
   "metadata": {},
   "outputs": [],
   "source": [
    "ra, dec"
   ]
  },
  {
   "cell_type": "code",
   "execution_count": null,
   "id": "8e3edd0b-d168-4169-8aad-4fe8dc8a42cd",
   "metadata": {},
   "outputs": [],
   "source": [
    "object_cat = GCRCatalogs.load_catalog('dc2_object_run2.2i_dr6_v2_with_addons')"
   ]
  },
  {
   "cell_type": "code",
   "execution_count": null,
   "id": "cd981afa-9c0f-409c-9c02-37364162b3c9",
   "metadata": {},
   "outputs": [],
   "source": [
    "cl=extract_in_dc2.extract(lens_redshift=z, lens_ra=ra, lens_dec=dec, rmax=5, cosmo=cosmo, GCRcatalog=object_cat)"
   ]
  },
  {
   "cell_type": "code",
   "execution_count": null,
   "id": "bfa3bab4-85a1-47a6-8432-c234346b5947",
   "metadata": {},
   "outputs": [],
   "source": []
  }
 ],
 "metadata": {
  "kernelspec": {
   "display_name": "mydesc",
   "language": "python",
   "name": "mydesc"
  },
  "language_info": {
   "codemirror_mode": {
    "name": "ipython",
    "version": 3
   },
   "file_extension": ".py",
   "mimetype": "text/x-python",
   "name": "python",
   "nbconvert_exporter": "python",
   "pygments_lexer": "ipython3",
   "version": "3.7.6"
  }
 },
 "nbformat": 4,
 "nbformat_minor": 5
}
