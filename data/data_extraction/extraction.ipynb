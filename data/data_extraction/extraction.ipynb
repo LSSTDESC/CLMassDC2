{
 "cells": [
  {
   "cell_type": "code",
   "execution_count": 1,
   "id": "2dd8ac07-7619-4b58-a68d-a7142d20791e",
   "metadata": {},
   "outputs": [
    {
     "name": "stderr",
     "output_type": "stream",
     "text": [
      "WARNING: leap-second auto-update failed due to the following exception: RuntimeError('Cache is locked after 5.02 s. This may indicate an astropy bug or that kill -9 was used. If you want to unlock the cache remove the directory /pbs/home/c/cpayerne/.astropy/cache/download/py3/lock.') [astropy.time.core]\n"
     ]
    }
   ],
   "source": [
    "%load_ext autoreload\n",
    "%autoreload 2\n",
    "import numpy as np\n",
    "import extract_bckgd_sources_in_cosmodc2 as extract_cosmodc2\n",
    "import lens_data as lens\n",
    "import matplotlib.pyplot as plt\n",
    "import GCRCatalogs\n",
    "import healpy\n",
    "import pickle\n",
    "import mysql\n",
    "from mysql.connector import Error\n",
    "from clmm.dataops import compute_galaxy_weights\n",
    "from clmm import Cosmology\n",
    "from scipy.integrate import simps\n",
    "cosmo = Cosmology(H0 = 71.0, Omega_dm0 = 0.265 - 0.0448, Omega_b0 = 0.0448, Omega_k0 = 0.0)\n",
    "\n",
    "conn = mysql.connector.connect(host='ccqserv201', user='qsmaster', port=30040)\n",
    "cursor = conn.cursor(dictionary=True, buffered=True)"
   ]
  },
  {
   "cell_type": "markdown",
   "id": "c3f2dd4c-a188-4e04-8225-81686152a906",
   "metadata": {},
   "source": [
    "# Lens catalog"
   ]
  },
  {
   "cell_type": "code",
   "execution_count": 2,
   "id": "5839bf69-c1c1-47ad-92f3-ce13cd98e162",
   "metadata": {},
   "outputs": [],
   "source": [
    "lens_catalog = lens.lens_catalog\n",
    "index = 10"
   ]
  },
  {
   "cell_type": "markdown",
   "id": "3f177a20-1e7e-4989-9c08-47b047ea9c03",
   "metadata": {},
   "source": [
    "## Cosmodc2 with qserv & GCRCatalogs"
   ]
  },
  {
   "cell_type": "code",
   "execution_count": 14,
   "id": "d70627d6-41c7-48b3-8f0d-3fa589fe41e5",
   "metadata": {},
   "outputs": [],
   "source": [
    "#z, ra, dec = lens_catalog['redshift'][index], lens_catalog['ra'][index], lens_catalog['dec'][index]\n",
    "z, ra, dec = .5, 65, -40"
   ]
  },
  {
   "cell_type": "markdown",
   "id": "b90d509e-0807-4e05-b3d8-90945d5a5207",
   "metadata": {},
   "source": [
    "### true shapes, true redshifts"
   ]
  },
  {
   "cell_type": "code",
   "execution_count": 15,
   "id": "e646d984-9914-40a7-8ebc-11444bb64026",
   "metadata": {},
   "outputs": [],
   "source": [
    "bckgd_galaxy_catalog = extract_cosmodc2.extract(lens_redshift = z, lens_ra = ra, lens_dec = dec, rmax=5, \n",
    "                                                conn_qserv=conn, cosmo=cosmo)"
   ]
  },
  {
   "cell_type": "markdown",
   "id": "461993fd-4d65-478d-b28c-817546724a3d",
   "metadata": {},
   "source": [
    "### photometric redshifts"
   ]
  },
  {
   "cell_type": "code",
   "execution_count": 16,
   "id": "5f1c3d5e-20af-49d0-ae6d-b9337be8ea72",
   "metadata": {},
   "outputs": [],
   "source": [
    "gc_flex = GCRCatalogs.load_catalog(\"cosmoDC2_v1.1.4_small_with_photozs_flexzboost_v1\")\n",
    "gc_bpz  = GCRCatalogs.load_catalog(\"cosmoDC2_v1.1.4_small_with_photozs_v1\")\n",
    "z_bins  = gc_flex.photoz_pdf_bin_centers\n",
    "z_bins[0] = 1e-7"
   ]
  },
  {
   "cell_type": "code",
   "execution_count": 18,
   "id": "30b53ee1-37cd-493e-bc3e-f6d6c86d1148",
   "metadata": {},
   "outputs": [],
   "source": [
    "#need contiguous healpix pixels\n",
    "id_gal=bckgd_galaxy_catalog.galcat['galaxy_id']\n",
    "ras=bckgd_galaxy_catalog.galcat['ra']\n",
    "decs=bckgd_galaxy_catalog.galcat['dec']\n",
    "healpix = np.unique(healpy.ang2pix(32, ras, decs, nest=False, lonlat=True))"
   ]
  },
  {
   "cell_type": "markdown",
   "id": "fdac802b-1555-4336-80ff-ab77e1418ae3",
   "metadata": {},
   "source": [
    "#### load only photometric informations"
   ]
  },
  {
   "cell_type": "code",
   "execution_count": 20,
   "id": "338287db-2768-47bf-8935-380de7f36041",
   "metadata": {},
   "outputs": [
    {
     "name": "stdout",
     "output_type": "stream",
     "text": [
      "galaxy_id    photoz_pdf [301]   photoz_mean photoz_mode photoz_odds\n",
      "---------- -------------------- ----------- ----------- -----------\n",
      "9750624783           0.0 .. 0.0     0.60758       0.615  0.99466133\n",
      "9750624887           0.0 .. 0.0  0.86678773       0.865         1.0\n",
      "9750624896           0.0 .. 0.0   0.6110181       0.605   0.9842359\n",
      "9750624899           0.0 .. 0.0  0.62612146       0.665   0.7598977\n",
      "9750624900           0.0 .. 0.0   0.6257159       0.625   0.9651496\n",
      "9750624901           0.0 .. 0.0  0.61593825       0.615         1.0\n",
      "9750625041           0.0 .. 0.0   0.5982913       0.595         1.0\n",
      "9750625112           0.0 .. 0.0   0.5333507       0.575   0.6982613\n",
      "9750625309           0.0 .. 0.0   0.6475564       0.655   0.9922198\n",
      "9750626004           0.0 .. 0.0   0.5811901       0.595   0.8891544\n",
      "       ...                  ...         ...         ...         ...\n",
      "9768684327  0.0084443735 .. 0.0   0.7180089       0.075   0.6378433\n",
      "9768696421 0.00097591325 .. 0.0   1.6286696       2.035  0.27971575\n",
      "9768710958  0.0017240968 .. 0.0   0.3136726       0.115   0.6596445\n",
      "9768763049           0.0 .. 0.0   0.5542332       0.575   0.8046123\n",
      "9769150446 0.00090308755 .. 0.0   1.1931858       0.575  0.35371318\n",
      "9769504163  0.0004974444 .. 0.0   0.9346566       0.165  0.20041358\n",
      "9769520650           0.0 .. 0.0   0.5319266       0.735  0.42183185\n",
      "9769542272 0.00016706527 .. 0.0   1.7694615       2.285   0.3112054\n",
      "9769547100  0.0008214272 .. 0.0   1.1011734       0.145     0.52067\n",
      "9770221231           0.0 .. 0.0   0.6511151       0.745   0.5891554\n",
      "9770225735           0.0 .. 0.0   0.5528571       0.255  0.43542743\n",
      "Length = 18684 rows\n"
     ]
    }
   ],
   "source": [
    "dat = extract_cosmodc2.extract_photoz(id_gal, healpix=healpix, GCRcatalog=gc_bpz)"
   ]
  },
  {
   "cell_type": "code",
   "execution_count": 30,
   "id": "fbc712ca-b1a6-469c-9f3c-bce9f0288d17",
   "metadata": {},
   "outputs": [
    {
     "name": "stdout",
     "output_type": "stream",
     "text": [
      "CPU times: user 0 ns, sys: 26 µs, total: 26 µs\n",
      "Wall time: 52.7 µs\n"
     ]
    }
   ],
   "source": [
    "%time\n",
    "w_ls_photoz = extract_cosmodc2.compute_photoz_weights(z, dat['photoz_pdf'].data, dat['pzbins'].data,cosmo=cosmo)"
   ]
  },
  {
   "cell_type": "code",
   "execution_count": 31,
   "id": "85022f11-bcb8-4a6a-abfd-e9d1b3fd3f5f",
   "metadata": {},
   "outputs": [
    {
     "name": "stdout",
     "output_type": "stream",
     "text": [
      "CPU times: user 6 µs, sys: 6 µs, total: 12 µs\n",
      "Wall time: 22.4 µs\n"
     ]
    }
   ],
   "source": [
    "%time\n",
    "w_ls_photoz_clmm = extract_cosmodc2.compute_photoz_weights(z, dat['photoz_pdf'].data, dat['pzbins'].data, use_clmm=True, cosmo=cosmo)"
   ]
  },
  {
   "cell_type": "code",
   "execution_count": 33,
   "id": "6aa43f33-ccac-45ff-8a96-78cd2e03dce0",
   "metadata": {},
   "outputs": [
    {
     "data": {
      "text/plain": [
       "(0.0, 5e-31)"
      ]
     },
     "execution_count": 33,
     "metadata": {},
     "output_type": "execute_result"
    },
    {
     "data": {
      "image/png": "[encoded data removed]",
      "text/plain": [
       "<Figure size 432x288 with 1 Axes>"
      ]
     },
     "metadata": {
      "needs_background": "light"
     },
     "output_type": "display_data"
    }
   ],
   "source": [
    "plt.scatter(bckgd_galaxy_catalog.galcat['z'], w_ls_photoz, )\n",
    "plt.scatter(bckgd_galaxy_catalog.galcat['z'], w_ls_photoz_clmm, )\n",
    "#plt.xlim(0,5e-31)\n",
    "plt.ylim(0,5e-31)"
   ]
  },
  {
   "cell_type": "markdown",
   "id": "32731aa2-4d77-46f2-8070-772e1bc28d12",
   "metadata": {},
   "source": [
    "### load true shapes, true z, correponding photometric informations"
   ]
  },
  {
   "cell_type": "code",
   "execution_count": null,
   "id": "afd9a64f-0a24-4cd9-83cf-67d6c49d1f2c",
   "metadata": {},
   "outputs": [],
   "source": [
    "bckgd_galaxy_catalog = extract_cosmodc2.extract(lens_redshift = z, lens_ra = ra, lens_dec = dec, rmax=5,\n",
    "                                     photoz=True, photoz_label='flex', \n",
    "                                    GCRcatalog=gc_flex, conn_qserv=conn, cosmo=cosmo)"
   ]
  },
  {
   "cell_type": "code",
   "execution_count": null,
   "id": "01671b48-78e5-44c3-b620-8ee68af0f5aa",
   "metadata": {},
   "outputs": [],
   "source": [
    "plt.scatter(bckgd_galaxy_catalog.galcat['z'], bckgd_galaxy_catalog.galcat['w_ls_flex'])\n",
    "plt.scatter(bckgd_galaxy_catalog.galcat['z'], bckgd_galaxy_catalog.galcat['w_ls_true'])"
   ]
  },
  {
   "cell_type": "markdown",
   "id": "b0596795-15da-4dca-a01f-a729a35f6a22",
   "metadata": {},
   "source": [
    "# DC2"
   ]
  },
  {
   "cell_type": "code",
   "execution_count": 34,
   "id": "53fe1a30-1da5-4b86-9b65-f153d718cf32",
   "metadata": {},
   "outputs": [
    {
     "name": "stdout",
     "output_type": "stream",
     "text": [
      "The autoreload extension is already loaded. To reload it, use:\n",
      "  %reload_ext autoreload\n"
     ]
    }
   ],
   "source": [
    "%load_ext autoreload\n",
    "%autoreload 2\n",
    "import extract_bckgd_sources_in_dc2"
   ]
  },
  {
   "cell_type": "code",
   "execution_count": 35,
   "id": "7193a816-b835-4c8e-a60f-89ee94167fba",
   "metadata": {},
   "outputs": [],
   "source": [
    "def load(filename, **kwargs):\n",
    "    \"\"\"Loads GalaxyCluster object to filename using Pickle\"\"\"\n",
    "    with open(filename, 'rb') as fin:\n",
    "        return pickle.load(fin, **kwargs)\n",
    "tract_list = load('/pbs/throng/lsst/users/cpayerne/CLMassDC2/data/data_extraction/tract_dc2dr6_coord.pkl')"
   ]
  },
  {
   "cell_type": "code",
   "execution_count": 36,
   "id": "61f30102-b8b3-4560-8983-d5aaf46d488b",
   "metadata": {},
   "outputs": [],
   "source": [
    "ra, dec,z = tract_list['ra'][0], tract_list['dec'][0], .1"
   ]
  },
  {
   "cell_type": "code",
   "execution_count": 37,
   "id": "8e3edd0b-d168-4169-8aad-4fe8dc8a42cd",
   "metadata": {},
   "outputs": [],
   "source": [
    "object_cat = GCRCatalogs.load_catalog('dc2_object_run2.2i_dr6_v2_with_addons')"
   ]
  },
  {
   "cell_type": "code",
   "execution_count": 38,
   "id": "cd981afa-9c0f-409c-9c02-37364162b3c9",
   "metadata": {},
   "outputs": [
    {
     "name": "stderr",
     "output_type": "stream",
     "text": [
      "/pbs/home/c/cpayerne/.conda/envs/mydesc/lib/python3.7/site-packages/GCRCatalogs/dc2_dm_catalog.py:43: RuntimeWarning: divide by zero encountered in log10\n",
      "  return -2.5 * np.log10(flux) + AB_mag_zp_wrt_nanoJansky\n",
      "/pbs/home/c/cpayerne/.conda/envs/mydesc/lib/python3.7/site-packages/GCRCatalogs/dc2_dm_catalog.py:43: RuntimeWarning: invalid value encountered in log10\n",
      "  return -2.5 * np.log10(flux) + AB_mag_zp_wrt_nanoJansky\n",
      "/pbs/throng/lsst/users/cpayerne/CLMassDC2/data/data_extraction/convert_shapes.py:6: RuntimeWarning: invalid value encountered in sqrt\n",
      "  zero = 1. + (1. - chi**2)**(1./2.)\n",
      "/pbs/throng/lsst/users/cpayerne/CLMassDC2/data/data_extraction/convert_shapes.py:18: RuntimeWarning: invalid value encountered in sqrt\n",
      "  zero = 1. + (1. - chi**2)**(1/2)\n",
      "/pbs/throng/lsst/users/cpayerne/CLMassDC2/data/data_extraction/convert_shapes.py:20: RuntimeWarning: invalid value encountered in sqrt\n",
      "  second = chi**2/((1 - chi**2)**0.5)\n"
     ]
    },
    {
     "data": {
      "image/png": "[encoded data removed]",
      "text/plain": [
       "<Figure size 432x288 with 1 Axes>"
      ]
     },
     "metadata": {
      "needs_background": "light"
     },
     "output_type": "display_data"
    }
   ],
   "source": [
    "cl=extract_bckgd_sources_in_dc2.extract(lens_redshift=z, lens_ra=ra, lens_dec=dec, rmax=5, cosmo=cosmo, GCRcatalog=object_cat)"
   ]
  },
  {
   "cell_type": "code",
   "execution_count": 40,
   "id": "bfa3bab4-85a1-47a6-8432-c234346b5947",
   "metadata": {},
   "outputs": [
    {
     "data": {
      "text/html": [
       "<b>GalaxyCluster:</b> dc2 (ra=49.96132289637527, dec=-44.63058282877983) at z=0.1<br>> <b>with columns:</b> dec, photoz_mean, ext_shapeHSM_HsmShapeRegauss_e1, mcal_g1, mcal_psf_g2, mag_i_cModel, snr_i_cModel, mcal_gauss_g1, ra, id, mag_i, ext_shapeHSM_HsmShapeRegauss_sigma, ext_shapeHSM_HsmShapeRegauss_resolution, mcal_psf_g1, photoz_odds, ext_shapeHSM_HsmShapeRegauss_e2, mcal_g2, chi1_HSM, chi2_HSM, chi_HSM, chi_sigma_HSM, chi_HSM_resolution, e1_HSM, e2_HSM, e_HSM, e_sigma_HSM, w_ls_BPZ<br>> 32902 source galaxies<br>\n",
       "<table id=\"table139724487169936\" class=\"table-striped table-bordered table-condensed\">\n",
       "<thead><tr><th>dec</th><th>photoz_mean</th><th>ext_shapeHSM_HsmShapeRegauss_e1</th><th>mcal_g1</th><th>mcal_psf_g2</th><th>mag_i_cModel</th><th>snr_i_cModel</th><th>mcal_gauss_g1</th><th>ra</th><th>id</th><th>mag_i</th><th>ext_shapeHSM_HsmShapeRegauss_sigma</th><th>ext_shapeHSM_HsmShapeRegauss_resolution</th><th>mcal_psf_g1</th><th>photoz_odds</th><th>ext_shapeHSM_HsmShapeRegauss_e2</th><th>mcal_g2</th><th>chi1_HSM</th><th>chi2_HSM</th><th>chi_HSM</th><th>chi_sigma_HSM</th><th>chi_HSM_resolution</th><th>e1_HSM</th><th>e2_HSM</th><th>e_HSM</th><th>e_sigma_HSM</th><th>w_ls_BPZ</th></tr></thead>\n",
       "<thead><tr><th>float64</th><th>float32</th><th>float64</th><th>float64</th><th>float64</th><th>float64</th><th>float64</th><th>float64</th><th>float64</th><th>int64</th><th>float64</th><th>float64</th><th>float64</th><th>float64</th><th>float32</th><th>float64</th><th>float64</th><th>float64</th><th>float64</th><th>float64</th><th>float64</th><th>float64</th><th>float64</th><th>float64</th><th>float64</th><th>float64</th><th>float64</th></tr></thead>\n",
       "<tr><td>-44.620018768151205</td><td>0.46153113</td><td>0.3342505395412445</td><td>nan</td><td>nan</td><td>22.333813869965766</td><td>12.300708208180993</td><td>nan</td><td>51.016860442912034</td><td>12741415620575274</td><td>22.803552110262075</td><td>0.35984906554222107</td><td>0.4538233280181885</td><td>nan</td><td>0.7430568</td><td>-0.49832481145858765</td><td>nan</td><td>0.3342505395412445</td><td>-0.49832481145858765</td><td>0.6000425325748584</td><td>0.35984906554222107</td><td>0.4538233280181885</td><td>0.18569803529500337</td><td>-0.27685202409432186</td><td>0.33336287069430404</td><td>8848714966352466.0</td><td>2.947317537687639e-32</td></tr>\n",
       "<tr><td>-44.60937281293304</td><td>0.57012457</td><td>0.03434774652123451</td><td>nan</td><td>nan</td><td>22.4828051522301</td><td>21.935379185160073</td><td>nan</td><td>51.01925742709509</td><td>12741415620575397</td><td>22.933477451745638</td><td>0.19198498129844666</td><td>0.42530378699302673</td><td>nan</td><td>0.72405297</td><td>-0.12135082483291626</td><td>nan</td><td>0.03434774652123451</td><td>-0.12135082483291626</td><td>0.12611816038428447</td><td>0.19198498129844666</td><td>0.42530378699302673</td><td>0.01724271283883067</td><td>-0.06091862312002447</td><td>0.06331184556528072</td><td>6447727735939884.0</td><td>3.284639969953771e-32</td></tr>\n",
       "<tr><td>-44.60779784228595</td><td>0.52967733</td><td>-0.4691590368747711</td><td>nan</td><td>nan</td><td>23.32876229765558</td><td>12.176317310622505</td><td>nan</td><td>51.02512633230404</td><td>12741415620575417</td><td>23.612210892471236</td><td>0.3558107018470764</td><td>0.4174811542034149</td><td>nan</td><td>0.6178408</td><td>-0.97300785779953</td><td>nan</td><td>-0.4691590368747711</td><td>-0.97300785779953</td><td>1.0802103930350297</td><td>0.3558107018470764</td><td>0.4174811542034149</td><td>nan</td><td>nan</td><td>nan</td><td>nan</td><td>3.159818723898025e-32</td></tr>\n",
       "<tr><td>-44.59996382981267</td><td>2.3604171</td><td>-0.05284367501735687</td><td>0.13419410909068363</td><td>2.4292981880206753e-05</td><td>21.972020470930424</td><td>29.513108498902373</td><td>0.13419410909068363</td><td>51.00776785204797</td><td>12741415620575541</td><td>22.66159526663239</td><td>0.1076398491859436</td><td>0.5014486312866211</td><td>5.022384207763561e-06</td><td>0.7963498</td><td>0.5854381918907166</td><td>-0.3083894126594522</td><td>-0.05284367501735687</td><td>0.5854381918907166</td><td>0.5878182801798626</td><td>0.1076398491859436</td><td>0.5014486312866211</td><td>-0.029211652615422926</td><td>0.323626566163231</td><td>0.32494226406413845</td><td>8706348245697674.0</td><td>4.165169871812363e-32</td></tr>\n",
       "<tr><td>-44.59740895132456</td><td>0.5628937</td><td>0.7894851565361023</td><td>0.14473129205731683</td><td>2.828238132517344e-06</td><td>23.288516999961274</td><td>10.86381761674146</td><td>0.14473129205731683</td><td>51.012846350222645</td><td>12741415620575584</td><td>23.741314075370326</td><td>0.31225377321243286</td><td>0.45880287885665894</td><td>3.1074458623167414e-06</td><td>0.46442255</td><td>0.8514848947525024</td><td>-0.1342731446210816</td><td>0.7894851565361023</td><td>0.8514848947525024</td><td>1.1611689534182845</td><td>0.31225377321243286</td><td>0.45880287885665894</td><td>nan</td><td>nan</td><td>nan</td><td>nan</td><td>1.5419092220027958e-32</td></tr>\n",
       "<tr><td>-44.59136367200352</td><td>0.52719384</td><td>-0.3230249881744385</td><td>0.11570704863672893</td><td>1.923745448418625e-06</td><td>22.644851935378725</td><td>17.943955679745876</td><td>0.11570704863672893</td><td>51.014991698384264</td><td>12741415620575700</td><td>23.318107035196938</td><td>0.16191208362579346</td><td>0.5377684831619263</td><td>-2.997091076260479e-06</td><td>0.66659355</td><td>0.5386911034584045</td><td>-0.10996457959090036</td><td>-0.3230249881744385</td><td>0.5386911034584045</td><td>0.6281188167300273</td><td>0.16191208362579346</td><td>0.5377684831619263</td><td>-0.18166684647290968</td><td>0.30295586276889863</td><td>0.35324934238220385</td><td>9208991895047706.0</td><td>3.1617972804373485e-32</td></tr>\n",
       "<tr><td>-44.57664496879195</td><td>0.41739586</td><td>-0.41729605197906494</td><td>0.08375925096767144</td><td>7.49290294914854e-06</td><td>22.414010461929383</td><td>20.58943667224761</td><td>0.08375925096767144</td><td>51.01168911034665</td><td>12741415620576025</td><td>23.506614551774</td><td>0.10958480089902878</td><td>0.7918248176574707</td><td>-1.0251144646325629e-05</td><td>0.7142567</td><td>-0.048473019152879715</td><td>0.04450585120767019</td><td>-0.41729605197906494</td><td>-0.048473019152879715</td><td>0.42010192642156485</td><td>0.10958480089902878</td><td>0.7918248176574707</td><td>-0.21876859754770261</td><td>-0.02541211297994841</td><td>0.2202395849049265</td><td>7360762378644504.0</td><td>2.781601692048443e-32</td></tr>\n",
       "<tr><td>-44.56958821621134</td><td>0.7331292</td><td>0.07583846151828766</td><td>0.044134857099877585</td><td>1.2397968494810488e-05</td><td>22.910842890839227</td><td>22.21951652461865</td><td>0.044134857099877585</td><td>51.02590256877081</td><td>12741415620576209</td><td>23.24176692125151</td><td>0.19247306883335114</td><td>0.4422912299633026</td><td>-1.8977463377409985e-05</td><td>0.53732747</td><td>0.7978042960166931</td><td>-0.16825209618157838</td><td>0.07583846151828766</td><td>0.7978042960166931</td><td>0.8014007530494042</td><td>0.19247306883335114</td><td>0.4422912299633026</td><td>0.0474545670205496</td><td>0.4992118336350631</td><td>0.5014622525897535</td><td>1.3329449536543656e+16</td><td>3.583250689232987e-32</td></tr>\n",
       "<tr><td>-44.56365769347535</td><td>0.20913753</td><td>0.1405743509531021</td><td>-0.1873989908680816</td><td>1.762359414499739e-05</td><td>22.71963453976771</td><td>19.621086897193013</td><td>-0.1873989908680816</td><td>51.02429756322223</td><td>12741415620576378</td><td>23.546375554658148</td><td>0.13904915750026703</td><td>0.6614577174186707</td><td>-1.3189746260706962e-05</td><td>0.77700746</td><td>0.033934880048036575</td><td>0.02260198858971324</td><td>0.1405743509531021</td><td>0.033934880048036575</td><td>0.14461232392075218</td><td>0.13904915750026703</td><td>0.6614577174186707</td><td>0.07065854296738332</td><td>0.017057088748481098</td><td>0.07268819691564178</td><td>6472403289421340.0</td><td>7.934131459286055e-33</td></tr>\n",
       "<tr><td>-44.558685821612855</td><td>0.83146703</td><td>0.7448214292526245</td><td>-0.4340300286949164</td><td>-3.811297296882035e-05</td><td>22.940166890254854</td><td>19.447314622936027</td><td>-0.4340300286949164</td><td>51.021301404815944</td><td>12741415620576519</td><td>23.564096778732548</td><td>0.1466597616672516</td><td>0.6195207238197327</td><td>3.997231517199371e-06</td><td>0.91805494</td><td>-0.050628867000341415</td><td>0.009838662926135425</td><td>0.7448214292526245</td><td>-0.050628867000341415</td><td>0.7465401822056603</td><td>0.1466597616672516</td><td>0.6195207238197327</td><td>0.44724877869588503</td><td>-0.030401513763346523</td><td>0.4482808517927837</td><td>1.1499284861364362e+16</td><td>3.744911289856182e-32</td></tr>\n",
       "<tr><td>...</td><td>...</td><td>...</td><td>...</td><td>...</td><td>...</td><td>...</td><td>...</td><td>...</td><td>...</td><td>...</td><td>...</td><td>...</td><td>...</td><td>...</td><td>...</td><td>...</td><td>...</td><td>...</td><td>...</td><td>...</td><td>...</td><td>...</td><td>...</td><td>...</td><td>...</td><td>...</td></tr>\n",
       "<tr><td>-44.62864102604645</td><td>0.59369355</td><td>-0.07372867316007614</td><td>nan</td><td>nan</td><td>23.004971929538968</td><td>10.287295982654838</td><td>nan</td><td>50.22286177927354</td><td>11976181297446927</td><td>23.24832870602213</td><td>0.3956742584705353</td><td>0.429625928401947</td><td>nan</td><td>0.43262672</td><td>-0.1266578733921051</td><td>nan</td><td>-0.07372867316007614</td><td>-0.1266578733921051</td><td>0.1465542020487842</td><td>0.3956742584705353</td><td>0.429625928401947</td><td>-0.03706443558014877</td><td>-0.06367268510132877</td><td>0.0736748478986416</td><td>6086309975259971.0</td><td>3.221512605273059e-32</td></tr>\n",
       "<tr><td>-44.631662255033184</td><td>0.6801094</td><td>0.009128743782639503</td><td>nan</td><td>nan</td><td>20.568381344603804</td><td>47.38019556073377</td><td>nan</td><td>49.79567015559074</td><td>11976318736400394</td><td>21.33534034372643</td><td>0.05854986980557442</td><td>0.5672193169593811</td><td>nan</td><td>0.8189709</td><td>-0.1798364669084549</td><td>nan</td><td>0.009128743782639503</td><td>-0.1798364669084549</td><td>0.18006801157663976</td><td>0.05854986980557442</td><td>0.5672193169593811</td><td>0.004601983529021393</td><td>-0.09065918360026695</td><td>0.09077590992916731</td><td>6137831388276439.0</td><td>3.5224729557700125e-32</td></tr>\n",
       "<tr><td>-44.62957197375411</td><td>0.65698177</td><td>-0.06397832185029984</td><td>nan</td><td>nan</td><td>21.353693562674295</td><td>27.706295580039317</td><td>nan</td><td>49.81213147872681</td><td>11976318736400403</td><td>21.946106598921368</td><td>0.11477337777614594</td><td>0.5215455889701843</td><td>nan</td><td>0.6985176</td><td>-0.3854067027568817</td><td>nan</td><td>-0.06397832185029984</td><td>-0.3854067027568817</td><td>0.3906808828144934</td><td>0.11477337777614594</td><td>0.5215455889701843</td><td>-0.03331291315958134</td><td>-0.2006776615695244</td><td>0.20342387774347037</td><td>6774339685757241.0</td><td>3.463085190525381e-32</td></tr>\n",
       "<tr><td>-44.63325894694993</td><td>0.6897333</td><td>-0.1620943248271942</td><td>nan</td><td>nan</td><td>21.398422451653953</td><td>33.78546738800068</td><td>nan</td><td>49.75174698176389</td><td>11976456175353862</td><td>22.034465361303702</td><td>0.09126730263233185</td><td>0.5342106223106384</td><td>nan</td><td>0.88165313</td><td>0.2570371925830841</td><td>nan</td><td>-0.1620943248271942</td><td>0.2570371925830841</td><td>0.3038793979725796</td><td>0.09126730263233185</td><td>0.5342106223106384</td><td>-0.08300991067941914</td><td>0.131630977335925</td><td>0.15561927729370786</td><td>6437681866891625.0</td><td>3.5418816687979547e-32</td></tr>\n",
       "<tr><td>-44.63170690985905</td><td>0.5847178</td><td>0.4736201763153076</td><td>nan</td><td>nan</td><td>22.61294159769918</td><td>10.96687319631327</td><td>nan</td><td>49.78183556425711</td><td>11976456175353867</td><td>22.934989411553694</td><td>0.32950639724731445</td><td>0.5100821256637573</td><td>nan</td><td>0.36705703</td><td>-0.6241443753242493</td><td>nan</td><td>0.4736201763153076</td><td>-0.6241443753242493</td><td>0.7835000144619274</td><td>0.32950639724731445</td><td>0.5100821256637573</td><td>0.29210717985179413</td><td>-0.38494359491760866</td><td>0.4832268367848172</td><td>1.1887071416383812e+16</td><td>3.1534819153837713e-32</td></tr>\n",
       "<tr><td>-44.63151364584182</td><td>0.674546</td><td>-0.17705044150352478</td><td>nan</td><td>nan</td><td>21.781454625771758</td><td>24.73296410481561</td><td>nan</td><td>49.76102945859691</td><td>11976456175353868</td><td>22.35605828749203</td><td>0.16219379007816315</td><td>0.42416784167289734</td><td>nan</td><td>0.76904696</td><td>-0.031110521405935287</td><td>nan</td><td>-0.17705044150352478</td><td>-0.031110521405935287</td><td>0.17976296442466175</td><td>0.16219379007816315</td><td>0.42416784167289734</td><td>-0.08925218175640881</td><td>-0.01568299907912912</td><td>0.09061958071186932</td><td>6137381078927832.0</td><td>3.5089863168002474e-32</td></tr>\n",
       "<tr><td>-44.6295307324284</td><td>0.61186826</td><td>0.0760950893163681</td><td>nan</td><td>nan</td><td>21.84669684255797</td><td>19.04193437698898</td><td>nan</td><td>49.785728078489065</td><td>11976456175353873</td><td>22.39284715682235</td><td>0.15740279853343964</td><td>0.5935578942298889</td><td>nan</td><td>0.52158165</td><td>-0.7898740768432617</td><td>nan</td><td>0.0760950893163681</td><td>-0.7898740768432617</td><td>0.7935310453202578</td><td>0.15740279853343964</td><td>0.5935578942298889</td><td>0.04730723096901415</td><td>-0.49105344018071084</td><td>0.49332692528917027</td><td>1.2235378197216046e+16</td><td>3.3063740027472574e-32</td></tr>\n",
       "<tr><td>-44.628887148095835</td><td>0.6679507</td><td>0.5681480765342712</td><td>nan</td><td>nan</td><td>21.837142903073914</td><td>23.211773110938502</td><td>nan</td><td>49.754947365589416</td><td>11976456175353874</td><td>22.444650110499268</td><td>0.14599613845348358</td><td>0.48804742097854614</td><td>nan</td><td>0.7483287</td><td>-0.25181666016578674</td><td>nan</td><td>0.5681480765342712</td><td>-0.25181666016578674</td><td>0.621453028962482</td><td>0.14599613845348358</td><td>0.48804742097854614</td><td>0.31856661139560705</td><td>-0.14119625399653157</td><td>0.348455259737506</td><td>8571463319047827.0</td><td>3.4925312673269973e-32</td></tr>\n",
       "<tr><td>-44.633264471261725</td><td>0.62526864</td><td>-0.3216191828250885</td><td>nan</td><td>nan</td><td>22.686136416625764</td><td>13.58143621864116</td><td>nan</td><td>49.76131695827163</td><td>11976456175354355</td><td>23.034088737566204</td><td>0.31345638632774353</td><td>0.42927274107933044</td><td>nan</td><td>0.55441785</td><td>-0.4368831515312195</td><td>nan</td><td>-0.3216191828250885</td><td>-0.4368831515312195</td><td>0.5424995731361714</td><td>0.31345638632774353</td><td>0.42927274107933044</td><td>-0.1747877071673904</td><td>-0.23742925930427022</td><td>0.2948277391132113</td><td>7747988953152431.0</td><td>3.3514869137971846e-32</td></tr>\n",
       "<tr><td>-44.6328307487602</td><td>0.58582675</td><td>0.02169092558324337</td><td>nan</td><td>nan</td><td>22.866480046947515</td><td>10.42685533642861</td><td>nan</td><td>49.76138898234098</td><td>11976456175354356</td><td>23.377366117171185</td><td>0.3484361469745636</td><td>0.5161752700805664</td><td>nan</td><td>0.4014114</td><td>0.3313613831996918</td><td>nan</td><td>0.02169092558324337</td><td>0.3313613831996918</td><td>0.3320705685975057</td><td>0.3484361469745636</td><td>0.5161752700805664</td><td>0.01116216382165289</td><td>0.17051877427958995</td><td>0.17088372152722786</td><td>6533858586459407.0</td><td>3.18561056750688e-32</td></tr>\n",
       "</table>"
      ],
      "text/plain": [
       "GalaxyCluster dc2: (ra=49.96132289637527, dec=-44.63058282877983) at z=0.1\n",
       "> with columns: dec, photoz_mean, ext_shapeHSM_HsmShapeRegauss_e1, mcal_g1, mcal_psf_g2, mag_i_cModel, snr_i_cModel, mcal_gauss_g1, ra, id, mag_i, ext_shapeHSM_HsmShapeRegauss_sigma, ext_shapeHSM_HsmShapeRegauss_resolution, mcal_psf_g1, photoz_odds, ext_shapeHSM_HsmShapeRegauss_e2, mcal_g2, chi1_HSM, chi2_HSM, chi_HSM, chi_sigma_HSM, chi_HSM_resolution, e1_HSM, e2_HSM, e_HSM, e_sigma_HSM, w_ls_BPZ\n",
       "> 32902 source galaxies"
      ]
     },
     "execution_count": 40,
     "metadata": {},
     "output_type": "execute_result"
    }
   ],
   "source": [
    "cl"
   ]
  },
  {
   "cell_type": "code",
   "execution_count": null,
   "id": "99f54db3-2ff2-4898-ab2e-b9608a767bf9",
   "metadata": {},
   "outputs": [],
   "source": []
  }
 ],
 "metadata": {
  "kernelspec": {
   "display_name": "mydesc",
   "language": "python",
   "name": "mydesc"
  },
  "language_info": {
   "codemirror_mode": {
    "name": "ipython",
    "version": 3
   },
   "file_extension": ".py",
   "mimetype": "text/x-python",
   "name": "python",
   "nbconvert_exporter": "python",
   "pygments_lexer": "ipython3",
   "version": "3.7.6"
  }
 },
 "nbformat": 4,
 "nbformat_minor": 5
}
