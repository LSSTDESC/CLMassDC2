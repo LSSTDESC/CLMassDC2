{
 "cells": [
  {
   "cell_type": "code",
   "execution_count": 7,
   "id": "abfeeed2-8fca-4663-b9a3-b607bd349d15",
   "metadata": {},
   "outputs": [],
   "source": [
    "import glob\n",
    "import os"
   ]
  },
  {
   "cell_type": "code",
   "execution_count": 8,
   "id": "042b734e-e9b5-47e1-bb28-b9b94182bba4",
   "metadata": {},
   "outputs": [],
   "source": [
    "file = glob.glob('/sps/lsst/users/cpayerne/CLMassDC2/cosmoDC2/redmapper_clusters_new/*')"
   ]
  },
  {
   "cell_type": "code",
   "execution_count": 9,
   "id": "3296ef9d-3044-43a7-b9fc-d67cd15531f0",
   "metadata": {},
   "outputs": [
    {
     "data": {
      "text/plain": [
       "4173"
      ]
     },
     "execution_count": 9,
     "metadata": {},
     "output_type": "execute_result"
    }
   ],
   "source": [
    "len(file)"
   ]
  },
  {
   "cell_type": "code",
   "execution_count": 10,
   "id": "0f32c079-5070-4977-b724-58e3ecab0942",
   "metadata": {},
   "outputs": [],
   "source": [
    "for f in file:\n",
    "    os.remove(f)"
   ]
  },
  {
   "cell_type": "code",
   "execution_count": null,
   "id": "df087772-fecb-4485-b224-41ecb40bb708",
   "metadata": {},
   "outputs": [],
   "source": []
  }
 ],
 "metadata": {
  "kernelspec": {
   "display_name": "mydesc",
   "language": "python",
   "name": "mydesc"
  },
  "language_info": {
   "codemirror_mode": {
    "name": "ipython",
    "version": 3
   },
   "file_extension": ".py",
   "mimetype": "text/x-python",
   "name": "python",
   "nbconvert_exporter": "python",
   "pygments_lexer": "ipython3",
   "version": "3.7.6"
  }
 },
 "nbformat": 4,
 "nbformat_minor": 5
}
