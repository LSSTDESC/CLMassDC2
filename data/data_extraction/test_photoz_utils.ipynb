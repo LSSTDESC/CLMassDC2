{
 "cells": [
  {
   "cell_type": "code",
   "execution_count": 111,
   "id": "d08dc049-5e18-46c4-8937-6036d506218d",
   "metadata": {},
   "outputs": [
    {
     "name": "stdout",
     "output_type": "stream",
     "text": [
      "The autoreload extension is already loaded. To reload it, use:\n",
      "  %reload_ext autoreload\n"
     ]
    }
   ],
   "source": [
    "%load_ext autoreload\n",
    "%autoreload 2\n",
    "import sys\n",
    "import numpy as np\n",
    "import photoz_utils as pz\n",
    "import matplotlib.pyplot as plt\n",
    "sys.path.append('/pbs/throng/lsst/users/cpayerne/LikelihoodsClusterAbundance/modules/')\n",
    "import edit\n",
    "import utils\n",
    "from clmm import Cosmology\n",
    "from scipy.integrate import simps\n",
    "cosmo = Cosmology(H0 = 71.0, Omega_dm0 = 0.265 - 0.0448, Omega_b0 = 0.0448, Omega_k0 = 0.0)"
   ]
  },
  {
   "cell_type": "code",
   "execution_count": 112,
   "id": "ff91769f-efb9-4c99-96a9-09d5c1e970c4",
   "metadata": {},
   "outputs": [],
   "source": [
    "photoz = edit.load_pickle('/sps/lsst/users/cpayerne/CLMassDC2/cosmoDC2/redmapper_clusters/table_of_BPZ_photometric_redshifts.pkl')"
   ]
  },
  {
   "cell_type": "code",
   "execution_count": 113,
   "id": "d87e124d-6a22-45fe-a605-bf3a890c16cd",
   "metadata": {},
   "outputs": [
    {
     "data": {
      "text/html": [
       "<div><i>Table length=3000</i>\n",
       "<table id=\"table140506580472208\" class=\"table-striped table-bordered table-condensed\">\n",
       "<thead><tr><th>photoz_mean</th><th>photoz_pdf [301]</th><th>photoz_zbins [301]</th></tr></thead>\n",
       "<thead><tr><th>float32</th><th>float32</th><th>float32</th></tr></thead>\n",
       "<tr><td>0.1711127</td><td>0.0 .. 0.0</td><td>0.005 .. 3.005</td></tr>\n",
       "<tr><td>0.046091713</td><td>0.031847883 .. 0.0</td><td>0.005 .. 3.005</td></tr>\n",
       "<tr><td>0.08217238</td><td>0.030549549 .. 0.0</td><td>0.005 .. 3.005</td></tr>\n",
       "<tr><td>0.067468494</td><td>0.0079375 .. 0.0</td><td>0.005 .. 3.005</td></tr>\n",
       "<tr><td>0.108543746</td><td>0.021528687 .. 0.0</td><td>0.005 .. 3.005</td></tr>\n",
       "<tr><td>0.09332261</td><td>0.0 .. 0.0</td><td>0.005 .. 3.005</td></tr>\n",
       "<tr><td>0.10172408</td><td>0.0 .. 0.0</td><td>0.005 .. 3.005</td></tr>\n",
       "<tr><td>0.10215244</td><td>0.054912634 .. 0.0</td><td>0.005 .. 3.005</td></tr>\n",
       "<tr><td>0.07129784</td><td>0.0062858267 .. 0.0</td><td>0.005 .. 3.005</td></tr>\n",
       "<tr><td>0.1322045</td><td>0.0 .. 0.0</td><td>0.005 .. 3.005</td></tr>\n",
       "<tr><td>...</td><td>...</td><td>...</td></tr>\n",
       "<tr><td>0.4825561</td><td>0.0 .. 0.0</td><td>0.005 .. 3.005</td></tr>\n",
       "<tr><td>0.076288566</td><td>0.00427893 .. 0.0</td><td>0.005 .. 3.005</td></tr>\n",
       "<tr><td>0.47988033</td><td>0.0007704154 .. 0.0</td><td>0.005 .. 3.005</td></tr>\n",
       "<tr><td>0.1023667</td><td>0.0 .. 0.0</td><td>0.005 .. 3.005</td></tr>\n",
       "<tr><td>1.0102654</td><td>0.00015738737 .. 0.0</td><td>0.005 .. 3.005</td></tr>\n",
       "<tr><td>0.25997928</td><td>0.0010602111 .. 0.0</td><td>0.005 .. 3.005</td></tr>\n",
       "<tr><td>0.23632693</td><td>0.0 .. 0.0</td><td>0.005 .. 3.005</td></tr>\n",
       "<tr><td>0.1339126</td><td>0.0024433369 .. 0.0</td><td>0.005 .. 3.005</td></tr>\n",
       "<tr><td>0.14859597</td><td>0.022012541 .. 0.0</td><td>0.005 .. 3.005</td></tr>\n",
       "<tr><td>0.08305756</td><td>0.014859505 .. 0.0</td><td>0.005 .. 3.005</td></tr>\n",
       "</table></div>"
      ],
      "text/plain": [
       "<Table length=3000>\n",
       "photoz_mean   photoz_pdf [301]   photoz_zbins [301]\n",
       "  float32         float32             float32      \n",
       "----------- -------------------- ------------------\n",
       "  0.1711127           0.0 .. 0.0     0.005 .. 3.005\n",
       "0.046091713   0.031847883 .. 0.0     0.005 .. 3.005\n",
       " 0.08217238   0.030549549 .. 0.0     0.005 .. 3.005\n",
       "0.067468494     0.0079375 .. 0.0     0.005 .. 3.005\n",
       "0.108543746   0.021528687 .. 0.0     0.005 .. 3.005\n",
       " 0.09332261           0.0 .. 0.0     0.005 .. 3.005\n",
       " 0.10172408           0.0 .. 0.0     0.005 .. 3.005\n",
       " 0.10215244   0.054912634 .. 0.0     0.005 .. 3.005\n",
       " 0.07129784  0.0062858267 .. 0.0     0.005 .. 3.005\n",
       "  0.1322045           0.0 .. 0.0     0.005 .. 3.005\n",
       "        ...                  ...                ...\n",
       "  0.4825561           0.0 .. 0.0     0.005 .. 3.005\n",
       "0.076288566    0.00427893 .. 0.0     0.005 .. 3.005\n",
       " 0.47988033  0.0007704154 .. 0.0     0.005 .. 3.005\n",
       "  0.1023667           0.0 .. 0.0     0.005 .. 3.005\n",
       "  1.0102654 0.00015738737 .. 0.0     0.005 .. 3.005\n",
       " 0.25997928  0.0010602111 .. 0.0     0.005 .. 3.005\n",
       " 0.23632693           0.0 .. 0.0     0.005 .. 3.005\n",
       "  0.1339126  0.0024433369 .. 0.0     0.005 .. 3.005\n",
       " 0.14859597   0.022012541 .. 0.0     0.005 .. 3.005\n",
       " 0.08305756   0.014859505 .. 0.0     0.005 .. 3.005"
      ]
     },
     "execution_count": 113,
     "metadata": {},
     "output_type": "execute_result"
    }
   ],
   "source": [
    "photoz"
   ]
  },
  {
   "cell_type": "code",
   "execution_count": 114,
   "id": "09e8c7da-9584-4098-8020-458f3971521a",
   "metadata": {},
   "outputs": [],
   "source": [
    "# index=3000\n",
    "# pdf = np.zeros([index, len(photoz['photoz_zbins'][0])])\n",
    "# for i in range(index):\n",
    "#     pdf[i,:] = np.exp(-(photoz['photoz_mean'][i]-photoz['photoz_zbins'][0])**2/(2*.1**2))\n",
    "# z1 = pz.draw_z_from_pdf(pdf, photoz['photoz_zbins'][np.arange(index)], n_samples=2, use_clmm=False)\n",
    "# #z2 = pz.draw_z_from_pdf(photoz['photoz_pdf'][np.arange(index)], photoz['photoz_zbins'][np.arange(index)], n_samples=2, use_clmm=False)"
   ]
  },
  {
   "cell_type": "code",
   "execution_count": 115,
   "id": "39305aae-5da9-4f1b-bc33-4b34ff482eed",
   "metadata": {},
   "outputs": [],
   "source": [
    "# plt.scatter(photoz['photoz_mean'][np.arange(index)], z1[:,1])\n",
    "# plt.scatter(photoz['photoz_mean'][np.arange(index)], z1[:,0])\n",
    "# #plt.scatter(photoz['photoz_mean'][np.arange(index)], z2[:,1])\n",
    "# plt.plot(photoz['photoz_mean'][np.arange(index)], photoz['photoz_mean'][np.arange(index)])"
   ]
  },
  {
   "cell_type": "code",
   "execution_count": 116,
   "id": "c9f00697-8092-4950-ac6f-0d31d0c05c00",
   "metadata": {},
   "outputs": [
    {
     "name": "stderr",
     "output_type": "stream",
     "text": [
      "/pbs/throng/lsst/users/cpayerne/CLMassDC2/data/data_extraction/photoz_utils.py:65: RuntimeWarning: divide by zero encountered in reciprocal\n",
      "  if use_clmm==True:\n"
     ]
    }
   ],
   "source": [
    "z_cl = .10\n",
    "photoz_quantities = pz.compute_photoz_quantities(z_cl, photoz['photoz_pdf'], photoz['photoz_zbins'], cosmo=cosmo)"
   ]
  },
  {
   "cell_type": "code",
   "execution_count": 117,
   "id": "78034b3b-bbd4-496a-8678-8e866c99cb9f",
   "metadata": {},
   "outputs": [
    {
     "data": {
      "text/plain": [
       "<matplotlib.collections.PathCollection at 0x7fca3cd23ed0>"
      ]
     },
     "execution_count": 117,
     "metadata": {},
     "output_type": "execute_result"
    },
    {
     "data": {
      "image/png": "[encoded data removed]",
      "text/plain": [
       "<Figure size 432x288 with 1 Axes>"
      ]
     },
     "metadata": {
      "needs_background": "light"
     },
     "output_type": "display_data"
    }
   ],
   "source": [
    "w_ls = 1/(photoz_quantities['sigmac_photoz']**2)\n",
    "w_ls = w_ls\n",
    "w_ls_true = 1/(cosmo.eval_sigma_crit(z_cl, photoz['photoz_mean'])**2)\n",
    "w_ls_true = w_ls_true\n",
    "plt.scatter(photoz['photoz_mean'], w_ls)\n",
    "plt.scatter(photoz['photoz_mean'], w_ls_true)\n",
    "#plt.yscale('log')"
   ]
  },
  {
   "cell_type": "code",
   "execution_count": null,
   "id": "ae4a4738-f300-462d-92c6-80190b69de9c",
   "metadata": {},
   "outputs": [],
   "source": []
  },
  {
   "cell_type": "code",
   "execution_count": 123,
   "id": "167a1372-d4a8-4917-bd6e-90c9dc20a14c",
   "metadata": {},
   "outputs": [],
   "source": [
    "u = np.random.random(1000)*1"
   ]
  },
  {
   "cell_type": "code",
   "execution_count": 124,
   "id": "cd51f57a-6dba-4866-b39f-e627d5b4eed2",
   "metadata": {},
   "outputs": [],
   "source": [
    "e = (1-u)/(1+u)"
   ]
  },
  {
   "cell_type": "code",
   "execution_count": 127,
   "id": "a1e8ddc2-cde5-4bcd-b588-95f5145f6fd2",
   "metadata": {},
   "outputs": [
    {
     "data": {
      "text/plain": [
       "(array([21., 23., 22., 12., 24., 26., 20., 19., 25., 21., 20., 16., 25.,\n",
       "        18., 20., 26., 14., 16., 19., 17., 22., 11., 19., 20., 19., 22.,\n",
       "        18., 30., 15., 23., 23., 22., 20., 15., 26., 16., 20., 22., 24.,\n",
       "        14., 16., 20., 19., 25., 26., 20., 14., 20., 15., 20.]),\n",
       " array([9.20570736e-05, 2.00827653e-02, 4.00734736e-02, 6.00641819e-02,\n",
       "        8.00548902e-02, 1.00045598e-01, 1.20036307e-01, 1.40027015e-01,\n",
       "        1.60017723e-01, 1.80008432e-01, 1.99999140e-01, 2.19989848e-01,\n",
       "        2.39980556e-01, 2.59971265e-01, 2.79961973e-01, 2.99952681e-01,\n",
       "        3.19943389e-01, 3.39934098e-01, 3.59924806e-01, 3.79915514e-01,\n",
       "        3.99906223e-01, 4.19896931e-01, 4.39887639e-01, 4.59878347e-01,\n",
       "        4.79869056e-01, 4.99859764e-01, 5.19850472e-01, 5.39841181e-01,\n",
       "        5.59831889e-01, 5.79822597e-01, 5.99813305e-01, 6.19804014e-01,\n",
       "        6.39794722e-01, 6.59785430e-01, 6.79776138e-01, 6.99766847e-01,\n",
       "        7.19757555e-01, 7.39748263e-01, 7.59738972e-01, 7.79729680e-01,\n",
       "        7.99720388e-01, 8.19711096e-01, 8.39701805e-01, 8.59692513e-01,\n",
       "        8.79683221e-01, 8.99673930e-01, 9.19664638e-01, 9.39655346e-01,\n",
       "        9.59646054e-01, 9.79636763e-01, 9.99627471e-01]),\n",
       " <a list of 50 Patch objects>)"
      ]
     },
     "execution_count": 127,
     "metadata": {},
     "output_type": "execute_result"
    },
    {
     "data": {
      "image/png": "[encoded data removed]",
      "text/plain": [
       "<Figure size 432x288 with 1 Axes>"
      ]
     },
     "metadata": {
      "needs_background": "light"
     },
     "output_type": "display_data"
    }
   ],
   "source": [
    "plt.hist(u, bins=50)"
   ]
  },
  {
   "cell_type": "code",
   "execution_count": null,
   "id": "517eb9ac-ebbe-456c-b537-673b962df969",
   "metadata": {},
   "outputs": [],
   "source": []
  }
 ],
 "metadata": {
  "kernelspec": {
   "display_name": "mydesc",
   "language": "python",
   "name": "mydesc"
  },
  "language_info": {
   "codemirror_mode": {
    "name": "ipython",
    "version": 3
   },
   "file_extension": ".py",
   "mimetype": "text/x-python",
   "name": "python",
   "nbconvert_exporter": "python",
   "pygments_lexer": "ipython3",
   "version": "3.7.6"
  }
 },
 "nbformat": 4,
 "nbformat_minor": 5
}
