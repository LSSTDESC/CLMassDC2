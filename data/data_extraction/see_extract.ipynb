{
 "cells": [
  {
   "cell_type": "code",
   "execution_count": 124,
   "id": "retired-squad",
   "metadata": {},
   "outputs": [
    {
     "name": "stdout",
     "output_type": "stream",
     "text": [
      "The autoreload extension is already loaded. To reload it, use:\n",
      "  %reload_ext autoreload\n"
     ]
    }
   ],
   "source": [
    "%load_ext autoreload\n",
    "%autoreload 2\n",
    "import os\n",
    "import GCRCatalogs\n",
    "import time\n",
    "import matplotlib.pyplot as plt\n",
    "import pickle\n",
    "import sys\n",
    "import clmm\n",
    "import clmm.dataops as da\n",
    "import glob\n",
    "import numpy as np\n",
    "from astropy.cosmology import FlatLambdaCDM\n",
    "import astropy.units as u\n",
    "import sys\n",
    "import photoz_utils as utils\n",
    "import see_cl as see\n",
    "from astropy.table import Table\n",
    "def load(filename, **kwargs):\n",
    "    \"\"\"Loads GalaxyCluster object to filename using Pickle\"\"\"\n",
    "    with open(filename, 'rb') as fin:\n",
    "        return pickle.load(fin, **kwargs)\n",
    "    from clmm.dataops import compute_galaxy_weights\n",
    "from clmm import Cosmology\n",
    "from scipy.integrate import simps\n",
    "cosmo = Cosmology(H0 = 71.0, Omega_dm0 = 0.265 - 0.0448, Omega_b0 = 0.0448, Omega_k0 = 0.0)"
   ]
  },
  {
   "cell_type": "code",
   "execution_count": 125,
   "id": "3b25b492-633a-45c3-963d-742e7294235e",
   "metadata": {},
   "outputs": [],
   "source": [
    "def delete_file(list_filename):\n",
    "     for f in list_filename:\n",
    "        os.remove(f)"
   ]
  },
  {
   "cell_type": "code",
   "execution_count": 126,
   "id": "4a85ea3c-bc05-4a5e-a778-1bc789a8a925",
   "metadata": {},
   "outputs": [],
   "source": [
    "sys.path.append('/pbs/throng/lsst/users/cpayerne/LikelihoodsClusterAbundance/modules/')\n",
    "import edit"
   ]
  },
  {
   "cell_type": "code",
   "execution_count": 127,
   "id": "d97216cd-09fb-4979-a61c-c67d317a4009",
   "metadata": {},
   "outputs": [],
   "source": [
    "file = glob.glob('/sps/lsst/users/cpayerne/CLMassDC2/cosmoDC2/redmapper_clusters/l*')\n",
    "lens_cat = edit.load_pickle('/pbs/throng/lsst/users/cpayerne/CLMassDC2/data/lens_catalog_cosmoDC2_v1.1.4_redmapper_v0.8.1.pkl')"
   ]
  },
  {
   "cell_type": "code",
   "execution_count": 128,
   "id": "3f954ed8-48ee-48a9-b98a-4f60bbb6d50e",
   "metadata": {},
   "outputs": [
    {
     "data": {
      "text/plain": [
       "5224"
      ]
     },
     "execution_count": 128,
     "metadata": {},
     "output_type": "execute_result"
    }
   ],
   "source": [
    "len(file)"
   ]
  },
  {
   "cell_type": "code",
   "execution_count": 129,
   "id": "2d9a60e3-6acb-4c8d-8a21-076627c24e20",
   "metadata": {},
   "outputs": [],
   "source": [
    "cluster_id_saved = []\n",
    "for f in file:\n",
    "    cluster_id_saved.append(int(f.split('.pkl')[0].split('halo_')[1]))"
   ]
  },
  {
   "cell_type": "markdown",
   "id": "c51ca726-d975-46ce-a627-14bd097a8a04",
   "metadata": {},
   "source": [
    "# Check extraction"
   ]
  },
  {
   "cell_type": "code",
   "execution_count": 130,
   "id": "eccf3a16-7af8-4014-bc72-7c18a6dcb743",
   "metadata": {},
   "outputs": [],
   "source": [
    "lens_cat = edit.load_pickle('/pbs/throng/lsst/users/cpayerne/CLMassDC2/data/lens_catalog_cosmoDC2_v1.1.4_redmapper_v0.8.1.pkl')"
   ]
  },
  {
   "cell_type": "code",
   "execution_count": 131,
   "id": "419f73b4-b15d-446d-ad93-803d596f9f8a",
   "metadata": {},
   "outputs": [],
   "source": [
    "index = 100\n",
    "cltest = edit.load_pickle(file[index])\n",
    "cluster_id = int(file[index].split('.pkl')[0].split('halo_')[1])\n",
    "lens = lens_cat[lens_cat['cluster_id'] == cluster_id][0]\n",
    "ra, dec, z = lens['ra'], lens['dec'], lens['redshift']"
   ]
  },
  {
   "cell_type": "code",
   "execution_count": 132,
   "id": "4125c3a0-3c1e-4dc0-84e1-dbc7b4be5b73",
   "metadata": {},
   "outputs": [
    {
     "name": "stdout",
     "output_type": "stream",
     "text": [
      "['ra', 'dec', 'z', 'galaxy_id', 'mag_i', 'mag_r', 'mag_y', 'shear1', 'shear2', 'kappa', 'e1_true', 'e2_true', 'g1', 'g2', 'e1', 'e2', 'sigma_c_photoz_bpz', 'p_background_bpz', 'photoz_err_bpz', 'sigma_c_photoz_estimate_0_bpz', 'sigma_c_photoz_estimate_1_bpz', 'sigma_c_photoz_estimate_2_bpz', 'z_estimate_0_bpz', 'z_estimate_1_bpz', 'z_estimate_2_bpz', 'photoz_mean_bpz', 'photoz_mode_bpz', 'photoz_odds_bpz', 'sigma_c_photoz_flex', 'p_background_flex', 'photoz_err_flex', 'sigma_c_photoz_estimate_0_flex', 'sigma_c_photoz_estimate_1_flex', 'sigma_c_photoz_estimate_2_flex', 'z_estimate_0_flex', 'z_estimate_1_flex', 'z_estimate_2_flex', 'photoz_mean_flex', 'photoz_mode_flex', 'photoz_odds_flex']\n",
      "cluster: ra, dec = 58.81460762902159,-42.18618298743182\n",
      "cluster: z = 0.99118865\n",
      "----\n",
      "galaxies: maximum distance = 10.099828858415187\n",
      "galaxies: minimum redshift = 1.0412308173275289\n",
      "galaxies: minimum ra, maximum ra = 58.34383768594898,59.28430766305098\n",
      "galaxies: minimum dec, maximum dec = -42.53403249646422,-41.83807959664897\n"
     ]
    }
   ],
   "source": [
    "see.check(cltest, ra, dec, z, cosmo)"
   ]
  },
  {
   "cell_type": "markdown",
   "id": "c8141785-6bdd-4c88-b523-d60595580e15",
   "metadata": {},
   "source": [
    "# Check missing extraction"
   ]
  },
  {
   "cell_type": "code",
   "execution_count": 133,
   "id": "95344d67-a5ae-4138-b2b7-ab097a8a28bb",
   "metadata": {},
   "outputs": [
    {
     "name": "stdout",
     "output_type": "stream",
     "text": [
      "4240\n"
     ]
    }
   ],
   "source": [
    "lens_cat_to_extract = lens_cat[(lens_cat['richness'] > 20)*(lens_cat['redshift'] > .2)]\n",
    "print(len(lens_cat_to_extract))"
   ]
  },
  {
   "cell_type": "code",
   "execution_count": 134,
   "id": "0462e665-d90b-433e-9ba3-0f2517a3af26",
   "metadata": {},
   "outputs": [],
   "source": [
    "mask = np.isin(lens_cat_to_extract['cluster_id'], cluster_id_saved)"
   ]
  },
  {
   "cell_type": "code",
   "execution_count": 135,
   "id": "66e924b9-31ad-433c-bb47-2399bc2597e7",
   "metadata": {},
   "outputs": [
    {
     "name": "stdout",
     "output_type": "stream",
     "text": [
      "632\n"
     ]
    }
   ],
   "source": [
    "lens_cat_miss = lens_cat_to_extract[np.invert(mask)]\n",
    "print(len(lens_cat_miss))"
   ]
  },
  {
   "cell_type": "code",
   "execution_count": null,
   "id": "105bdf83-7afb-484a-b41f-bf5033237601",
   "metadata": {},
   "outputs": [],
   "source": []
  },
  {
   "cell_type": "code",
   "execution_count": 136,
   "id": "f44451b2-3c3c-4f29-b148-a2fb97244848",
   "metadata": {},
   "outputs": [
    {
     "data": {
      "image/png": "[encoded data removed]",
      "text/plain": [
       "<Figure size 432x288 with 1 Axes>"
      ]
     },
     "metadata": {
      "needs_background": "light"
     },
     "output_type": "display_data"
    }
   ],
   "source": [
    "plt.hist(lens_cat_to_extract[np.invert(mask)]['redshift'], alpha=.4, bins=100)\n",
    "plt.hist(lens_cat_to_extract[mask]['redshift'], alpha=.4, bins=100)\n",
    "plt.show()"
   ]
  },
  {
   "cell_type": "code",
   "execution_count": null,
   "id": "ae0d2650-2587-443e-b4dd-7a167d97d911",
   "metadata": {},
   "outputs": [],
   "source": []
  }
 ],
 "metadata": {
  "kernelspec": {
   "display_name": "mydesc",
   "language": "python",
   "name": "mydesc"
  },
  "language_info": {
   "codemirror_mode": {
    "name": "ipython",
    "version": 3
   },
   "file_extension": ".py",
   "mimetype": "text/x-python",
   "name": "python",
   "nbconvert_exporter": "python",
   "pygments_lexer": "ipython3",
   "version": "3.7.6"
  }
 },
 "nbformat": 4,
 "nbformat_minor": 5
}
