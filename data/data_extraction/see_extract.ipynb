{
 "cells": [
  {
   "cell_type": "code",
   "execution_count": 1,
   "id": "retired-squad",
   "metadata": {},
   "outputs": [],
   "source": [
    "import GCRCatalogs\n",
    "import matplotlib.pyplot as plt\n",
    "import pickle\n",
    "import sys\n",
    "import glob\n",
    "import numpy as np\n",
    "from astropy.cosmology import FlatLambdaCDM\n",
    "import astropy.units as u\n",
    "import sys\n",
    "from astropy.table import Table\n",
    "def load(filename, **kwargs):\n",
    "    \"\"\"Loads GalaxyCluster object to filename using Pickle\"\"\"\n",
    "    with open(filename, 'rb') as fin:\n",
    "        return pickle.load(fin, **kwargs)\n",
    "    from clmm.dataops import compute_galaxy_weights\n",
    "from clmm import Cosmology\n",
    "from scipy.integrate import simps\n",
    "cosmo = Cosmology(H0 = 71.0, Omega_dm0 = 0.265 - 0.0448, Omega_b0 = 0.0448, Omega_k0 = 0.0)"
   ]
  },
  {
   "cell_type": "code",
   "execution_count": 2,
   "id": "4a85ea3c-bc05-4a5e-a778-1bc789a8a925",
   "metadata": {},
   "outputs": [],
   "source": [
    "sys.path.append('/pbs/throng/lsst/users/cpayerne/LikelihoodsClusterAbundance/modules/')\n",
    "import edit"
   ]
  },
  {
   "cell_type": "code",
   "execution_count": 3,
   "id": "d97216cd-09fb-4979-a61c-c67d317a4009",
   "metadata": {},
   "outputs": [],
   "source": [
    "file = glob.glob('/sps/lsst/users/cpayerne/CLMassDC2/DC2/full_*')"
   ]
  },
  {
   "cell_type": "code",
   "execution_count": 4,
   "id": "4ba70c23-c14d-40c0-926c-096abaad60cc",
   "metadata": {},
   "outputs": [],
   "source": [
    "f=edit.load_pickle(file[0])"
   ]
  },
  {
   "cell_type": "code",
   "execution_count": 5,
   "id": "c4c09cab-43e7-402c-bbad-46c12055e811",
   "metadata": {},
   "outputs": [
    {
     "data": {
      "text/plain": [
       "0.571269690990448"
      ]
     },
     "execution_count": 5,
     "metadata": {},
     "output_type": "execute_result"
    }
   ],
   "source": [
    "f.z"
   ]
  },
  {
   "cell_type": "code",
   "execution_count": 8,
   "id": "eb16e9b1-7436-4e20-8d2f-73d1162049b2",
   "metadata": {},
   "outputs": [
    {
     "data": {
      "text/plain": [
       "['ext_shapeHSM_HsmShapeRegauss_sigma',\n",
       " 'id',\n",
       " 'ext_shapeHSM_HsmShapeRegauss_e2',\n",
       " 'photoz_mean',\n",
       " 'mag_i',\n",
       " 'ext_shapeHSM_HsmShapeRegauss_resolution',\n",
       " 'snr_i_cModel',\n",
       " 'dec',\n",
       " 'ra',\n",
       " 'photoz_pdf',\n",
       " 'ext_shapeHSM_HsmShapeRegauss_e1',\n",
       " 'mag_i_cModel',\n",
       " 'photoz_odds',\n",
       " 'chi1_HSM',\n",
       " 'chi2_HSM',\n",
       " 'chi_HSM',\n",
       " 'chi_sigma_HSM',\n",
       " 'chi_HSM_resolution',\n",
       " 'e1_HSM',\n",
       " 'e2_HSM',\n",
       " 'e_HSM',\n",
       " 'e_sigma_HSM',\n",
       " 'pzbins']"
      ]
     },
     "execution_count": 8,
     "metadata": {},
     "output_type": "execute_result"
    }
   ],
   "source": [
    "f.galcat.colnames"
   ]
  },
  {
   "cell_type": "code",
   "execution_count": 6,
   "id": "fd4d5041-af6f-4eae-a0f1-140a72afbb0d",
   "metadata": {},
   "outputs": [
    {
     "data": {
      "text/plain": [
       "(array([1.772e+03, 1.744e+03, 1.801e+03, 1.825e+03, 1.873e+03, 2.050e+03,\n",
       "        2.188e+03, 2.560e+03, 2.832e+03, 2.986e+03, 2.802e+03, 2.718e+03,\n",
       "        2.393e+03, 2.253e+03, 1.978e+03, 1.791e+03, 1.580e+03, 1.425e+03,\n",
       "        1.403e+03, 1.525e+03, 1.663e+03, 1.864e+03, 2.290e+03, 2.280e+03,\n",
       "        1.853e+03, 1.443e+03, 1.229e+03, 1.046e+03, 9.950e+02, 1.012e+03,\n",
       "        9.790e+02, 1.135e+03, 1.176e+03, 1.362e+03, 1.444e+03, 9.710e+02,\n",
       "        7.030e+02, 5.290e+02, 3.870e+02, 3.650e+02, 3.200e+02, 3.080e+02,\n",
       "        2.620e+02, 2.410e+02, 2.260e+02, 2.330e+02, 2.150e+02, 1.740e+02,\n",
       "        1.690e+02, 1.660e+02, 1.680e+02, 1.380e+02, 1.320e+02, 1.430e+02,\n",
       "        1.210e+02, 1.250e+02, 1.280e+02, 9.500e+01, 1.130e+02, 1.110e+02,\n",
       "        1.230e+02, 1.010e+02, 9.800e+01, 7.600e+01, 5.600e+01, 4.000e+01,\n",
       "        4.300e+01, 2.800e+01, 2.700e+01, 2.800e+01, 1.400e+01, 2.500e+01,\n",
       "        2.100e+01, 2.000e+01, 3.000e+01, 2.600e+01, 2.300e+01, 1.800e+01,\n",
       "        1.600e+01, 1.500e+01, 1.900e+01, 1.700e+01, 1.800e+01, 1.100e+01,\n",
       "        1.800e+01, 1.600e+01, 1.000e+01, 1.000e+01, 8.000e+00, 1.000e+01,\n",
       "        6.000e+00, 5.000e+00, 7.000e+00, 3.000e+00, 5.000e+00, 4.000e+00,\n",
       "        2.000e+00, 5.000e+00, 2.000e+00, 1.000e+00]),\n",
       " array([0.6212963 , 0.6446607 , 0.6680251 , 0.6913895 , 0.71475387,\n",
       "        0.7381183 , 0.76148266, 0.7848471 , 0.8082115 , 0.8315759 ,\n",
       "        0.8549403 , 0.87830466, 0.9016691 , 0.9250335 , 0.9483979 ,\n",
       "        0.9717623 , 0.99512666, 1.018491  , 1.0418555 , 1.0652199 ,\n",
       "        1.0885843 , 1.1119487 , 1.135313  , 1.1586775 , 1.1820419 ,\n",
       "        1.2054063 , 1.2287707 , 1.252135  , 1.2754995 , 1.2988639 ,\n",
       "        1.3222283 , 1.3455926 , 1.368957  , 1.3923215 , 1.4156859 ,\n",
       "        1.4390503 , 1.4624146 , 1.485779  , 1.5091435 , 1.5325079 ,\n",
       "        1.5558723 , 1.5792366 , 1.602601  , 1.6259655 , 1.6493299 ,\n",
       "        1.6726943 , 1.6960586 , 1.719423  , 1.7427875 , 1.7661519 ,\n",
       "        1.7895162 , 1.8128806 , 1.8362451 , 1.8596095 , 1.8829739 ,\n",
       "        1.9063382 , 1.9297026 , 1.9530671 , 1.9764315 , 1.9997959 ,\n",
       "        2.0231602 , 2.0465248 , 2.069889  , 2.0932534 , 2.116618  ,\n",
       "        2.1399822 , 2.1633468 , 2.186711  , 2.2100754 , 2.23344   ,\n",
       "        2.2568042 , 2.2801688 , 2.303533  , 2.3268974 , 2.350262  ,\n",
       "        2.3736262 , 2.3969908 , 2.420355  , 2.4437194 , 2.467084  ,\n",
       "        2.4904482 , 2.5138125 , 2.537177  , 2.5605414 , 2.583906  ,\n",
       "        2.6072702 , 2.6306345 , 2.653999  , 2.6773634 , 2.700728  ,\n",
       "        2.7240922 , 2.7474566 , 2.770821  , 2.7941854 , 2.81755   ,\n",
       "        2.8409142 , 2.8642786 , 2.887643  , 2.9110074 , 2.934372  ,\n",
       "        2.9577363 ], dtype=float32),\n",
       " <a list of 100 Patch objects>)"
      ]
     },
     "execution_count": 6,
     "metadata": {},
     "output_type": "execute_result"
    },
    {
     "data": {
      "image/png": "[encoded data removed]",
      "text/plain": [
       "<Figure size 432x288 with 1 Axes>"
      ]
     },
     "metadata": {
      "needs_background": "light"
     },
     "output_type": "display_data"
    }
   ],
   "source": [
    "plt.hist(f.galcat['photoz_mean'], bins=100)"
   ]
  },
  {
   "cell_type": "code",
   "execution_count": 7,
   "id": "97e23683-1c28-4313-a362-388f12d9f47f",
   "metadata": {},
   "outputs": [
    {
     "ename": "KeyError",
     "evalue": "'sigmac_bpz'",
     "output_type": "error",
     "traceback": [
      "\u001b[0;31m---------------------------------------------------------------------------\u001b[0m",
      "\u001b[0;31mKeyError\u001b[0m                                  Traceback (most recent call last)",
      "\u001b[0;32m<ipython-input-7-a689a05cfc9a>\u001b[0m in \u001b[0;36m<module>\u001b[0;34m\u001b[0m\n\u001b[0;32m----> 1\u001b[0;31m \u001b[0mplt\u001b[0m\u001b[0;34m.\u001b[0m\u001b[0mscatter\u001b[0m\u001b[0;34m(\u001b[0m\u001b[0mf\u001b[0m\u001b[0;34m.\u001b[0m\u001b[0mgalcat\u001b[0m\u001b[0;34m[\u001b[0m\u001b[0;34m'photoz_mean'\u001b[0m\u001b[0;34m]\u001b[0m\u001b[0;34m,\u001b[0m \u001b[0;36m1\u001b[0m\u001b[0;34m/\u001b[0m\u001b[0;34m(\u001b[0m\u001b[0mf\u001b[0m\u001b[0;34m.\u001b[0m\u001b[0mgalcat\u001b[0m\u001b[0;34m[\u001b[0m\u001b[0;34m'sigmac_BPZ'\u001b[0m\u001b[0;34m]\u001b[0m\u001b[0;34m**\u001b[0m\u001b[0;36m2\u001b[0m\u001b[0;34m)\u001b[0m\u001b[0;34m,\u001b[0m \u001b[0mlabel\u001b[0m \u001b[0;34m=\u001b[0m \u001b[0;34m'brut force'\u001b[0m\u001b[0;34m)\u001b[0m\u001b[0;34m\u001b[0m\u001b[0;34m\u001b[0m\u001b[0m\n\u001b[0m\u001b[1;32m      2\u001b[0m \u001b[0mplt\u001b[0m\u001b[0;34m.\u001b[0m\u001b[0mscatter\u001b[0m\u001b[0;34m(\u001b[0m\u001b[0mf\u001b[0m\u001b[0;34m.\u001b[0m\u001b[0mgalcat\u001b[0m\u001b[0;34m[\u001b[0m\u001b[0;34m'photoz_mean'\u001b[0m\u001b[0;34m]\u001b[0m\u001b[0;34m,\u001b[0m \u001b[0;36m1\u001b[0m\u001b[0;34m/\u001b[0m\u001b[0;34m(\u001b[0m\u001b[0mf\u001b[0m\u001b[0;34m.\u001b[0m\u001b[0mgalcat\u001b[0m\u001b[0;34m[\u001b[0m\u001b[0;34m'sigmac_BPZ_CLMM'\u001b[0m\u001b[0;34m]\u001b[0m\u001b[0;34m**\u001b[0m\u001b[0;36m2\u001b[0m\u001b[0;34m)\u001b[0m\u001b[0;34m,\u001b[0m \u001b[0mlabel\u001b[0m \u001b[0;34m=\u001b[0m \u001b[0;34m'CLMM'\u001b[0m\u001b[0;34m)\u001b[0m\u001b[0;34m\u001b[0m\u001b[0;34m\u001b[0m\u001b[0m\n\u001b[1;32m      3\u001b[0m \u001b[0;31m#plt.scatter(f.galcat['photoz_mean'], 1/f.galcat['sigmac_BPZ']**2)\u001b[0m\u001b[0;34m\u001b[0m\u001b[0;34m\u001b[0m\u001b[0;34m\u001b[0m\u001b[0m\n\u001b[1;32m      4\u001b[0m \u001b[0;31m#plt.scatter(f.galcat['photoz_mean'], 1./cosmo.eval_sigma_crit(f.z,np.array(f.galcat['photoz_mean'])))\u001b[0m\u001b[0;34m\u001b[0m\u001b[0;34m\u001b[0m\u001b[0;34m\u001b[0m\u001b[0m\n\u001b[1;32m      5\u001b[0m \u001b[0mplt\u001b[0m\u001b[0;34m.\u001b[0m\u001b[0mlegend\u001b[0m\u001b[0;34m(\u001b[0m\u001b[0;34m)\u001b[0m\u001b[0;34m\u001b[0m\u001b[0;34m\u001b[0m\u001b[0m\n",
      "\u001b[0;32m~/.conda/envs/mydesc/lib/python3.7/site-packages/clmm-1.1.9-py3.7.egg/clmm/gcdata.py\u001b[0m in \u001b[0;36m__getitem__\u001b[0;34m(self, item)\u001b[0m\n\u001b[1;32m    116\u001b[0m             \u001b[0mname_dict\u001b[0m \u001b[0;34m=\u001b[0m \u001b[0;34m{\u001b[0m\u001b[0mn\u001b[0m\u001b[0;34m.\u001b[0m\u001b[0mlower\u001b[0m\u001b[0;34m(\u001b[0m\u001b[0;34m)\u001b[0m\u001b[0;34m:\u001b[0m\u001b[0mn\u001b[0m \u001b[0;32mfor\u001b[0m \u001b[0mn\u001b[0m \u001b[0;32min\u001b[0m \u001b[0mself\u001b[0m\u001b[0;34m.\u001b[0m\u001b[0mcolnames\u001b[0m\u001b[0;34m}\u001b[0m\u001b[0;34m\u001b[0m\u001b[0;34m\u001b[0m\u001b[0m\n\u001b[1;32m    117\u001b[0m             \u001b[0mitem\u001b[0m \u001b[0;34m=\u001b[0m \u001b[0mitem\u001b[0m\u001b[0;34m.\u001b[0m\u001b[0mlower\u001b[0m\u001b[0;34m(\u001b[0m\u001b[0;34m)\u001b[0m\u001b[0;34m\u001b[0m\u001b[0;34m\u001b[0m\u001b[0m\n\u001b[0;32m--> 118\u001b[0;31m             \u001b[0mitem\u001b[0m \u001b[0;34m=\u001b[0m \u001b[0;34m','\u001b[0m\u001b[0;34m.\u001b[0m\u001b[0mjoin\u001b[0m\u001b[0;34m(\u001b[0m\u001b[0;34m[\u001b[0m\u001b[0mname_dict\u001b[0m\u001b[0;34m[\u001b[0m\u001b[0mi\u001b[0m\u001b[0;34m]\u001b[0m \u001b[0;32mfor\u001b[0m \u001b[0mi\u001b[0m \u001b[0;32min\u001b[0m \u001b[0mitem\u001b[0m\u001b[0;34m.\u001b[0m\u001b[0msplit\u001b[0m\u001b[0;34m(\u001b[0m\u001b[0;34m','\u001b[0m\u001b[0;34m)\u001b[0m\u001b[0;34m]\u001b[0m\u001b[0;34m)\u001b[0m\u001b[0;34m\u001b[0m\u001b[0;34m\u001b[0m\u001b[0m\n\u001b[0m\u001b[1;32m    119\u001b[0m         \u001b[0mout\u001b[0m \u001b[0;34m=\u001b[0m \u001b[0mAPtable\u001b[0m\u001b[0;34m.\u001b[0m\u001b[0m__getitem__\u001b[0m\u001b[0;34m(\u001b[0m\u001b[0mself\u001b[0m\u001b[0;34m,\u001b[0m \u001b[0mitem\u001b[0m\u001b[0;34m)\u001b[0m\u001b[0;34m\u001b[0m\u001b[0;34m\u001b[0m\u001b[0m\n\u001b[1;32m    120\u001b[0m         \u001b[0;32mreturn\u001b[0m \u001b[0mout\u001b[0m\u001b[0;34m\u001b[0m\u001b[0;34m\u001b[0m\u001b[0m\n",
      "\u001b[0;32m~/.conda/envs/mydesc/lib/python3.7/site-packages/clmm-1.1.9-py3.7.egg/clmm/gcdata.py\u001b[0m in \u001b[0;36m<listcomp>\u001b[0;34m(.0)\u001b[0m\n\u001b[1;32m    116\u001b[0m             \u001b[0mname_dict\u001b[0m \u001b[0;34m=\u001b[0m \u001b[0;34m{\u001b[0m\u001b[0mn\u001b[0m\u001b[0;34m.\u001b[0m\u001b[0mlower\u001b[0m\u001b[0;34m(\u001b[0m\u001b[0;34m)\u001b[0m\u001b[0;34m:\u001b[0m\u001b[0mn\u001b[0m \u001b[0;32mfor\u001b[0m \u001b[0mn\u001b[0m \u001b[0;32min\u001b[0m \u001b[0mself\u001b[0m\u001b[0;34m.\u001b[0m\u001b[0mcolnames\u001b[0m\u001b[0;34m}\u001b[0m\u001b[0;34m\u001b[0m\u001b[0;34m\u001b[0m\u001b[0m\n\u001b[1;32m    117\u001b[0m             \u001b[0mitem\u001b[0m \u001b[0;34m=\u001b[0m \u001b[0mitem\u001b[0m\u001b[0;34m.\u001b[0m\u001b[0mlower\u001b[0m\u001b[0;34m(\u001b[0m\u001b[0;34m)\u001b[0m\u001b[0;34m\u001b[0m\u001b[0;34m\u001b[0m\u001b[0m\n\u001b[0;32m--> 118\u001b[0;31m             \u001b[0mitem\u001b[0m \u001b[0;34m=\u001b[0m \u001b[0;34m','\u001b[0m\u001b[0;34m.\u001b[0m\u001b[0mjoin\u001b[0m\u001b[0;34m(\u001b[0m\u001b[0;34m[\u001b[0m\u001b[0mname_dict\u001b[0m\u001b[0;34m[\u001b[0m\u001b[0mi\u001b[0m\u001b[0;34m]\u001b[0m \u001b[0;32mfor\u001b[0m \u001b[0mi\u001b[0m \u001b[0;32min\u001b[0m \u001b[0mitem\u001b[0m\u001b[0;34m.\u001b[0m\u001b[0msplit\u001b[0m\u001b[0;34m(\u001b[0m\u001b[0;34m','\u001b[0m\u001b[0;34m)\u001b[0m\u001b[0;34m]\u001b[0m\u001b[0;34m)\u001b[0m\u001b[0;34m\u001b[0m\u001b[0;34m\u001b[0m\u001b[0m\n\u001b[0m\u001b[1;32m    119\u001b[0m         \u001b[0mout\u001b[0m \u001b[0;34m=\u001b[0m \u001b[0mAPtable\u001b[0m\u001b[0;34m.\u001b[0m\u001b[0m__getitem__\u001b[0m\u001b[0;34m(\u001b[0m\u001b[0mself\u001b[0m\u001b[0;34m,\u001b[0m \u001b[0mitem\u001b[0m\u001b[0;34m)\u001b[0m\u001b[0;34m\u001b[0m\u001b[0;34m\u001b[0m\u001b[0m\n\u001b[1;32m    120\u001b[0m         \u001b[0;32mreturn\u001b[0m \u001b[0mout\u001b[0m\u001b[0;34m\u001b[0m\u001b[0;34m\u001b[0m\u001b[0m\n",
      "\u001b[0;31mKeyError\u001b[0m: 'sigmac_bpz'"
     ]
    }
   ],
   "source": [
    "\n",
    "plt.scatter(f.galcat['photoz_mean'], 1/(f.galcat['sigmac_BPZ']**2), label = 'brut force')\n",
    "plt.scatter(f.galcat['photoz_mean'], 1/(f.galcat['sigmac_BPZ_CLMM']**2), label = 'CLMM')\n",
    "#plt.scatter(f.galcat['photoz_mean'], 1/f.galcat['sigmac_BPZ']**2)\n",
    "#plt.scatter(f.galcat['photoz_mean'], 1./cosmo.eval_sigma_crit(f.z,np.array(f.galcat['photoz_mean'])))\n",
    "plt.legend()\n",
    "plt.yscale('log')\n",
    "plt.xlabel('z', fontsize=20)\n",
    "plt.ylabel(r'$\\Sigma_c ^{-2}$', fontsize=20)"
   ]
  },
  {
   "cell_type": "code",
   "execution_count": null,
   "id": "eeae4212-ff1e-45f2-9492-f6d3bff8fdc2",
   "metadata": {},
   "outputs": [],
   "source": [
    "w= (1./cosmo.eval_sigma_crit(f.z,np.array(f.galcat['photoz_mean'])**2))"
   ]
  },
  {
   "cell_type": "code",
   "execution_count": null,
   "id": "54882109-1452-4fcc-8694-f186e212b0ac",
   "metadata": {},
   "outputs": [],
   "source": [
    "plt.hist(w)"
   ]
  },
  {
   "cell_type": "code",
   "execution_count": null,
   "id": "c5500360-3ec8-4f13-8337-429fbf17e87c",
   "metadata": {},
   "outputs": [],
   "source": [
    "f.galcat['photoz_mean']"
   ]
  },
  {
   "cell_type": "code",
   "execution_count": null,
   "id": "248f2380-00d0-4ea8-a310-d8fffc87dd39",
   "metadata": {},
   "outputs": [],
   "source": []
  }
 ],
 "metadata": {
  "kernelspec": {
   "display_name": "mydesc",
   "language": "python",
   "name": "mydesc"
  },
  "language_info": {
   "codemirror_mode": {
    "name": "ipython",
    "version": 3
   },
   "file_extension": ".py",
   "mimetype": "text/x-python",
   "name": "python",
   "nbconvert_exporter": "python",
   "pygments_lexer": "ipython3",
   "version": "3.7.6"
  }
 },
 "nbformat": 4,
 "nbformat_minor": 5
}
