{
 "cells": [
  {
   "cell_type": "code",
   "execution_count": 9,
   "id": "retired-squad",
   "metadata": {},
   "outputs": [
    {
     "name": "stdout",
     "output_type": "stream",
     "text": [
      "The autoreload extension is already loaded. To reload it, use:\n",
      "  %reload_ext autoreload\n"
     ]
    }
   ],
   "source": [
    "%load_ext autoreload\n",
    "%autoreload 2\n",
    "\n",
    "import GCRCatalogs\n",
    "import matplotlib.pyplot as plt\n",
    "import pickle\n",
    "import sys\n",
    "import glob\n",
    "import numpy as np\n",
    "from astropy.cosmology import FlatLambdaCDM\n",
    "import astropy.units as u\n",
    "import sys\n",
    "import photoz_utils as utils\n",
    "from astropy.table import Table\n",
    "def load(filename, **kwargs):\n",
    "    \"\"\"Loads GalaxyCluster object to filename using Pickle\"\"\"\n",
    "    with open(filename, 'rb') as fin:\n",
    "        return pickle.load(fin, **kwargs)\n",
    "    from clmm.dataops import compute_galaxy_weights\n",
    "from clmm import Cosmology\n",
    "from scipy.integrate import simps\n",
    "cosmo = Cosmology(H0 = 71.0, Omega_dm0 = 0.265 - 0.0448, Omega_b0 = 0.0448, Omega_k0 = 0.0)"
   ]
  },
  {
   "cell_type": "code",
   "execution_count": 10,
   "id": "4a85ea3c-bc05-4a5e-a778-1bc789a8a925",
   "metadata": {},
   "outputs": [],
   "source": [
    "sys.path.append('/pbs/throng/lsst/users/cpayerne/LikelihoodsClusterAbundance/modules/')\n",
    "import edit"
   ]
  },
  {
   "cell_type": "code",
   "execution_count": 11,
   "id": "d97216cd-09fb-4979-a61c-c67d317a4009",
   "metadata": {},
   "outputs": [],
   "source": [
    "file = glob.glob('/sps/lsst/users/cpayerne/CLMassDC2/cosmoDC2/redmapper_clusters/test_*')"
   ]
  },
  {
   "cell_type": "code",
   "execution_count": 12,
   "id": "4ba70c23-c14d-40c0-926c-096abaad60cc",
   "metadata": {},
   "outputs": [],
   "source": [
    "f=edit.load_pickle(file[0])"
   ]
  },
  {
   "cell_type": "code",
   "execution_count": 14,
   "id": "2a0acb82-8209-4540-958b-9136da1fa0c4",
   "metadata": {},
   "outputs": [],
   "source": [
    "pzbins = f.galcat['photoz_zbins_bpz']\n",
    "pdf = np.array(f.galcat['photoz_pdf_bpz'])"
   ]
  },
  {
   "cell_type": "code",
   "execution_count": 32,
   "id": "38eff57f-506f-4dfc-be27-a6514a8396c9",
   "metadata": {},
   "outputs": [],
   "source": [
    "z_array = pzbins[0]\n",
    "pdf_test = pdf[104]"
   ]
  },
  {
   "cell_type": "code",
   "execution_count": 33,
   "id": "9cf1e253-85e6-46ea-8b1a-00256e87ceaa",
   "metadata": {},
   "outputs": [],
   "source": [
    "cdf = utils.cdf_from_pdf(pdf_test, z_array)\n",
    "cdf_1 = utils.inverse_cdf_fct(cdf, z_array)"
   ]
  },
  {
   "cell_type": "code",
   "execution_count": 34,
   "id": "21cf57cf-a38b-4dc6-b32e-6a68fa0137eb",
   "metadata": {},
   "outputs": [],
   "source": [
    "z_sample = utils.draw_z_from_inverse_cdf(cdf_1, 2000)"
   ]
  },
  {
   "cell_type": "code",
   "execution_count": 35,
   "id": "1830eb76-451f-480c-9d8c-3197e4e09619",
   "metadata": {},
   "outputs": [
    {
     "data": {
      "text/plain": [
       "[<matplotlib.lines.Line2D at 0x7fa4a3632090>]"
      ]
     },
     "execution_count": 35,
     "metadata": {},
     "output_type": "execute_result"
    },
    {
     "data": {
      "image/png": "[encoded data removed]",
      "text/plain": [
       "<Figure size 432x288 with 1 Axes>"
      ]
     },
     "metadata": {
      "needs_background": "light"
     },
     "output_type": "display_data"
    }
   ],
   "source": [
    "plt.plot(z_array, pdf_test/max(pdf_test))\n",
    "hist, bin_edges = np.histogram(z_sample, bins=z_array,density=True)\n",
    "bin=[(bin_edges[i] + bin_edges[i+1])/2 for i in range(len(bin_edges)-1)]\n",
    "plt.plot(bin, hist/max(hist))"
   ]
  },
  {
   "cell_type": "code",
   "execution_count": 36,
   "id": "3c3c1e99-2a39-4cac-aa10-124180dcabb5",
   "metadata": {},
   "outputs": [
    {
     "name": "stderr",
     "output_type": "stream",
     "text": [
      "/pbs/throng/lsst/users/cpayerne/CLMassDC2/data/data_extraction/photoz_utils.py:122: RuntimeWarning: divide by zero encountered in reciprocal\n",
      "  return simps(sigmacrit_1_integrand, pzbins[0,:], axis=1)**(-1.)\n"
     ]
    }
   ],
   "source": [
    "data = utils.compute_photoz_quantities(f.z, f.galcat['photoz_pdf_bpz'], f.galcat['photoz_zbins_bpz'],\n",
    "                                       n_samples_per_pdf=3, cosmo=cosmo, use_clmm=False)"
   ]
  },
  {
   "cell_type": "code",
   "execution_count": 39,
   "id": "57ce2490-ca73-43c9-b3d0-6fc0d5cc0564",
   "metadata": {},
   "outputs": [
    {
     "data": {
      "text/plain": [
       "[<matplotlib.lines.Line2D at 0x7fa496851ad0>]"
      ]
     },
     "execution_count": 39,
     "metadata": {},
     "output_type": "execute_result"
    },
    {
     "data": {
      "image/png": "[encoded data removed]",
      "text/plain": [
       "<Figure size 432x288 with 1 Axes>"
      ]
     },
     "metadata": {
      "needs_background": "light"
     },
     "output_type": "display_data"
    }
   ],
   "source": [
    "x = np.linspace(0, 3, 10)\n",
    "plt.scatter(np.array(f.galcat['photoz_mean_bpz']), data['z_estimate_2'])\n",
    "#plt.scatter(np.array(f.galcat['photoz_mean_bpz']), z_sample_bpz)\n",
    "plt.plot(x,x)"
   ]
  },
  {
   "cell_type": "code",
   "execution_count": 42,
   "id": "6b97510c-a3b6-4af1-a24e-076c98dfc9df",
   "metadata": {},
   "outputs": [
    {
     "data": {
      "text/plain": [
       "[]"
      ]
     },
     "execution_count": 42,
     "metadata": {},
     "output_type": "execute_result"
    },
    {
     "data": {
      "image/png": "[encoded data removed]",
      "text/plain": [
       "<Figure size 432x288 with 1 Axes>"
      ]
     },
     "metadata": {
      "needs_background": "light"
     },
     "output_type": "display_data"
    }
   ],
   "source": [
    "plt.scatter( data['sigma_c_photoz'], data['sigma_c_photoz_estimate_1'])\n",
    "#plt.scatter(np.array(f.galcat['photoz_mean_bpz']), z_sample_bpz)\n",
    "plt.plot( data['sigma_c_photoz'], data['sigma_c_photoz'])\n",
    "plt.loglog()"
   ]
  },
  {
   "cell_type": "code",
   "execution_count": null,
   "id": "5feba192-b638-46c6-a888-7a4f8f53fd1c",
   "metadata": {},
   "outputs": [],
   "source": []
  }
 ],
 "metadata": {
  "kernelspec": {
   "display_name": "mydesc",
   "language": "python",
   "name": "mydesc"
  },
  "language_info": {
   "codemirror_mode": {
    "name": "ipython",
    "version": 3
   },
   "file_extension": ".py",
   "mimetype": "text/x-python",
   "name": "python",
   "nbconvert_exporter": "python",
   "pygments_lexer": "ipython3",
   "version": "3.7.6"
  }
 },
 "nbformat": 4,
 "nbformat_minor": 5
}
