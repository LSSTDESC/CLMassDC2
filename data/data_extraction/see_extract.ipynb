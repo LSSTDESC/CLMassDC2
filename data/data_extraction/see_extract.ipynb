{
 "cells": [
  {
   "cell_type": "code",
   "execution_count": 410,
   "id": "retired-squad",
   "metadata": {},
   "outputs": [
    {
     "name": "stdout",
     "output_type": "stream",
     "text": [
      "The autoreload extension is already loaded. To reload it, use:\n",
      "  %reload_ext autoreload\n"
     ]
    }
   ],
   "source": [
    "%load_ext autoreload\n",
    "%autoreload 2\n",
    "import os\n",
    "import GCRCatalogs\n",
    "import time\n",
    "import matplotlib.pyplot as plt\n",
    "import pickle\n",
    "import sys\n",
    "import clmm\n",
    "import clmm.dataops as da\n",
    "import glob\n",
    "import numpy as np\n",
    "from astropy.cosmology import FlatLambdaCDM\n",
    "import astropy.units as u\n",
    "import sys\n",
    "import photoz_utils as utils\n",
    "import see_cl as see\n",
    "from astropy.table import Table\n",
    "def load(filename, **kwargs):\n",
    "    \"\"\"Loads GalaxyCluster object to filename using Pickle\"\"\"\n",
    "    with open(filename, 'rb') as fin:\n",
    "        return pickle.load(fin, **kwargs)\n",
    "    from clmm.dataops import compute_galaxy_weights\n",
    "from clmm import Cosmology\n",
    "from scipy.integrate import simps\n",
    "cosmo = Cosmology(H0 = 71.0, Omega_dm0 = 0.265 - 0.0448, Omega_b0 = 0.0448, Omega_k0 = 0.0)"
   ]
  },
  {
   "cell_type": "code",
   "execution_count": null,
   "id": "32e51e5c-287b-473a-87d9-83cb225e131d",
   "metadata": {},
   "outputs": [],
   "source": [
    "cosmo.eval_sigma_crit"
   ]
  },
  {
   "cell_type": "code",
   "execution_count": 417,
   "id": "3b25b492-633a-45c3-963d-742e7294235e",
   "metadata": {},
   "outputs": [],
   "source": [
    "def delete_file(list_filename):\n",
    "     for f in list_filename:\n",
    "        os.remove(f)"
   ]
  },
  {
   "cell_type": "code",
   "execution_count": 418,
   "id": "4a85ea3c-bc05-4a5e-a778-1bc789a8a925",
   "metadata": {},
   "outputs": [],
   "source": [
    "sys.path.append('/pbs/throng/lsst/users/cpayerne/LikelihoodsClusterAbundance/modules/')\n",
    "import edit"
   ]
  },
  {
   "cell_type": "code",
   "execution_count": 442,
   "id": "d97216cd-09fb-4979-a61c-c67d317a4009",
   "metadata": {},
   "outputs": [],
   "source": [
    "file = glob.glob('/sps/lsst/users/cpayerne/CLMassDC2/cosmoDC2/redmapper_clusters/l*')\n",
    "#file = glob.glob('./job/lensing*')\n",
    "lens_cat = edit.load_pickle('/pbs/throng/lsst/users/cpayerne/CLMassDC2/data/lens_catalog_cosmoDC2_v1.1.4_redmapper_v0.8.1.pkl')"
   ]
  },
  {
   "cell_type": "code",
   "execution_count": 443,
   "id": "e8dd5c35-bf53-4878-8594-80c7dd5a41f1",
   "metadata": {},
   "outputs": [],
   "source": [
    "#file "
   ]
  },
  {
   "cell_type": "code",
   "execution_count": 444,
   "id": "aa501059-e64d-46e9-b4d8-51123fae95e0",
   "metadata": {},
   "outputs": [
    {
     "data": {
      "text/plain": [
       "5856"
      ]
     },
     "execution_count": 444,
     "metadata": {},
     "output_type": "execute_result"
    }
   ],
   "source": [
    "len(file)"
   ]
  },
  {
   "cell_type": "code",
   "execution_count": 445,
   "id": "3f954ed8-48ee-48a9-b98a-4f60bbb6d50e",
   "metadata": {},
   "outputs": [
    {
     "data": {
      "text/plain": [
       "5856"
      ]
     },
     "execution_count": 445,
     "metadata": {},
     "output_type": "execute_result"
    }
   ],
   "source": [
    "len(file)"
   ]
  },
  {
   "cell_type": "code",
   "execution_count": 446,
   "id": "de52c29b-d6d0-49da-979a-b296ca01aa41",
   "metadata": {},
   "outputs": [
    {
     "data": {
      "text/plain": [
       "'/sps/lsst/users/cpayerne/CLMassDC2/cosmoDC2/redmapper_clusters/lensing_catalog_halo_4835.pkl'"
      ]
     },
     "execution_count": 446,
     "metadata": {},
     "output_type": "execute_result"
    }
   ],
   "source": [
    "file[0]"
   ]
  },
  {
   "cell_type": "code",
   "execution_count": 447,
   "id": "2d9a60e3-6acb-4c8d-8a21-076627c24e20",
   "metadata": {},
   "outputs": [],
   "source": [
    "cluster_id_saved = []\n",
    "for f in file:\n",
    "   # cluster_id_saved.append(int(f.split('.pkl')[0].split('halo_')[1]))\n",
    "    cluster_id_saved.append(f.split('halo_')[1])"
   ]
  },
  {
   "cell_type": "code",
   "execution_count": 448,
   "id": "b4a23012-4b4a-4300-890c-0f45c830a194",
   "metadata": {},
   "outputs": [
    {
     "data": {
      "text/plain": [
       "5856"
      ]
     },
     "execution_count": 448,
     "metadata": {},
     "output_type": "execute_result"
    }
   ],
   "source": [
    "len(cluster_id_saved)"
   ]
  },
  {
   "cell_type": "markdown",
   "id": "c51ca726-d975-46ce-a627-14bd097a8a04",
   "metadata": {},
   "source": [
    "# Check extraction"
   ]
  },
  {
   "cell_type": "code",
   "execution_count": 449,
   "id": "eccf3a16-7af8-4014-bc72-7c18a6dcb743",
   "metadata": {},
   "outputs": [],
   "source": [
    "lens_cat = edit.load_pickle('/pbs/throng/lsst/users/cpayerne/CLMassDC2/data/lens_catalog_cosmoDC2_v1.1.4_redmapper_v0.8.1.pkl')"
   ]
  },
  {
   "cell_type": "code",
   "execution_count": 450,
   "id": "419f73b4-b15d-446d-ad93-803d596f9f8a",
   "metadata": {},
   "outputs": [],
   "source": [
    "index = 10#int(np.random.random()*4000)\n",
    "cltest = edit.load_pickle(file[index])\n",
    "cluster_id = int(file[index].split('.pkl')[0].split('halo_')[1])\n",
    "lens = lens_cat[lens_cat['cluster_id'] == cluster_id][0]\n",
    "ra, dec, z = lens['ra'], lens['dec'], lens['redshift']"
   ]
  },
  {
   "cell_type": "code",
   "execution_count": 451,
   "id": "4125c3a0-3c1e-4dc0-84e1-dbc7b4be5b73",
   "metadata": {},
   "outputs": [
    {
     "name": "stdout",
     "output_type": "stream",
     "text": [
      "['ra', 'dec', 'z', 'galaxy_id', 'mag_i', 'mag_r', 'mag_y', 'shear1', 'shear2', 'kappa', 'e1_true', 'e2_true', 'g1', 'g2', 'e1', 'e2', 'sigma_c_photoz_bpz', 'p_background_bpz', 'photoz_err_bpz', 'sigma_c_photoz_estimate_0_bpz', 'sigma_c_photoz_estimate_1_bpz', 'sigma_c_photoz_estimate_2_bpz', 'z_estimate_0_bpz', 'z_estimate_1_bpz', 'z_estimate_2_bpz', 'photoz_mean_bpz', 'photoz_mode_bpz', 'photoz_odds_bpz', 'sigma_c_photoz_flex', 'p_background_flex', 'photoz_err_flex', 'sigma_c_photoz_estimate_0_flex', 'sigma_c_photoz_estimate_1_flex', 'sigma_c_photoz_estimate_2_flex', 'z_estimate_0_flex', 'z_estimate_1_flex', 'z_estimate_2_flex', 'photoz_mean_flex', 'photoz_mode_flex', 'photoz_odds_flex']\n",
      "cluster: ra, dec = 52.71937563448216,-44.73281158996169\n",
      "cluster: z = 0.6591492\n",
      "----\n",
      "galaxies: maximum distance = 10.099452255217733\n",
      "galaxies: minimum redshift = 0.7091509313429429\n",
      "galaxies: minimum ra, maximum ra = 52.15400501367141,53.28494660589296\n",
      "galaxies: minimum dec, maximum dec = -45.13433121848375,-44.33073769079047\n"
     ]
    }
   ],
   "source": [
    "#cltest['e1'] = cltest[ 'e1_HSM']\n",
    "#cltest['e2'] = cltest[ 'e2_HSM']\n",
    "#cltest['z'] = cltest['photoz_mean']\n",
    "see.check(cltest, ra, dec, z, cosmo)"
   ]
  },
  {
   "cell_type": "code",
   "execution_count": 429,
   "id": "e58de858-d821-44e7-b629-0149536c70aa",
   "metadata": {},
   "outputs": [
    {
     "data": {
      "text/plain": [
       "105028"
      ]
     },
     "execution_count": 429,
     "metadata": {},
     "output_type": "execute_result"
    }
   ],
   "source": [
    "len(cltest)"
   ]
  },
  {
   "cell_type": "code",
   "execution_count": 430,
   "id": "b8ff03aa-7353-4890-9ff4-6e1154be9636",
   "metadata": {},
   "outputs": [
    {
     "data": {
      "text/plain": [
       "(array([3.0000e+00, 4.9000e+01, 3.2400e+02, 9.0300e+02, 2.3230e+03,\n",
       "        5.2780e+03, 9.9640e+03, 1.6941e+04, 3.0359e+04, 3.8884e+04]),\n",
       " array([17.15324847, 17.93789524, 18.722542  , 19.50718877, 20.29183553,\n",
       "        21.0764823 , 21.86112906, 22.64577583, 23.43042259, 24.21506936,\n",
       "        24.99971612]),\n",
       " <a list of 10 Patch objects>)"
      ]
     },
     "execution_count": 430,
     "metadata": {},
     "output_type": "execute_result"
    },
    {
     "data": {
      "image/png": "[encoded data removed]",
      "text/plain": [
       "<Figure size 432x288 with 1 Axes>"
      ]
     },
     "metadata": {
      "needs_background": "light"
     },
     "output_type": "display_data"
    }
   ],
   "source": [
    "plt.hist(cltest['mag_i_cModel'])"
   ]
  },
  {
   "cell_type": "code",
   "execution_count": 431,
   "id": "5dd0a16b-4e36-4f76-898b-32737c2a150f",
   "metadata": {},
   "outputs": [
    {
     "data": {
      "text/plain": [
       "<matplotlib.collections.PathCollection at 0x7fc31ee6df50>"
      ]
     },
     "execution_count": 431,
     "metadata": {},
     "output_type": "execute_result"
    },
    {
     "data": {
      "image/png": "[encoded data removed]",
      "text/plain": [
       "<Figure size 432x288 with 1 Axes>"
      ]
     },
     "metadata": {
      "needs_background": "light"
     },
     "output_type": "display_data"
    }
   ],
   "source": [
    "plt.scatter(cltest['ra'], cltest['dec'])"
   ]
  },
  {
   "cell_type": "code",
   "execution_count": 432,
   "id": "04aa70a0-b562-45e4-83d8-7d32540daf88",
   "metadata": {},
   "outputs": [
    {
     "data": {
      "text/plain": [
       "<matplotlib.collections.PathCollection at 0x7fc31e967e90>"
      ]
     },
     "execution_count": 432,
     "metadata": {},
     "output_type": "execute_result"
    },
    {
     "data": {
      "image/png": "[encoded data removed]",
      "text/plain": [
       "<Figure size 432x288 with 1 Axes>"
      ]
     },
     "metadata": {
      "needs_background": "light"
     },
     "output_type": "display_data"
    }
   ],
   "source": [
    "plt.scatter(cltest['photoz_mean'], 1/cltest['sigma_c_photoz']**2)\n",
    "#plt.scatter(cltest['z'], 1/cltest['sigma_c_photoz_flex']**2)\n",
    "plt.scatter(cltest['z'], 1/cosmo.eval_sigma_crit(z, cltest['z'])**2)"
   ]
  },
  {
   "cell_type": "markdown",
   "id": "c8141785-6bdd-4c88-b523-d60595580e15",
   "metadata": {},
   "source": [
    "# Check missing extraction"
   ]
  },
  {
   "cell_type": "code",
   "execution_count": 433,
   "id": "95344d67-a5ae-4138-b2b7-ab097a8a28bb",
   "metadata": {},
   "outputs": [
    {
     "name": "stdout",
     "output_type": "stream",
     "text": [
      "4240\n"
     ]
    }
   ],
   "source": [
    "lens_cat_to_extract = lens_cat[(lens_cat['richness'] > 20)*(lens_cat['redshift'] > .2)]\n",
    "print(len(lens_cat_to_extract))"
   ]
  },
  {
   "cell_type": "code",
   "execution_count": 434,
   "id": "0462e665-d90b-433e-9ba3-0f2517a3af26",
   "metadata": {},
   "outputs": [],
   "source": [
    "mask = np.isin(lens_cat_to_extract['cluster_id'], cluster_id_saved)"
   ]
  },
  {
   "cell_type": "code",
   "execution_count": 435,
   "id": "66e924b9-31ad-433c-bb47-2399bc2597e7",
   "metadata": {},
   "outputs": [
    {
     "name": "stdout",
     "output_type": "stream",
     "text": [
      "1475\n"
     ]
    }
   ],
   "source": [
    "lens_cat_miss = lens_cat_to_extract[np.invert(mask)]\n",
    "print(len(lens_cat_miss))"
   ]
  },
  {
   "cell_type": "code",
   "execution_count": 438,
   "id": "105bdf83-7afb-484a-b41f-bf5033237601",
   "metadata": {},
   "outputs": [],
   "source": [
    "index = np.arange(len(lens_cat_to_extract['ra']))"
   ]
  },
  {
   "cell_type": "code",
   "execution_count": 440,
   "id": "a3b87db9-43a3-4ded-b534-08a795246845",
   "metadata": {},
   "outputs": [],
   "source": [
    "index_mask = index[np.invert(mask)]"
   ]
  },
  {
   "cell_type": "code",
   "execution_count": 441,
   "id": "f2bf37a4-22e9-4035-be4e-a0149ef538ee",
   "metadata": {},
   "outputs": [
    {
     "data": {
      "text/plain": [
       "array([   0,    2,    3, ..., 4237, 4238, 4239])"
      ]
     },
     "execution_count": 441,
     "metadata": {},
     "output_type": "execute_result"
    }
   ],
   "source": [
    "index_mask "
   ]
  },
  {
   "cell_type": "code",
   "execution_count": 409,
   "id": "f44451b2-3c3c-4f29-b148-a2fb97244848",
   "metadata": {},
   "outputs": [
    {
     "data": {
      "image/png": "[encoded data removed]",
      "text/plain": [
       "<Figure size 432x288 with 1 Axes>"
      ]
     },
     "metadata": {
      "needs_background": "light"
     },
     "output_type": "display_data"
    }
   ],
   "source": [
    "plt.hist(lens_cat_to_extract[np.invert(mask)]['redshift'], alpha=.4, bins=100)\n",
    "plt.hist(lens_cat_to_extract[mask]['redshift'], alpha=.4, bins=100)\n",
    "plt.show()"
   ]
  },
  {
   "cell_type": "code",
   "execution_count": 211,
   "id": "ae0d2650-2587-443e-b4dd-7a167d97d911",
   "metadata": {},
   "outputs": [],
   "source": [
    "a = [str(i) for i in range(10)]"
   ]
  },
  {
   "cell_type": "code",
   "execution_count": 212,
   "id": "03633ba1-c577-4d07-bc83-b3b4121ed234",
   "metadata": {},
   "outputs": [
    {
     "data": {
      "text/plain": [
       "['0', '1', '2', '3', '4', '5', '6', '7', '8', '9']"
      ]
     },
     "execution_count": 212,
     "metadata": {},
     "output_type": "execute_result"
    }
   ],
   "source": [
    "a"
   ]
  },
  {
   "cell_type": "code",
   "execution_count": 213,
   "id": "5c9e2d4c-f7a5-456c-842d-79a897218643",
   "metadata": {},
   "outputs": [],
   "source": [
    "atosave = a"
   ]
  },
  {
   "cell_type": "code",
   "execution_count": 214,
   "id": "87487f65-015a-46be-9318-dc94e16d2068",
   "metadata": {},
   "outputs": [],
   "source": [
    "atosave.remove('0')"
   ]
  },
  {
   "cell_type": "code",
   "execution_count": 215,
   "id": "ad884c37-b4cf-4832-a74e-ec5479ab3e76",
   "metadata": {},
   "outputs": [
    {
     "data": {
      "text/plain": [
       "['1', '2', '3', '4', '5', '6', '7', '8', '9']"
      ]
     },
     "execution_count": 215,
     "metadata": {},
     "output_type": "execute_result"
    }
   ],
   "source": [
    "atosave\n"
   ]
  },
  {
   "cell_type": "code",
   "execution_count": 216,
   "id": "2083298a-fcdc-491f-ad39-061870b7a820",
   "metadata": {},
   "outputs": [
    {
     "data": {
      "text/plain": [
       "['1', '2', '3', '4', '5', '6', '7', '8', '9']"
      ]
     },
     "execution_count": 216,
     "metadata": {},
     "output_type": "execute_result"
    }
   ],
   "source": [
    "a"
   ]
  },
  {
   "cell_type": "code",
   "execution_count": null,
   "id": "a065f863-ab58-4ca1-88ae-a882edfc1b75",
   "metadata": {},
   "outputs": [],
   "source": []
  }
 ],
 "metadata": {
  "kernelspec": {
   "display_name": "mydesc",
   "language": "python",
   "name": "mydesc"
  },
  "language_info": {
   "codemirror_mode": {
    "name": "ipython",
    "version": 3
   },
   "file_extension": ".py",
   "mimetype": "text/x-python",
   "name": "python",
   "nbconvert_exporter": "python",
   "pygments_lexer": "ipython3",
   "version": "3.7.6"
  }
 },
 "nbformat": 4,
 "nbformat_minor": 5
}
