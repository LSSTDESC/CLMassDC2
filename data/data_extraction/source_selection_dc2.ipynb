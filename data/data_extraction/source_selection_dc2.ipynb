{
 "cells": [
  {
   "cell_type": "code",
   "execution_count": 2,
   "id": "2dd8ac07-7619-4b58-a68d-a7142d20791e",
   "metadata": {},
   "outputs": [],
   "source": [
    "%load_ext autoreload\n",
    "%autoreload 2\n",
    "import numpy as np\n",
    "import cosmodc2 as extract_cosmodc2\n",
    "import lens_data as lens\n",
    "import matplotlib.pyplot as plt\n",
    "import GCRCatalogs\n",
    "import healpy\n",
    "import pickle,sys\n",
    "import mysql\n",
    "sys.path.append('/pbs/throng/lsst/users/cpayerne/ClusterLikelihoods/modules/')\n",
    "from mysql.connector import Error\n",
    "from clmm.dataops import compute_galaxy_weights\n",
    "from clmm import Cosmology\n",
    "from scipy.integrate import simps\n",
    "cosmo = Cosmology(H0 = 71.0, Omega_dm0 = 0.265 - 0.0448, Omega_b0 = 0.0448, Omega_k0 = 0.0)\n",
    "\n",
    "conn = mysql.connector.connect(host='ccqserv201', user='qsmaster', port=30040)\n",
    "cursor = conn.cursor(dictionary=True, buffered=True)"
   ]
  },
  {
   "cell_type": "markdown",
   "id": "c3f2dd4c-a188-4e04-8225-81686152a906",
   "metadata": {},
   "source": [
    "# Lens catalog"
   ]
  },
  {
   "cell_type": "markdown",
   "id": "3f177a20-1e7e-4989-9c08-47b047ea9c03",
   "metadata": {},
   "source": [
    "## Cosmodc2 with qserv & GCRCatalogs"
   ]
  },
  {
   "cell_type": "code",
   "execution_count": 3,
   "id": "d70627d6-41c7-48b3-8f0d-3fa589fe41e5",
   "metadata": {},
   "outputs": [],
   "source": [
    "#z, ra, dec = lens_catalog['redshift'][index], lens_catalog['ra'][index], lens_catalog['dec'][index]\n",
    "z, ra, dec = .2, 65, -40"
   ]
  },
  {
   "cell_type": "markdown",
   "id": "b90d509e-0807-4e05-b3d8-90945d5a5207",
   "metadata": {},
   "source": [
    "### true shapes, true redshifts"
   ]
  },
  {
   "cell_type": "markdown",
   "id": "b0596795-15da-4dca-a01f-a729a35f6a22",
   "metadata": {},
   "source": [
    "# DC2"
   ]
  },
  {
   "cell_type": "code",
   "execution_count": 36,
   "id": "53fe1a30-1da5-4b86-9b65-f153d718cf32",
   "metadata": {},
   "outputs": [
    {
     "name": "stdout",
     "output_type": "stream",
     "text": [
      "The autoreload extension is already loaded. To reload it, use:\n",
      "  %reload_ext autoreload\n"
     ]
    }
   ],
   "source": [
    "%load_ext autoreload\n",
    "%autoreload 2\n",
    "import dc2\n",
    "from GCR import GCRQuery"
   ]
  },
  {
   "cell_type": "code",
   "execution_count": 37,
   "id": "7193a816-b835-4c8e-a60f-89ee94167fba",
   "metadata": {},
   "outputs": [],
   "source": [
    "def load(filename, **kwargs):\n",
    "    \"\"\"Loads GalaxyCluster object to filename using Pickle\"\"\"\n",
    "    with open(filename, 'rb') as fin:\n",
    "        return pickle.load(fin, **kwargs)\n",
    "tract_list = load('/pbs/throng/lsst/users/cpayerne/CLMassDC2/data/data_extraction/tract_dc2dr6_coord.pkl')"
   ]
  },
  {
   "cell_type": "code",
   "execution_count": 38,
   "id": "61f30102-b8b3-4560-8983-d5aaf46d488b",
   "metadata": {},
   "outputs": [],
   "source": [
    "z, ra, dec = 0.1, 65, -40"
   ]
  },
  {
   "cell_type": "code",
   "execution_count": 39,
   "id": "8e3edd0b-d168-4169-8aad-4fe8dc8a42cd",
   "metadata": {},
   "outputs": [],
   "source": [
    "object_cat = GCRCatalogs.load_catalog('dc2_object_run2.2i_dr6_v2_with_addons')"
   ]
  },
  {
   "cell_type": "code",
   "execution_count": 49,
   "id": "ed37a220-8d14-48a5-92b2-19e2ca83fcb4",
   "metadata": {},
   "outputs": [],
   "source": [
    "def filters(zmin):\n",
    "    r\"\"\" redshift + quality filters\"\"\"\n",
    "    resolution_min = 0.2\n",
    "    err_shape_max = 0.4\n",
    "    \n",
    "    object_basic_cuts = [\n",
    "        GCRQuery('extendedness > 0'),     # Extended objects\n",
    "        GCRQuery('clean'), # The source has no flagged pixels (interpolated, saturated, edge, clipped...) \n",
    "        GCRQuery('xy_flag == 0'),                                      # Flag for bad centroid measurement\n",
    "        GCRQuery('ext_shapeHSM_HsmShapeRegauss_flag == 0'),            # Error code returned by shape measurement code\n",
    "        GCRQuery((np.isfinite, 'ext_shapeHSM_HsmShapeRegauss_sigma')),] # Shape measurement uncertainty should not be NaN\n",
    "    object_properties_cuts = [\n",
    "        GCRQuery('snr_i_cModel > 10'),                              # SNR > 10\n",
    "        GCRQuery('mag_i_cModel < 25'),                                 # cModel imag brighter than 24.5\n",
    "        GCRQuery(f'ext_shapeHSM_HsmShapeRegauss_resolution >= {resolution_min}'), # Sufficiently resolved galaxies compared to PSF\n",
    "        GCRQuery(f'ext_shapeHSM_HsmShapeRegauss_sigma <= {err_shape_max}'), \n",
    "        # New cut on blendedness:\n",
    "        GCRQuery('blendedness < 10**(-0.375)'),                      # Avoid spurious detections and those contaminated by blends\n",
    "        GCRQuery(f'photoz_mean > {zmin}'),\n",
    "        #GCRQuery(f'photoz_mean < {zmax}')\n",
    "        ]\n",
    "    return  object_basic_cuts + object_properties_cuts\n",
    "\n",
    "#quantities\n",
    "def quantities():\n",
    "    r\"\"\"quantities wanted\"\"\"\n",
    "    quantity_label = ['id', 'ra', 'dec', 'mag_i_cModel','snr_i_cModel', 'mag_i']\n",
    "    quantity_wanted_HSM_Metacal = ['ext_shapeHSM_HsmShapeRegauss_e2',\n",
    "                           'ext_shapeHSM_HsmShapeRegauss_e1',\n",
    "                           'ext_shapeHSM_HsmShapeRegauss_sigma', \n",
    "                           'ext_shapeHSM_HsmShapeRegauss_resolution',]\n",
    "                         # 'mcal_g1', 'mcal_g2', 'mcal_gauss_g1','mcal_gauss_g1', 'mcal_psf_g1', 'mcal_psf_g2']\n",
    "    quantity_wanted_photozs = ['photoz_mean', 'photoz_pdf','photoz_odds']\n",
    "    return  quantity_label + quantity_wanted_HSM_Metacal + quantity_wanted_photozs"
   ]
  },
  {
   "cell_type": "code",
   "execution_count": 50,
   "id": "db429d3e-e1c4-4b15-9c26-fe1deaeaf5a8",
   "metadata": {},
   "outputs": [],
   "source": [
    "rmax=5"
   ]
  },
  {
   "cell_type": "code",
   "execution_count": 51,
   "id": "cd981afa-9c0f-409c-9c02-37364162b3c9",
   "metadata": {},
   "outputs": [],
   "source": [
    "cl=dc2.extract(lens_redshift=z, lens_ra=ra, lens_dec=dec, rmax=rmax, cosmo=cosmo, \n",
    "               GCRcatalog=object_cat, data_filters=filters(z), quantities=quantities())"
   ]
  },
  {
   "cell_type": "code",
   "execution_count": 52,
   "id": "cde3ee3a-4bb2-47e3-977e-f126fa3b2fb7",
   "metadata": {},
   "outputs": [
    {
     "data": {
      "text/plain": [
       "<matplotlib.collections.PathCollection at 0x7f19f88a60d0>"
      ]
     },
     "execution_count": 52,
     "metadata": {},
     "output_type": "execute_result"
    },
    {
     "data": {
      "image/png": "[encoded data removed]",
      "text/plain": [
       "<Figure size 432x288 with 1 Axes>"
      ]
     },
     "metadata": {
      "needs_background": "light"
     },
     "output_type": "display_data"
    }
   ],
   "source": [
    "plt.scatter(cl.galcat['ra'], cl.galcat['dec'])"
   ]
  },
  {
   "cell_type": "markdown",
   "id": "d8bab89c-e995-47d8-aa32-309162e80a7f",
   "metadata": {},
   "source": [
    "##### "
   ]
  },
  {
   "cell_type": "code",
   "execution_count": 53,
   "id": "7856f6ee-af7b-41bd-b2cf-5f65197e578d",
   "metadata": {},
   "outputs": [],
   "source": [
    "theta_arcmin = 3437.75*(rmax/cosmo.eval_da_z1z2(0, z))"
   ]
  },
  {
   "cell_type": "code",
   "execution_count": 54,
   "id": "2e828710-97f2-4e41-9d46-69507173b7f2",
   "metadata": {},
   "outputs": [],
   "source": [
    "S_arcmin2 =np.pi*theta_arcmin**2"
   ]
  },
  {
   "cell_type": "code",
   "execution_count": 55,
   "id": "9b9c36ca-a3ec-4fe8-b921-503a9e70c869",
   "metadata": {},
   "outputs": [],
   "source": [
    "mag_i_list = np.linspace(24, 28, 10)"
   ]
  },
  {
   "cell_type": "code",
   "execution_count": 56,
   "id": "26091d6a-0ffb-4298-80c0-b069775480e8",
   "metadata": {},
   "outputs": [],
   "source": [
    "snr = np.linspace(0, 30, 30)"
   ]
  },
  {
   "cell_type": "code",
   "execution_count": 57,
   "id": "7e7424d0-f7f0-483f-a153-9e1c79b8c6fd",
   "metadata": {},
   "outputs": [],
   "source": [
    "masks=[cl.galcat['snr_i_cModel'] > i for i in snr]"
   ]
  },
  {
   "cell_type": "code",
   "execution_count": 58,
   "id": "647b579a-0aea-410b-8af5-fc58c0a4d07e",
   "metadata": {},
   "outputs": [
    {
     "data": {
      "text/plain": [
       "<matplotlib.legend.Legend at 0x7f19f8769e50>"
      ]
     },
     "execution_count": 58,
     "metadata": {},
     "output_type": "execute_result"
    },
    {
     "data": {
      "image/png": "[encoded data removed]",
      "text/plain": [
       "<Figure size 720x720 with 1 Axes>"
      ]
     },
     "metadata": {
      "needs_background": "light"
     },
     "output_type": "display_data"
    }
   ],
   "source": [
    "plt.figure(figsize=(10,10))\n",
    "plt.hlines(25, 0, 30, color='b', label='LSST for weak lensing')\n",
    "for i,mask in enumerate(masks):\n",
    "    n_gal_arcmin2=len(cl.galcat[mask])/S_arcmin2\n",
    "    plt.plot(snr[i], n_gal_arcmin2 ,'o', color='k')\n",
    "    #redshift window\n",
    "    res_min = .2\n",
    "    err_meas_max = .4\n",
    "    mask = mask * ( cl.galcat['photoz_mean'] <= 1.4)*( cl.galcat['photoz_mean'] >= .2)\n",
    "    #shape measurement error\n",
    "    mask = mask *( cl.galcat['ext_shapeHSM_HsmShapeRegauss_sigma'] <= err_meas_max)#label = f'{n_gal_arcmin2}')\n",
    "    n_gal_arcmin2=len(cl.galcat[mask])/S_arcmin2\n",
    "    plt.plot(snr[i], n_gal_arcmin2 ,'x', color='k')\n",
    "    #resolution\n",
    "    mask = mask *( cl.galcat['ext_shapeHSM_HsmShapeRegauss_resolution'] >= res_min)#label = f'{n_gal_arcmin2}')\n",
    "    n_gal_arcmin2=len(cl.galcat[mask])/S_arcmin2\n",
    "    plt.plot(snr[i], n_gal_arcmin2 ,'v',  color='k')\n",
    "plt.scatter([],[], marker='o', label='full', c='k')\n",
    "plt.scatter([],[], marker='x', label=r'$+\\sigma_{\\rm meas} <$'+ f'{err_meas_max:.2f}',c='k')\n",
    "plt.scatter([],[], marker='v', label=r'$+ resolution >$'+ f'{res_min:.2f}', c='k')\n",
    "plt.xlabel(r'SNR i-band > ', fontsize=20)\n",
    "plt.ylabel(r'$n_{\\rm gal}$ $(arcmin^{-2})$', fontsize=20)\n",
    "plt.legend(framealpha=1, fontsize=20)"
   ]
  },
  {
   "cell_type": "code",
   "execution_count": null,
   "id": "1e69e138-23ea-46c0-a244-2136bd388e4d",
   "metadata": {},
   "outputs": [],
   "source": []
  }
 ],
 "metadata": {
  "kernelspec": {
   "display_name": "mydesc",
   "language": "python",
   "name": "mydesc"
  },
  "language_info": {
   "codemirror_mode": {
    "name": "ipython",
    "version": 3
   },
   "file_extension": ".py",
   "mimetype": "text/x-python",
   "name": "python",
   "nbconvert_exporter": "python",
   "pygments_lexer": "ipython3",
   "version": "3.7.6"
  }
 },
 "nbformat": 4,
 "nbformat_minor": 5
}
