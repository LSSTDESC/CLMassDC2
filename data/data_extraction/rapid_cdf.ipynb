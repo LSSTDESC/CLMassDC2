{
 "cells": [
  {
   "cell_type": "code",
   "execution_count": 1,
   "id": "f01e4874-f721-4328-89a0-083015037dff",
   "metadata": {},
   "outputs": [],
   "source": [
    "import numpy as np\n",
    "import matplotlib.pyplot as plt\n",
    "import scipy\n",
    "from scipy.interpolate import interp1d\n",
    "from scipy.integrate import quad"
   ]
  },
  {
   "cell_type": "code",
   "execution_count": 2,
   "id": "37a6edf4-0da4-481c-9e60-4af36f547a23",
   "metadata": {},
   "outputs": [],
   "source": [
    "x = np.linspace(0, 3, 300)\n",
    "dx = x[1]-x[0]"
   ]
  },
  {
   "cell_type": "code",
   "execution_count": 3,
   "id": "62566bae-2cc2-4dca-9450-27318bad300c",
   "metadata": {},
   "outputs": [
    {
     "ename": "NameError",
     "evalue": "name 'cdf' is not defined",
     "output_type": "error",
     "traceback": [
      "\u001b[0;31m---------------------------------------------------------------------------\u001b[0m",
      "\u001b[0;31mNameError\u001b[0m                                 Traceback (most recent call last)",
      "\u001b[0;32m<ipython-input-3-d44e2c6a2baa>\u001b[0m in \u001b[0;36m<module>\u001b[0;34m\u001b[0m\n\u001b[1;32m     10\u001b[0m     \u001b[0;31m#cdf[i,:] = np.array([np.sum(pdf[i,:][0:j])*dx for j in range(len(x))])\u001b[0m\u001b[0;34m\u001b[0m\u001b[0;34m\u001b[0m\u001b[0;34m\u001b[0m\u001b[0m\n\u001b[1;32m     11\u001b[0m     cdf[i,:] = np.array([scipy.integrate.simps(pdf[i,:][np.arange(j+1)], \n\u001b[0;32m---> 12\u001b[0;31m                                                x[np.arange(j+1)]) for j in range(len(x))])\n\u001b[0m\u001b[1;32m     13\u001b[0m     \u001b[0mf\u001b[0m\u001b[0;34m=\u001b[0m\u001b[0minterp1d\u001b[0m\u001b[0;34m(\u001b[0m\u001b[0mcdf\u001b[0m\u001b[0;34m[\u001b[0m\u001b[0mi\u001b[0m\u001b[0;34m,\u001b[0m\u001b[0;34m:\u001b[0m\u001b[0;34m]\u001b[0m\u001b[0;34m/\u001b[0m\u001b[0mmax\u001b[0m\u001b[0;34m(\u001b[0m\u001b[0mcdf\u001b[0m\u001b[0;34m[\u001b[0m\u001b[0mi\u001b[0m\u001b[0;34m,\u001b[0m\u001b[0;34m:\u001b[0m\u001b[0;34m]\u001b[0m\u001b[0;34m)\u001b[0m\u001b[0;34m,\u001b[0m \u001b[0mx\u001b[0m\u001b[0;34m,\u001b[0m \u001b[0mkind\u001b[0m\u001b[0;34m=\u001b[0m\u001b[0;34m'linear'\u001b[0m\u001b[0;34m)\u001b[0m\u001b[0;34m\u001b[0m\u001b[0;34m\u001b[0m\u001b[0m\n\u001b[1;32m     14\u001b[0m     \u001b[0mz_rand\u001b[0m\u001b[0;34m.\u001b[0m\u001b[0mappend\u001b[0m\u001b[0;34m(\u001b[0m\u001b[0mf\u001b[0m\u001b[0;34m(\u001b[0m\u001b[0mu_rand\u001b[0m\u001b[0;34m[\u001b[0m\u001b[0mi\u001b[0m\u001b[0;34m]\u001b[0m\u001b[0;34m)\u001b[0m\u001b[0;34m)\u001b[0m\u001b[0;34m\u001b[0m\u001b[0;34m\u001b[0m\u001b[0m\n",
      "\u001b[0;31mNameError\u001b[0m: name 'cdf' is not defined"
     ]
    }
   ],
   "source": [
    "sigma = .3\n",
    "n_gal = 1000\n",
    "z_list = np.random.random(n_gal)*3 \n",
    "pdf = np.zeros([n_gal, len(x)])\n",
    "u_rand = np.random.rand(n_gal)\n",
    "z_rand = []\n",
    "for i,z in enumerate(z_list):\n",
    "    pdf_unnorm = np.exp(-.5*(x-z)**2/sigma**2)/(np.sqrt(2*np.pi*sigma**2))\n",
    "    pdf[i,:] = pdf_unnorm/scipy.integrate.simps(pdf_unnorm, x)\n",
    "    #cdf[i,:] = np.array([np.sum(pdf[i,:][0:j])*dx for j in range(len(x))])\n",
    "    cdf[i,:] = np.array([scipy.integrate.simps(pdf[i,:][np.arange(j+1)], \n",
    "                                               x[np.arange(j+1)]) for j in range(len(x))])\n",
    "    f=interp1d(cdf[i,:]/max(cdf[i,:]), x, kind='linear')\n",
    "    z_rand.append(f(u_rand[i]))"
   ]
  },
  {
   "cell_type": "code",
   "execution_count": null,
   "id": "d3bf6283-56cb-42a9-9227-8d59909618dd",
   "metadata": {},
   "outputs": [],
   "source": [
    "plt.scatter(z_list, z_rand, )\n",
    "plt.plot(z_list, z_list, 'r')"
   ]
  },
  {
   "cell_type": "code",
   "execution_count": null,
   "id": "0acc9898-ea46-40e5-9909-65ef9fb423ac",
   "metadata": {},
   "outputs": [],
   "source": [
    "dx = x[1]-x[0]\n",
    "cdf_tab = np.array([np.sum(y[:,i], axis=0) for i in range(len(x))])*dx"
   ]
  },
  {
   "cell_type": "code",
   "execution_count": null,
   "id": "6f41ff05-c5ed-4fb3-8b20-f6a00684d3ce",
   "metadata": {},
   "outputs": [],
   "source": [
    "plt.plot(cdf_tab, x)"
   ]
  },
  {
   "cell_type": "code",
   "execution_count": null,
   "id": "270e0ad2-6354-483f-8de4-c54acc037d80",
   "metadata": {},
   "outputs": [],
   "source": [
    "f = interp1d(cdf_tab, x, kind='linear')"
   ]
  },
  {
   "cell_type": "code",
   "execution_count": null,
   "id": "5608baee-a9aa-474c-83a1-ca18041b7d2f",
   "metadata": {},
   "outputs": [],
   "source": [
    "f(.5)"
   ]
  },
  {
   "cell_type": "code",
   "execution_count": null,
   "id": "ef11e12f-f2e1-4a17-8441-72783853337c",
   "metadata": {},
   "outputs": [],
   "source": []
  }
 ],
 "metadata": {
  "kernelspec": {
   "display_name": "mydesc",
   "language": "python",
   "name": "mydesc"
  },
  "language_info": {
   "codemirror_mode": {
    "name": "ipython",
    "version": 3
   },
   "file_extension": ".py",
   "mimetype": "text/x-python",
   "name": "python",
   "nbconvert_exporter": "python",
   "pygments_lexer": "ipython3",
   "version": "3.7.6"
  }
 },
 "nbformat": 4,
 "nbformat_minor": 5
}
