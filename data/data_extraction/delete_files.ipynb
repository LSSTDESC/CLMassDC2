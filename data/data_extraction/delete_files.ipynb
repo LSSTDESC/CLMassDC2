{
 "cells": [
  {
   "cell_type": "code",
   "execution_count": 3,
   "id": "1bc8e29b-759c-4c2e-8969-d32719ea43a9",
   "metadata": {},
   "outputs": [],
   "source": [
    "import os\n",
    "import glob"
   ]
  },
  {
   "cell_type": "code",
   "execution_count": 10,
   "id": "871ec900-ad19-479f-ae48-e079ebb8875f",
   "metadata": {},
   "outputs": [],
   "source": [
    "def delete_file(list_filename):\n",
    "     for f in list_filename:\n",
    "        os.remove(f)"
   ]
  },
  {
   "cell_type": "code",
   "execution_count": 18,
   "id": "fc147313-73cb-473d-b0bc-e727b083acda",
   "metadata": {},
   "outputs": [],
   "source": [
    "path = '/sps/lsst/users/cpayerne/CLMassDC2/cosmoDC2/dm_halos/*'\n",
    "files = glob.glob(path)"
   ]
  },
  {
   "cell_type": "code",
   "execution_count": 19,
   "id": "b421c830-ef0d-4dc2-8b7b-b97644a4a86f",
   "metadata": {},
   "outputs": [
    {
     "data": {
      "text/plain": [
       "['/sps/lsst/users/cpayerne/CLMassDC2/cosmoDC2/dm_halos/lensing_catalog_halo_281410066382.hdf5',\n",
       " '/sps/lsst/users/cpayerne/CLMassDC2/cosmoDC2/dm_halos/lensing_catalog_halo_117610066411.hdf5']"
      ]
     },
     "execution_count": 19,
     "metadata": {},
     "output_type": "execute_result"
    }
   ],
   "source": [
    "files"
   ]
  },
  {
   "cell_type": "code",
   "execution_count": 20,
   "id": "cc567b97-9b8e-403e-8a7d-7d27194db278",
   "metadata": {},
   "outputs": [],
   "source": [
    "delete_file(files)"
   ]
  },
  {
   "cell_type": "code",
   "execution_count": null,
   "id": "eb08dcf4-c34c-4720-bc0c-64516bb36f83",
   "metadata": {},
   "outputs": [],
   "source": []
  }
 ],
 "metadata": {
  "kernelspec": {
   "display_name": "mydesc",
   "language": "python",
   "name": "mydesc"
  },
  "language_info": {
   "codemirror_mode": {
    "name": "ipython",
    "version": 3
   },
   "file_extension": ".py",
   "mimetype": "text/x-python",
   "name": "python",
   "nbconvert_exporter": "python",
   "pygments_lexer": "ipython3",
   "version": "3.7.6"
  }
 },
 "nbformat": 4,
 "nbformat_minor": 5
}
