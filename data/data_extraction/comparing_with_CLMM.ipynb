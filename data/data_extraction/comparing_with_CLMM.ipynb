{
 "cells": [
  {
   "cell_type": "code",
   "execution_count": 46,
   "id": "retired-squad",
   "metadata": {},
   "outputs": [
    {
     "name": "stdout",
     "output_type": "stream",
     "text": [
      "The autoreload extension is already loaded. To reload it, use:\n",
      "  %reload_ext autoreload\n"
     ]
    }
   ],
   "source": [
    "%load_ext autoreload\n",
    "%autoreload 2\n",
    "\n",
    "import GCRCatalogs\n",
    "import matplotlib.pyplot as plt\n",
    "import pickle\n",
    "import sys\n",
    "import glob\n",
    "import numpy as np\n",
    "from astropy.cosmology import FlatLambdaCDM\n",
    "import astropy.units as u\n",
    "import sys\n",
    "import photoz_utils as utils\n",
    "from astropy.table import Table\n",
    "def load(filename, **kwargs):\n",
    "    \"\"\"Loads GalaxyCluster object to filename using Pickle\"\"\"\n",
    "    with open(filename, 'rb') as fin:\n",
    "        return pickle.load(fin, **kwargs)\n",
    "    from clmm.dataops import compute_galaxy_weights\n",
    "from clmm import Cosmology\n",
    "from scipy.integrate import simps\n",
    "import photoz_utils\n",
    "cosmo = Cosmology(H0 = 71.0, Omega_dm0 = 0.265 - 0.0448, Omega_b0 = 0.0448, Omega_k0 = 0.0)"
   ]
  },
  {
   "cell_type": "code",
   "execution_count": 47,
   "id": "4a85ea3c-bc05-4a5e-a778-1bc789a8a925",
   "metadata": {},
   "outputs": [],
   "source": [
    "sys.path.append('/pbs/throng/lsst/users/cpayerne/LikelihoodsClusterAbundance/modules/')\n",
    "import edit"
   ]
  },
  {
   "cell_type": "code",
   "execution_count": 48,
   "id": "d97216cd-09fb-4979-a61c-c67d317a4009",
   "metadata": {},
   "outputs": [],
   "source": [
    "file = glob.glob('/sps/lsst/users/cpayerne/CLMassDC2/cosmoDC2/redmapper_clusters/t*')"
   ]
  },
  {
   "cell_type": "code",
   "execution_count": 49,
   "id": "230ef9b4-fab5-498b-9c14-d3618f1f4431",
   "metadata": {},
   "outputs": [
    {
     "data": {
      "text/plain": [
       "['/sps/lsst/users/cpayerne/CLMassDC2/cosmoDC2/redmapper_clusters/test_bckgd_source_cat_of_cluster_24.pkl',\n",
       " '/sps/lsst/users/cpayerne/CLMassDC2/cosmoDC2/redmapper_clusters/test_bckgd_source_cat_of_cluster_30.pkl']"
      ]
     },
     "execution_count": 49,
     "metadata": {},
     "output_type": "execute_result"
    }
   ],
   "source": [
    "file"
   ]
  },
  {
   "cell_type": "code",
   "execution_count": 50,
   "id": "4ba70c23-c14d-40c0-926c-096abaad60cc",
   "metadata": {},
   "outputs": [],
   "source": [
    "f=edit.load_pickle(file[0])"
   ]
  },
  {
   "cell_type": "code",
   "execution_count": 51,
   "id": "ce6af998-de5f-42b5-b7c8-f00a575c81fb",
   "metadata": {},
   "outputs": [],
   "source": [
    "pdf = f.galcat['photoz_pdf_bpz']\n",
    "pzbins = f.galcat['photoz_zbins_bpz']\n",
    "z = f.galcat['z']"
   ]
  },
  {
   "cell_type": "code",
   "execution_count": null,
   "id": "66589c18-4a1d-45ef-9186-cc0807519479",
   "metadata": {},
   "outputs": [],
   "source": []
  },
  {
   "cell_type": "markdown",
   "id": "73c7ef55-6bf6-4fa9-97d3-c86fdc361e8a",
   "metadata": {},
   "source": [
    "# Critical surface mass density"
   ]
  },
  {
   "cell_type": "code",
   "execution_count": 52,
   "id": "245eb1fc-4487-47e8-b7f0-47b40534a727",
   "metadata": {},
   "outputs": [
    {
     "name": "stderr",
     "output_type": "stream",
     "text": [
      "/pbs/home/c/cpayerne/.conda/envs/mydesc/lib/python3.7/site-packages/clmm-1.1.9-py3.7.egg/clmm/theory/parent_class.py:260: RuntimeWarning: divide by zero encountered in true_divide\n",
      "/pbs/throng/lsst/users/cpayerne/CLMassDC2/data/data_extraction/photoz_utils.py:120: RuntimeWarning: divide by zero encountered in reciprocal\n",
      "  return simps(sigmacrit_1_integrand, pzbins[0,:], axis=1)**(-1.)\n"
     ]
    }
   ],
   "source": [
    "sigmacCLMM = photoz_utils.compute_photoz_sigmac(f.z, pdf, pzbins, cosmo=cosmo, use_clmm=True)\n",
    "sigmacbrutforce = photoz_utils.compute_photoz_sigmac(f.z, pdf, pzbins, cosmo=cosmo, use_clmm=False)"
   ]
  },
  {
   "cell_type": "code",
   "execution_count": 53,
   "id": "d6febc65-b356-426e-b00e-ca55d690512d",
   "metadata": {},
   "outputs": [
    {
     "name": "stderr",
     "output_type": "stream",
     "text": [
      "/pbs/home/c/cpayerne/.conda/envs/mydesc/lib/python3.7/site-packages/ipykernel_launcher.py:1: RuntimeWarning: invalid value encountered in subtract\n",
      "  \"\"\"Entry point for launching an IPython kernel.\n"
     ]
    },
    {
     "data": {
      "text/plain": [
       "Text(0, 0.5, 'brutforce/CLMM - 1')"
      ]
     },
     "execution_count": 53,
     "metadata": {},
     "output_type": "execute_result"
    },
    {
     "data": {
      "image/png": "[encoded data removed]",
      "text/plain": [
       "<Figure size 432x288 with 1 Axes>"
      ]
     },
     "metadata": {
      "needs_background": "light"
     },
     "output_type": "display_data"
    }
   ],
   "source": [
    "plt.scatter(sigmacCLMM,100*(sigmacbrutforce-sigmacCLMM)/sigmacCLMM)\n",
    "plt.xscale('log')\n",
    "plt.xlabel(r'CLMM')\n",
    "plt.ylabel(r'brutforce/CLMM - 1')"
   ]
  },
  {
   "cell_type": "markdown",
   "id": "3dae8f8d-f451-4c81-a38b-d1e82efaa4e9",
   "metadata": {},
   "source": [
    "# Background probability"
   ]
  },
  {
   "cell_type": "code",
   "execution_count": 54,
   "id": "d8aedcf7-bad0-43f3-9dfc-5a4445a0d659",
   "metadata": {},
   "outputs": [],
   "source": [
    "pbackgroundCLMM = photoz_utils.compute_p_background(f.z, pdf, pzbins, use_clmm=True)\n",
    "pbackgroundbrutforce = photoz_utils.compute_p_background(f.z, pdf, pzbins, use_clmm=False)"
   ]
  },
  {
   "cell_type": "code",
   "execution_count": 55,
   "id": "91e8fa14-607e-49eb-9981-c47f0c9aad33",
   "metadata": {},
   "outputs": [
    {
     "name": "stderr",
     "output_type": "stream",
     "text": [
      "/pbs/home/c/cpayerne/.conda/envs/mydesc/lib/python3.7/site-packages/ipykernel_launcher.py:1: RuntimeWarning: invalid value encountered in true_divide\n",
      "  \"\"\"Entry point for launching an IPython kernel.\n"
     ]
    },
    {
     "data": {
      "text/plain": [
       "<matplotlib.collections.PathCollection at 0x7f905b6a72d0>"
      ]
     },
     "execution_count": 55,
     "metadata": {},
     "output_type": "execute_result"
    },
    {
     "data": {
      "image/png": "[encoded data removed]",
      "text/plain": [
       "<Figure size 432x288 with 1 Axes>"
      ]
     },
     "metadata": {
      "needs_background": "light"
     },
     "output_type": "display_data"
    }
   ],
   "source": [
    "b=abs(100*(pbackgroundCLMM-pbackgroundbrutforce)/pbackgroundbrutforce)\n",
    "plt.scatter(z,b)\n",
    "#plt.scatter(z, pbackgroundCLMM)\n",
    "#plt.yscale('log')"
   ]
  },
  {
   "cell_type": "code",
   "execution_count": 62,
   "id": "cc3d8a19-de6b-4b44-bf3c-4d1fa07cd2a2",
   "metadata": {},
   "outputs": [],
   "source": [
    "mask = b > 20"
   ]
  },
  {
   "cell_type": "code",
   "execution_count": 63,
   "id": "eaad03af-62ce-47b0-a610-555c95c90a3f",
   "metadata": {},
   "outputs": [],
   "source": [
    "pdf_mask = f.galcat['photoz_pdf_bpz'][mask]\n",
    "pzbins_mask = f.galcat['photoz_zbins_bpz'][mask]\n",
    "z_mask = f.galcat['z'][mask]"
   ]
  },
  {
   "cell_type": "code",
   "execution_count": 67,
   "id": "708c1cd4-ba19-410a-9a5b-ad860952f008",
   "metadata": {},
   "outputs": [
    {
     "data": {
      "text/plain": [
       "Text(0, 0.5, 'pdf')"
      ]
     },
     "execution_count": 67,
     "metadata": {},
     "output_type": "execute_result"
    },
    {
     "data": {
      "image/png": "[encoded data removed]",
      "text/plain": [
       "<Figure size 432x288 with 1 Axes>"
      ]
     },
     "metadata": {
      "needs_background": "light"
     },
     "output_type": "display_data"
    }
   ],
   "source": [
    "c = ['b','r']\n",
    "i = 0\n",
    "for pdfs, pzbinss, zs in zip(pdf_mask, pzbins_mask, z_mask):\n",
    "    plt.plot(pzbinss, pdfs,c[i])\n",
    "    plt.vlines(zs, 0, 0.1, color=c[i])\n",
    "    i = i+1\n",
    "plt.xlabel('z')\n",
    "plt.ylabel('pdf')"
   ]
  },
  {
   "cell_type": "code",
   "execution_count": null,
   "id": "bde3f2d0-3878-4a7f-9cee-1749599430db",
   "metadata": {},
   "outputs": [],
   "source": []
  }
 ],
 "metadata": {
  "kernelspec": {
   "display_name": "mydesc",
   "language": "python",
   "name": "mydesc"
  },
  "language_info": {
   "codemirror_mode": {
    "name": "ipython",
    "version": 3
   },
   "file_extension": ".py",
   "mimetype": "text/x-python",
   "name": "python",
   "nbconvert_exporter": "python",
   "pygments_lexer": "ipython3",
   "version": "3.7.6"
  }
 },
 "nbformat": 4,
 "nbformat_minor": 5
}
