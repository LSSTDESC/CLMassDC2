{
 "cells": [
  {
   "cell_type": "code",
   "execution_count": 2,
   "id": "c5bae16d-2309-4486-91a3-087edb3f8bac",
   "metadata": {},
   "outputs": [],
   "source": [
    "import numpy as np\n",
    "import clmm\n",
    "import sys\n",
    "sys.path.append('/pbs/throng/lsst/users/cpayerne/LikelihoodsClusterAbundance/modules/')\n",
    "import edit\n",
    "import glob\n",
    "import matplotlib.patches as patches\n",
    "import matplotlib.pyplot as plt\n",
    "import time\n",
    "cosmo = clmm.Cosmology(H0 = 71.0, Omega_dm0 = 0.265 - 0.0448, Omega_b0 = 0.0448, Omega_k0 = 0.0)"
   ]
  },
  {
   "cell_type": "code",
   "execution_count": 3,
   "id": "a3a34a09-d0a0-4cbf-945b-3b72f008a698",
   "metadata": {},
   "outputs": [
    {
     "ename": "FileNotFoundError",
     "evalue": "[Errno 2] No such file or directory: 'test_table_ind_profile'",
     "output_type": "error",
     "traceback": [
      "\u001b[0;31m---------------------------------------------------------------------------\u001b[0m",
      "\u001b[0;31mFileNotFoundError\u001b[0m                         Traceback (most recent call last)",
      "\u001b[0;32m<ipython-input-3-cc45641aba84>\u001b[0m in \u001b[0;36m<module>\u001b[0;34m\u001b[0m\n\u001b[0;32m----> 1\u001b[0;31m \u001b[0mind_profile\u001b[0m \u001b[0;34m=\u001b[0m \u001b[0medit\u001b[0m\u001b[0;34m.\u001b[0m\u001b[0mload_pickle\u001b[0m\u001b[0;34m(\u001b[0m\u001b[0;34m'test_table_ind_profile'\u001b[0m\u001b[0;34m)\u001b[0m\u001b[0;34m\u001b[0m\u001b[0;34m\u001b[0m\u001b[0m\n\u001b[0m",
      "\u001b[0;32m/pbs/throng/lsst/users/cpayerne/LikelihoodsClusterAbundance/modules/edit.py\u001b[0m in \u001b[0;36mload_pickle\u001b[0;34m(filename, **kwargs)\u001b[0m\n\u001b[1;32m      6\u001b[0m \u001b[0;34m\u001b[0m\u001b[0m\n\u001b[1;32m      7\u001b[0m \u001b[0;32mdef\u001b[0m \u001b[0mload_pickle\u001b[0m\u001b[0;34m(\u001b[0m\u001b[0mfilename\u001b[0m\u001b[0;34m,\u001b[0m \u001b[0;34m**\u001b[0m\u001b[0mkwargs\u001b[0m\u001b[0;34m)\u001b[0m\u001b[0;34m:\u001b[0m\u001b[0;34m\u001b[0m\u001b[0;34m\u001b[0m\u001b[0m\n\u001b[0;32m----> 8\u001b[0;31m     \u001b[0;32mwith\u001b[0m \u001b[0mopen\u001b[0m\u001b[0;34m(\u001b[0m\u001b[0mfilename\u001b[0m\u001b[0;34m,\u001b[0m \u001b[0;34m'rb'\u001b[0m\u001b[0;34m)\u001b[0m \u001b[0;32mas\u001b[0m \u001b[0mfin\u001b[0m\u001b[0;34m:\u001b[0m\u001b[0;34m\u001b[0m\u001b[0;34m\u001b[0m\u001b[0m\n\u001b[0m\u001b[1;32m      9\u001b[0m         \u001b[0;32mreturn\u001b[0m \u001b[0mpickle\u001b[0m\u001b[0;34m.\u001b[0m\u001b[0mload\u001b[0m\u001b[0;34m(\u001b[0m\u001b[0mfin\u001b[0m\u001b[0;34m,\u001b[0m \u001b[0;34m**\u001b[0m\u001b[0mkwargs\u001b[0m\u001b[0;34m)\u001b[0m\u001b[0;34m\u001b[0m\u001b[0;34m\u001b[0m\u001b[0m\n\u001b[1;32m     10\u001b[0m \u001b[0;34m\u001b[0m\u001b[0m\n",
      "\u001b[0;31mFileNotFoundError\u001b[0m: [Errno 2] No such file or directory: 'test_table_ind_profile'"
     ]
    }
   ],
   "source": [
    "ind_profile = edit.load_pickle('test_table_ind_profile')"
   ]
  },
  {
   "cell_type": "code",
   "execution_count": null,
   "id": "eb9bda55-cc0c-40ee-a0fa-841366f65adf",
   "metadata": {},
   "outputs": [],
   "source": [
    "def ds(mmin, mmax, zmin, zmax):\n",
    "    mask = (ind_profile['M200c'] > 10**mmin)*(ind_profile['M200c'] < 10**mmax)*(ind_profile['redshift'] < zmax)*(ind_profile['redshift'] > zmin)\n",
    "    ind_profile_mask = ind_profile[mask]\n",
    "    ds = ind_profile_mask['DSt']\n",
    "    radius = ind_profile_mask['radius']\n",
    "    W_L = ind_profile_mask['W_l']\n",
    "    ds_stack = np.average(ds, weights=W_L, axis=0)\n",
    "    radius_stack = np.mean(radius, axis=0)\n",
    "    return ds, ds_stack, radius_stack"
   ]
  },
  {
   "cell_type": "code",
   "execution_count": null,
   "id": "be5c0da7-fe08-4641-9ee9-f37b77917316",
   "metadata": {},
   "outputs": [],
   "source": [
    "Nm=4\n",
    "Nz=4\n",
    "logm_edges = np.linspace(14, 15, Nm+1)\n",
    "redshift_edges = np.linspace(0.2, 1, Nz+1)\n",
    "fig, ax = plt.subplots(Nz,Nm, figsize=(10,10), sharex=True, sharey='row')\n",
    "plt.subplots_adjust(left=None, bottom=None, right=None, top=None, wspace=0, hspace=0)\n",
    "moo = clmm.Modeling (massdef = 'critical', delta_mdef = 200, halo_profile_model = 'einasto')\n",
    "moo.set_cosmo(cosmo)\n",
    "moo.set_concentration (4)\n",
    "for i in range(Nm):\n",
    "    ax[0,i].set_title(f'{logm_edges[i]:.1f} <' + r'$log_{10}M$' +  f' < {logm_edges[i+1]:.1f}', fontsize=12)\n",
    "    ax[Nz-1, i].set_xlabel(r'$R$ [Mpc]')\n",
    "    for j in range(Nz):\n",
    "        ax[j, 0].set_ylabel(r'$\\Delta\\Sigma$')\n",
    "        ax[j,i].plot([], [], 'w', label=f'{redshift_edges[j]:.1f} < z < {redshift_edges[j+1]:.1f}' )\n",
    "        ds_, ds_stack, radius_stack = ds(logm_edges[i], logm_edges[i+1], redshift_edges[j], redshift_edges[j+1])\n",
    "        ax[j,i].errorbar(radius_stack, ds_stack, np.std(ds_, axis=0)/np.sqrt(len(ds_)-1),  fmt=' ', \n",
    "             capsize=10, marker='o', markerfacecolor='w', markersize=5, barsabove=True, color='k')\n",
    "        ax[j,i].loglog()\n",
    "        moo.set_mass (10**np.mean([logm_edges[i], logm_edges[i+1]]))\n",
    "        ax[j,i].plot(radius_stack, moo.eval_excess_surface_density(radius_stack, np.mean([redshift_edges[j], redshift_edges[j+1]]))) \n",
    "        ax[j,i].legend(loc='upper right', frameon=False)\n",
    "        #ax[j,i].set_xscale('log')"
   ]
  },
  {
   "cell_type": "code",
   "execution_count": 4,
   "id": "56a6ccf6-d209-4a8c-b583-a0e067d6ef0d",
   "metadata": {},
   "outputs": [],
   "source": [
    "path = '/pbs/throng/lsst/users/cpayerne/CLMassDC2/data/lens_catalog_SkySim5000.pkl'"
   ]
  },
  {
   "cell_type": "code",
   "execution_count": 6,
   "id": "4fa528a6-5694-4ac8-b6e3-dc078a510fa5",
   "metadata": {},
   "outputs": [],
   "source": [
    "a = np.load(path, allow_pickle=True)"
   ]
  },
  {
   "cell_type": "code",
   "execution_count": 7,
   "id": "a0b3636d-69d7-46ea-97e4-ef5d3e289f02",
   "metadata": {},
   "outputs": [
    {
     "data": {
      "text/html": [
       "<div><i>Table length=471457</i>\n",
       "<table id=\"table140696656201360\" class=\"table-striped table-bordered table-condensed\">\n",
       "<thead><tr><th>dec</th><th>ra</th><th>baseDC2/sod_halo_radius</th><th>halo_id</th><th>halo_mass</th><th>baseDC2/sod_halo_mass</th><th>redshift</th></tr></thead>\n",
       "<thead><tr><th>float64</th><th>float64</th><th>float64</th><th>int64</th><th>float64</th><th>float64</th><th>float64</th></tr></thead>\n",
       "<tr><td>-40.83107772618864</td><td>51.008516490175516</td><td>0.4595533013343811</td><td>4010066475</td><td>33506664194163.383</td><td>21421436698624.0</td><td>0.04554527819345999</td></tr>\n",
       "<tr><td>-41.34449214014141</td><td>50.95764333668338</td><td>0.587556004524231</td><td>8410066475</td><td>74621860826501.4</td><td>44762895745024.0</td><td>0.048258542345124944</td></tr>\n",
       "<tr><td>-40.400678302137855</td><td>49.638658115154634</td><td>0.31257084012031555</td><td>13910066475</td><td>16891355712901.41</td><td>6735778021376.0</td><td>0.0481862270842659</td></tr>\n",
       "<tr><td>-41.15895234883735</td><td>50.57650523362703</td><td>0.37870511412620544</td><td>710066464</td><td>17911434075583.098</td><td>11361197228032.0</td><td>0.06438326462902522</td></tr>\n",
       "<tr><td>-40.23973139541635</td><td>49.504804200029895</td><td>0.610621452331543</td><td>31710066442</td><td>69213477135143.664</td><td>43173657182208.0</td><td>0.1137579883816715</td></tr>\n",
       "<tr><td>-39.645283542113106</td><td>51.069670404722665</td><td>0.6035316586494446</td><td>42110066442</td><td>62974036412214.086</td><td>41691599863808.0</td><td>0.1259633143787311</td></tr>\n",
       "<tr><td>-39.33595810866306</td><td>50.60532208979055</td><td>0.5680725574493408</td><td>57710066442</td><td>48388878878287.33</td><td>34758092390400.0</td><td>0.12743589142235479</td></tr>\n",
       "<tr><td>-39.16862215638887</td><td>50.77613148927426</td><td>0.35441067814826965</td><td>71610066442</td><td>13042641686354.93</td><td>8439588192256.0</td><td>0.10736840257999059</td></tr>\n",
       "<tr><td>-39.097459789992094</td><td>50.36982737040335</td><td>0.475969523191452</td><td>7910066432</td><td>34125997485791.55</td><td>19473698390016.0</td><td>0.12775858757827474</td></tr>\n",
       "<tr><td>-39.02524691844606</td><td>50.83193920551051</td><td>0.3132644295692444</td><td>12710066432</td><td>10520540970546.479</td><td>5545698263040.0</td><td>0.12802469231703473</td></tr>\n",
       "<tr><td>...</td><td>...</td><td>...</td><td>...</td><td>...</td><td>...</td><td>...</td></tr>\n",
       "<tr><td>-38.73016789475461</td><td>74.34029212548687</td><td>0.5616047382354736</td><td>1189709946121</td><td>15002128949363.38</td><td>11392612564992.0</td><td>2.966705041652082</td></tr>\n",
       "<tr><td>-38.808803363384676</td><td>74.36953231176953</td><td>0.5643872022628784</td><td>1876609946121</td><td>14877221394749.297</td><td>11564472074240.0</td><td>2.9664762300130416</td></tr>\n",
       "<tr><td>-37.42707861346014</td><td>74.74798560420989</td><td>0.5672600865364075</td><td>2042709946121</td><td>15093207374602.818</td><td>11728939122688.0</td><td>2.996267471999874</td></tr>\n",
       "<tr><td>-39.63204278154571</td><td>74.46901386334082</td><td>0.4933010935783386</td><td>2295709946121</td><td>10148314951391.549</td><td>7722583457792.0</td><td>2.9820284247886675</td></tr>\n",
       "<tr><td>-39.40964626133037</td><td>74.29418718194948</td><td>0.5182523131370544</td><td>2979809946121</td><td>11363906216743.662</td><td>8947774783488.0</td><td>2.9657988471296677</td></tr>\n",
       "<tr><td>-38.871120017828716</td><td>75.0573690367682</td><td>0.47116097807884216</td><td>3854809946121</td><td>22803646631301.41</td><td>6711754620928.0</td><td>2.9912996685743973</td></tr>\n",
       "<tr><td>-38.48001562389681</td><td>74.4127744429793</td><td>0.56727534532547</td><td>3909709946121</td><td>14166809677881.691</td><td>11716003889152.0</td><td>2.986532075102687</td></tr>\n",
       "<tr><td>-38.69137505757787</td><td>75.24083850954024</td><td>0.4552001953125</td><td>4362909946121</td><td>11270198967166.197</td><td>6063124381696.0</td><td>2.9843351854823776</td></tr>\n",
       "<tr><td>-38.47650693877239</td><td>74.55929534742236</td><td>0.4909749925136566</td><td>5303109946121</td><td>12376465108011.268</td><td>7609858392064.0</td><td>2.9678581596591336</td></tr>\n",
       "<tr><td>-37.35312425342733</td><td>74.51232633664947</td><td>0.5475462079048157</td><td>6201009946121</td><td>14700269025712.678</td><td>10507444551680.0</td><td>2.9503995630627635</td></tr>\n",
       "</table></div>"
      ],
      "text/plain": [
       "<Table length=471457>\n",
       "        dec                 ra         ...       redshift      \n",
       "      float64            float64       ...       float64       \n",
       "------------------- ------------------ ... --------------------\n",
       " -40.83107772618864 51.008516490175516 ...  0.04554527819345999\n",
       " -41.34449214014141  50.95764333668338 ... 0.048258542345124944\n",
       "-40.400678302137855 49.638658115154634 ...   0.0481862270842659\n",
       " -41.15895234883735  50.57650523362703 ...  0.06438326462902522\n",
       " -40.23973139541635 49.504804200029895 ...   0.1137579883816715\n",
       "-39.645283542113106 51.069670404722665 ...   0.1259633143787311\n",
       " -39.33595810866306  50.60532208979055 ...  0.12743589142235479\n",
       " -39.16862215638887  50.77613148927426 ...  0.10736840257999059\n",
       "-39.097459789992094  50.36982737040335 ...  0.12775858757827474\n",
       " -39.02524691844606  50.83193920551051 ...  0.12802469231703473\n",
       "                ...                ... ...                  ...\n",
       " -38.73016789475461  74.34029212548687 ...    2.966705041652082\n",
       "-38.808803363384676  74.36953231176953 ...   2.9664762300130416\n",
       " -37.42707861346014  74.74798560420989 ...    2.996267471999874\n",
       " -39.63204278154571  74.46901386334082 ...   2.9820284247886675\n",
       " -39.40964626133037  74.29418718194948 ...   2.9657988471296677\n",
       "-38.871120017828716   75.0573690367682 ...   2.9912996685743973\n",
       " -38.48001562389681   74.4127744429793 ...    2.986532075102687\n",
       " -38.69137505757787  75.24083850954024 ...   2.9843351854823776\n",
       " -38.47650693877239  74.55929534742236 ...   2.9678581596591336\n",
       " -37.35312425342733  74.51232633664947 ...   2.9503995630627635"
      ]
     },
     "execution_count": 7,
     "metadata": {},
     "output_type": "execute_result"
    }
   ],
   "source": [
    "a"
   ]
  },
  {
   "cell_type": "code",
   "execution_count": null,
   "id": "1e4242e8-475a-4b40-89d0-e4228249059b",
   "metadata": {},
   "outputs": [],
   "source": []
  }
 ],
 "metadata": {
  "kernelspec": {
   "display_name": "mydesc",
   "language": "python",
   "name": "mydesc"
  },
  "language_info": {
   "codemirror_mode": {
    "name": "ipython",
    "version": 3
   },
   "file_extension": ".py",
   "mimetype": "text/x-python",
   "name": "python",
   "nbconvert_exporter": "python",
   "pygments_lexer": "ipython3",
   "version": "3.7.6"
  }
 },
 "nbformat": 4,
 "nbformat_minor": 5
}
