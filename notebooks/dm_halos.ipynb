{
 "cells": [
  {
   "cell_type": "code",
   "execution_count": null,
   "id": "c5ea33bf-d315-4d36-ab8e-b8179fefbc2b",
   "metadata": {},
   "outputs": [],
   "source": [
    "import numpy as np\n",
    "import GCRCatalogs\n",
    "import healpy\n",
    "import clmm\n",
    "import matplotlib.patches as patches\n",
    "import matplotlib.pyplot as plt\n",
    "from astropy.table import QTable, Table, vstack, join, hstack\n",
    "import pickle,sys\n",
    "sys.path.append('/pbs/throng/lsst/users/cpayerne/LikelihoodsClusterAbundance/modules/')\n",
    "import edit\n",
    "sys.path.append('/pbs/throng/lsst/users/cpayerne/CLMassDC2/data/data_extraction')\n",
    "from clmm import Cosmology\n",
    "from scipy.integrate import simps\n",
    "\n",
    "#cosmoDC2 cosmology\n",
    "cosmo = Cosmology(H0 = 71.0, Omega_dm0 = 0.265 - 0.0448, Omega_b0 = 0.0448, Omega_k0 = 0.0)\n",
    "\n",
    "lens_catalog_name='/pbs/throng/lsst/users/cpayerne/CLMassDC2/data/lens_catalog_SkySim5000.pkl'\n",
    "\n",
    "lens_catalog=edit.load_pickle(lens_catalog_name)"
   ]
  },
  {
   "cell_type": "code",
   "execution_count": 126,
   "id": "4c22b6f5-df4f-471c-a19c-c277c7fc0310",
   "metadata": {},
   "outputs": [
    {
     "name": "stderr",
     "output_type": "stream",
     "text": [
      "/pbs/home/c/cpayerne/.conda/envs/mydesc/lib/python3.7/site-packages/ipykernel_launcher.py:1: RuntimeWarning: invalid value encountered in log10\n",
      "  \"\"\"Entry point for launching an IPython kernel.\n"
     ]
    }
   ],
   "source": [
    "mask = np.log10(lens_catalog['baseDC2/sod_halo_mass']/cosmo['h']) > 13.9"
   ]
  },
  {
   "cell_type": "code",
   "execution_count": 127,
   "id": "65ffc2a0-ca75-4006-9d76-18a9cb50a447",
   "metadata": {},
   "outputs": [
    {
     "data": {
      "text/plain": [
       "['dec',\n",
       " 'ra',\n",
       " 'baseDC2/sod_halo_radius',\n",
       " 'halo_id',\n",
       " 'halo_mass',\n",
       " 'baseDC2/sod_halo_mass',\n",
       " 'redshift']"
      ]
     },
     "execution_count": 127,
     "metadata": {},
     "output_type": "execute_result"
    }
   ],
   "source": [
    "lens_catalog.colnames"
   ]
  },
  {
   "cell_type": "code",
   "execution_count": 128,
   "id": "95049716-488e-401f-9d53-1672a0e86390",
   "metadata": {},
   "outputs": [
    {
     "data": {
      "image/png": "[encoded data removed]",
      "text/plain": [
       "<Figure size 504x360 with 2 Axes>"
      ]
     },
     "metadata": {
      "needs_background": "light"
     },
     "output_type": "display_data"
    }
   ],
   "source": [
    "fig, ax = plt.subplots(1,1,figsize=(7,5))\n",
    "h=ax.hist2d(lens_catalog['redshift'][mask], np.log10(lens_catalog['baseDC2/sod_halo_mass'][mask]/cosmo['h']), bins=40, cmap='gist_rainbow', cmin=1)\n",
    "fig.colorbar(h[3], ax=ax)\n",
    "rect = patches.Rectangle((.2, 14), 1,1.25, linewidth=2, edgecolor='k', facecolor='none', alpha=1)\n",
    "ax.add_patch(rect)\n",
    "ax.tick_params(axis='both', which = 'major', labelsize= 12)\n",
    "plt.xlabel('redshift', fontsize=20)\n",
    "plt.ylabel(r'$\\log_{10}M_{\\rm 200c}$', fontsize=20)\n",
    "plt.show()"
   ]
  },
  {
   "cell_type": "code",
   "execution_count": 122,
   "id": "455d45fe-fa6d-440c-9f18-3fceb1229653",
   "metadata": {},
   "outputs": [
    {
     "name": "stderr",
     "output_type": "stream",
     "text": [
      "/pbs/home/c/cpayerne/.conda/envs/mydesc/lib/python3.7/site-packages/ipykernel_launcher.py:1: RuntimeWarning: invalid value encountered in log10\n",
      "  \"\"\"Entry point for launching an IPython kernel.\n"
     ]
    }
   ],
   "source": [
    "mask_count = (np.log10(lens_catalog['baseDC2/sod_halo_mass']/cosmo['h']) > 14)*(lens_catalog['redshift'] > .2)*(lens_catalog['redshift'] < 1.2)"
   ]
  },
  {
   "cell_type": "code",
   "execution_count": 124,
   "id": "76245c86-8c47-4c85-82c2-0f812e73d495",
   "metadata": {},
   "outputs": [
    {
     "data": {
      "text/plain": [
       "5613"
      ]
     },
     "execution_count": 124,
     "metadata": {},
     "output_type": "execute_result"
    }
   ],
   "source": [
    "len(mask_count[mask_count==True])"
   ]
  },
  {
   "cell_type": "code",
   "execution_count": null,
   "id": "aa948fcb-17ad-40a0-baac-bccbce074ff1",
   "metadata": {},
   "outputs": [],
   "source": []
  }
 ],
 "metadata": {
  "kernelspec": {
   "display_name": "mydesc",
   "language": "python",
   "name": "mydesc"
  },
  "language_info": {
   "codemirror_mode": {
    "name": "ipython",
    "version": 3
   },
   "file_extension": ".py",
   "mimetype": "text/x-python",
   "name": "python",
   "nbconvert_exporter": "python",
   "pygments_lexer": "ipython3",
   "version": "3.7.6"
  }
 },
 "nbformat": 4,
 "nbformat_minor": 5
}
