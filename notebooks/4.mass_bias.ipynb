{
 "cells": [
  {
   "cell_type": "code",
   "execution_count": 108,
   "id": "5c96e453",
   "metadata": {},
   "outputs": [
    {
     "name": "stdout",
     "output_type": "stream",
     "text": [
      "The autoreload extension is already loaded. To reload it, use:\n",
      "  %reload_ext autoreload\n"
     ]
    }
   ],
   "source": [
    "%load_ext autoreload\n",
    "\n",
    "%autoreload 2\n",
    "import matplotlib.pyplot as plt\n",
    "import pickle\n",
    "from astropy.coordinates import SkyCoord, match_coordinates_3d, match_coordinates_sky\n",
    "import sys\n",
    "import emcee\n",
    "import numpy as np\n",
    "from astropy.cosmology import FlatLambdaCDM\n",
    "import astropy.units as u\n",
    "from astropy.table import Table, QTable, hstack, vstack\n",
    "from astropy import units as u\n",
    "import corner\n",
    "from astropy.coordinates import SkyCoord, match_coordinates_3d\n",
    "cosmo_astropy = FlatLambdaCDM(H0=71.0, Om0=0.265, Ob0 = 0.0448)\n",
    "import iminuit\n",
    "from iminuit import Minuit\n",
    "cosmo_astropy.critical_density(0.4).to(u.Msun / u.Mpc**3).value\n",
    "\n",
    "sys.path.append('/pbs/throng/lsst/users/cpayerne/CLMassDC2/modules/')\n",
    "import CL_WL_miscentering as mis\n",
    "import analysis_Mass_Richness_relation as analysis\n",
    "import CL_WL_two_halo_term as twoh\n",
    "import CL_WL_mass_conversion as utils\n",
    "import CL_DATAOPS_match_catalogs as match\n",
    "import CL_WL_DATAOPS_make_profile as prf\n",
    "import CL_Mass_richness_relation as mr\n",
    "\n"
   ]
  },
  {
   "cell_type": "markdown",
   "id": "b9acf8f1-bb03-42c2-8b69-fe692858136d",
   "metadata": {},
   "source": [
    "## first approach"
   ]
  },
  {
   "cell_type": "code",
   "execution_count": 109,
   "id": "7715adec-6199-4cc2-9701-667b2cfdb7bc",
   "metadata": {},
   "outputs": [],
   "source": [
    "model =mr.WL_Mass_Richness()"
   ]
  },
  {
   "cell_type": "code",
   "execution_count": 110,
   "id": "5becb1c3-5be1-437c-a2f7-285a3a3c6350",
   "metadata": {},
   "outputs": [],
   "source": [
    "model.set_pivot_values(.4, 40)"
   ]
  },
  {
   "cell_type": "code",
   "execution_count": 203,
   "id": "566c6038-c36b-4c92-9d85-031f4d64cc57",
   "metadata": {},
   "outputs": [],
   "source": [
    "thetaMC = [14.1, -.1, 1]\n",
    "thetaMC_sigma = [.4, .1, .1]\n",
    "sigma_int = .4\n",
    "Gamma = .75"
   ]
  },
  {
   "cell_type": "code",
   "execution_count": 204,
   "id": "41bb5788-3400-4b33-85a2-cc164541b3a4",
   "metadata": {},
   "outputs": [],
   "source": [
    "def mu_lnM(richness, z):\n",
    "    return model.mu_logM_lambda(richness, z, thetaMC)*np.log(10)"
   ]
  },
  {
   "cell_type": "code",
   "execution_count": 205,
   "id": "e5a05304-6883-4c9a-a9a3-9f04644f7570",
   "metadata": {},
   "outputs": [],
   "source": [
    "def sigma_2_lnM(richness, z):\n",
    "    #sigma_int=model.sigma_mu_logM_lambda(richness, z, thetaMC_sigma)\n",
    "    return sigma_int**2 + thetaMC[2]**2/richness"
   ]
  },
  {
   "cell_type": "code",
   "execution_count": 206,
   "id": "ad3b7fcd-d789-4825-80f9-2a0ffa615e99",
   "metadata": {},
   "outputs": [],
   "source": [
    "def factor(richness, z):\n",
    "    mu_m = np.exp(mu_lnM(richness, z) + sigma_2_lnM(richness, z)/2)\n",
    "    sigma_2_m = np.exp(2*mu_lnM(richness, z) + sigma_2_lnM(richness, z))*(np.exp(sigma_2_lnM(richness, z))-1)\n",
    "    #return mu_m\n",
    "    return (1+.5*Gamma*(Gamma-1)*sigma_2_m/(mu_m**2))**(-1/Gamma)"
   ]
  },
  {
   "cell_type": "code",
   "execution_count": 207,
   "id": "016515e0-a64b-4c25-a8e1-54e1d5d7ac7f",
   "metadata": {},
   "outputs": [
    {
     "data": {
      "text/plain": [
       "Text(0, 0.5, '$\\\\langle M|\\\\lambda, z \\\\rangle/M_{\\\\rm stack}$')"
      ]
     },
     "execution_count": 207,
     "metadata": {},
     "output_type": "execute_result"
    },
    {
     "data": {
      "image/png": "[encoded data removed]",
      "text/plain": [
       "<Figure size 432x288 with 1 Axes>"
      ]
     },
     "metadata": {
      "needs_background": "light"
     },
     "output_type": "display_data"
    }
   ],
   "source": [
    "richness = np.linspace(20, 200, 100)\n",
    "for z in np.linspace(0.2, 1, 4):\n",
    "    plt.plot(richness, factor(richness, z))\n",
    "plt.ylabel(r'$\\langle M|\\lambda, z \\rangle/M_{\\rm stack}$', fontsize=20)"
   ]
  },
  {
   "cell_type": "code",
   "execution_count": null,
   "id": "30bc79e4-c580-43bd-bbb0-4997f4b9a4a2",
   "metadata": {},
   "outputs": [],
   "source": []
  },
  {
   "cell_type": "code",
   "execution_count": null,
   "id": "53e8846e-2eb0-41c0-83cd-e8439eea85f6",
   "metadata": {},
   "outputs": [],
   "source": []
  }
 ],
 "metadata": {
  "kernelspec": {
   "display_name": "mydesc",
   "language": "python",
   "name": "mydesc"
  },
  "language_info": {
   "codemirror_mode": {
    "name": "ipython",
    "version": 3
   },
   "file_extension": ".py",
   "mimetype": "text/x-python",
   "name": "python",
   "nbconvert_exporter": "python",
   "pygments_lexer": "ipython3",
   "version": "3.7.6"
  }
 },
 "nbformat": 4,
 "nbformat_minor": 5
}
