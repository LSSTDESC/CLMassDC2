{
 "cells": [
  {
   "cell_type": "code",
   "execution_count": 1,
   "id": "5c96e453",
   "metadata": {},
   "outputs": [],
   "source": [
    "%load_ext autoreload\n",
    "\n",
    "%autoreload 2\n",
    "import matplotlib.pyplot as plt\n",
    "import pickle\n",
    "import emcee\n",
    "from astropy.coordinates import SkyCoord, match_coordinates_3d, match_coordinates_sky\n",
    "import sys\n",
    "import numpy as np\n",
    "from astropy.table import Table, QTable, hstack, vstack\n",
    "import iminuit\n",
    "from iminuit import Minuit\n",
    "import corner\n",
    "import os\n",
    "os.environ['CLMM_MODELING_BACKEND'] = 'nc'\n",
    "import clmm\n",
    "from clmm import Cosmology\n",
    "from astropy.table import Table, QTable, hstack, vstack\n",
    "import pyccl as ccl\n",
    "from astropy.cosmology import FlatLambdaCDM\n",
    "cosmo = Cosmology(H0 = 71.0, Omega_dm0 = 0.265 - 0.0448, Omega_b0 = 0.0448, Omega_k0 = 0.0)\n",
    "cosmo_clmm = Cosmology(H0 = 71.0, Omega_dm0 = 0.265 - 0.0448, Omega_b0 = 0.0448, Omega_k0 = 0.0)\n",
    "cosmo_ccl  = ccl.Cosmology(Omega_c=0.265-0.0448, Omega_b=0.0448, h=0.71, A_s=2.1e-9, n_s=0.96, Neff=0, Omega_g=0)\n",
    "cosmo_astropy = FlatLambdaCDM(H0=71.0, Om0=0.265, Ob0 = 0.0448)\n",
    "\n",
    "#module from my personnal github\n",
    "sys.path.append('../modules/')\n",
    "import analysis_Mass_Richness_relation as analysis\n",
    "import CL_WL_miscentering as mis\n",
    "import CL_WL_DATAOPS_make_profile as prf\n",
    "import CL_WL_two_halo_term as twoh\n",
    "import CL_WL_mass_conversion as utils\n",
    "import CL_WL_fit_cluster_mass as fit\n",
    "import CL_Likelihood_for_Mass_richness_relation as mr\n",
    "import CL_fiducial_mass_richness_relation as fiducial\n",
    "sys.path.append('/pbs/throng/lsst/users/cpayerne/ClusterLikelihoods/modules/')\n",
    "import utils as ut"
   ]
  },
  {
   "cell_type": "code",
   "execution_count": 2,
   "id": "a78ec39f",
   "metadata": {},
   "outputs": [],
   "source": [
    "def load(filename, **kwargs):\n",
    "    with open(filename, 'rb') as fin:\n",
    "        return pickle.load(fin, **kwargs)"
   ]
  },
  {
   "cell_type": "markdown",
   "id": "1db58c1c-d243-434c-b621-3579130a6ad7",
   "metadata": {},
   "source": [
    "# Load data"
   ]
  },
  {
   "cell_type": "code",
   "execution_count": 3,
   "id": "2bcee6dd",
   "metadata": {},
   "outputs": [],
   "source": [
    "profile_true = load('/pbs/throng/lsst/users/cpayerne/CLMassDC2/data/individual_profile_SkySim5000_gal_redMaPPer_cluster_epsilon_shape_true_z.pkl')"
   ]
  },
  {
   "cell_type": "code",
   "execution_count": 4,
   "id": "269dc837-ad39-4257-8b82-897ec3f0e374",
   "metadata": {},
   "outputs": [],
   "source": [
    "Z_bin = analysis.Z_bin\n",
    "Obs_bin = analysis.Obs_bin"
   ]
  },
  {
   "cell_type": "markdown",
   "id": "696afb2a-49be-401c-8c1e-a8049494448e",
   "metadata": {},
   "source": [
    "# Fit WL mass"
   ]
  },
  {
   "cell_type": "markdown",
   "id": "b1f4d24b-9adc-42e0-9858-3df216684f30",
   "metadata": {},
   "source": [
    "## Estimating shear profiles & covariances"
   ]
  },
  {
   "cell_type": "code",
   "execution_count": 5,
   "id": "453eaa93",
   "metadata": {},
   "outputs": [],
   "source": [
    "profile_true_stack = prf.stacked_profile(profile = profile_true,\n",
    "                    r_in = 'radius_av',\n",
    "                    gt_in = 'gt_av', gx_in = 'gx_av',\n",
    "                    r_out = 'radius',\n",
    "                    gt_out = 'gt', gx_out = 'gx',\n",
    "                    weight = 'norm_sum',\n",
    "                    z_name = 'cluster_z', obs_name = 'richness',\n",
    "                    Z_bin = Z_bin, Obs_bin = Obs_bin)\n",
    "covariance_true_stack = prf.bootstrap_covariance(profile = profile_true,\n",
    "                    r_in = 'radius_av',\n",
    "                    gt_in = 'gt_av', gx_in = 'gx_av',\n",
    "                    r_out = 'radius',\n",
    "                    gt_out = 'gt', gx_out = 'gx',\n",
    "                    weight = 'norm_sum',\n",
    "                    n_boot = 100,\n",
    "                    z_name = 'cluster_z', obs_name = 'richness',\n",
    "                    Z_bin = Z_bin, Obs_bin = Obs_bin)"
   ]
  },
  {
   "cell_type": "markdown",
   "id": "f04d8a6d-f5c8-4512-b899-c89b98c5d26a",
   "metadata": {},
   "source": [
    "# Fit mass-richness relation\n",
    "## Fit mass then fit mass-richness relation\n",
    "### Fit mass"
   ]
  },
  {
   "cell_type": "code",
   "execution_count": 6,
   "id": "3291eafc-1b30-4e51-8859-6531f3d710eb",
   "metadata": {},
   "outputs": [
    {
     "name": "stdout",
     "output_type": "stream",
     "text": [
      "fitting...\n"
     ]
    }
   ],
   "source": [
    "down = 1\n",
    "up = 5.5\n",
    "a = 0\n",
    "b = 1\n",
    "true = fit.fit_WL_cluster_mass(profile = profile_true_stack, covariance = covariance_true_stack, a = a, b = b, rmax = up, two_halo_term = False, fix_c = True)"
   ]
  },
  {
   "cell_type": "markdown",
   "id": "28277135-c88d-4a11-92f4-8c1a1b598ac6",
   "metadata": {},
   "source": [
    "### Fit mass-richness relation"
   ]
  },
  {
   "cell_type": "code",
   "execution_count": 7,
   "id": "92f0378e-6173-460f-8a8a-22981fd5fedf",
   "metadata": {},
   "outputs": [],
   "source": [
    "def lnL(theta, m200c_mean, m200c_err_mean, richness_mean, z_mean):\n",
    "    return mr.lnL_WL_binned(theta, m200c_mean, m200c_err_mean, richness_mean, z_mean, z0, richness0)"
   ]
  },
  {
   "cell_type": "code",
   "execution_count": 8,
   "id": "87e2c72d-4882-4fba-80e5-0e4a70763526",
   "metadata": {},
   "outputs": [
    {
     "name": "stdout",
     "output_type": "stream",
     "text": [
      "emcee: Exception while calling your likelihood function:\n",
      "  params: [ 1.40733982e+01 -7.88454496e-03  7.35185619e-01]\n",
      "  args: (array([1.27413671e+14, 1.82665437e+14, 2.93918962e+14, 5.25295662e+14,\n",
      "       1.18279396e+14, 2.03394667e+14, 2.97196170e+14, 3.87563216e+14,\n",
      "       1.25201459e+14, 1.71715113e+14, 2.94798129e+14, 3.63165698e+14,\n",
      "       1.34717668e+14, 1.70239039e+14, 2.64312582e+14, 4.22489949e+14,\n",
      "       1.21422524e+14, 1.37408661e+14, 2.17588149e+14, 4.75967208e+14]), array([4.02228153e+12, 5.74528981e+12, 1.08203383e+13, 3.60014865e+13,\n",
      "       3.25076860e+12, 6.26886410e+12, 1.10946611e+13, 2.49169373e+13,\n",
      "       3.68407292e+12, 6.81536347e+12, 1.20892274e+13, 2.40296215e+13,\n",
      "       4.73899881e+12, 7.72582763e+12, 1.47389807e+13, 3.93914276e+13,\n",
      "       6.27324953e+12, 1.02057611e+13, 2.03873567e+13, 4.12767948e+13]), array([ 25.407982,  40.64189 ,  69.044014, 156.64774 ,  25.32449 ,\n",
      "        41.3784  ,  64.492226, 134.93892 ,  25.338959,  40.64467 ,\n",
      "        68.394394, 125.92322 ,  24.840925,  40.98285 ,  66.3606  ,\n",
      "       129.9447  ,  24.828432,  41.337273,  68.247795, 122.999344],\n",
      "      dtype=float32), array([0.29378232, 0.2897455 , 0.28367734, 0.2808867 , 0.4442135 ,\n",
      "       0.43562317, 0.44666302, 0.44601598, 0.59534675, 0.59809506,\n",
      "       0.6086247 , 0.61098963, 0.7550736 , 0.7580091 , 0.7590641 ,\n",
      "       0.7671827 , 0.9257937 , 0.92189944, 0.9250232 , 0.93287885],\n",
      "      dtype=float32))\n",
      "  kwargs: {}\n",
      "  exception:\n"
     ]
    },
    {
     "name": "stderr",
     "output_type": "stream",
     "text": [
      "Traceback (most recent call last):\n",
      "  File \"/pbs/home/c/cpayerne/.conda/envs/mydesc/lib/python3.7/site-packages/emcee/ensemble.py\", line 545, in __call__\n",
      "    return self.f(x, *self.args, **self.kwargs)\n",
      "  File \"<ipython-input-7-605f7f8063c5>\", line 2, in lnL\n",
      "    return mr.lnL_WL_binned(theta, m200c_mean, m200c_err_mean, richness_mean, z_mean, z0, richness0)\n",
      "AttributeError: module 'CL_Likelihood_for_Mass_richness_relation' has no attribute 'lnL_WL_binned'\n"
     ]
    },
    {
     "ename": "AttributeError",
     "evalue": "module 'CL_Likelihood_for_Mass_richness_relation' has no attribute 'lnL_WL_binned'",
     "output_type": "error",
     "traceback": [
      "\u001b[0;31m---------------------------------------------------------------------------\u001b[0m",
      "\u001b[0;31mAttributeError\u001b[0m                            Traceback (most recent call last)",
      "\u001b[0;32m<ipython-input-8-be49e5d4ff28>\u001b[0m in \u001b[0;36m<module>\u001b[0;34m\u001b[0m\n\u001b[1;32m     15\u001b[0m     \u001b[0mz_mean\u001b[0m \u001b[0;34m=\u001b[0m \u001b[0mnp\u001b[0m\u001b[0;34m.\u001b[0m\u001b[0marray\u001b[0m\u001b[0;34m(\u001b[0m\u001b[0mfit_true\u001b[0m\u001b[0;34m[\u001b[0m\u001b[0;34m'z_mean'\u001b[0m\u001b[0;34m]\u001b[0m\u001b[0;34m)\u001b[0m\u001b[0;34m\u001b[0m\u001b[0;34m\u001b[0m\u001b[0m\n\u001b[1;32m     16\u001b[0m     \u001b[0msampler\u001b[0m \u001b[0;34m=\u001b[0m \u001b[0memcee\u001b[0m\u001b[0;34m.\u001b[0m\u001b[0mEnsembleSampler\u001b[0m\u001b[0;34m(\u001b[0m\u001b[0mnwalkers\u001b[0m\u001b[0;34m,\u001b[0m \u001b[0mndim\u001b[0m\u001b[0;34m,\u001b[0m \u001b[0mlnL\u001b[0m\u001b[0;34m,\u001b[0m \u001b[0margs\u001b[0m \u001b[0;34m=\u001b[0m \u001b[0;34m(\u001b[0m\u001b[0mm200c_mean\u001b[0m\u001b[0;34m,\u001b[0m \u001b[0mm200c_err_mean\u001b[0m\u001b[0;34m,\u001b[0m \u001b[0mrichness_mean\u001b[0m\u001b[0;34m,\u001b[0m \u001b[0mz_mean\u001b[0m\u001b[0;34m)\u001b[0m\u001b[0;34m)\u001b[0m\u001b[0;34m\u001b[0m\u001b[0;34m\u001b[0m\u001b[0m\n\u001b[0;32m---> 17\u001b[0;31m     \u001b[0msampler\u001b[0m\u001b[0;34m.\u001b[0m\u001b[0mrun_mcmc\u001b[0m\u001b[0;34m(\u001b[0m\u001b[0mpos_binned\u001b[0m\u001b[0;34m,\u001b[0m \u001b[0mnpath\u001b[0m\u001b[0;34m,\u001b[0m\u001b[0mprogress\u001b[0m\u001b[0;34m=\u001b[0m\u001b[0;32mTrue\u001b[0m\u001b[0;34m)\u001b[0m\u001b[0;34m\u001b[0m\u001b[0;34m\u001b[0m\u001b[0m\n\u001b[0m\u001b[1;32m     18\u001b[0m     \u001b[0msampler_wl\u001b[0m \u001b[0;34m=\u001b[0m \u001b[0msampler\u001b[0m\u001b[0;34m.\u001b[0m\u001b[0mget_chain\u001b[0m\u001b[0;34m(\u001b[0m\u001b[0mdiscard\u001b[0m \u001b[0;34m=\u001b[0m \u001b[0;36m0\u001b[0m\u001b[0;34m,\u001b[0m \u001b[0mflat\u001b[0m \u001b[0;34m=\u001b[0m \u001b[0;32mTrue\u001b[0m\u001b[0;34m)\u001b[0m\u001b[0;34m\u001b[0m\u001b[0;34m\u001b[0m\u001b[0m\n\u001b[1;32m     19\u001b[0m     \u001b[0msampler_list\u001b[0m\u001b[0;34m[\u001b[0m\u001b[0mlabel\u001b[0m\u001b[0;34m[\u001b[0m\u001b[0mi\u001b[0m\u001b[0;34m]\u001b[0m\u001b[0;34m]\u001b[0m \u001b[0;34m=\u001b[0m \u001b[0msampler_wl\u001b[0m\u001b[0;34m\u001b[0m\u001b[0;34m\u001b[0m\u001b[0m\n",
      "\u001b[0;32m~/.conda/envs/mydesc/lib/python3.7/site-packages/emcee/ensemble.py\u001b[0m in \u001b[0;36mrun_mcmc\u001b[0;34m(self, initial_state, nsteps, **kwargs)\u001b[0m\n\u001b[1;32m    382\u001b[0m \u001b[0;34m\u001b[0m\u001b[0m\n\u001b[1;32m    383\u001b[0m         \u001b[0mresults\u001b[0m \u001b[0;34m=\u001b[0m \u001b[0;32mNone\u001b[0m\u001b[0;34m\u001b[0m\u001b[0;34m\u001b[0m\u001b[0m\n\u001b[0;32m--> 384\u001b[0;31m         \u001b[0;32mfor\u001b[0m \u001b[0mresults\u001b[0m \u001b[0;32min\u001b[0m \u001b[0mself\u001b[0m\u001b[0;34m.\u001b[0m\u001b[0msample\u001b[0m\u001b[0;34m(\u001b[0m\u001b[0minitial_state\u001b[0m\u001b[0;34m,\u001b[0m \u001b[0miterations\u001b[0m\u001b[0;34m=\u001b[0m\u001b[0mnsteps\u001b[0m\u001b[0;34m,\u001b[0m \u001b[0;34m**\u001b[0m\u001b[0mkwargs\u001b[0m\u001b[0;34m)\u001b[0m\u001b[0;34m:\u001b[0m\u001b[0;34m\u001b[0m\u001b[0;34m\u001b[0m\u001b[0m\n\u001b[0m\u001b[1;32m    385\u001b[0m             \u001b[0;32mpass\u001b[0m\u001b[0;34m\u001b[0m\u001b[0;34m\u001b[0m\u001b[0m\n\u001b[1;32m    386\u001b[0m \u001b[0;34m\u001b[0m\u001b[0m\n",
      "\u001b[0;32m~/.conda/envs/mydesc/lib/python3.7/site-packages/emcee/ensemble.py\u001b[0m in \u001b[0;36msample\u001b[0;34m(self, initial_state, log_prob0, rstate0, blobs0, iterations, tune, skip_initial_state_check, thin_by, thin, store, progress)\u001b[0m\n\u001b[1;32m    283\u001b[0m             \u001b[0mstate\u001b[0m\u001b[0;34m.\u001b[0m\u001b[0mblobs\u001b[0m \u001b[0;34m=\u001b[0m \u001b[0mblobs0\u001b[0m\u001b[0;34m\u001b[0m\u001b[0;34m\u001b[0m\u001b[0m\n\u001b[1;32m    284\u001b[0m         \u001b[0;32mif\u001b[0m \u001b[0mstate\u001b[0m\u001b[0;34m.\u001b[0m\u001b[0mlog_prob\u001b[0m \u001b[0;32mis\u001b[0m \u001b[0;32mNone\u001b[0m\u001b[0;34m:\u001b[0m\u001b[0;34m\u001b[0m\u001b[0;34m\u001b[0m\u001b[0m\n\u001b[0;32m--> 285\u001b[0;31m             \u001b[0mstate\u001b[0m\u001b[0;34m.\u001b[0m\u001b[0mlog_prob\u001b[0m\u001b[0;34m,\u001b[0m \u001b[0mstate\u001b[0m\u001b[0;34m.\u001b[0m\u001b[0mblobs\u001b[0m \u001b[0;34m=\u001b[0m \u001b[0mself\u001b[0m\u001b[0;34m.\u001b[0m\u001b[0mcompute_log_prob\u001b[0m\u001b[0;34m(\u001b[0m\u001b[0mstate\u001b[0m\u001b[0;34m.\u001b[0m\u001b[0mcoords\u001b[0m\u001b[0;34m)\u001b[0m\u001b[0;34m\u001b[0m\u001b[0;34m\u001b[0m\u001b[0m\n\u001b[0m\u001b[1;32m    286\u001b[0m         \u001b[0;32mif\u001b[0m \u001b[0mnp\u001b[0m\u001b[0;34m.\u001b[0m\u001b[0mshape\u001b[0m\u001b[0;34m(\u001b[0m\u001b[0mstate\u001b[0m\u001b[0;34m.\u001b[0m\u001b[0mlog_prob\u001b[0m\u001b[0;34m)\u001b[0m \u001b[0;34m!=\u001b[0m \u001b[0;34m(\u001b[0m\u001b[0mself\u001b[0m\u001b[0;34m.\u001b[0m\u001b[0mnwalkers\u001b[0m\u001b[0;34m,\u001b[0m\u001b[0;34m)\u001b[0m\u001b[0;34m:\u001b[0m\u001b[0;34m\u001b[0m\u001b[0;34m\u001b[0m\u001b[0m\n\u001b[1;32m    287\u001b[0m             \u001b[0;32mraise\u001b[0m \u001b[0mValueError\u001b[0m\u001b[0;34m(\u001b[0m\u001b[0;34m\"incompatible input dimensions\"\u001b[0m\u001b[0;34m)\u001b[0m\u001b[0;34m\u001b[0m\u001b[0;34m\u001b[0m\u001b[0m\n",
      "\u001b[0;32m~/.conda/envs/mydesc/lib/python3.7/site-packages/emcee/ensemble.py\u001b[0m in \u001b[0;36mcompute_log_prob\u001b[0;34m(self, coords)\u001b[0m\n\u001b[1;32m    425\u001b[0m                 \u001b[0mmap_func\u001b[0m \u001b[0;34m=\u001b[0m \u001b[0mmap\u001b[0m\u001b[0;34m\u001b[0m\u001b[0;34m\u001b[0m\u001b[0m\n\u001b[1;32m    426\u001b[0m             results = list(\n\u001b[0;32m--> 427\u001b[0;31m                 \u001b[0mmap_func\u001b[0m\u001b[0;34m(\u001b[0m\u001b[0mself\u001b[0m\u001b[0;34m.\u001b[0m\u001b[0mlog_prob_fn\u001b[0m\u001b[0;34m,\u001b[0m \u001b[0;34m(\u001b[0m\u001b[0mp\u001b[0m\u001b[0;34m[\u001b[0m\u001b[0mi\u001b[0m\u001b[0;34m]\u001b[0m \u001b[0;32mfor\u001b[0m \u001b[0mi\u001b[0m \u001b[0;32min\u001b[0m \u001b[0mrange\u001b[0m\u001b[0;34m(\u001b[0m\u001b[0mlen\u001b[0m\u001b[0;34m(\u001b[0m\u001b[0mp\u001b[0m\u001b[0;34m)\u001b[0m\u001b[0;34m)\u001b[0m\u001b[0;34m)\u001b[0m\u001b[0;34m)\u001b[0m\u001b[0;34m\u001b[0m\u001b[0;34m\u001b[0m\u001b[0m\n\u001b[0m\u001b[1;32m    428\u001b[0m             )\n\u001b[1;32m    429\u001b[0m \u001b[0;34m\u001b[0m\u001b[0m\n",
      "\u001b[0;32m~/.conda/envs/mydesc/lib/python3.7/site-packages/emcee/ensemble.py\u001b[0m in \u001b[0;36m__call__\u001b[0;34m(self, x)\u001b[0m\n\u001b[1;32m    543\u001b[0m     \u001b[0;32mdef\u001b[0m \u001b[0m__call__\u001b[0m\u001b[0;34m(\u001b[0m\u001b[0mself\u001b[0m\u001b[0;34m,\u001b[0m \u001b[0mx\u001b[0m\u001b[0;34m)\u001b[0m\u001b[0;34m:\u001b[0m\u001b[0;34m\u001b[0m\u001b[0;34m\u001b[0m\u001b[0m\n\u001b[1;32m    544\u001b[0m         \u001b[0;32mtry\u001b[0m\u001b[0;34m:\u001b[0m\u001b[0;34m\u001b[0m\u001b[0;34m\u001b[0m\u001b[0m\n\u001b[0;32m--> 545\u001b[0;31m             \u001b[0;32mreturn\u001b[0m \u001b[0mself\u001b[0m\u001b[0;34m.\u001b[0m\u001b[0mf\u001b[0m\u001b[0;34m(\u001b[0m\u001b[0mx\u001b[0m\u001b[0;34m,\u001b[0m \u001b[0;34m*\u001b[0m\u001b[0mself\u001b[0m\u001b[0;34m.\u001b[0m\u001b[0margs\u001b[0m\u001b[0;34m,\u001b[0m \u001b[0;34m**\u001b[0m\u001b[0mself\u001b[0m\u001b[0;34m.\u001b[0m\u001b[0mkwargs\u001b[0m\u001b[0;34m)\u001b[0m\u001b[0;34m\u001b[0m\u001b[0;34m\u001b[0m\u001b[0m\n\u001b[0m\u001b[1;32m    546\u001b[0m         \u001b[0;32mexcept\u001b[0m\u001b[0;34m:\u001b[0m  \u001b[0;31m# pragma: no cover\u001b[0m\u001b[0;34m\u001b[0m\u001b[0;34m\u001b[0m\u001b[0m\n\u001b[1;32m    547\u001b[0m             \u001b[0;32mimport\u001b[0m \u001b[0mtraceback\u001b[0m\u001b[0;34m\u001b[0m\u001b[0;34m\u001b[0m\u001b[0m\n",
      "\u001b[0;32m<ipython-input-7-605f7f8063c5>\u001b[0m in \u001b[0;36mlnL\u001b[0;34m(theta, m200c_mean, m200c_err_mean, richness_mean, z_mean)\u001b[0m\n\u001b[1;32m      1\u001b[0m \u001b[0;32mdef\u001b[0m \u001b[0mlnL\u001b[0m\u001b[0;34m(\u001b[0m\u001b[0mtheta\u001b[0m\u001b[0;34m,\u001b[0m \u001b[0mm200c_mean\u001b[0m\u001b[0;34m,\u001b[0m \u001b[0mm200c_err_mean\u001b[0m\u001b[0;34m,\u001b[0m \u001b[0mrichness_mean\u001b[0m\u001b[0;34m,\u001b[0m \u001b[0mz_mean\u001b[0m\u001b[0;34m)\u001b[0m\u001b[0;34m:\u001b[0m\u001b[0;34m\u001b[0m\u001b[0;34m\u001b[0m\u001b[0m\n\u001b[0;32m----> 2\u001b[0;31m     \u001b[0;32mreturn\u001b[0m \u001b[0mmr\u001b[0m\u001b[0;34m.\u001b[0m\u001b[0mlnL_WL_binned\u001b[0m\u001b[0;34m(\u001b[0m\u001b[0mtheta\u001b[0m\u001b[0;34m,\u001b[0m \u001b[0mm200c_mean\u001b[0m\u001b[0;34m,\u001b[0m \u001b[0mm200c_err_mean\u001b[0m\u001b[0;34m,\u001b[0m \u001b[0mrichness_mean\u001b[0m\u001b[0;34m,\u001b[0m \u001b[0mz_mean\u001b[0m\u001b[0;34m,\u001b[0m \u001b[0mz0\u001b[0m\u001b[0;34m,\u001b[0m \u001b[0mrichness0\u001b[0m\u001b[0;34m)\u001b[0m\u001b[0;34m\u001b[0m\u001b[0;34m\u001b[0m\u001b[0m\n\u001b[0m",
      "\u001b[0;31mAttributeError\u001b[0m: module 'CL_Likelihood_for_Mass_richness_relation' has no attribute 'lnL_WL_binned'"
     ]
    }
   ],
   "source": [
    "fits=[true]\n",
    "z0 = analysis.z0\n",
    "richness0 = analysis.richness0\n",
    "initial_binned = [14.1,-0,.75]\n",
    "npath = 100\n",
    "ndim=3\n",
    "nwalkers = 800\n",
    "pos_binned = initial_binned + 0.01 * np.random.randn(nwalkers, len(initial_binned))\n",
    "label = ['true']\n",
    "sampler_list = {name : 0 for name in label}\n",
    "for i,fit_true in enumerate(fits):\n",
    "    m200c_mean = 10**np.array(fit_true['logm200_w'])\n",
    "    m200c_err_mean =np.array(fit_true['logm200_w_err'])*np.log(10)*m200c_mean\n",
    "    richness_mean = np.array(fit_true['obs_mean'])\n",
    "    z_mean = np.array(fit_true['z_mean'])\n",
    "    sampler = emcee.EnsembleSampler(nwalkers, ndim, lnL, args = (m200c_mean, m200c_err_mean, richness_mean, z_mean))\n",
    "    sampler.run_mcmc(pos_binned, npath,progress=True)\n",
    "    sampler_wl = sampler.get_chain(discard = 0, flat = True)\n",
    "    sampler_list[label[i]] = sampler_wl"
   ]
  },
  {
   "cell_type": "markdown",
   "id": "4529daee-04c9-465c-8609-4ee04244702b",
   "metadata": {},
   "source": [
    "## Fit mass-richness relation directly"
   ]
  },
  {
   "cell_type": "code",
   "execution_count": null,
   "id": "e085f517-0619-4cd4-9968-feef73d709b6",
   "metadata": {},
   "outputs": [],
   "source": [
    "moo=clmm.Modeling(massdef = 'critical', delta_mdef = 200, halo_profile_model = 'nfw')\n",
    "moo.set_cosmo(cosmo_clmm)"
   ]
  },
  {
   "cell_type": "code",
   "execution_count": null,
   "id": "34ad0ab0-b259-4c47-8a79-085c5dfb90bc",
   "metadata": {},
   "outputs": [],
   "source": [
    "def logmh(logrichness, z, logM0, alpha, beta):\n",
    "    return mr.mu_logM_lambda_f(z, logrichness, logM0, alpha, beta, z0, richness0)"
   ]
  },
  {
   "cell_type": "code",
   "execution_count": null,
   "id": "5f0706ca-bbcd-448d-8780-fcda2ef1bdd4",
   "metadata": {},
   "outputs": [],
   "source": [
    "def ds(r, m, c, z):\n",
    "    moo.set_mass(m), moo.set_concentration(c)\n",
    "    y=moo.eval_excess_surface_density([float(r[i]) for i in range(len(r))], z)\n",
    "    return y"
   ]
  },
  {
   "cell_type": "code",
   "execution_count": null,
   "id": "bb0d6f07-fc15-49ea-874b-a190d390d2b5",
   "metadata": {},
   "outputs": [],
   "source": [
    "def lnlikelihood(theta):\n",
    "    logM0,G,F=theta\n",
    "    chi2=0\n",
    "    for n, halo in enumerate(profile_true_stack):\n",
    "        m = 10**logmh(np.log10(halo['obs_mean']), halo['z_mean'], logM0, G, F)\n",
    "        mask = (halo['radius'] > 1)*(halo['radius'] < 5)\n",
    "        y=ds(halo['radius'], m, 4 , halo['z_mean'])\n",
    "        chi2=chi2+.5*np.sum(((y-halo['gt'])**2/covariance_true_stack[n]['cov_t'].diagonal())[mask])\n",
    "    return -chi2"
   ]
  },
  {
   "cell_type": "code",
   "execution_count": null,
   "id": "fbe95718-1eb4-4740-90cf-1cd9bba7d3d4",
   "metadata": {},
   "outputs": [],
   "source": [
    "print(lnlikelihood([14,0,1]))"
   ]
  },
  {
   "cell_type": "code",
   "execution_count": null,
   "id": "2eed4ae3-6136-4ed8-aa4d-defc5e45531a",
   "metadata": {},
   "outputs": [],
   "source": [
    "from multiprocessing import Pool\n",
    "nwalker=100\n",
    "pos=np.random.randn(nwalker,3) + np.array([14,0,1])\n",
    "with Pool() as pool:\n",
    "    sampler = emcee.EnsembleSampler(nwalker, 3, lnlikelihood,pool=pool)\n",
    "    sampler.run_mcmc(pos, 100, progress=True);"
   ]
  },
  {
   "cell_type": "code",
   "execution_count": null,
   "id": "df029da2-3af2-4036-8a4c-bcce7c50c16a",
   "metadata": {},
   "outputs": [],
   "source": [
    "flat_samples = sampler.get_chain(discard=50, thin=3, flat=True)\n",
    "plt.rcParams['axes.linewidth'] = 1.3\n",
    "sigma1 = 1. - np.exp(-(1./1.)**2/2.)\n",
    "sigma2 = 1. - np.exp(-(2./1.)**2/2.)\n",
    "sigma3 = 1. - np.exp(-(3./1.)**2/2.)\n",
    "truth = [14.162, -0.23, 0.8]\n",
    "bins = 25\n",
    "labels = [r'$\\log_{10}(M_{0})$', r'$G_z$',r'$F_\\lambda$']\n",
    "c = ['salmon','m','k','orange','cyan']\n",
    "fill_contours = [False, False, False,False,  True]\n",
    "fig, axs = plt.subplots(len(labels), len(labels), figsize = (7,7))\n",
    "\n",
    "fig = corner.corner(\n",
    "flat_samples,\n",
    "bins=bins, levels=(sigma1, sigma2),\n",
    "fig = fig,\n",
    "color = 'r',\n",
    "smooth1d=True,smooth=True,plot_datapoints=False,\n",
    "fill_contours=True, labels = labels,            \n",
    "label_kwargs={\"fontsize\": 20},\n",
    "use_math_text=True,\n",
    "show_title = True,\n",
    "plot_density=False,\n",
    "max_n_ticks = 5);\n",
    "\n",
    "fig = corner.corner(\n",
    "sampler_list['true'][50000:a-1],\n",
    "bins=bins, levels=(sigma1, sigma2),\n",
    "fig = fig,\n",
    "color = 'k',\n",
    "smooth1d=True,smooth=True,plot_datapoints=False,\n",
    "fill_contours=True, labels = labels,            \n",
    "label_kwargs={\"fontsize\": 20},\n",
    "use_math_text=True,\n",
    "show_title = True,\n",
    "plot_density=False,\n",
    "max_n_ticks = 5);\n",
    "    \n",
    "for i in range(len(labels)):\n",
    "    for j in range(len(labels)):\n",
    "        axs[i,j].tick_params(axis='both', which = 'major', labelsize= 13)\n",
    "        axs[i,j].legend(frameon = False, fontsize = 15)"
   ]
  },
  {
   "cell_type": "code",
   "execution_count": null,
   "id": "1a88ce3c-b6fb-44ed-b10b-612c7a74b3e1",
   "metadata": {},
   "outputs": [],
   "source": [
    "mean = np.mean(flat_samples, axis=0)"
   ]
  },
  {
   "cell_type": "code",
   "execution_count": null,
   "id": "e0393b34-da75-43d4-979a-223ab30e64c3",
   "metadata": {},
   "outputs": [],
   "source": [
    "mean"
   ]
  },
  {
   "cell_type": "code",
   "execution_count": null,
   "id": "c88aa91a-41d5-40e0-a4c0-0244cbca1643",
   "metadata": {},
   "outputs": [],
   "source": [
    "for n, halo in enumerate(profile_true_stack):\n",
    "    mh_=10**mh(np.log10(halo['obs_mean']), halo['z_mean'],*mean)\n",
    "    plt.plot(halo['radius'], halo['gt'])\n",
    "    plt.plot(halo['radius'],ds(halo['radius'], mh_, 4, halo['z_mean']))\n",
    "plt.loglog()"
   ]
  },
  {
   "cell_type": "code",
   "execution_count": null,
   "id": "375775b1-0a94-4bfd-82be-7bf3e6312b84",
   "metadata": {},
   "outputs": [],
   "source": []
  },
  {
   "cell_type": "code",
   "execution_count": null,
   "id": "c0369c93-d35e-4e4c-bd24-8da5a97f97b8",
   "metadata": {},
   "outputs": [],
   "source": []
  }
 ],
 "metadata": {
  "kernelspec": {
   "display_name": "mydesc",
   "language": "python",
   "name": "mydesc"
  },
  "language_info": {
   "codemirror_mode": {
    "name": "ipython",
    "version": 3
   },
   "file_extension": ".py",
   "mimetype": "text/x-python",
   "name": "python",
   "nbconvert_exporter": "python",
   "pygments_lexer": "ipython3",
   "version": "3.7.6"
  }
 },
 "nbformat": 4,
 "nbformat_minor": 5
}
