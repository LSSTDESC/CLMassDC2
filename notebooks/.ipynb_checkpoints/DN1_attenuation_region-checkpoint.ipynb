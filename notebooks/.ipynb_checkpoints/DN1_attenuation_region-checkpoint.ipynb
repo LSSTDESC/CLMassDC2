{
 "cells": [
  {
   "cell_type": "code",
   "execution_count": null,
   "id": "8bb6f14e-907c-4870-b332-16fdf4d26266",
   "metadata": {},
   "outputs": [],
   "source": [
    "%load_ext autoreload\n",
    "\n",
    "%autoreload 2\n",
    "import matplotlib.pyplot as plt\n",
    "import pickle\n",
    "import sys\n",
    "import numpy as np\n",
    "from astropy.cosmology import FlatLambdaCDM\n",
    "import iminuit\n",
    "\n",
    "sys.path.append('../modules/')\n",
    "import CL_WL_DATAOPS_make_profile as prf\n",
    "\n",
    "import pyccl as ccl\n",
    "\n",
    "import clmm\n",
    "from clmm.dataops import compute_tangential_and_cross_components, make_radial_profile, make_bins\n",
    "from clmm import Cosmology"
   ]
  },
  {
   "cell_type": "code",
   "execution_count": null,
   "id": "a18e3966-b8a6-4da7-a580-e6774ec13f9f",
   "metadata": {},
   "outputs": [],
   "source": [
    "cosmo_clmm = Cosmology(H0 = 71.0, Omega_dm0 = 0.265 - 0.0448, Omega_b0 = 0.0448, Omega_k0 = 0.0)\n",
    "cosmo_ccl  = ccl.Cosmology(Omega_c=0.265-0.0448, Omega_b=0.0448, h=0.71, A_s=2.1e-9, n_s=0.96, Neff=0, Omega_g=0)"
   ]
  },
  {
   "cell_type": "code",
   "execution_count": null,
   "id": "b9dc9f17-c0df-4e13-9ed2-3b0023f30737",
   "metadata": {},
   "outputs": [],
   "source": [
    "iminuit.__version__"
   ]
  },
  {
   "cell_type": "code",
   "execution_count": null,
   "id": "b8749ce1",
   "metadata": {},
   "outputs": [],
   "source": [
    "def binning(corner): \n",
    "    return [[corner[i],corner[i+1]] for i in range(len(corner)-1)]\n",
    "\n",
    "down, up, n_bins = 0.1, 15, 40\n",
    "bin_edges = make_bins(down, up, nbins=n_bins, method='evenlog10width')\n",
    "radial_bin = binning(bin_edges)"
   ]
  },
  {
   "cell_type": "code",
   "execution_count": null,
   "id": "cc021e0a",
   "metadata": {},
   "outputs": [],
   "source": [
    "radial_bin_mid = np.mean(radial_bin, axis = 1)"
   ]
  },
  {
   "cell_type": "code",
   "execution_count": null,
   "id": "25f52c66",
   "metadata": {},
   "outputs": [],
   "source": [
    "filename = '../data/individual_profile_cosmoDC2_gal_cosmoDC2_halo_epsilon_shape.pkl'\n",
    "profile_cosmoDC2 = pickle.load(open(filename,'rb'))"
   ]
  },
  {
   "cell_type": "code",
   "execution_count": null,
   "id": "dc71099d",
   "metadata": {},
   "outputs": [],
   "source": [
    "z_corner = np.linspace(0.2, 1 , 9)\n",
    "Z_bin = binning(z_corner)\n",
    "m_corner = np.logspace(14, 15, 2)\n",
    "#m_corner = np.linspace(1e14, 1e15, 7)\n",
    "Mass_bin = binning(m_corner)\n",
    "print(Z_bin)\n",
    "print(np.log10(Mass_bin))"
   ]
  },
  {
   "cell_type": "code",
   "execution_count": null,
   "id": "b1ebfb28",
   "metadata": {},
   "outputs": [],
   "source": [
    "profile_stack_true = prf.stacked_profile(profile = profile_cosmoDC2,\n",
    "                    r_in = 'radius_av',\n",
    "                    gt_in = 'gt_av', gx_in = 'gx_av',\n",
    "                    r_out = 'radius',\n",
    "                    gt_out = 'gt', gx_out = 'gx',\n",
    "                    weight = 'norm_sum',\n",
    "                    z_name = 'cluster_z', obs_name = 'M200c',\n",
    "                    Z_bin = Z_bin, Obs_bin = Mass_bin)\n",
    "\n",
    "covariance_stack_true = prf.sample_covariance(profile = profile_cosmoDC2,\n",
    "                    r_in = 'radius_av',\n",
    "                    gt_in = 'gt_av', gx_in = 'gx_av',\n",
    "                    r_out = 'radius',\n",
    "                    gt_out = 'gt', gx_out = 'gx',\n",
    "                    weight = 'M200c',\n",
    "#                    n_boot = 400,\n",
    "                    z_name = 'cluster_z', obs_name = 'M200c',\n",
    "                    Z_bin = Z_bin, Obs_bin = Mass_bin)"
   ]
  },
  {
   "cell_type": "code",
   "execution_count": null,
   "id": "51043a09",
   "metadata": {},
   "outputs": [],
   "source": [
    "moo = clmm.Modeling(massdef = 'critical', delta_mdef = 200, halo_profile_model = 'nfw')\n",
    "moo.set_cosmo(cosmo_clmm)\n",
    "deff = ccl.halos.massdef.MassDef(200, 'critical', c_m_relation=None)\n",
    "conc = ccl.halos.concentration.ConcentrationDiemer15(mdef=deff)"
   ]
  },
  {
   "cell_type": "code",
   "execution_count": null,
   "id": "08f8f6f6",
   "metadata": {},
   "outputs": [],
   "source": [
    "def modele_ds(r, logm, c, cluster_z):\n",
    "    m = 10.**logm \n",
    "    moo.set_mass(m)\n",
    "    moo.set_concentration(c)\n",
    "    deltasigma = [] \n",
    "    for i, xr in enumerate(r):\n",
    "        deltasigma.append(moo.eval_excess_surface_density(xr, cluster_z))\n",
    "    return np.array(deltasigma)"
   ]
  },
  {
   "cell_type": "code",
   "execution_count": null,
   "id": "b2fc6e37",
   "metadata": {},
   "outputs": [],
   "source": [
    "def sig(r, z, r00, r0c):\n",
    "    r0 = r00 \n",
    "    rc = r0c \n",
    "    res = []\n",
    "    for R in r: res.append((1./(1 + np.exp(-(R-r0)/rc))))\n",
    "    return np.array(res)"
   ]
  },
  {
   "cell_type": "code",
   "execution_count": null,
   "id": "9577821b",
   "metadata": {},
   "outputs": [],
   "source": [
    "def fit_sigmoid(profile = 1, cov = 1, fix_logm = True):\n",
    "    \n",
    "    r0, rc = [], []\n",
    "    r0_err, rc_err = [], []\n",
    "    logm_obs = []\n",
    "\n",
    "    for i, p in enumerate(profile):\n",
    "\n",
    "        def chi2(logm, r00, rc0):\n",
    "\n",
    "            chi = 0\n",
    "            \n",
    "            if fix_logm == True: logm = np.log10(p['obs_mean'])\n",
    "            cluster_z, R, y_exp, cov_t =  p['z_mean'], np.array(p['radius']), p['gt'], cov[i]['cov_t'].T.diagonal()\n",
    "            sigmoid = sig(np.array(R, dtype = float), cluster_z, r00, rc0)\n",
    "            y_predict = modele_ds(R, logm, conc._concentration(cosmo_ccl, 10**logm, 1/(1 + cluster_z)), cluster_z)\n",
    "            data_vector = ((y_predict*sigmoid - y_exp)/np.sqrt(cov_t[0]))[(R < 5.5)]\n",
    "            d = data_vector\n",
    "            return np.sum((d)**2)\n",
    "\n",
    "        minuit = iminuit.Minuit(chi2, logm = 14, r00 = 0.5, rc0 = 0.5)\n",
    "        minuit.limits = [(11, 16),(0., 1),(0., 1)]\n",
    "        minuit.errordef = 1\n",
    "\n",
    "        minuit.migrad()\n",
    "        minuit.hesse()\n",
    "        #minuit.minos()\n",
    "        r0.append(minuit.values['r00'])\n",
    "        rc.append(minuit.values['rc0'])\n",
    "        r0_err.append(minuit.errors['r00'])\n",
    "        rc_err.append(minuit.errors['rc0'])\n",
    "        logm_obs.append(np.log10(p['obs_mean']))\n",
    "\n",
    "    r0 = np.array(r0)\n",
    "    r0_err = np.array(r0_err)\n",
    "    rc = np.array(rc)\n",
    "    rc_err = np.array(rc_err)\n",
    "    return r0, r0_err, rc, rc_err, logm_obs"
   ]
  },
  {
   "cell_type": "code",
   "execution_count": null,
   "id": "e246b67c",
   "metadata": {},
   "outputs": [],
   "source": [
    "r0, r0_err, rc, rc_err, logm_obs = fit_sigmoid(profile = profile_stack_true, cov = covariance_stack_true, fix_logm = True)\n",
    "print(r0, r0_err, rc, rc_err, logm_obs)"
   ]
  },
  {
   "cell_type": "code",
   "execution_count": null,
   "id": "ed44395a",
   "metadata": {},
   "outputs": [],
   "source": [
    "def fit(profile, r0, r0_err, rc, rc_err):\n",
    "    \n",
    "    def chi2(a, b):\n",
    "        z = profile['z_mean']\n",
    "        yexp = r0 + 6*rc\n",
    "        yexp_err = np.sqrt(r0_err**2 + 36*rc_err**2)\n",
    "        model = a * z  + b\n",
    "        return np.sum(((yexp - model)/yexp_err)**2)\n",
    "\n",
    "    minuit = iminuit.Minuit(chi2, a = 1, b = 0)\n",
    "    minuit.errordef = 1\n",
    "    minuit.migrad(),minuit.hesse(),minuit.minos()\n",
    "    print(minuit.fval/(len(r0)-2))\n",
    "    return minuit"
   ]
  },
  {
   "cell_type": "code",
   "execution_count": null,
   "id": "1a3364c3",
   "metadata": {},
   "outputs": [],
   "source": [
    "minuit = fit(profile_stack_true, r0, r0_err, rc, rc_err)"
   ]
  },
  {
   "cell_type": "code",
   "execution_count": null,
   "id": "67e5797d",
   "metadata": {},
   "outputs": [],
   "source": [
    "plt.figure(figsize = (10,7))\n",
    "plt.rcParams['axes.linewidth']=2\n",
    "d = cosmo_clmm.eval_da(profile_stack_true['z_mean'])\n",
    "z = np.linspace(0,2, 100)\n",
    "factor = 1\n",
    "sigma = 1\n",
    "\n",
    "plt.errorbar(profile_stack_true['z_mean'], (r0 + 6*rc)/factor, np.sqrt(r0_err**2 + 36*rc_err**2)/factor , fmt = ' ', capsize = 4, color = 'r', marker = 'o', markersize = 4, zorder = 100, label = 'cosmoDC2')\n",
    "y = (( minuit.values['a']) * profile_stack_true['z_mean'] + ( minuit.values['b'] ))/factor\n",
    "y_up =(( minuit.values['a'] + sigma* minuit.errors['a']) * z + ( minuit.values['b'] + sigma* minuit.errors['b']))/factor\n",
    "y_down =(( minuit.values['a'] - sigma* minuit.errors['a']) * z + ( minuit.values['b'] - sigma* minuit.errors['b']))/factor\n",
    "plt.fill_between(z,y_up, y_down, color = 'salmon', alpha = 0.5, zorder = 0)\n",
    "\n",
    "plt.xlabel('z', fontsize = 20)\n",
    "plt.ylim(0.5,2.6)\n",
    "plt.yscale('log')\n",
    "plt.xlim(0.2, 1)\n",
    "plt.ylabel(r'$r_0 + 6r_c$ [Mpc]', fontsize = 20)\n",
    "ticks = [0.3,0.4,0.5,0.6, 0.7, 1, 1.5, 2]\n",
    "ticks_str = [str(t) for t in ticks]\n",
    "plt.yticks(ticks=ticks, labels=ticks_str)\n",
    "plt.tick_params(axis='both', which = 'major', labelsize= 15, zorder = 0)\n",
    "plt.legend(loc='upper left', frameon = False, fontsize = 20, numpoints = 1)\n",
    "    #plt.savefig('/pbs/throng/lsst/users/cpayerne/ThesisAtCCin2p3/Images/sigmoid_cosmoDC2_SkySim.png', bbox_inches='tight', dpi=300)"
   ]
  }
 ],
 "metadata": {
  "kernelspec": {
   "display_name": "mydesc",
   "language": "python",
   "name": "mydesc"
  },
  "language_info": {
   "codemirror_mode": {
    "name": "ipython",
    "version": 3
   },
   "file_extension": ".py",
   "mimetype": "text/x-python",
   "name": "python",
   "nbconvert_exporter": "python",
   "pygments_lexer": "ipython3",
   "version": "3.8.8"
  }
 },
 "nbformat": 4,
 "nbformat_minor": 5
}
