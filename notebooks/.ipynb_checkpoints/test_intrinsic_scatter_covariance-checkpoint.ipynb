{
 "cells": [
  {
   "cell_type": "code",
   "execution_count": 1,
   "id": "5c96e453",
   "metadata": {},
   "outputs": [],
   "source": [
    "%load_ext autoreload\n",
    "\n",
    "%autoreload 2\n",
    "import matplotlib.pyplot as plt\n",
    "import pickle\n",
    "from astropy.coordinates import SkyCoord, match_coordinates_3d, match_coordinates_sky\n",
    "import sys\n",
    "import emcee\n",
    "import numpy as np\n",
    "from astropy.cosmology import FlatLambdaCDM\n",
    "import astropy.units as u\n",
    "from astropy.table import Table, QTable, hstack, vstack\n",
    "from astropy import units as u\n",
    "import corner\n",
    "from astropy.coordinates import SkyCoord, match_coordinates_3d\n",
    "cosmo_astropy = FlatLambdaCDM(H0=71.0, Om0=0.265, Ob0 = 0.0448)\n",
    "import iminuit\n",
    "from iminuit import Minuit\n",
    "cosmo_astropy.critical_density(0.4).to(u.Msun / u.Mpc**3).value\n",
    "\n",
    "sys.path.append('/pbs/throng/lsst/users/cpayerne/CLMassDC2/modules/')\n",
    "import CL_WL_miscentering as mis\n",
    "import analysis_Mass_Richness_relation as analysis\n",
    "import CL_WL_two_halo_term as twoh\n",
    "import CL_WL_mass_conversion as utils\n",
    "import CL_DATAOPS_match_catalogs as match\n",
    "import CL_WL_DATAOPS_make_profile as prf\n",
    "import CL_Likelihood_for_Mass_richness_relation as mass_richness\n",
    "import CL_WL_fit_cluster_mass as fit\n",
    "import CL_fiducial_mass_richness_relation as fiducial\n",
    "#import analysis_Mass_richness_relation as analysis\n",
    "\n",
    "\n",
    "import clmm\n",
    "import clmm.dataops\n",
    "from clmm.dataops import compute_tangential_and_cross_components, make_radial_profile, make_bins\n",
    "from clmm.galaxycluster import GalaxyCluster\n",
    "import clmm.utils as u\n",
    "import astropy.units as un\n",
    "from clmm import Cosmology\n",
    "from clmm.support import mock_data as mock\n",
    "import pyccl as ccl\n",
    "\n",
    "cosmo = Cosmology(H0 = 71.0, Omega_dm0 = 0.265 - 0.0448, Omega_b0 = 0.0448, Omega_k0 = 0.0)\n",
    "cosmo_astropy = FlatLambdaCDM(H0=71.0, Om0=0.265, Ob0 = 0.0448)\n",
    "cosmo_clmm = Cosmology(H0 = 71.0, Omega_dm0 = 0.265 - 0.0448, Omega_b0 = 0.0448, Omega_k0 = 0.0)\n",
    "cosmo_ccl  = ccl.Cosmology(Omega_c=0.265-0.0448, Omega_b=0.0448, h=0.71, A_s=2.1e-9, n_s=0.96, Neff=0, Omega_g=0)"
   ]
  },
  {
   "cell_type": "code",
   "execution_count": 2,
   "id": "a78ec39f",
   "metadata": {},
   "outputs": [],
   "source": [
    "def load(filename, **kwargs):\n",
    "    with open(filename, 'rb') as fin:\n",
    "        return pickle.load(fin, **kwargs)"
   ]
  },
  {
   "cell_type": "code",
   "execution_count": 3,
   "id": "b286b46c-3394-46af-a8b5-0092d4daca7b",
   "metadata": {},
   "outputs": [],
   "source": [
    "ind_profile = np.load('../data/data_new_version/ind_profile_redmapper.pkl', allow_pickle = True)\n",
    "ind_profile['cluster_id'] = ind_profile['id']"
   ]
  },
  {
   "cell_type": "code",
   "execution_count": 4,
   "id": "a409750e-8282-4e24-83a4-0c27611e3d8a",
   "metadata": {},
   "outputs": [],
   "source": [
    "sum_weights_per_cluster_10 = []\n",
    "sum_weights_per_cluster_5 = []\n",
    "for i, cl in enumerate(ind_profile):\n",
    "    mask = (ind_profile['radius_true'][i] > 1)*(ind_profile['radius_true'][i] < 10)\n",
    "    sum_weights_per_cluster_10.append(np.sum(ind_profile['W_l_true'][i][mask]))\n",
    "    mask = (ind_profile['radius_true'][i] > 1)*(ind_profile['radius_true'][i] < 5.5)\n",
    "    sum_weights_per_cluster_5.append(np.sum(ind_profile['W_l_true'][i][mask]))"
   ]
  },
  {
   "cell_type": "code",
   "execution_count": 5,
   "id": "434da12f",
   "metadata": {},
   "outputs": [],
   "source": [
    "ind_profile['weight_per_cluster_5'] = np.array(sum_weights_per_cluster_5)*1e27\n",
    "ind_profile['weight_per_cluster_10'] = np.array(sum_weights_per_cluster_10)*1e27"
   ]
  },
  {
   "cell_type": "code",
   "execution_count": 6,
   "id": "efeeb09d",
   "metadata": {},
   "outputs": [],
   "source": [
    "Z_bin = analysis.Z_bin\n",
    "Obs_bin = analysis.Obs_bin\n",
    "Gamma_5 = 0.75\n",
    "Gamma_10 = 0.8"
   ]
  },
  {
   "cell_type": "code",
   "execution_count": 7,
   "id": "11f75089-90c2-419c-a098-3facd3bf44c2",
   "metadata": {},
   "outputs": [],
   "source": [
    "z_max = max(Z_bin[-1])\n",
    "z_min = min(Z_bin[0])\n",
    "obs_min = min(Obs_bin[0])\n",
    "obs_max = max(Obs_bin[-1])"
   ]
  },
  {
   "cell_type": "code",
   "execution_count": 8,
   "id": "a47663af-7e5b-4db2-9cbf-9f929f023282",
   "metadata": {},
   "outputs": [
    {
     "data": {
      "text/plain": [
       "0.2"
      ]
     },
     "execution_count": 8,
     "metadata": {},
     "output_type": "execute_result"
    }
   ],
   "source": [
    "z_min"
   ]
  },
  {
   "cell_type": "markdown",
   "id": "6f3eb348-8bb9-43a2-8a10-ae0b6acbf426",
   "metadata": {},
   "source": [
    "# WL masses"
   ]
  },
  {
   "cell_type": "markdown",
   "id": "fc71ac3b",
   "metadata": {},
   "source": [
    "## WL shear profiles"
   ]
  },
  {
   "cell_type": "code",
   "execution_count": 9,
   "id": "453eaa93",
   "metadata": {},
   "outputs": [],
   "source": [
    "profile_sky_stack = prf.stacked_profile(profile = ind_profile,\n",
    "                    r_in = 'radius_true',\n",
    "                    gt_in = 'DSt_true', gx_in = 'DSx_true',\n",
    "                    r_out = 'radius',\n",
    "                    gt_out = 'gt', gx_out = 'gx',\n",
    "                    weight = 'W_l_true',\n",
    "                    z_name = 'redshift', obs_name = 'richness',\n",
    "                    Z_bin = Z_bin, Obs_bin = Obs_bin,\n",
    "                    add_columns_to_bin = ['weight_per_cluster_10','weight_per_cluster_5', 'richness', 'redshift'])\n",
    "\n",
    "covariance_sky_stack = prf.bootstrap_covariance(profile = ind_profile,\n",
    "    r_in = 'radius_true',\n",
    "                    gt_in = 'DSt_true', gx_in = 'DSx_true',\n",
    "                    r_out = 'radius',\n",
    "                    gt_out = 'gt', gx_out = 'gx',\n",
    "                    weight = 'W_l_true',\n",
    "                    n_boot = 400,\n",
    "                    z_name = 'redshift', obs_name = 'richness',\n",
    "                    Z_bin = Z_bin, Obs_bin = Obs_bin)"
   ]
  },
  {
   "cell_type": "markdown",
   "id": "890b9359-284f-43c5-ad36-d70af6e119fd",
   "metadata": {},
   "source": [
    "## Fit WL masses"
   ]
  },
  {
   "cell_type": "code",
   "execution_count": 10,
   "id": "96e4e889-654a-44d9-be20-80ce713a04ab",
   "metadata": {},
   "outputs": [
    {
     "name": "stdout",
     "output_type": "stream",
     "text": [
      "The autoreload extension is already loaded. To reload it, use:\n",
      "  %reload_ext autoreload\n"
     ]
    }
   ],
   "source": [
    "%load_ext autoreload\n",
    "%autoreload 2\n",
    "import CL_WL_fit_cluster_mass as fit"
   ]
  },
  {
   "cell_type": "code",
   "execution_count": 11,
   "id": "f7c07e5a-3aca-4a52-9c38-4241201d391c",
   "metadata": {},
   "outputs": [
    {
     "name": "stdout",
     "output_type": "stream",
     "text": [
      "fitting...\n"
     ]
    }
   ],
   "source": [
    "#fix_c_Diemer15 =       fit.fit_WL_cluster_mass(profile = profile_sky_stack, covariance = covariance_sky_stack, a = 0, b = 1, rmax = 5.5, two_halo_term = False, fix_c = True, mc_relation = 'Diemer15')\n",
    "a = 0\n",
    "b = 1\n",
    "rmax = 5.5\n",
    "fix_c_Duffy08 =        fit.fit_WL_cluster_mass(profile = profile_sky_stack, covariance = covariance_sky_stack, a = a, b = b, rmax = rmax, two_halo_term = False, fix_c = True, mc_relation = 'Duffy08')\n",
    "#fix_c_Prada12 =        fit.fit_WL_cluster_mass(profile = profile_sky_stack, covariance = covariance_sky_stack, a = 0, b = 1, rmax = 5.5, two_halo_term = False, fix_c = True, mc_relation = 'Prada12')\n",
    "#fix_c_Bhattacharya13 = fit.fit_WL_cluster_mass(profile = profile_sky_stack, covariance = covariance_sky_stack, a = 0, b = 1, rmax = 5.5, two_halo_term = False, fix_c = True, mc_relation = 'Bhattacharya13')\n",
    "#free_c_1h =            fit.fit_WL_cluster_mass(profile = profile_sky_stack, covariance = covariance_sky_stack, a = 0, b = 1, rmax = 5.5, two_halo_term = False, fix_c = False)"
   ]
  },
  {
   "cell_type": "code",
   "execution_count": 12,
   "id": "2712bb53-5f70-45b7-87c3-12638f31ec72",
   "metadata": {},
   "outputs": [
    {
     "data": {
      "text/plain": [
       "Text(0, 0.5, '$\\\\log_{10}(M_{\\\\rm 200c}^{\\\\rm WL}/M_{\\\\odot})$')"
      ]
     },
     "execution_count": 12,
     "metadata": {},
     "output_type": "execute_result"
    },
    {
     "data": {
      "image/png": "[encoded data removed]",
      "text/plain": [
       "<Figure size 720x504 with 1 Axes>"
      ]
     },
     "metadata": {
      "needs_background": "light"
     },
     "output_type": "display_data"
    }
   ],
   "source": [
    "import matplotlib.ticker\n",
    "fig, ax  = plt.subplots(figsize = (10,7))\n",
    "color_z = ['orange','red','magenta','purple','green','cyan','blue','black']\n",
    "x = np.linspace(1,3,100)\n",
    "f = fix_c_Duffy08\n",
    "for k, z_bin in enumerate(Z_bin):\n",
    "        f = Table(f)\n",
    "        plt.plot([],[], '-', c = color_z[k],label = f'{z_bin[0]:.2f}'+ r'$< z < $'+ f'{z_bin[1]:.2f}',)\n",
    "        mask = (f['z_mean'] > z_bin[0])*(f['z_mean'] < z_bin[1])\n",
    "        f_cut = f[mask]\n",
    "        a_t = 1./(1 + f_cut['z_mean'])\n",
    "        richness = f_cut['obs_mean']\n",
    "        richness_err = f_cut['obs_rms']\n",
    "        logm200w = f_cut['logm200_w']\n",
    "        logm200w_err = f_cut['logm200_w_err']\n",
    "        ax.errorbar(richness,logm200w,logm200w_err, richness_err,\n",
    "                    marker = '.', fmt = ' ',\n",
    "                    elinewidth = 2, capsize = 0, markersize = 7, c = color_z[k],\n",
    "                        markerfacecolor = None)\n",
    "\n",
    "ax.set_ylim(14,14.8)\n",
    "ax.set_xscale('log')\n",
    "ax.tick_params(axis='both', which = 'major', labelsize= 20)\n",
    "ax.set_xticks([30,40, 60, 100, 200])\n",
    "ax.get_xaxis().set_major_formatter(matplotlib.ticker.ScalarFormatter())\n",
    "ax.legend(frameon = False, fontsize = 20, loc = 'lower right')\n",
    "ax.set_xlabel(r'richness $\\lambda$', fontsize = 30)\n",
    "ax.set_ylabel(r'$\\log_{10}(M_{\\rm 200c}^{\\rm WL}/M_{\\odot})$', fontsize = 30)\n",
    "#plt.savefig('/pbs/throng/lsst/users/cpayerne/ThesisAtCCin2p3/Images/est_mass_validation_free_c_1h.png', bbox_inches='tight', dpi=300)\n",
    "#plt.show()"
   ]
  },
  {
   "cell_type": "markdown",
   "id": "7fa77df1-7c76-4eae-a353-b7a1e247c485",
   "metadata": {},
   "source": [
    "# WL Mass-richness relation"
   ]
  },
  {
   "cell_type": "markdown",
   "id": "b9acf8f1-bb03-42c2-8b69-fe692858136d",
   "metadata": {},
   "source": [
    "## first approach"
   ]
  },
  {
   "cell_type": "code",
   "execution_count": 156,
   "id": "cbb4dddb-7c7c-44c6-8918-6cc1680fdfe2",
   "metadata": {},
   "outputs": [],
   "source": [
    "lnL = mass_richness.WL_Mass_Richness()"
   ]
  },
  {
   "cell_type": "code",
   "execution_count": 157,
   "id": "cc620524-aef0-4128-9fcb-28a20fab8bca",
   "metadata": {},
   "outputs": [
    {
     "name": "stderr",
     "output_type": "stream",
     "text": [
      "100%|██████████| 100/100 [00:14<00:00,  7.10it/s]\n",
      "100%|██████████| 100/100 [00:14<00:00,  7.13it/s]\n",
      "100%|██████████| 100/100 [00:14<00:00,  6.87it/s]\n"
     ]
    }
   ],
   "source": [
    "z0 = analysis.z0\n",
    "richness0 = analysis.richness0\n",
    "initial_binned = [14.1,-1,.75]\n",
    "npath = 100\n",
    "ndim=3\n",
    "nwalkers = 200\n",
    "pos_binned = initial_binned + 0.01 * np.random.randn(nwalkers, len(initial_binned))\n",
    "label = [r'$M_{\\rm wl}$',r'$M_{\\rm wl}+w$',r'$M_{\\rm wl}+w+\\Gamma$']\n",
    "sampler_list = {}\n",
    "w = ['nlensing', 'lensing','lensing']\n",
    "Gamma = [1, 1, Gamma_5]\n",
    "fits = [fix_c_Duffy08,fix_c_Duffy08,fix_c_Duffy08]\n",
    "for i,fit_true in enumerate(fits):\n",
    "    \n",
    "    fit_true = fit_true[fit_true['z_mean'] < .8]\n",
    "    \n",
    "    if w[i]=='nlensing':\n",
    "        wused = fit_true['weight_per_cluster_5']*0 + 1\n",
    "    else: wused = fit_true['weight_per_cluster_5']\n",
    "    \n",
    "    lnL = mass_richness.WL_Mass_Richness(logm=fit_true['logm200_w'], logm_err=fit_true['logm200_w_err'], \n",
    "                 richness=fit_true['obs_mean'], richness_err=None, \n",
    "                 z=fit_true['z_mean'], z_err=None,\n",
    "                 richness_individual=fit_true['richness'], \n",
    "                 z_individual=fit_true['redshift'], \n",
    "                 n_cluster_per_bin=None, weights_individual=wused)\n",
    "    lnL.set_pivot_values(z0, richness0)\n",
    "    lnL.Gamma = Gamma[i]\n",
    "    from multiprocessing import Pool\n",
    "    with Pool() as pool:\n",
    "        sampler = emcee.EnsembleSampler(nwalkers, ndim, lnL.lnLikelihood_individual_zrichness, pool=pool)\n",
    "        sampler.run_mcmc(pos_binned, npath,progress=True)\n",
    "    sampler_wl = sampler.get_chain(discard = 0, flat = True)\n",
    "    sampler_list[label[i]] = sampler_wl"
   ]
  },
  {
   "cell_type": "markdown",
   "id": "441854cb-fbdb-434a-918c-b4e19630e7e5",
   "metadata": {},
   "source": [
    "## Second approach"
   ]
  },
  {
   "cell_type": "code",
   "execution_count": 158,
   "id": "01161302-f572-48c3-87b5-d65a343f7e3b",
   "metadata": {},
   "outputs": [],
   "source": [
    "prf_truncated = []\n",
    "inv_cov_truncated = []\n",
    "radius_truncated = []\n",
    "z = []\n",
    "richness = []\n",
    "for halo, cov in zip(profile_sky_stack, covariance_sky_stack):\n",
    "    if (halo['z_mean'] > .8): continue\n",
    "\n",
    "    z.append(halo['z_mean'])\n",
    "    richness.append(halo['obs_mean'])\n",
    "    mask = (halo['radius'] > b)*(halo['radius'] < rmax)\n",
    "    prf_truncated.append(halo['gt'][mask])\n",
    "    radius_truncated.append(halo['radius'][mask])\n",
    "    index_cut=np.arange(len(halo['radius']))[mask]\n",
    "    cov_tr = np.array([np.array([cov['cov_t'][i,j] for i in index_cut]) for j in index_cut])\n",
    "    #inv_cov_truncated.append(np.linalg.inv(cov_tr))\n",
    "    inv_cov_truncated.append(np.linalg.inv(np.diag(cov_tr.diagonal())))"
   ]
  },
  {
   "cell_type": "code",
   "execution_count": 159,
   "id": "67b8426a-03ed-47c8-a175-568a458b792b",
   "metadata": {},
   "outputs": [],
   "source": [
    "moo=clmm.Modeling(massdef = 'critical', delta_mdef = 200, halo_profile_model = 'nfw')\n",
    "moo.set_cosmo(cosmo_clmm)\n",
    "deff = ccl.halos.massdef.MassDef(200, 'critical', c_m_relation=None)\n",
    "concDiemer15 = ccl.halos.concentration.ConcentrationDiemer15(mdef=deff)\n",
    "concDuffy08 = ccl.halos.concentration.ConcentrationDuffy08(mdef=deff)\n",
    "concPrada12 = ccl.halos.concentration.ConcentrationPrada12(mdef=deff)\n",
    "concBhattacharya13 = ccl.halos.concentration.ConcentrationBhattacharya13(mdef=deff)"
   ]
  },
  {
   "cell_type": "code",
   "execution_count": 160,
   "id": "181493e7-b232-4170-9ef3-9aa31160e137",
   "metadata": {},
   "outputs": [],
   "source": [
    "def ds(r, m, c, z):\n",
    "    moo.set_mass(m), moo.set_concentration(c)\n",
    "    y=moo.eval_excess_surface_density([float(r[i]) for i in range(len(r))], z)\n",
    "    return y"
   ]
  },
  {
   "cell_type": "code",
   "execution_count": 161,
   "id": "2b5873b0-de07-4c5c-a8f5-cb25816dc72c",
   "metadata": {},
   "outputs": [],
   "source": [
    "def lnlikelihood_from_shear_profile(theta):\n",
    "    logM0,G,F=theta\n",
    "    chi2=0\n",
    "    for n, halo in enumerate(prf_truncated):\n",
    "        m = 10**lnL.mu_logM_lambda(richness[n], z[n], theta)\n",
    "        c = concDuffy08._concentration(cosmo_ccl, m, 1./(1. + z[n]))\n",
    "        y=ds(radius_truncated[n], m, c, z[n])\n",
    "        delta = halo-y\n",
    "        chi2+=.5*np.sum(delta*inv_cov_truncated[n].dot(delta))\n",
    "    return -chi2"
   ]
  },
  {
   "cell_type": "code",
   "execution_count": 162,
   "id": "f10e758d-7825-46dd-80f3-4fc0422167bf",
   "metadata": {},
   "outputs": [
    {
     "name": "stderr",
     "output_type": "stream",
     "text": [
      "100%|██████████| 100/100 [00:04<00:00, 20.55it/s]\n"
     ]
    }
   ],
   "source": [
    "lnL.set_pivot_values(z0, richness0)\n",
    "from multiprocessing import Pool\n",
    "with Pool() as pool:\n",
    "    sampler = emcee.EnsembleSampler(nwalkers, ndim, lnlikelihood_from_shear_profile, pool=pool)\n",
    "    sampler.run_mcmc(pos_binned, npath,progress=True)\n",
    "sampler_wl = sampler.get_chain(discard = 0, flat = True)\n",
    "sampler_list[r'$\\Delta\\Sigma_{\\rm wl}$'] = sampler_wl"
   ]
  },
  {
   "cell_type": "code",
   "execution_count": 163,
   "id": "2b9b376b-e181-4b61-9c10-b0b524de8529",
   "metadata": {},
   "outputs": [
    {
     "name": "stdout",
     "output_type": "stream",
     "text": [
      "16\n",
      "[255 109  51  15 447 214  64  28 531 199  90  32 520 220  77  21]\n"
     ]
    },
    {
     "name": "stderr",
     "output_type": "stream",
     "text": [
      "100%|██████████| 100/100 [00:06<00:00, 14.80it/s]\n"
     ]
    }
   ],
   "source": [
    "fix_c_Duffy08_cut = fix_c_Duffy08[fix_c_Duffy08['z_mean'] < .8]\n",
    "n_cluster = len(fix_c_Duffy08_cut)\n",
    "lnL.Gamma = .75\n",
    "print(n_cluster)\n",
    "lnL.n_cluster_per_bin = np.array([len(fix_c_Duffy08_cut['redshift'][i]) for i in range(n_cluster)])\n",
    "print(lnL.n_cluster_per_bin)\n",
    "initial_binned = [14.1,-1,.75, .1]\n",
    "npath = 100\n",
    "ndim=4\n",
    "nwalkers = 200\n",
    "pos_binned = initial_binned + 0.01 * np.random.randn(nwalkers, len(initial_binned))\n",
    "from multiprocessing import Pool\n",
    "with Pool() as pool:\n",
    "    lnL.lnLikelihood_binned_intrinsic_scatter(initial_binned)\n",
    "    sampler = emcee.EnsembleSampler(nwalkers, ndim, lnL.lnLikelihood_binned_intrinsic_scatter, pool=pool)\n",
    "    sampler.run_mcmc(pos_binned, npath,progress=True)\n",
    "sampler_scatter = sampler.get_chain(discard = 0, flat = True)\n",
    "sampler_list[r'$M_{\\rm wl}$ + scatter'] = sampler_scatter[sampler_scatter[:,3]>0][:,:-1]"
   ]
  },
  {
   "cell_type": "code",
   "execution_count": 164,
   "id": "c2ac1d17-a346-457a-b92c-0ddc0e17a7a8",
   "metadata": {},
   "outputs": [],
   "source": [
    "k = sampler_list[r'$M_{\\rm wl}$']\n",
    "a = len(k)\n",
    "middle = np.mean(k[19000:a-1], axis = 0)\n",
    "std = np.std(k[19000:a-1], axis = 0)\n",
    "range_corner_plot = [(middle[i]- 3.5*std[i], middle[i]+ 3.5*std[i]) for i in range(3)]"
   ]
  },
  {
   "cell_type": "code",
   "execution_count": 170,
   "id": "184ad933",
   "metadata": {},
   "outputs": [
    {
     "name": "stderr",
     "output_type": "stream",
     "text": [
      "WARNING:matplotlib.legend:No handles with labels found to put in legend.\n"
     ]
    },
    {
     "name": "stdout",
     "output_type": "stream",
     "text": [
      "(20000, 3)\n",
      "20000\n",
      "(20000, 3)\n",
      "20000\n",
      "(20000, 3)\n",
      "20000\n",
      "(20000, 3)\n",
      "20000\n",
      "(20000, 3)\n",
      "20000\n"
     ]
    },
    {
     "data": {
      "image/png": "[encoded data removed]",
      "text/plain": [
       "<Figure size 504x504 with 9 Axes>"
      ]
     },
     "metadata": {
      "needs_background": "light"
     },
     "output_type": "display_data"
    }
   ],
   "source": [
    "plt.rcParams['axes.linewidth'] = 1.3\n",
    "labels_param = [r'$\\log_{10}(M_{0})$', r'$G_z$',r'$F_\\lambda$']\n",
    "sigma1 = 1. - np.exp(-(1./1.)**2/2.)\n",
    "sigma2 = 1. - np.exp(-(2./1.)**2/2.)\n",
    "sigma3 = 1. - np.exp(-(3./1.)**2/2.)\n",
    "truth = [14.162, -0.23, 0.8]\n",
    "bins = 20\n",
    "c = ['r', 'orange', 'salmon', 'k', 'b', 'g']\n",
    "fill_contours = [False, False,False, False,  False, False]\n",
    "dashed = ['solid','solid','solid', 'dashed', 'solid', 'solid']\n",
    "fig, axs = plt.subplots(3,3, figsize = (7,7))\n",
    "fig.subplots_adjust(left=None, bottom=None, right=None, top=None, wspace=10, hspace=0)\n",
    "#for i, name in enumerate(label_plot):\n",
    "#    axs[0,2].plot([],[], c[i], linewidth = 10, label = label_plot[i])\n",
    "\n",
    "for i,sample in enumerate(sampler_list):\n",
    "    #if np.isin(sample, [r'$M_{\\rm wl}$ + scatter']):\n",
    "    #    continue\n",
    "    sample = sampler_list[sample]\n",
    "    print(sample.shape)\n",
    "    a = len(sample)\n",
    "    print(a)\n",
    "    sample_cut = sample[19000:a-1]\n",
    "    fig = corner.corner(\n",
    "    sample_cut,\n",
    "    bins=bins, levels=(sigma1, sigma2),\n",
    "        #truths = fiducial_constraint,\n",
    "    \n",
    "    #range = range_corner_plot,\n",
    "    fig = fig,\n",
    "    color = c[i],\n",
    "        ls = '--',\n",
    "    smooth1d=True,smooth=True,plot_datapoints=False,\n",
    "    fill_contours=fill_contours[i], labels = labels_param,            \n",
    "    label_kwargs={\"fontsize\": 20},\n",
    "    use_math_text=True,\n",
    "    show_title = True,\n",
    "    plot_density=False,\n",
    "    max_n_ticks = 5, \n",
    "    contour_kwargs={'linestyles':dashed[i], 'linewidths':2})\n",
    "axs[0,2].legend(frameon = True, fontsize = 15, loc = 'upper right')\n",
    "for i in range(3):\n",
    "    for j in range(3):\n",
    "        axs[i,j].tick_params(axis='both', which = 'major', labelsize= 10)\n",
    "       # if i == j:\n",
    "           # axs[i,j].set_ylim(0,500)\n",
    "\n",
    "#plt.savefig('effect_modelling_likelihood_consideration.png', bbox_inches='tight', dpi=300)"
   ]
  }
 ],
 "metadata": {
  "kernelspec": {
   "display_name": "mydesc",
   "language": "python",
   "name": "mydesc"
  },
  "language_info": {
   "codemirror_mode": {
    "name": "ipython",
    "version": 3
   },
   "file_extension": ".py",
   "mimetype": "text/x-python",
   "name": "python",
   "nbconvert_exporter": "python",
   "pygments_lexer": "ipython3",
   "version": "3.7.6"
  }
 },
 "nbformat": 4,
 "nbformat_minor": 5
}
