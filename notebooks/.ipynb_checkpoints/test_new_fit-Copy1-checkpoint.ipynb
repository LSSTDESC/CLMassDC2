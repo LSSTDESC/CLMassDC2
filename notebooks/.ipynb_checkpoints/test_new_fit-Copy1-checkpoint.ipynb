{
 "cells": [
  {
   "cell_type": "code",
   "execution_count": 24,
   "id": "5c96e453",
   "metadata": {},
   "outputs": [
    {
     "name": "stdout",
     "output_type": "stream",
     "text": [
      "The autoreload extension is already loaded. To reload it, use:\n",
      "  %reload_ext autoreload\n"
     ]
    }
   ],
   "source": [
    "%load_ext autoreload\n",
    "\n",
    "%autoreload 2\n",
    "from multiprocessing import Pool\n",
    "import matplotlib.pyplot as plt\n",
    "import pickle\n",
    "from astropy.coordinates import SkyCoord, match_coordinates_3d, match_coordinates_sky\n",
    "import sys\n",
    "import emcee\n",
    "import numpy as np\n",
    "from astropy.cosmology import FlatLambdaCDM\n",
    "import astropy.units as u\n",
    "from astropy.table import Table, QTable, hstack, vstack\n",
    "from astropy import units as u\n",
    "import corner\n",
    "from astropy.coordinates import SkyCoord, match_coordinates_3d\n",
    "cosmo_astropy = FlatLambdaCDM(H0=71.0, Om0=0.265, Ob0 = 0.0448)\n",
    "import iminuit\n",
    "from iminuit import Minuit\n",
    "cosmo_astropy.critical_density(0.4).to(u.Msun / u.Mpc**3).value\n",
    "\n",
    "sys.path.append('/pbs/throng/lsst/users/cpayerne/CLMassDC2/modules/')\n",
    "import CL_WL_miscentering as mis\n",
    "import analysis_Mass_Richness_relation as analysis\n",
    "import CL_WL_two_halo_term as twoh\n",
    "import CL_WL_mass_conversion as utils\n",
    "import CL_DATAOPS_match_catalogs as match\n",
    "import CL_WL_DATAOPS_make_profile as prf\n",
    "#import CL_Likelihood_for_Mass_richness_relation as mass_richness\n",
    "#import CL_fiducial_mass_richness_relation as fiducial\n",
    "#import analysis_Mass_richness_relation as analysis\n",
    "\n",
    "\n",
    "import clmm\n",
    "import clmm.dataops\n",
    "from clmm.dataops import compute_tangential_and_cross_components, make_radial_profile, make_bins\n",
    "from clmm.galaxycluster import GalaxyCluster\n",
    "import clmm.utils as u\n",
    "import astropy.units as un\n",
    "from clmm import Cosmology\n",
    "from clmm.support import mock_data as mock\n",
    "import pyccl as ccl\n",
    "\n",
    "cosmo = Cosmology(H0 = 71.0, Omega_dm0 = 0.265 - 0.0448, Omega_b0 = 0.0448, Omega_k0 = 0.0)\n",
    "cosmo_astropy = FlatLambdaCDM(H0=71.0, Om0=0.265, Ob0 = 0.0448)\n",
    "cosmo_clmm = Cosmology(H0 = 71.0, Omega_dm0 = 0.265 - 0.0448, Omega_b0 = 0.0448, Omega_k0 = 0.0)\n",
    "cosmo_ccl  = ccl.Cosmology(Omega_c=0.265-0.0448, Omega_b=0.0448, h=0.71, A_s=2.1e-9, n_s=0.96, Neff=0, Omega_g=0)"
   ]
  },
  {
   "cell_type": "code",
   "execution_count": 25,
   "id": "7a0f2343-27ba-4687-a110-5252bd377480",
   "metadata": {},
   "outputs": [
    {
     "data": {
      "text/plain": [
       "<function clmm.theory.func_layer.compute_excess_surface_density_2h(r_proj, z_cl, cosmo, halobias=1.0, lsteps=500, validate_input=True)>"
      ]
     },
     "execution_count": 25,
     "metadata": {},
     "output_type": "execute_result"
    }
   ],
   "source": [
    "clmm.theory.compute_excess_surface_density_2h"
   ]
  },
  {
   "cell_type": "code",
   "execution_count": 26,
   "id": "a78ec39f",
   "metadata": {},
   "outputs": [],
   "source": [
    "def load(filename, **kwargs):\n",
    "    with open(filename, 'rb') as fin:\n",
    "        return pickle.load(fin, **kwargs)"
   ]
  },
  {
   "cell_type": "code",
   "execution_count": 27,
   "id": "b286b46c-3394-46af-a8b5-0092d4daca7b",
   "metadata": {},
   "outputs": [],
   "source": [
    "ind_profile = np.load('../data/data_new_version/ind_profile_redmapper.pkl', allow_pickle = True)\n",
    "ind_profile['cluster_id'] = ind_profile['id']"
   ]
  },
  {
   "cell_type": "code",
   "execution_count": 28,
   "id": "a409750e-8282-4e24-83a4-0c27611e3d8a",
   "metadata": {},
   "outputs": [],
   "source": [
    "sum_weights_per_cluster_10 = []\n",
    "sum_weights_per_cluster_5 = []\n",
    "for i, cl in enumerate(ind_profile):\n",
    "    mask = (ind_profile['radius_true'][i] > 1)*(ind_profile['radius_true'][i] < 10)\n",
    "    sum_weights_per_cluster_10.append(np.sum(ind_profile['W_l_true'][i][mask]))\n",
    "    mask = (ind_profile['radius_true'][i] > 1)*(ind_profile['radius_true'][i] < 5.5)\n",
    "    sum_weights_per_cluster_5.append(np.sum(ind_profile['W_l_true'][i][mask]))"
   ]
  },
  {
   "cell_type": "code",
   "execution_count": 29,
   "id": "434da12f",
   "metadata": {},
   "outputs": [],
   "source": [
    "ind_profile['weight_per_cluster_5'] = np.array(sum_weights_per_cluster_5)*1e27\n",
    "ind_profile['weight_per_cluster_10'] = np.array(sum_weights_per_cluster_10)*1e27"
   ]
  },
  {
   "cell_type": "code",
   "execution_count": 30,
   "id": "efeeb09d",
   "metadata": {},
   "outputs": [],
   "source": [
    "Z_bin = analysis.Z_bin\n",
    "Obs_bin = analysis.Obs_bin\n",
    "Gamma_5 = 0.75\n",
    "Gamma_10 = 0.8"
   ]
  },
  {
   "cell_type": "code",
   "execution_count": 31,
   "id": "75e933b9-4351-49ea-a774-26e6fa7dc8dd",
   "metadata": {},
   "outputs": [
    {
     "data": {
      "text/plain": [
       "[[0.2, 0.35], [0.35, 0.5], [0.5, 0.65]]"
      ]
     },
     "execution_count": 31,
     "metadata": {},
     "output_type": "execute_result"
    }
   ],
   "source": [
    "Z_bin"
   ]
  },
  {
   "cell_type": "code",
   "execution_count": 32,
   "id": "11f75089-90c2-419c-a098-3facd3bf44c2",
   "metadata": {},
   "outputs": [],
   "source": [
    "z_max = max(Z_bin[-1])\n",
    "z_min = min(Z_bin[0])\n",
    "obs_min = min(Obs_bin[0])\n",
    "obs_max = max(Obs_bin[-1])"
   ]
  },
  {
   "cell_type": "code",
   "execution_count": 33,
   "id": "a47663af-7e5b-4db2-9cbf-9f929f023282",
   "metadata": {},
   "outputs": [
    {
     "data": {
      "text/plain": [
       "0.2"
      ]
     },
     "execution_count": 33,
     "metadata": {},
     "output_type": "execute_result"
    }
   ],
   "source": [
    "z_min"
   ]
  },
  {
   "cell_type": "markdown",
   "id": "6f3eb348-8bb9-43a2-8a10-ae0b6acbf426",
   "metadata": {},
   "source": [
    "# WL masses"
   ]
  },
  {
   "cell_type": "markdown",
   "id": "fc71ac3b",
   "metadata": {},
   "source": [
    "## WL shear profiles"
   ]
  },
  {
   "cell_type": "code",
   "execution_count": 34,
   "id": "453eaa93",
   "metadata": {},
   "outputs": [],
   "source": [
    "profile_sky_stack = prf.stacked_profile(profile = ind_profile,\n",
    "                    r_in = 'radius_true',\n",
    "                    gt_in = 'DSt_true', gx_in = 'DSx_true',\n",
    "                    r_out = 'radius',\n",
    "                    gt_out = 'gt', gx_out = 'gx',\n",
    "                    weight = 'W_l_true',\n",
    "                    z_name = 'redshift', obs_name = 'richness',\n",
    "                    Z_bin = Z_bin, Obs_bin = Obs_bin,\n",
    "                    add_columns_to_bin = ['weight_per_cluster_10','weight_per_cluster_5', 'W_l_true', 'richness', 'redshift'])\n",
    "\n",
    "covariance_sky_stack = prf.bootstrap_covariance(profile = ind_profile,\n",
    "    r_in = 'radius_true',\n",
    "                    gt_in = 'DSt_true', gx_in = 'DSx_true',\n",
    "                    r_out = 'radius',\n",
    "                    gt_out = 'gt', gx_out = 'gx',\n",
    "                    weight = 'W_l_true',\n",
    "                    n_boot = 400,\n",
    "                    z_name = 'redshift', obs_name = 'richness',\n",
    "                    Z_bin = Z_bin, Obs_bin = Obs_bin)"
   ]
  },
  {
   "cell_type": "markdown",
   "id": "890b9359-284f-43c5-ad36-d70af6e119fd",
   "metadata": {},
   "source": [
    "## Fit WL masses"
   ]
  },
  {
   "cell_type": "code",
   "execution_count": 35,
   "id": "c980eca1-1158-4997-915c-124c3288511d",
   "metadata": {},
   "outputs": [],
   "source": [
    "import CL_Mass_richness_relation as mr\n",
    "import CL_Likelihood_for_Mass_richness_relation_v2 as likelihood_mr"
   ]
  },
  {
   "cell_type": "code",
   "execution_count": 36,
   "id": "beab9b4a-3e61-4e6d-bba6-b92b169a316c",
   "metadata": {},
   "outputs": [],
   "source": [
    "MR_modeling = mr.WL_Mass_Richness()\n",
    "MR_modeling.set_pivot_values(analysis.z0, analysis.richness0)"
   ]
  },
  {
   "cell_type": "code",
   "execution_count": 37,
   "id": "d2d1acfe-711b-4d78-87ec-382b2413f1e8",
   "metadata": {},
   "outputs": [],
   "source": [
    "def esd_modeling(R, logm, c, z, cosmo):\n",
    "    return clmm.compute_excess_surface_density(R, 10**logm, c, z, cosmo, delta_mdef=200,\n",
    "                                       halo_profile_model='nfw', massdef='critical')"
   ]
  },
  {
   "cell_type": "code",
   "execution_count": 38,
   "id": "1d4d2ae3-5a7d-42e1-a4cc-9ec6828781ff",
   "metadata": {},
   "outputs": [],
   "source": [
    "lnL = likelihood_mr.MR_from_Stacked_ESD_profiles(richness_individual = profile_sky_stack['richness'], \n",
    "                                                   z_individual = profile_sky_stack['redshift'], \n",
    "                                                   weights_per_bin_individual = profile_sky_stack['W_l_true'],\n",
    "                                                   covariance_stack = covariance_sky_stack['cov_t'], \n",
    "                                                   esd_stack = profile_sky_stack['gt'],\n",
    "                                                   radius_stack = profile_sky_stack['radius'],\n",
    "                                                   MRR_object = MR_modeling, esd_modeling = esd_modeling, cosmo = cosmo)"
   ]
  },
  {
   "cell_type": "code",
   "execution_count": 39,
   "id": "fc11dee5-0c96-4778-951a-c7a94aa64de8",
   "metadata": {},
   "outputs": [],
   "source": [
    "lnL.reshape_data(r_min = 1, r_max = 5.5)"
   ]
  },
  {
   "cell_type": "code",
   "execution_count": 40,
   "id": "048cd41b-d9bb-45f2-bf74-e9ba24265a1b",
   "metadata": {},
   "outputs": [],
   "source": [
    "def lnLikelihood(p, which):\n",
    "    scatter_lnc = .2\n",
    "    c_m_relation = which\n",
    "    logm0, G, F, sigma_int = p\n",
    "    if logm0 < 11: return -np.inf\n",
    "    if sigma_int < 0: return -np.inf\n",
    "    if sigma_int > 1: return -np.inf\n",
    "    ptot = logm0, G, F, sigma_int\n",
    "    return lnL.lnLikelihood(ptot, which='full', scatter_lnc=.2, c_m_relation = which)"
   ]
  },
  {
   "cell_type": "code",
   "execution_count": 44,
   "id": "3efda7a9-102b-4140-b152-12187cf017be",
   "metadata": {},
   "outputs": [],
   "source": [
    "initial_binned = [14.1, -.2, .7, .1]\n",
    "npath = 200\n",
    "ndim = 4\n",
    "nwalkers =50\n",
    "pos_binned = initial_binned + 0.01 * np.random.randn(nwalkers, len(initial_binned))"
   ]
  },
  {
   "cell_type": "code",
   "execution_count": null,
   "id": "c45bb8cc-06ed-4328-8289-000e9bab73cf",
   "metadata": {},
   "outputs": [
    {
     "name": "stderr",
     "output_type": "stream",
     "text": [
      "  2%|▎         | 5/200 [00:44<29:05,  8.95s/it]"
     ]
    }
   ],
   "source": [
    "from multiprocessing import Pool\n",
    "with Pool(10) as pool:\n",
    "        sampler = emcee.EnsembleSampler(nwalkers, ndim, lnLikelihood, pool=pool, args=['Duffy08'])\n",
    "        sampler.run_mcmc(pos_binned, npath,progress=True)\n",
    "sampler_Duffy = sampler.get_chain(discard = 0, flat = True)"
   ]
  },
  {
   "cell_type": "code",
   "execution_count": null,
   "id": "f34e44cf-7b31-40a7-9832-7baea1b76379",
   "metadata": {},
   "outputs": [],
   "source": [
    "from multiprocessing import Pool\n",
    "with Pool(15) as pool:\n",
    "        sampler = emcee.EnsembleSampler(nwalkers, ndim, lnLikelihood, pool=pool, args=['Diemer15'])\n",
    "        sampler.run_mcmc(pos_binned, npath,progress=True)\n",
    "sampler_Diemer = sampler.get_chain(discard = 0, flat = True)"
   ]
  },
  {
   "cell_type": "code",
   "execution_count": null,
   "id": "dfb58037-e9e4-481a-8abb-398c1fa26078",
   "metadata": {},
   "outputs": [],
   "source": [
    "# from multiprocessing import Pool\n",
    "# with Pool(15) as pool:\n",
    "#         sampler = emcee.EnsembleSampler(nwalkers, ndim, lnLikelihood, pool=pool, args=['Prada12'])\n",
    "#         sampler.run_mcmc(pos_binned, npath,progress=True)\n",
    "# sampler_Prada = sampler.get_chain(discard = 0, flat = True)"
   ]
  },
  {
   "cell_type": "code",
   "execution_count": null,
   "id": "2aada599-fe3c-4dc6-8fa1-35a7d010ceb1",
   "metadata": {},
   "outputs": [],
   "source": [
    "# from multiprocessing import Pool\n",
    "# with Pool(15) as pool:\n",
    "#         sampler = emcee.EnsembleSampler(nwalkers, ndim, lnLikelihood, pool=pool, args=['Bhattacharya13'])\n",
    "#         sampler.run_mcmc(pos_binned, npath,progress=True)\n",
    "# sampler_Bhattacharya = sampler.get_chain(discard = 0, flat = True)"
   ]
  },
  {
   "cell_type": "code",
   "execution_count": null,
   "id": "61ea3140-404b-4c69-9932-bf5a944acc2e",
   "metadata": {},
   "outputs": [],
   "source": [
    "plt.plot(sampler_mean_mass[:,3],)\n",
    "#plt.plot(sampler_mean_mass_scatter[:,0],)\n",
    "plt.plot(sampler_full[:,3])"
   ]
  },
  {
   "cell_type": "code",
   "execution_count": null,
   "id": "8f09a5f8-ab9b-41a1-90fe-f20f7f0e679a",
   "metadata": {},
   "outputs": [],
   "source": [
    "k = sampler_Bhattacharya\n",
    "a = len(k)\n",
    "middle = np.mean(k[3700:a-1], axis = 0)\n",
    "std = np.std(k[3700:a-1], axis = 0)\n",
    "range_corner_plot = [(middle[i]- 5*std[i], middle[i]+ 5*std[i]) for i in range(4)]\n",
    "range_corner_plot[-1] = (0, .5)"
   ]
  },
  {
   "cell_type": "code",
   "execution_count": null,
   "id": "bcd11455-1db7-4b3f-85be-d6a94f7de8c1",
   "metadata": {},
   "outputs": [],
   "source": [
    "sigma1 = 1. - np.exp(-(1./1.)**2/2.)\n",
    "sigma2 = 1. - np.exp(-(2./1.)**2/2.)\n",
    "sigma3 = 1. - np.exp(-(3./1.)**2/2.)\n",
    "fig, ax = plt.subplots(4,4, figsize=(10,10))\n",
    "c = ['r', 'b', 'g','m']\n",
    "for i,s in enumerate([sampler_Diemer, sampler_Duffy]):\n",
    "    fig=corner.corner(s[3700:][::2], bins=20,fig = fig,color = c[i],\n",
    "    plot_datapoints=False,\n",
    "        smooth1d=True,\n",
    "     \n",
    "                      smooth=True, levels=[sigma1, sigma2],\n",
    "        fill_contours=False,         \n",
    "        label_kwargs={\"fontsize\": 20},#hist_kwargs={'density':True},\n",
    "                        range=range_corner_plot,\n",
    "                      group='posterior',\n",
    "                      truths=[14.151748114631882, -0.32733495258114176, 0.7225499326777396, 0.4310178106918198],\n",
    "        use_math_text=True,)"
   ]
  },
  {
   "cell_type": "code",
   "execution_count": null,
   "id": "dae62021-6428-4b28-a696-a137ffa26956",
   "metadata": {},
   "outputs": [],
   "source": [
    "n_z_bin = len(Z_bin) - 0\n",
    "n_m_bin = len(Obs_bin) - 0\n",
    "print(n_z_bin, n_m_bin)\n",
    "scale = 3\n",
    "fig, axs = plt.subplots(n_m_bin, n_z_bin, figsize = (10,10), sharex = True, sharey = True)\n",
    "fig.subplots_adjust(wspace=0, hspace=0)\n",
    "for j, z_bin in enumerate(Z_bin):\n",
    "\n",
    "    if j >= n_z_bin: continue\n",
    "        \n",
    "    for i, m_bin in enumerate(Obs_bin):\n",
    "\n",
    "        if i >= n_m_bin: continue\n",
    "            \n",
    "        profile_ = profile_sky_stack\n",
    "        covariance = covariance_sky_stack\n",
    "        mask_z = (profile_['z_mean'] > z_bin[0])*(profile_['z_mean'] < z_bin[1])\n",
    "        mask_m = (profile_['obs_mean'] > m_bin[0])*(profile_['obs_mean'] < m_bin[1])\n",
    "        index = np.arange(len(profile_))\n",
    "        index_cut = index[mask_m * mask_z]\n",
    "        f_cut = profile_[index_cut]\n",
    "        cov = np.array(covariance_sky_stack['cov_t'][index_cut][0])\n",
    "        print(cov.shape)\n",
    "        err = cov.diagonal()**.5\n",
    "\n",
    "        gt_err = np.array(covariance_sky_stack[index_cut]['cov_t'].diagonal())**.5\n",
    "        axs[i, j].errorbar(f_cut['radius'][0], f_cut['gt'][0], err,  c = 'cyan'\n",
    "                           ,marker = 'o',fmt = ' ', elinewidth = 2, capsize = 5, markersize = 5, markerfacecolor = None)\n",
    "        logm0, a, b, c = np.mean(sampler_full[2500:], axis=0)\n",
    "        log10mass_mean = (MR_modeling.lnM(f_cut['obs_mean'], f_cut['z_mean'], [logm0, a, b])/np.log(10))\n",
    "        axs[i, j].plot(f_cut['radius'][0],esd_modeling(f_cut['radius'][0], log10mass_mean[0], 4, f_cut['z_mean'][0], cosmo))\n",
    "        \n",
    "        logm0, a, b, c = np.mean(sampler_mean_mass[2500:], axis=0)\n",
    "        log10mass_mean = (MR_modeling.lnM(f_cut['obs_mean'], f_cut['z_mean'], [logm0, a, b])/np.log(10))\n",
    "        axs[i, j].plot(f_cut['radius'][0],esd_modeling(f_cut['radius'][0], log10mass_mean[0], 4, f_cut['z_mean'][0], cosmo))\n",
    "        axs[i, j].set_ylim(3e12, 5e14)\n",
    "        axs[i, j].set_xlim(0.09, 8)\n",
    "        axs[i, j].set_xscale('log')\n",
    "        axs[i, j].set_yscale('log')\n",
    "       # axs[i, j].legend(frameon = False, loc = 'upper right', fontsize = 10)\n",
    "        axs[i, j].set_xlabel('R [Mpc]', fontsize = 14)\n",
    "        axs[i, j].set_ylabel(r'$\\Delta\\Sigma_+$ ' +'$[$' + r'${\\rm M}$' + r'$_\\odot\\;$'+ r'${\\rm Mpc}$'+r'$^{-2}$'r'$]$', fontsize = 14)\n",
    "\n",
    "for ax in fig.get_axes():\n",
    "    ax.label_outer()"
   ]
  },
  {
   "cell_type": "code",
   "execution_count": null,
   "id": "8ea6f20c-d7ef-4aec-8bbd-b1c7c21c6251",
   "metadata": {},
   "outputs": [],
   "source": []
  }
 ],
 "metadata": {
  "kernelspec": {
   "display_name": "mydesc",
   "language": "python",
   "name": "mydesc"
  },
  "language_info": {
   "codemirror_mode": {
    "name": "ipython",
    "version": 3
   },
   "file_extension": ".py",
   "mimetype": "text/x-python",
   "name": "python",
   "nbconvert_exporter": "python",
   "pygments_lexer": "ipython3",
   "version": "3.7.6"
  }
 },
 "nbformat": 4,
 "nbformat_minor": 5
}
