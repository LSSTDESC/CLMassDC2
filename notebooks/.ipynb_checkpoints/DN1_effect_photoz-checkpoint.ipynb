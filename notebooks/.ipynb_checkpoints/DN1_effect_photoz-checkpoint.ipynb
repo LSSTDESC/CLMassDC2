{
 "cells": [
  {
   "cell_type": "code",
   "execution_count": null,
   "id": "5c96e453",
   "metadata": {},
   "outputs": [],
   "source": [
    "%load_ext autoreload\n",
    "\n",
    "%autoreload 2\n",
    "import matplotlib.pyplot as plt\n",
    "import pickle\n",
    "import emcee\n",
    "import sys\n",
    "import numpy as np\n",
    "import corner\n",
    "from astropy.table import Table\n",
    "\n",
    "sys.path.append('../modules/')\n",
    "import CL_WL_DATAOPS_make_profile as prf\n",
    "import CL_WL_fit_cluster_mass as fit\n",
    "import CL_Likelihood_for_Mass_richness_relation as mr\n",
    "import analysis_Mass_Richness_relation as analysis\n",
    "import CL_fiducial_mass_richness_relation as fiducial"
   ]
  },
  {
   "cell_type": "code",
   "execution_count": null,
   "id": "a78ec39f",
   "metadata": {},
   "outputs": [],
   "source": [
    "def load(filename, **kwargs):\n",
    "    with open(filename, 'rb') as fin:\n",
    "        return pickle.load(fin, **kwargs)"
   ]
  },
  {
   "cell_type": "markdown",
   "id": "1db58c1c-d243-434c-b621-3579130a6ad7",
   "metadata": {},
   "source": [
    "# Load data"
   ]
  },
  {
   "cell_type": "code",
   "execution_count": null,
   "id": "2bcee6dd",
   "metadata": {},
   "outputs": [],
   "source": [
    "profile_BPZ = load('../data/individual_profile_cosmoDC2_gal_redMaPPer_cluster_epsilon_shape_BPZ.pkl')\n",
    "profile_flex = load('../data/individual_profile_cosmoDC2_gal_redMaPPer_cluster_epsilon_shape_FlexZBoost.pkl')\n",
    "profile_true = load('../data/individual_profile_cosmoDC2_gal_redMaPPer_cluster_epsilon_shape_true_z.pkl')"
   ]
  },
  {
   "cell_type": "code",
   "execution_count": null,
   "id": "269dc837-ad39-4257-8b82-897ec3f0e374",
   "metadata": {},
   "outputs": [],
   "source": [
    "Z_bin = analysis.Z_bin\n",
    "Obs_bin = analysis.Obs_bin"
   ]
  },
  {
   "cell_type": "markdown",
   "id": "99dc6fed-d415-428c-8299-188b7d8f2090",
   "metadata": {},
   "source": [
    "# Fiducial"
   ]
  },
  {
   "cell_type": "code",
   "execution_count": null,
   "id": "b5f55769-9e15-4a0e-9f11-e9c31cc0dba5",
   "metadata": {},
   "outputs": [],
   "source": [
    "fiducial_constraint = fiducial.constrain_fiducial(used_cluster_id_list = np.array(profile_true['cluster_id']), low_M_cut = 3e13)"
   ]
  },
  {
   "cell_type": "markdown",
   "id": "696afb2a-49be-401c-8c1e-a8049494448e",
   "metadata": {},
   "source": [
    "# WL mass"
   ]
  },
  {
   "cell_type": "markdown",
   "id": "b1f4d24b-9adc-42e0-9858-3df216684f30",
   "metadata": {},
   "source": [
    "## Estimating shear profile"
   ]
  },
  {
   "cell_type": "code",
   "execution_count": null,
   "id": "453eaa93",
   "metadata": {},
   "outputs": [],
   "source": [
    "profile_true_stack = prf.stacked_profile(profile = profile_true,\n",
    "                    r_in = 'radius_av',\n",
    "                    gt_in = 'gt_av', gx_in = 'gx_av',\n",
    "                    r_out = 'radius',\n",
    "                    gt_out = 'gt', gx_out = 'gx',\n",
    "                    weight = 'norm_sum',\n",
    "                    z_name = 'cluster_z', obs_name = 'richness',\n",
    "                    Z_bin = Z_bin, Obs_bin = Obs_bin)\n",
    "covariance_true_stack = prf.bootstrap_covariance(profile = profile_true,\n",
    "                    r_in = 'radius_av',\n",
    "                    gt_in = 'gt_av', gx_in = 'gx_av',\n",
    "                    r_out = 'radius',\n",
    "                    gt_out = 'gt', gx_out = 'gx',\n",
    "                    weight = 'norm_sum',\n",
    "                    n_boot = 400,\n",
    "                    z_name = 'cluster_z', obs_name = 'richness',\n",
    "                    Z_bin = Z_bin, Obs_bin = Obs_bin)"
   ]
  },
  {
   "cell_type": "code",
   "execution_count": null,
   "id": "1e84ded8-e047-4edb-915a-ded8f6a03df4",
   "metadata": {},
   "outputs": [],
   "source": [
    "profile_BPZ_stack = prf.stacked_profile(profile = profile_BPZ,\n",
    "                    r_in = 'radius_av',\n",
    "                    gt_in = 'gt_av', gx_in = 'gx_av',\n",
    "                    r_out = 'radius',\n",
    "                    gt_out = 'gt', gx_out = 'gx',\n",
    "                    weight = 'norm_sum',\n",
    "                    z_name = 'cluster_z', obs_name = 'richness',\n",
    "                    Z_bin = Z_bin, Obs_bin = Obs_bin)\n",
    "covariance_BPZ_stack = prf.bootstrap_covariance(profile = profile_BPZ,\n",
    "                    r_in = 'radius_av',\n",
    "                    gt_in = 'gt_av', gx_in = 'gx_av',\n",
    "                    r_out = 'radius',\n",
    "                    gt_out = 'gt', gx_out = 'gx',\n",
    "                    weight = 'norm_sum',\n",
    "                    n_boot = 400,\n",
    "                    z_name = 'cluster_z', obs_name = 'richness',\n",
    "                    Z_bin = Z_bin, Obs_bin = Obs_bin)"
   ]
  },
  {
   "cell_type": "code",
   "execution_count": null,
   "id": "3300d8e9-b53a-4e90-86da-35ff24255241",
   "metadata": {},
   "outputs": [],
   "source": [
    "profile_flex_stack = prf.stacked_profile(profile = profile_flex,\n",
    "                    r_in = 'radius_av',\n",
    "                    gt_in = 'gt_av', gx_in = 'gx_av',\n",
    "                    r_out = 'radius',\n",
    "                    gt_out = 'gt', gx_out = 'gx',\n",
    "                    weight = 'norm_sum',\n",
    "                    z_name = 'cluster_z', obs_name = 'richness',\n",
    "                    Z_bin = Z_bin, Obs_bin = Obs_bin)\n",
    "\n",
    "covariance_flex_stack = prf.bootstrap_covariance(profile = profile_flex,\n",
    "                    r_in = 'radius_av',\n",
    "                    gt_in = 'gt_av', gx_in = 'gx_av',\n",
    "                    r_out = 'radius',\n",
    "                    gt_out = 'gt', gx_out = 'gx',\n",
    "                    weight = 'norm_sum',\n",
    "                    n_boot = 400,\n",
    "                    z_name = 'cluster_z', obs_name = 'richness',\n",
    "                    Z_bin = Z_bin, Obs_bin = Obs_bin)"
   ]
  },
  {
   "cell_type": "markdown",
   "id": "121fde86-8bf7-45a7-b153-4419c977f3d2",
   "metadata": {},
   "source": [
    "## Fit halo mass"
   ]
  },
  {
   "cell_type": "code",
   "execution_count": null,
   "id": "596278a6-157f-4197-bd08-a60546323efe",
   "metadata": {},
   "outputs": [],
   "source": [
    "down = 1\n",
    "up = 5.5\n",
    "a = 1.53 + 0.25\n",
    "b = 0.38 + 0.10\n",
    "true = fit.fit_WL_cluster_mass(profile = profile_true_stack, covariance = covariance_true_stack, a = a, b = b, rmax = up, two_halo_term = False, fix_c = True)\n",
    "BPZ = fit.fit_WL_cluster_mass(profile = profile_BPZ_stack, covariance = covariance_BPZ_stack, a = a, b = b, rmax = up, two_halo_term = False, fix_c = True)\n",
    "flex = fit.fit_WL_cluster_mass(profile = profile_flex_stack, covariance = covariance_flex_stack,a = a, b = b, rmax = up, two_halo_term = False, fix_c = True)"
   ]
  },
  {
   "cell_type": "code",
   "execution_count": null,
   "id": "7e1694bd",
   "metadata": {},
   "outputs": [],
   "source": [
    "fits = [true, BPZ,flex]\n",
    "text = ['true z', 'BPZ','FlexZBoost']"
   ]
  },
  {
   "cell_type": "code",
   "execution_count": null,
   "id": "05e46366-855c-466d-aab3-1f687480c924",
   "metadata": {},
   "outputs": [],
   "source": [
    "plt.rcParams['axes.linewidth'] = 3\n",
    "plt.figure(figsize = (7,5))\n",
    "color_z = ['orange','red','magenta','purple','green','cyan','blue','black']\n",
    "x = np.linspace(1,3,100)\n",
    "y = 0.7*x + 13.2\n",
    "for i, f in enumerate(fits):\n",
    "    for k, z_bin in enumerate(Z_bin):\n",
    "            mask = (f['z_mean'] > z_bin[0])*(f['z_mean'] < z_bin[1])\n",
    "            f_cut = Table(f)[mask]\n",
    "            a_t = 1./(1 + f_cut['z_mean'])\n",
    "            richness = f_cut['obs_mean']\n",
    "            richness_err = f_cut['obs_rms']\n",
    "            logm200w = f_cut['logm200_w']\n",
    "            logm200w_err = f_cut['logm200_w_err']\n",
    "            #axs[i_fits[i],j_fits[i]].text(1.5, 14.7, text[i], fontsize = 30)\n",
    "            plt.errorbar(np.log10(richness),logm200w,logm200w_err, richness_err/(np.log(10)*richness),\n",
    "                    marker = '.', linestyle=' ',\n",
    "                    elinewidth = 2, capsize = 0, markersize = 7, c = color_z[k],\n",
    "                        markerfacecolor = None)\n",
    "    plt.xlim(1.3,2.4)\n",
    "    plt.ylim(14,14.8)\n",
    "    plt.tick_params(axis='both', which = 'major', labelsize= 20)\n",
    "    #plt.legend(frameon = False, fontsize = 20, loc = 'lower right')\n",
    "    #axs[i_fits[i],j_fits[i]].grid('True')\n",
    "    plt.xlabel(r'$\\log_{10}(\\langle \\lambda \\rangle)$', fontsize = 30)\n",
    "    plt.ylabel(r'$\\log_{10}(\\langle M_{\\rm 200c}^{\\rm WL}\\rangle)$', fontsize = 30)\n",
    "#plt.savefig('/pbs/throng/lsst/users/cpayerne/ThesisAtCCin2p3/Images/est_wl_mass.png', bbox_inches='tight', dpi=300)"
   ]
  },
  {
   "cell_type": "markdown",
   "id": "43673c0d-0f4f-4e1c-9dc3-28c922529ed5",
   "metadata": {},
   "source": [
    "# Likelihood for mass-richness relation"
   ]
  },
  {
   "cell_type": "code",
   "execution_count": null,
   "id": "9d325fb9-a16b-4b25-b006-5c22b1808ca1",
   "metadata": {},
   "outputs": [],
   "source": [
    "def lnL(theta, m200c_mean, m200c_err_mean, richness_mean, z_mean):\n",
    "    return mr.lnL_WL_binned(theta, m200c_mean, m200c_err_mean, richness_mean, z_mean, z0, richness0)"
   ]
  },
  {
   "cell_type": "code",
   "execution_count": null,
   "id": "d8dccfb1",
   "metadata": {},
   "outputs": [],
   "source": [
    "z0 = analysis.z0\n",
    "richness0 = analysis.richness0\n",
    "initial_binned = [14.1,-0,.75]\n",
    "npath = 100\n",
    "ndim=3\n",
    "nwalkers = 800\n",
    "pos_binned = initial_binned + 0.01 * np.random.randn(nwalkers, len(initial_binned))\n",
    "label = ['true','BPZ','Flex']\n",
    "sampler_list = {name : 0 for name in label}\n",
    "for i,fit_true in enumerate(fits):\n",
    "    m200c_mean = 10**np.array(fit_true['logm200_w'])\n",
    "    m200c_err_mean =np.array(fit_true['logm200_w_err'])*np.log(10)*m200c_mean\n",
    "    richness_mean = np.array(fit_true['obs_mean'])\n",
    "    z_mean = np.array(fit_true['z_mean'])\n",
    "    sampler = emcee.EnsembleSampler(nwalkers, ndim, lnL, args = (m200c_mean, m200c_err_mean, richness_mean, z_mean))\n",
    "    sampler.run_mcmc(pos_binned, npath,progress=True)\n",
    "    sampler_wl = sampler.get_chain(discard = 0, flat = True)\n",
    "    sampler_list[label[i]] = sampler_wl"
   ]
  },
  {
   "cell_type": "code",
   "execution_count": null,
   "id": "de7abbf1",
   "metadata": {},
   "outputs": [],
   "source": [
    "label_plot = [ r'WL BPZ photometric',r'WL FleXZBoost photometric',r'WL true redshift',]"
   ]
  },
  {
   "cell_type": "code",
   "execution_count": null,
   "id": "0c078e91-c7cf-47a5-8500-ba2835e05b0c",
   "metadata": {},
   "outputs": [],
   "source": [
    "sampler_tot = [ sampler_list['BPZ'],sampler_list['Flex'], sampler_list['true'],]"
   ]
  },
  {
   "cell_type": "code",
   "execution_count": null,
   "id": "1089d152-c7bc-4594-8473-4f20df94a2e4",
   "metadata": {},
   "outputs": [],
   "source": [
    "a = len(sampler_list['true'])\n",
    "middle = np.mean(sampler_list['true'][50000:a-1], axis = 0)\n",
    "std = np.std(sampler_list['true'][50000:a-1], axis = 0)\n",
    "range_corner_plot = [(middle[i]- 3*std[i], middle[i]+ 3*std[i]) for i in range(3)]"
   ]
  },
  {
   "cell_type": "markdown",
   "id": "6ce69173-834e-4e27-b790-c38011c7f2d9",
   "metadata": {},
   "source": [
    "## Corner plot"
   ]
  },
  {
   "cell_type": "code",
   "execution_count": null,
   "id": "184ad933",
   "metadata": {},
   "outputs": [],
   "source": [
    "plt.rcParams['axes.linewidth'] = 1.3\n",
    "sigma1 = 1. - np.exp(-(1./1.)**2/2.)\n",
    "sigma2 = 1. - np.exp(-(2./1.)**2/2.)\n",
    "sigma3 = 1. - np.exp(-(3./1.)**2/2.)\n",
    "truth = [14.162, -0.23, 0.8]\n",
    "bins = 25\n",
    "labels = [r'$\\log_{10}(M_{0})$', r'$G_z$',r'$F_\\lambda$']\n",
    "c = ['salmon','m','k','orange','cyan']\n",
    "fill_contours = [False, False, False,False,  True]\n",
    "fig, axs = plt.subplots(len(labels), len(labels), figsize = (7,7))\n",
    "for i, name in enumerate(label_plot):\n",
    "    axs[0,2].plot([],[], c[i], linewidth = 10, label = label_plot[i])\n",
    "\n",
    "for i,sample in enumerate(sampler_tot):\n",
    "    a = len(sample)\n",
    "    sample_cut = sample[50000:a-1]\n",
    "    fig = corner.corner(\n",
    "    sample_cut,\n",
    "    bins=bins, levels=(sigma1, sigma2),\n",
    "    range = range_corner_plot,\n",
    "    truths = fiducial_constraint,\n",
    "    fig = fig,\n",
    "    color = c[i],\n",
    "    smooth1d=True,smooth=True,plot_datapoints=False,\n",
    "    fill_contours=fill_contours[i], labels = labels,            \n",
    "    label_kwargs={\"fontsize\": 20},\n",
    "    use_math_text=True,\n",
    "    show_title = True,\n",
    "    plot_density=False,\n",
    "    max_n_ticks = 5);\n",
    "    \n",
    "for i in range(len(labels)):\n",
    "    for j in range(len(labels)):\n",
    "        axs[i,j].tick_params(axis='both', which = 'major', labelsize= 13)\n",
    "        axs[i,j].legend(frameon = False, fontsize = 15)\n",
    "\n",
    "#plt.savefig('/pbs/throng/lsst/users/cpayerne/ThesisAtCCin2p3/Images/BPZ.png', bbox_inches='tight', dpi=300)"
   ]
  }
 ],
 "metadata": {
  "kernelspec": {
   "display_name": "mydesc",
   "language": "python",
   "name": "mydesc"
  },
  "language_info": {
   "codemirror_mode": {
    "name": "ipython",
    "version": 3
   },
   "file_extension": ".py",
   "mimetype": "text/x-python",
   "name": "python",
   "nbconvert_exporter": "python",
   "pygments_lexer": "ipython3",
   "version": "3.8.8"
  }
 },
 "nbformat": 4,
 "nbformat_minor": 5
}
