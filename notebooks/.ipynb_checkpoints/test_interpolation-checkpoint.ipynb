{
 "cells": [
  {
   "cell_type": "code",
   "execution_count": 1,
   "id": "5c96e453",
   "metadata": {},
   "outputs": [],
   "source": [
    "%load_ext autoreload\n",
    "\n",
    "%autoreload 2\n",
    "from multiprocessing import Pool\n",
    "import matplotlib.pyplot as plt\n",
    "import pickle\n",
    "from astropy.coordinates import SkyCoord, match_coordinates_3d, match_coordinates_sky\n",
    "import sys\n",
    "import emcee\n",
    "import numpy as np\n",
    "from astropy.cosmology import FlatLambdaCDM\n",
    "import astropy.units as u\n",
    "from astropy.table import Table, QTable, hstack, vstack\n",
    "from astropy import units as u\n",
    "import corner\n",
    "from astropy.coordinates import SkyCoord, match_coordinates_3d\n",
    "cosmo_astropy = FlatLambdaCDM(H0=71.0, Om0=0.265, Ob0 = 0.0448)\n",
    "import iminuit\n",
    "from iminuit import Minuit\n",
    "cosmo_astropy.critical_density(0.4).to(u.Msun / u.Mpc**3).value\n",
    "\n",
    "sys.path.append('/pbs/throng/lsst/users/cpayerne/CLMassDC2/modules/')\n",
    "import CL_WL_miscentering as mis\n",
    "import analysis_Mass_Richness_relation as analysis\n",
    "import CL_WL_two_halo_term as twoh\n",
    "import CL_WL_mass_conversion as utils\n",
    "import CL_DATAOPS_match_catalogs as match\n",
    "import CL_WL_DATAOPS_make_profile as prf\n",
    "import CL_Likelihood_for_Mass_richness_relation as likelihood_mr\n",
    "#import CL_fiducial_mass_richness_relation as fiducial\n",
    "#import analysis_Mass_richness_relation as analysis\n",
    "import CL_Mass_richness_relation as mr\n",
    "\n",
    "import clmm\n",
    "import clmm.dataops\n",
    "from clmm.dataops import compute_tangential_and_cross_components, make_radial_profile, make_bins\n",
    "from clmm.galaxycluster import GalaxyCluster\n",
    "import clmm.utils as u\n",
    "import astropy.units as un\n",
    "from clmm import Cosmology\n",
    "from clmm.support import mock_data as mock\n",
    "import pyccl as ccl\n",
    "\n",
    "cosmo = Cosmology(H0 = 71.0, Omega_dm0 = 0.265 - 0.0448, Omega_b0 = 0.0448, Omega_k0 = 0.0)\n",
    "cosmo_astropy = FlatLambdaCDM(H0=71.0, Om0=0.265, Ob0 = 0.0448)\n",
    "cosmo_clmm = Cosmology(H0 = 71.0, Omega_dm0 = 0.265 - 0.0448, Omega_b0 = 0.0448, Omega_k0 = 0.0)\n",
    "cosmo_ccl  = ccl.Cosmology(Omega_c=0.265-0.0448, Omega_b=0.0448, h=0.71, A_s=2.1e-9, n_s=0.96, Neff=0, Omega_g=0)"
   ]
  },
  {
   "cell_type": "code",
   "execution_count": 2,
   "id": "a78ec39f",
   "metadata": {},
   "outputs": [],
   "source": [
    "def load(filename, **kwargs):\n",
    "    with open(filename, 'rb') as fin:\n",
    "        return pickle.load(fin, **kwargs)"
   ]
  },
  {
   "cell_type": "code",
   "execution_count": 3,
   "id": "8ea5d8eb-43bc-4cfc-8ce8-bcc90976d64a",
   "metadata": {},
   "outputs": [],
   "source": [
    "data = np.load('/pbs/throng/lsst/users/cpayerne/CLMassDC2/notebooks/data_for_notebooks/stacked_esd_profiles_redmapper_true.pkl', allow_pickle=True)\n"
   ]
  },
  {
   "cell_type": "code",
   "execution_count": 4,
   "id": "efeeb09d",
   "metadata": {},
   "outputs": [],
   "source": [
    "Z_bin = analysis.Z_bin\n",
    "Obs_bin = analysis.Obs_bin"
   ]
  },
  {
   "cell_type": "code",
   "execution_count": 5,
   "id": "8dc2242c-5805-43f3-af79-ce0102484457",
   "metadata": {},
   "outputs": [],
   "source": [
    "MR_modeling = mr.WL_Mass_Richness()\n",
    "MR_modeling.set_pivot_values(analysis.z0, analysis.richness0)\n",
    "profiles = data['stacked profile']\n",
    "covariances = data['stacked covariance']\n",
    "\n",
    "#modeling of the unitary excess surface density profile\n",
    "def esd_modeling(R, log10m, c, z, cosmo, halo_profile = 'nfw'):\n",
    "    return clmm.compute_excess_surface_density(R, 10**log10m, c, z, cosmo, delta_mdef=200,\n",
    "                                       halo_profile_model=halo_profile, massdef='critical')\n",
    "\n",
    "def esd_modeling_2h_nobias(R, z):\n",
    "    moo = clmm.Modeling(massdef='critical', delta_mdef=200, halo_profile_model='nfw')\n",
    "    moo.set_cosmo(cosmo)\n",
    "    return moo.eval_excess_surface_density_2h(R, z, halobias=1)\n",
    "#defining the likelihood\n",
    "lnL = likelihood_mr.MR_from_Stacked_ESD_profiles(richness_individual = profiles['richness'], \n",
    "                                                   z_individual = profiles['redshift'], \n",
    "                                                   weights_per_bin_individual = profiles['W_l_true'],\n",
    "                                                   covariance_stack = covariances['cov_t'], \n",
    "                                                   esd_stack = profiles['gt'],\n",
    "                                                   radius_stack = profiles['radius'],\n",
    "                                                   MRR_object = MR_modeling, esd_modeling = esd_modeling, cosmo = cosmo)\n",
    "\n",
    "#reshape data \n",
    "lnL.reshape_data(r_min = 1, r_max = 5.5)\n",
    "#lnL.reshape_data(r_min = 1, r_max = 15)\n",
    "lnL.halo_regime(two_halo = False, esd_2h_nobias_modeling = esd_modeling_2h_nobias, c_m_relation = 'Duffy08')\n",
    "\n",
    "#define likelihood\n",
    "pwl = [14.14558953, -0.33464951,  0.72568023,  0.1877857 ]\n",
    "lnL.lnLikelihood(pwl, which='full', scatter_lnc=.2, c_m_relation = 'Duffy08', two_halo_term = False, halo_profile='nfw')\n",
    "ds = lnL.ds\n",
    "\n",
    "ptrue = [14.148550829478454,\n",
    " -0.27934557362343504,\n",
    " 0.8291068875021645,\n",
    " 0.4821277775320164]\n",
    "lnL.lnLikelihood(ptrue, which='full', scatter_lnc=.2, c_m_relation = 'Duffy08', two_halo_term = False, halo_profile='nfw')\n",
    "dstrue = lnL.ds"
   ]
  },
  {
   "cell_type": "code",
   "execution_count": 21,
   "id": "14ac6276-9cac-4cb6-a1bb-8628cd199b23",
   "metadata": {},
   "outputs": [],
   "source": [
    "import scipy"
   ]
  },
  {
   "cell_type": "code",
   "execution_count": 76,
   "id": "d73ca35e-aac1-459c-8e16-ca5d8ede2820",
   "metadata": {},
   "outputs": [],
   "source": [
    "def compute_model(cosmo, halo_profile):\n",
    "        logm = np.linspace(13, 16, 25)\n",
    "        c = np.linspace(1, 20, 20)\n",
    "        Logm, C = np.meshgrid(logm, c)\n",
    "        list_model_per_stack = []\n",
    "        interpolated_model = {}\n",
    "        tabulated_model = {}\n",
    "        for i in range(len(lnL.esd_stack)):\n",
    "            tabulated_model['stack_'+str(i)] = {}\n",
    "            interpolated_model['stack_'+str(i)] = {}\n",
    "            excess_suface_density = np.zeros([len(logm), len(c), len(lnL.radius_stack[i])])\n",
    "            z_mean = np.mean(lnL.z_individual[i])\n",
    "            for indexm, logmx in enumerate(logm):\n",
    "                for indexc, cx in enumerate(c):\n",
    "                    excess_suface_density[indexm,indexc,:] = lnL.esd_modeling(lnL.radius_stack[i], logmx, cx, z_mean, cosmo, halo_profile = halo_profile) \n",
    "            \n",
    "            for h, R in enumerate(lnL.radius_stack[i]): \n",
    "                interpolated_model['stack_'+str(i)]['index_R_'+str(h)] = scipy.interpolate.interp2d(Logm, C, np.log(excess_suface_density[:,:,h]).T, kind='linear')\n",
    "                tabulated_model['stack_'+str(i)]['index_R_'+str(h)] = np.log(excess_suface_density[:,:,h])\n",
    "                \n",
    "            continue\n",
    "                \n",
    "        return interpolated_model, tabulated_model, Logm, C"
   ]
  },
  {
   "cell_type": "code",
   "execution_count": 77,
   "id": "3bb43b4e-f541-42d6-9e09-80642dd0ca42",
   "metadata": {},
   "outputs": [
    {
     "name": "stderr",
     "output_type": "stream",
     "text": [
      "/pbs/home/c/cpayerne/.conda/envs/mydesc/lib/python3.7/site-packages/scipy/interpolate/_fitpack_impl.py:977: RuntimeWarning: No more knots can be added because the number of B-spline\n",
      "coefficients already exceeds the number of data points m.\n",
      "Probable causes: either s or m too small. (fp>s)\n",
      "\tkx,ky=1,1 nx,ny=28,22 m=500 fp=0.000000 s=0.000000\n",
      "  warnings.warn(RuntimeWarning(_iermess2[ierm][0] + _mess))\n",
      "/pbs/home/c/cpayerne/.conda/envs/mydesc/lib/python3.7/site-packages/scipy/interpolate/_fitpack_impl.py:977: RuntimeWarning: No more knots can be added because the number of B-spline\n",
      "coefficients already exceeds the number of data points m.\n",
      "Probable causes: either s or m too small. (fp>s)\n",
      "\tkx,ky=1,1 nx,ny=27,23 m=500 fp=0.000000 s=0.000000\n",
      "  warnings.warn(RuntimeWarning(_iermess2[ierm][0] + _mess))\n",
      "/pbs/home/c/cpayerne/.conda/envs/mydesc/lib/python3.7/site-packages/scipy/interpolate/_fitpack_impl.py:977: RuntimeWarning: No more knots can be added because the number of B-spline\n",
      "coefficients already exceeds the number of data points m.\n",
      "Probable causes: either s or m too small. (fp>s)\n",
      "\tkx,ky=1,1 nx,ny=26,23 m=500 fp=0.000000 s=0.000000\n",
      "  warnings.warn(RuntimeWarning(_iermess2[ierm][0] + _mess))\n",
      "/pbs/home/c/cpayerne/.conda/envs/mydesc/lib/python3.7/site-packages/scipy/interpolate/_fitpack_impl.py:977: RuntimeWarning: A theoretically impossible result when finding a smoothing spline\n",
      "with fp = s. Probable causes: s too small or badly chosen eps.\n",
      "(abs(fp-s)/s>0.001)\n",
      "\tkx,ky=1,1 nx,ny=27,23 m=500 fp=0.000000 s=0.000000\n",
      "  warnings.warn(RuntimeWarning(_iermess2[ierm][0] + _mess))\n"
     ]
    }
   ],
   "source": [
    "interpolated_model, tabulated_model, Logm, C = compute_model(cosmo, 'nfw')#interpolated_model, tabulated_model, Logm, C = )"
   ]
  },
  {
   "cell_type": "code",
   "execution_count": 74,
   "id": "4d102127-b68b-4da4-868d-024bc1dd8fdc",
   "metadata": {},
   "outputs": [
    {
     "data": {
      "text/plain": [
       "<matplotlib.image.AxesImage at 0x7f0322339310>"
      ]
     },
     "execution_count": 74,
     "metadata": {},
     "output_type": "execute_result"
    },
    {
     "data": {
      "image/png": "[encoded data removed]",
      "text/plain": [
       "<Figure size 432x288 with 1 Axes>"
      ]
     },
     "metadata": {
      "needs_background": "light"
     },
     "output_type": "display_data"
    }
   ],
   "source": [
    "plt.imshow(tabulated_model['stack_0']['index_R_'+str(1)])"
   ]
  },
  {
   "cell_type": "code",
   "execution_count": 75,
   "id": "26fee931-8da4-4bf0-a79a-66e6fb0d20e2",
   "metadata": {},
   "outputs": [
    {
     "data": {
      "text/plain": [
       "[<matplotlib.lines.Line2D at 0x7f0322037d50>]"
      ]
     },
     "execution_count": 75,
     "metadata": {},
     "output_type": "execute_result"
    },
    {
     "data": {
      "image/png": "[encoded data removed]",
      "text/plain": [
       "<Figure size 432x288 with 1 Axes>"
      ]
     },
     "metadata": {
      "needs_background": "light"
     },
     "output_type": "display_data"
    }
   ],
   "source": [
    "plt.plot(radius_th, [np.exp(interpolated_model['stack_0']['index_R_'+str(i)](14, 3)) for i in range(len(radius_th))])\n",
    "plt.plot(radius_th, [np.exp(interpolated_model['stack_0']['index_R_'+str(i)](14, 10)) for i in range(len(radius_th))])\n",
    "plt.plot(radius_th, [np.exp(interpolated_model['stack_0']['index_R_'+str(i)](14, 1)) for i in range(len(radius_th))])\n",
    "#plt.plot(radius_th, [np.exp(interpolated_model['stack_0']['index_R_'+str(i)](14, 2)) for i in range(len(radius_th))])"
   ]
  },
  {
   "cell_type": "code",
   "execution_count": null,
   "id": "09174d5a-06f3-42c1-b2e9-962884d707f7",
   "metadata": {},
   "outputs": [],
   "source": []
  },
  {
   "cell_type": "code",
   "execution_count": 8,
   "id": "253b278f-943c-4348-a13f-5ca6030268f0",
   "metadata": {},
   "outputs": [],
   "source": [
    "radius_th = lnL.radius"
   ]
  },
  {
   "cell_type": "code",
   "execution_count": null,
   "id": "b212d4c6-93ad-4009-913e-3a2e99e307d7",
   "metadata": {},
   "outputs": [],
   "source": [
    "n_z_bin = len(Z_bin) \n",
    "n_m_bin = len(Obs_bin) \n",
    "print(n_z_bin, n_m_bin)\n",
    "scale = 2\n",
    "fig, axs = plt.subplots( n_z_bin, n_m_bin, figsize = (10,7))\n",
    "fig.subplots_adjust(wspace=0, hspace=0)\n",
    "for i, z_bin in enumerate(Z_bin):\n",
    "\n",
    "    for j, m_bin in enumerate(Obs_bin):\n",
    "            #try:\n",
    "\n",
    "            if i >= n_m_bin: continue\n",
    "            \n",
    "            label_z =  r'$ z \\in $' + f'[{z_bin[0]:.1f}, {z_bin[1]:.1f}]'\n",
    "            label_M = r'$ \\lambda \\in $' + f'[{m_bin[0]:.1f}, {m_bin[1]:.1f}]'\n",
    "            mask_z = (profiles['z_mean'] > z_bin[0])*(profiles['z_mean'] < z_bin[1])\n",
    "            mask_m = (profiles['obs_mean'] > m_bin[0])*(profiles['obs_mean'] < m_bin[1])\n",
    "            index = np.arange(len(profiles))\n",
    "            index_cut = index[mask_m * mask_z]\n",
    "            f_cut = profiles[index_cut]\n",
    "            cov = np.array(covariances['cov_t'][index_cut])\n",
    "\n",
    "            err = cov.T.diagonal()**.5\n",
    "            axs[i, j].errorbar(f_cut['radius'][0], f_cut['gt'][0] , err[0],\n",
    "                                c = 'k'\n",
    "                               ,marker = 'o',fmt = ' ', elinewidth = 2, capsize = 5, markersize = 3, markerfacecolor = None)\n",
    "            ds_th = np.array(ds)[index_cut][0]\n",
    "            axs[i, j].loglog(radius_th, ds_th, 'r', zorder=1000)\n",
    "            ds_th = np.array(dstrue)[index_cut][0]\n",
    "            axs[i, j].loglog(radius_th, ds_th, 'b', zorder=1000)\n",
    "            #axs[i, j].plot(f_cut['radius'][0], ds[index_cut])\n",
    "            \n",
    "            #r=np.linspace(1, 5.5, 100)\n",
    "            #lnM = MR_modeling.lnM(f_cut['obs_mean'][0], f_cut['z_mean'][0], [14.13190028, -0.71776671,  0.7400713 ])\n",
    "            #print(lnM)\n",
    "            #y = clmm.compute_excess_surface_density(r, np.exp(lnM), 4, f_cut['z_mean'][0], cosmo, delta_mdef=200,\n",
    "            #                               halo_profile_model='nfw', massdef='critical')     \n",
    "            #axs[i, j].plot(r,y)\n",
    "            radius = np.linspace(0, 1, 100)\n",
    "            axs[i, j].fill_between(radius, 0*radius + 1e16, alpha = .2, color = 'skyblue')# + 1e16)\n",
    "            radius = np.linspace(5.5, 20, 100)\n",
    "            axs[i, j].fill_between(radius, 0*radius + 1e16, alpha = .2, color = 'skyblue')# + 1e16)\n",
    "            axs[i, j].set_ylim(3e11, 3e14)\n",
    "            axs[i, j].set_xlim(0.4, 12)\n",
    "            axs[i, j].set_xscale('log')\n",
    "            axs[i, j].set_yscale('log')\n",
    "            axs[i, j].tick_params(axis='both', which = 'major', labelsize= 13)\n",
    "            #axs[i, j].legend(frameon = False, loc = 'upper right', fontsize = 10)\n",
    "            axs[i, j].set_xlabel('R [Mpc]', fontsize = 14)\n",
    "            axs[i, 0].set_ylabel(label_z, fontsize = 12)\n",
    "            axs[0, j].set_title(label_M, fontsize = 13)\n",
    "        #except: a=1\n",
    "\n",
    "for ax in fig.get_axes():\n",
    "    ax.label_outer()\n",
    "#plt.savefig('redmapper_profiles.png', bbox_inches='tight', dpi=300)"
   ]
  },
  {
   "cell_type": "code",
   "execution_count": null,
   "id": "5828bfd5-2063-4f59-bb6c-dd1faeeac42d",
   "metadata": {},
   "outputs": [],
   "source": []
  }
 ],
 "metadata": {
  "kernelspec": {
   "display_name": "mydesc",
   "language": "python",
   "name": "mydesc"
  },
  "language_info": {
   "codemirror_mode": {
    "name": "ipython",
    "version": 3
   },
   "file_extension": ".py",
   "mimetype": "text/x-python",
   "name": "python",
   "nbconvert_exporter": "python",
   "pygments_lexer": "ipython3",
   "version": "3.7.6"
  }
 },
 "nbformat": 4,
 "nbformat_minor": 5
}
