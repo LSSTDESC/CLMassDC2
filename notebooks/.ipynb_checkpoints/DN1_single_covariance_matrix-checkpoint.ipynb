{
 "cells": [
  {
   "cell_type": "code",
   "execution_count": 50,
   "id": "5c96e453",
   "metadata": {},
   "outputs": [],
   "source": [
    "import matplotlib.pyplot as plt\n",
    "import sys\n",
    "import numpy as np\n",
    "from astropy.table import Table, QTable, hstack, vstack, join\n",
    "import clmm\n",
    "import clmm.dataops as da\n",
    "from clmm.support import mock_data as mock\n",
    "from clmm import Cosmology\n",
    "cosmo = Cosmology(H0 = 71.0, Omega_dm0 = 0.265 - 0.0448, Omega_b0 = 0.0448, Omega_k0 = 0.0)"
   ]
  },
  {
   "cell_type": "code",
   "execution_count": 51,
   "id": "4826cb7b-fb7d-414c-9e0b-06763e74d026",
   "metadata": {},
   "outputs": [],
   "source": [
    "cosmo = cosmo\n",
    "cluster_id = \"Awesome_cluster\"\n",
    "cluster_m = 1.e15 # M200,m [Msun]\n",
    "cluster_z = 0.3\n",
    "src_z = 0.8\n",
    "concentration = 4\n",
    "ngals = 10000\n",
    "cluster_ra = 20.0\n",
    "cluster_dec = 30.0"
   ]
  },
  {
   "cell_type": "code",
   "execution_count": 52,
   "id": "ce32a7e8-9698-4114-9f54-7d40932f924b",
   "metadata": {},
   "outputs": [],
   "source": [
    "ideal_data = mock.generate_galaxy_catalog(cluster_m, cluster_z, concentration,\n",
    "                                          cosmo, src_z, ngals=ngals, cluster_ra=cluster_ra, cluster_dec=cluster_dec)"
   ]
  },
  {
   "cell_type": "code",
   "execution_count": 53,
   "id": "920ccb04-3f38-482b-81bf-078e58f3af2a",
   "metadata": {},
   "outputs": [],
   "source": [
    "gc_object = clmm.GalaxyCluster(cluster_id, cluster_ra, cluster_dec,\n",
    "                               cluster_z, ideal_data)"
   ]
  },
  {
   "cell_type": "code",
   "execution_count": 88,
   "id": "5c070376-1ada-4573-a7b2-b2def5d78bec",
   "metadata": {},
   "outputs": [],
   "source": [
    "ra_l = gc_object.ra\n",
    "dec_l = gc_object.dec\n",
    "z = gc_object.z\n",
    "e1 = gc_object.galcat['e1']\n",
    "e2 = gc_object.galcat['e2']\n",
    "ra_s = gc_object.galcat['ra']\n",
    "dec_s = gc_object.galcat['dec']\n",
    "z_s = gc_object.galcat['z']"
   ]
  },
  {
   "cell_type": "code",
   "execution_count": 89,
   "id": "79eed991-2beb-47ec-8263-dc8e3c5aa899",
   "metadata": {},
   "outputs": [],
   "source": [
    "theta, g_t, g_x = da.compute_tangential_and_cross_components(ra_l, dec_l, ra_s, dec_s, e1, e2, 'flat', True, cosmo,z, z_s)"
   ]
  },
  {
   "cell_type": "code",
   "execution_count": 90,
   "id": "1b55adf0-7361-49b2-9353-83a33c946657",
   "metadata": {},
   "outputs": [],
   "source": [
    "theta, phi=da._compute_lensing_angles_flatsky(ra_l, dec_l, ra_s, dec_s)"
   ]
  },
  {
   "cell_type": "code",
   "execution_count": 96,
   "id": "49059602-683d-4f6d-bacf-7c4e4be5646a",
   "metadata": {},
   "outputs": [
    {
     "data": {
      "text/plain": [
       "(array([ 896., 1217.,  809., 1151.,  889.,  905., 1151.,  835., 1189.,\n",
       "         958.]),\n",
       " array([-3.14120913e+00, -2.51294194e+00, -1.88467475e+00, -1.25640756e+00,\n",
       "        -6.28140365e-01,  1.26825198e-04,  6.28394016e-01,  1.25666121e+00,\n",
       "         1.88492840e+00,  2.51319559e+00,  3.14146278e+00]),\n",
       " <a list of 10 Patch objects>)"
      ]
     },
     "execution_count": 96,
     "metadata": {},
     "output_type": "execute_result"
    },
    {
     "data": {
      "image/png": "[encoded data removed]",
      "text/plain": [
       "<Figure size 432x288 with 1 Axes>"
      ]
     },
     "metadata": {
      "needs_background": "light"
     },
     "output_type": "display_data"
    }
   ],
   "source": [
    "plt.hist(phi)"
   ]
  },
  {
   "cell_type": "code",
   "execution_count": 159,
   "id": "ec61d557-c891-4151-8c05-22994fdd499f",
   "metadata": {},
   "outputs": [],
   "source": [
    "bin_edges = da.make_bins(0.01, 3.7, 10)"
   ]
  },
  {
   "cell_type": "code",
   "execution_count": 160,
   "id": "35402c71-4f64-4845-900a-727879836f51",
   "metadata": {},
   "outputs": [
    {
     "data": {
      "text/plain": [
       "array([0.01 , 0.379, 0.748, 1.117, 1.486, 1.855, 2.224, 2.593, 2.962,\n",
       "       3.331, 3.7  ])"
      ]
     },
     "execution_count": 160,
     "metadata": {},
     "output_type": "execute_result"
    }
   ],
   "source": [
    "bin_edges"
   ]
  },
  {
   "cell_type": "code",
   "execution_count": 161,
   "id": "771cefca-98f1-4f55-86a3-e3c423cdb635",
   "metadata": {},
   "outputs": [],
   "source": [
    "prf = da.make_radial_profile(\n",
    "    [g_t, g_x, z_s], theta, \"radians\", \"Mpc\", bins=bin_edges, cosmo=cosmo, z_lens=z, include_empty_bins=False)"
   ]
  },
  {
   "cell_type": "code",
   "execution_count": 179,
   "id": "f70d1046-c139-4a49-baf2-c8a2ea2a549e",
   "metadata": {},
   "outputs": [],
   "source": [
    "def jackknife(gt, theta, phi, bin_edges, n_jk = 1):\n",
    "    phi_corner = np.linspace(-np.pi, np.pi, n_jk + 1)\n",
    "    phi_bin = [[phi_corner[i], phi_corner[i+1]] for i in range(len(phi_corner)-1)]\n",
    "    gt=np.zeros([n_jk, len(bin_edges)-1])\n",
    "    for i,phi_ in enumerate(phi_bin):\n",
    "        mask = (phi_[0]<phi)*(phi_[1]>=phi)\n",
    "        prf=da.make_radial_profile([g_t[mask], g_x[mask], z_s[mask]], \n",
    "                                     theta[mask], \"radians\", \"Mpc\", \n",
    "                                     bins=bin_edges, cosmo=cosmo, \n",
    "                                     z_lens=z, include_empty_bins=True)\n",
    "        gt[i,:]=np.array(prf['p_0'])\n",
    "    Xt = np.array(gt)\n",
    "    cov_t = np.cov(Xt.T)\n",
    "    return cov_t"
   ]
  },
  {
   "cell_type": "code",
   "execution_count": 180,
   "id": "fb93c851-ae05-4fbd-9c56-2dd13f83bb3d",
   "metadata": {},
   "outputs": [],
   "source": [
    "cov=jackknife(g_t, phi, bin_edges, n_jk = 200)"
   ]
  },
  {
   "cell_type": "code",
   "execution_count": 186,
   "id": "f140d9e2-2c77-4294-a65b-788ed3eda4d8",
   "metadata": {},
   "outputs": [
    {
     "data": {
      "text/plain": [
       "<matplotlib.image.AxesImage at 0x7f1d40a4c910>"
      ]
     },
     "execution_count": 186,
     "metadata": {},
     "output_type": "execute_result"
    },
    {
     "data": {
      "image/png": "[encoded data removed]",
      "text/plain": [
       "<Figure size 432x288 with 1 Axes>"
      ]
     },
     "metadata": {
      "needs_background": "light"
     },
     "output_type": "display_data"
    }
   ],
   "source": [
    "plt.imshow(np.corrcoef(cov), cmap='bwr')"
   ]
  },
  {
   "cell_type": "code",
   "execution_count": null,
   "id": "01724dc0-7778-4c76-936b-9e6e9ed9d720",
   "metadata": {},
   "outputs": [],
   "source": []
  }
 ],
 "metadata": {
  "kernelspec": {
   "display_name": "mydesc",
   "language": "python",
   "name": "mydesc"
  },
  "language_info": {
   "codemirror_mode": {
    "name": "ipython",
    "version": 3
   },
   "file_extension": ".py",
   "mimetype": "text/x-python",
   "name": "python",
   "nbconvert_exporter": "python",
   "pygments_lexer": "ipython3",
   "version": "3.7.6"
  }
 },
 "nbformat": 4,
 "nbformat_minor": 5
}
