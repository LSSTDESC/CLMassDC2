{
 "cells": [
  {
   "cell_type": "code",
   "execution_count": 1,
   "id": "5c96e453",
   "metadata": {},
   "outputs": [],
   "source": [
    "%load_ext autoreload\n",
    "\n",
    "%autoreload 2\n",
    "import matplotlib.pyplot as plt\n",
    "import pickle\n",
    "from astropy.coordinates import SkyCoord, match_coordinates_3d, match_coordinates_sky\n",
    "import sys\n",
    "import emcee\n",
    "import numpy as np\n",
    "from astropy.cosmology import FlatLambdaCDM\n",
    "import astropy.units as u\n",
    "from astropy.table import Table, QTable, hstack, vstack\n",
    "from astropy import units as u\n",
    "import corner\n",
    "from astropy.coordinates import SkyCoord, match_coordinates_3d\n",
    "cosmo_astropy = FlatLambdaCDM(H0=71.0, Om0=0.265, Ob0 = 0.0448)\n",
    "import iminuit\n",
    "from iminuit import Minuit\n",
    "cosmo_astropy.critical_density(0.4).to(u.Msun / u.Mpc**3).value\n",
    "\n",
    "sys.path.append('/pbs/throng/lsst/users/cpayerne/CLMassDC2/modules/')\n",
    "import CL_WL_miscentering as mis\n",
    "import analysis_Mass_Richness_relation as analysis\n",
    "import CL_WL_two_halo_term as twoh\n",
    "import CL_WL_mass_conversion as utils\n",
    "import CL_DATAOPS_match_catalogs as match\n",
    "import CL_WL_DATAOPS_make_profile as prf\n",
    "import CL_Likelihood_for_Mass_richness_relation_v1 as mass_richness\n",
    "import CL_WL_fit_cluster_mass_v1 as fit\n",
    "#import CL_fiducial_mass_richness_relation as fiducial\n",
    "#import analysis_Mass_richness_relation as analysis\n",
    "\n",
    "\n",
    "import clmm\n",
    "import clmm.dataops\n",
    "from clmm.dataops import compute_tangential_and_cross_components, make_radial_profile, make_bins\n",
    "from clmm.galaxycluster import GalaxyCluster\n",
    "import clmm.utils as u\n",
    "import astropy.units as un\n",
    "from clmm import Cosmology\n",
    "from clmm.support import mock_data as mock\n",
    "import pyccl as ccl\n",
    "\n",
    "cosmo = Cosmology(H0 = 71.0, Omega_dm0 = 0.265 - 0.0448, Omega_b0 = 0.0448, Omega_k0 = 0.0)\n",
    "cosmo_astropy = FlatLambdaCDM(H0=71.0, Om0=0.265, Ob0 = 0.0448)\n",
    "cosmo_clmm = Cosmology(H0 = 71.0, Omega_dm0 = 0.265 - 0.0448, Omega_b0 = 0.0448, Omega_k0 = 0.0)\n",
    "cosmo_ccl  = ccl.Cosmology(Omega_c=0.265-0.0448, Omega_b=0.0448, h=0.71, A_s=2.1e-9, n_s=0.96, Neff=0, Omega_g=0)"
   ]
  },
  {
   "cell_type": "code",
   "execution_count": 2,
   "id": "a78ec39f",
   "metadata": {},
   "outputs": [],
   "source": [
    "def load(filename, **kwargs):\n",
    "    with open(filename, 'rb') as fin:\n",
    "        return pickle.load(fin, **kwargs)"
   ]
  },
  {
   "cell_type": "code",
   "execution_count": 3,
   "id": "b286b46c-3394-46af-a8b5-0092d4daca7b",
   "metadata": {},
   "outputs": [],
   "source": [
    "ind_profile = np.load('../data/data_new_version/ind_profile_redmapper.pkl', allow_pickle = True)\n",
    "ind_profile['cluster_id'] = ind_profile['id']"
   ]
  },
  {
   "cell_type": "code",
   "execution_count": 4,
   "id": "a409750e-8282-4e24-83a4-0c27611e3d8a",
   "metadata": {},
   "outputs": [],
   "source": [
    "sum_weights_per_cluster_10 = []\n",
    "sum_weights_per_cluster_5 = []\n",
    "for i, cl in enumerate(ind_profile):\n",
    "    mask = (ind_profile['radius_true'][i] > 1)*(ind_profile['radius_true'][i] < 10)\n",
    "    sum_weights_per_cluster_10.append(np.sum(ind_profile['W_l_true'][i][mask]))\n",
    "    mask = (ind_profile['radius_true'][i] > 1)*(ind_profile['radius_true'][i] < 5.5)\n",
    "    sum_weights_per_cluster_5.append(np.sum(ind_profile['W_l_true'][i][mask]))"
   ]
  },
  {
   "cell_type": "code",
   "execution_count": 5,
   "id": "434da12f",
   "metadata": {},
   "outputs": [],
   "source": [
    "ind_profile['weight_per_cluster_5'] = np.array(sum_weights_per_cluster_5)*1e27\n",
    "ind_profile['weight_per_cluster_10'] = np.array(sum_weights_per_cluster_10)*1e27"
   ]
  },
  {
   "cell_type": "code",
   "execution_count": 6,
   "id": "efeeb09d",
   "metadata": {},
   "outputs": [],
   "source": [
    "Z_bin = analysis.Z_bin\n",
    "Obs_bin = analysis.Obs_bin\n",
    "Gamma_5 = 0.75\n",
    "Gamma_10 = 0.8"
   ]
  },
  {
   "cell_type": "code",
   "execution_count": 7,
   "id": "11f75089-90c2-419c-a098-3facd3bf44c2",
   "metadata": {},
   "outputs": [],
   "source": [
    "z_max = max(Z_bin[-1])\n",
    "z_min = min(Z_bin[0])\n",
    "obs_min = min(Obs_bin[0])\n",
    "obs_max = max(Obs_bin[-1])"
   ]
  },
  {
   "cell_type": "code",
   "execution_count": 8,
   "id": "a47663af-7e5b-4db2-9cbf-9f929f023282",
   "metadata": {},
   "outputs": [
    {
     "data": {
      "text/plain": [
       "0.2"
      ]
     },
     "execution_count": 8,
     "metadata": {},
     "output_type": "execute_result"
    }
   ],
   "source": [
    "z_min"
   ]
  },
  {
   "cell_type": "markdown",
   "id": "6f3eb348-8bb9-43a2-8a10-ae0b6acbf426",
   "metadata": {},
   "source": [
    "# WL masses"
   ]
  },
  {
   "cell_type": "markdown",
   "id": "fc71ac3b",
   "metadata": {},
   "source": [
    "## WL shear profiles"
   ]
  },
  {
   "cell_type": "code",
   "execution_count": 9,
   "id": "453eaa93",
   "metadata": {},
   "outputs": [],
   "source": [
    "profile_sky_stack = prf.stacked_profile(profile = ind_profile,\n",
    "                    r_in = 'radius_true',\n",
    "                    gt_in = 'DSt_true', gx_in = 'DSx_true',\n",
    "                    r_out = 'radius',\n",
    "                    gt_out = 'gt', gx_out = 'gx',\n",
    "                    weight = 'W_l_true',\n",
    "                    z_name = 'redshift', obs_name = 'richness',\n",
    "                    Z_bin = Z_bin, Obs_bin = Obs_bin,\n",
    "                    add_columns_to_bin = ['weight_per_cluster_10','weight_per_cluster_5', 'richness', 'redshift'])\n",
    "\n",
    "covariance_sky_stack = prf.bootstrap_covariance(profile = ind_profile,\n",
    "    r_in = 'radius_true',\n",
    "                    gt_in = 'DSt_true', gx_in = 'DSx_true',\n",
    "                    r_out = 'radius',\n",
    "                    gt_out = 'gt', gx_out = 'gx',\n",
    "                    weight = 'W_l_true',\n",
    "                    n_boot = 400,\n",
    "                    z_name = 'redshift', obs_name = 'richness',\n",
    "                    Z_bin = Z_bin, Obs_bin = Obs_bin)"
   ]
  },
  {
   "cell_type": "markdown",
   "id": "890b9359-284f-43c5-ad36-d70af6e119fd",
   "metadata": {},
   "source": [
    "## Fit WL masses"
   ]
  },
  {
   "cell_type": "code",
   "execution_count": 10,
   "id": "96e4e889-654a-44d9-be20-80ce713a04ab",
   "metadata": {},
   "outputs": [
    {
     "name": "stdout",
     "output_type": "stream",
     "text": [
      "The autoreload extension is already loaded. To reload it, use:\n",
      "  %reload_ext autoreload\n"
     ]
    }
   ],
   "source": [
    "%load_ext autoreload\n",
    "%autoreload 2\n",
    "import CL_WL_fit_cluster_mass_v1 as fit"
   ]
  },
  {
   "cell_type": "code",
   "execution_count": 11,
   "id": "f7c07e5a-3aca-4a52-9c38-4241201d391c",
   "metadata": {},
   "outputs": [
    {
     "name": "stdout",
     "output_type": "stream",
     "text": [
      "fitting...\n"
     ]
    }
   ],
   "source": [
    "#fix_c_Diemer15 =       fit.fit_WL_cluster_mass(profile = profile_sky_stack, covariance = covariance_sky_stack, a = 0, b = 1, rmax = 5.5, two_halo_term = False, fix_c = True, mc_relation = 'Diemer15')\n",
    "a = 0\n",
    "b = 1\n",
    "rmax = 5.5\n",
    "fix_c_Duffy08 =        fit.fit_WL_cluster_mass(profile = profile_sky_stack, covariance = covariance_sky_stack, a = a, b = b, rmax = rmax, two_halo_term = False, fix_c = True, mc_relation = 'Duffy08')\n",
    "#fix_c_Prada12 =        fit.fit_WL_cluster_mass(profile = profile_sky_stack, covariance = covariance_sky_stack, a = 0, b = 1, rmax = 5.5, two_halo_term = False, fix_c = True, mc_relation = 'Prada12')\n",
    "#fix_c_Bhattacharya13 = fit.fit_WL_cluster_mass(profile = profile_sky_stack, covariance = covariance_sky_stack, a = 0, b = 1, rmax = 5.5, two_halo_term = False, fix_c = True, mc_relation = 'Bhattacharya13')\n",
    "#free_c_1h =            fit.fit_WL_cluster_mass(profile = profile_sky_stack, covariance = covariance_sky_stack, a = 0, b = 1, rmax = 5.5, two_halo_term = False, fix_c = False)"
   ]
  },
  {
   "cell_type": "code",
   "execution_count": 12,
   "id": "2712bb53-5f70-45b7-87c3-12638f31ec72",
   "metadata": {},
   "outputs": [
    {
     "data": {
      "text/plain": [
       "Text(0, 0.5, '$\\\\log_{10}(M_{\\\\rm 200c}^{\\\\rm WL}/M_{\\\\odot})$')"
      ]
     },
     "execution_count": 12,
     "metadata": {},
     "output_type": "execute_result"
    },
    {
     "data": {
      "image/png": "[encoded data removed]",
      "text/plain": [
       "<Figure size 720x504 with 1 Axes>"
      ]
     },
     "metadata": {
      "needs_background": "light"
     },
     "output_type": "display_data"
    }
   ],
   "source": [
    "import matplotlib.ticker\n",
    "fig, ax  = plt.subplots(figsize = (10,7))\n",
    "color_z = ['orange','red','magenta','purple','green','cyan','blue','black']\n",
    "x = np.linspace(1,3,100)\n",
    "f = fix_c_Duffy08\n",
    "for k, z_bin in enumerate(Z_bin):\n",
    "        f = Table(f)\n",
    "        plt.plot([],[], '-', c = color_z[k],label = f'{z_bin[0]:.2f}'+ r'$< z < $'+ f'{z_bin[1]:.2f}',)\n",
    "        mask = (f['z_mean'] > z_bin[0])*(f['z_mean'] < z_bin[1])\n",
    "        f_cut = f[mask]\n",
    "        a_t = 1./(1 + f_cut['z_mean'])\n",
    "        richness = f_cut['obs_mean']\n",
    "        richness_err = f_cut['obs_rms']\n",
    "        logm200w = f_cut['logm200_w']\n",
    "        logm200w_err = f_cut['logm200_w_err']\n",
    "        ax.errorbar(richness,logm200w,logm200w_err, richness_err,\n",
    "                    marker = '.', fmt = ' ',\n",
    "                    elinewidth = 2, capsize = 0, markersize = 7, c = color_z[k],\n",
    "                        markerfacecolor = None)\n",
    "\n",
    "ax.set_ylim(14,14.8)\n",
    "ax.set_xscale('log')\n",
    "ax.tick_params(axis='both', which = 'major', labelsize= 20)\n",
    "ax.set_xticks([30,40, 60, 100, 200])\n",
    "ax.get_xaxis().set_major_formatter(matplotlib.ticker.ScalarFormatter())\n",
    "ax.legend(frameon = False, fontsize = 20, loc = 'lower right')\n",
    "ax.set_xlabel(r'richness $\\lambda$', fontsize = 30)\n",
    "ax.set_ylabel(r'$\\log_{10}(M_{\\rm 200c}^{\\rm WL}/M_{\\odot})$', fontsize = 30)\n",
    "#plt.savefig('/pbs/throng/lsst/users/cpayerne/ThesisAtCCin2p3/Images/est_mass_validation_free_c_1h.png', bbox_inches='tight', dpi=300)\n",
    "#plt.show()"
   ]
  },
  {
   "cell_type": "markdown",
   "id": "7fa77df1-7c76-4eae-a353-b7a1e247c485",
   "metadata": {},
   "source": [
    "# WL Mass-richness relation"
   ]
  },
  {
   "cell_type": "markdown",
   "id": "b9acf8f1-bb03-42c2-8b69-fe692858136d",
   "metadata": {},
   "source": [
    "## first approach"
   ]
  },
  {
   "cell_type": "code",
   "execution_count": 13,
   "id": "cbb4dddb-7c7c-44c6-8918-6cc1680fdfe2",
   "metadata": {},
   "outputs": [],
   "source": [
    "lnL = mass_richness.WL_Mass_Richness()"
   ]
  },
  {
   "cell_type": "code",
   "execution_count": 14,
   "id": "cc620524-aef0-4128-9fcb-28a20fab8bca",
   "metadata": {},
   "outputs": [
    {
     "name": "stdout",
     "output_type": "stream",
     "text": [
      "0.1624981156248464\n"
     ]
    },
    {
     "name": "stderr",
     "output_type": "stream",
     "text": [
      "100%|██████████| 200/200 [00:53<00:00,  3.76it/s]"
     ]
    },
    {
     "name": "stdout",
     "output_type": "stream",
     "text": [
      "0\n"
     ]
    },
    {
     "name": "stderr",
     "output_type": "stream",
     "text": [
      "\n",
      "100%|██████████| 200/200 [00:51<00:00,  3.86it/s]\n"
     ]
    },
    {
     "ename": "IndexError",
     "evalue": "list index out of range",
     "output_type": "error",
     "traceback": [
      "\u001b[0;31m---------------------------------------------------------------------------\u001b[0m",
      "\u001b[0;31mIndexError\u001b[0m                                Traceback (most recent call last)",
      "\u001b[0;32m<ipython-input-14-91be16eb50a4>\u001b[0m in \u001b[0;36m<module>\u001b[0;34m\u001b[0m\n\u001b[1;32m     25\u001b[0m                  \u001b[0mz_individual\u001b[0m\u001b[0;34m=\u001b[0m\u001b[0mfit_true\u001b[0m\u001b[0;34m[\u001b[0m\u001b[0;34m'redshift'\u001b[0m\u001b[0;34m]\u001b[0m\u001b[0;34m,\u001b[0m\u001b[0;34m\u001b[0m\u001b[0;34m\u001b[0m\u001b[0m\n\u001b[1;32m     26\u001b[0m                  n_cluster_per_bin=None, weights_individual=wused)\n\u001b[0;32m---> 27\u001b[0;31m     \u001b[0mlnL\u001b[0m\u001b[0;34m.\u001b[0m\u001b[0mscatter_logm\u001b[0m \u001b[0;34m=\u001b[0m \u001b[0;34m[\u001b[0m\u001b[0;36m0.14\u001b[0m\u001b[0;34m**\u001b[0m\u001b[0;36m.5\u001b[0m\u001b[0;34m/\u001b[0m\u001b[0mnp\u001b[0m\u001b[0;34m.\u001b[0m\u001b[0mlog\u001b[0m\u001b[0;34m(\u001b[0m\u001b[0;36m10\u001b[0m\u001b[0;34m)\u001b[0m\u001b[0;34m,\u001b[0m\u001b[0;36m0\u001b[0m\u001b[0;34m]\u001b[0m\u001b[0;34m[\u001b[0m\u001b[0mi\u001b[0m\u001b[0;34m]\u001b[0m\u001b[0;34m\u001b[0m\u001b[0;34m\u001b[0m\u001b[0m\n\u001b[0m\u001b[1;32m     28\u001b[0m     \u001b[0mprint\u001b[0m\u001b[0;34m(\u001b[0m\u001b[0mlnL\u001b[0m\u001b[0;34m.\u001b[0m\u001b[0mscatter_logm\u001b[0m\u001b[0;34m)\u001b[0m\u001b[0;34m\u001b[0m\u001b[0;34m\u001b[0m\u001b[0m\n\u001b[1;32m     29\u001b[0m     \u001b[0mlnL\u001b[0m\u001b[0;34m.\u001b[0m\u001b[0mset_pivot_values\u001b[0m\u001b[0;34m(\u001b[0m\u001b[0mz0\u001b[0m\u001b[0;34m,\u001b[0m \u001b[0mrichness0\u001b[0m\u001b[0;34m)\u001b[0m\u001b[0;34m\u001b[0m\u001b[0;34m\u001b[0m\u001b[0m\n",
      "\u001b[0;31mIndexError\u001b[0m: list index out of range"
     ]
    }
   ],
   "source": [
    "z0 = analysis.z0\n",
    "richness0 = analysis.richness0\n",
    "initial_binned = [14.1,-1,.75]\n",
    "npath = 200\n",
    "ndim=3\n",
    "nwalkers = 200\n",
    "pos_binned = initial_binned + 0.01 * np.random.randn(nwalkers, len(initial_binned))\n",
    "label = [r'$M_{\\rm wl}$',r'$M_{\\rm wl}+w$',r'$M_{\\rm wl}+w+\\Gamma$']\n",
    "sampler_list = {}\n",
    "w = ['lensing', 'lensing','lensing']\n",
    "Gamma = [Gamma_5, Gamma_5, Gamma_5]\n",
    "fits = [fix_c_Duffy08,fix_c_Duffy08,fix_c_Duffy08]\n",
    "for i,fit_true in enumerate(fits):\n",
    "    \n",
    "    fit_true = fit_true[fit_true['z_mean'] < .8]\n",
    "    \n",
    "    if w[i]=='nlensing':\n",
    "        wused = fit_true['weight_per_cluster_5']*0 + 1\n",
    "    else: wused = fit_true['weight_per_cluster_5']\n",
    "    \n",
    "    lnL = mass_richness.WL_Mass_Richness(logm=fit_true['logm200_w'], logm_err=fit_true['logm200_w_err'], \n",
    "                 richness=fit_true['obs_mean'], richness_err=None, \n",
    "                 z=fit_true['z_mean'], z_err=None,\n",
    "                 richness_individual=fit_true['richness'], \n",
    "                 z_individual=fit_true['redshift'], \n",
    "                 n_cluster_per_bin=None, weights_individual=wused)\n",
    "    lnL.scatter_logm = [0.14**.5/np.log(10),0][i]\n",
    "    print(lnL.scatter_logm)\n",
    "    lnL.set_pivot_values(z0, richness0)\n",
    "    lnL.Gamma = Gamma[i]\n",
    "    from multiprocessing import Pool\n",
    "    with Pool() as pool:\n",
    "        sampler = emcee.EnsembleSampler(nwalkers, ndim, lnL.lnLikelihood_individual_zrichness, pool=pool)\n",
    "        sampler.run_mcmc(pos_binned, npath,progress=True)\n",
    "    sampler_wl = sampler.get_chain(discard = 0, flat = True)\n",
    "    sampler_list[label[i]] = sampler_wl\n",
    "    #break"
   ]
  },
  {
   "cell_type": "code",
   "execution_count": null,
   "id": "366474bd-c4c9-41bd-94c1-11876be515bb",
   "metadata": {},
   "outputs": [],
   "source": [
    "plt.plot(sampler_list[r'$M_{\\rm wl}$'][:,1])"
   ]
  },
  {
   "cell_type": "code",
   "execution_count": null,
   "id": "f110457c-0280-443a-a243-b5eb6d7206dd",
   "metadata": {},
   "outputs": [],
   "source": [
    "plt.rcParams['axes.linewidth'] = 1.3\n",
    "labels_param = [r'$\\log_{10}(M_{0})$', r'$G_z$',r'$F_\\lambda$']\n",
    "sigma1 = 1. - np.exp(-(1./1.)**2/2.)\n",
    "sigma2 = 1. - np.exp(-(2./1.)**2/2.)\n",
    "sigma3 = 1. - np.exp(-(3./1.)**2/2.)\n",
    "truth = [14.162, -0.23, 0.8]\n",
    "bins = 15\n",
    "c = ['r', 'orange', 'salmon', 'k', 'b', 'g']\n",
    "fill_contours = [False, False,False, False,  False, False]\n",
    "dashed = ['solid','solid','solid', 'dashed', 'solid', 'solid']\n",
    "fig, axs = plt.subplots(3,3, figsize = (7,7))\n",
    "fig.subplots_adjust(left=None, bottom=None, right=None, top=None, wspace=10, hspace=0)\n",
    "#for i, name in enumerate(label_plot):\n",
    "#    axs[0,2].plot([],[], c[i], linewidth = 10, label = label_plot[i])\n",
    "\n",
    "for i,sample in enumerate(sampler_list):\n",
    "    #if np.isin(sample, [r'$M_{\\rm wl}$ + scatter']):\n",
    "    #    continue\n",
    "    sample = sampler_list[sample]\n",
    "    print(sample.shape)\n",
    "    a = len(sample)\n",
    "    print(a)\n",
    "    sample_cut = sample[35000:a-1]\n",
    "    fig = corner.corner(\n",
    "    sample_cut,\n",
    "    bins=bins, levels=(sigma1, sigma2),\n",
    "        #truths = fiducial_constraint,\n",
    "    \n",
    "    #range = range_corner_plot,\n",
    "    fig = fig,\n",
    "    color = c[i],\n",
    "        ls = '--',\n",
    "    smooth1d=True,smooth=True,plot_datapoints=False,\n",
    "    fill_contours=fill_contours[i], labels = labels_param,            \n",
    "    label_kwargs={\"fontsize\": 20},\n",
    "    use_math_text=True,\n",
    "    show_title = True,\n",
    "    plot_density=False,\n",
    "    max_n_ticks = 5, \n",
    "    contour_kwargs={'linestyles':dashed[i], 'linewidths':2})\n",
    "axs[0,2].legend(frameon = True, fontsize = 15, loc = 'upper right')\n",
    "for i in range(3):\n",
    "    for j in range(3):\n",
    "        axs[i,j].tick_params(axis='both', which = 'major', labelsize= 10)\n",
    "       # if i == j:\n",
    "           # axs[i,j].set_ylim(0,500)\n",
    "\n",
    "#plt.savefig('effect_modelling_likelihood_consideration.png', bbox_inches='tight', dpi=300)"
   ]
  },
  {
   "cell_type": "markdown",
   "id": "441854cb-fbdb-434a-918c-b4e19630e7e5",
   "metadata": {},
   "source": [
    "## Second approach"
   ]
  },
  {
   "cell_type": "code",
   "execution_count": null,
   "id": "01161302-f572-48c3-87b5-d65a343f7e3b",
   "metadata": {},
   "outputs": [],
   "source": [
    "prf_truncated = []\n",
    "inv_cov_truncated = []\n",
    "radius_truncated = []\n",
    "z = []\n",
    "richness = []\n",
    "for halo, cov in zip(profile_sky_stack, covariance_sky_stack):\n",
    "    if (halo['z_mean'] > .8): continue\n",
    "\n",
    "    z.append(halo['z_mean'])\n",
    "    richness.append(halo['obs_mean'])\n",
    "    mask = (halo['radius'] > b)*(halo['radius'] < rmax)\n",
    "    prf_truncated.append(halo['gt'][mask])\n",
    "    radius_truncated.append(halo['radius'][mask])\n",
    "    index_cut=np.arange(len(halo['radius']))[mask]\n",
    "    cov_tr = np.array([np.array([cov['cov_t'][i,j] for i in index_cut]) for j in index_cut])\n",
    "    #inv_cov_truncated.append(np.linalg.inv(cov_tr))\n",
    "    inv_cov_truncated.append(np.linalg.inv(np.diag(cov_tr.diagonal())))"
   ]
  },
  {
   "cell_type": "code",
   "execution_count": null,
   "id": "67b8426a-03ed-47c8-a175-568a458b792b",
   "metadata": {},
   "outputs": [],
   "source": [
    "moo=clmm.Modeling(massdef = 'critical', delta_mdef = 200, halo_profile_model = 'nfw')\n",
    "moo.set_cosmo(cosmo_clmm)\n",
    "deff = ccl.halos.massdef.MassDef(200, 'critical', c_m_relation=None)\n",
    "concDiemer15 = ccl.halos.concentration.ConcentrationDiemer15(mdef=deff)\n",
    "concDuffy08 = ccl.halos.concentration.ConcentrationDuffy08(mdef=deff)\n",
    "concPrada12 = ccl.halos.concentration.ConcentrationPrada12(mdef=deff)\n",
    "concBhattacharya13 = ccl.halos.concentration.ConcentrationBhattacharya13(mdef=deff)"
   ]
  },
  {
   "cell_type": "code",
   "execution_count": null,
   "id": "181493e7-b232-4170-9ef3-9aa31160e137",
   "metadata": {},
   "outputs": [],
   "source": [
    "def ds(r, m, c, z):\n",
    "    moo.set_mass(m), moo.set_concentration(c)\n",
    "    y=moo.eval_excess_surface_density([float(r[i]) for i in range(len(r))], z)\n",
    "    return y"
   ]
  },
  {
   "cell_type": "code",
   "execution_count": null,
   "id": "7ca2f230-5758-4f26-8a86-c8ccf8ac9af9",
   "metadata": {},
   "outputs": [],
   "source": [
    "0.3/np.log(10)"
   ]
  },
  {
   "cell_type": "code",
   "execution_count": null,
   "id": "aa0e8705-cb1a-4a71-87f6-669efdb62aa0",
   "metadata": {},
   "outputs": [],
   "source": [
    "import time"
   ]
  },
  {
   "cell_type": "code",
   "execution_count": null,
   "id": "39dd83b6-b7a9-44a8-8d99-8caa20e64a55",
   "metadata": {},
   "outputs": [],
   "source": [
    "str(time.time())"
   ]
  },
  {
   "cell_type": "code",
   "execution_count": null,
   "id": "2b5873b0-de07-4c5c-a8f5-cb25816dc72c",
   "metadata": {},
   "outputs": [],
   "source": [
    "lnL.set_pivot_values(z0, richness0)\n",
    "def lnlikelihood_from_shear_profile(theta1):\n",
    "    logM0,G,F, sigma_int = theta1\n",
    "    theta = logM0,G,F\n",
    "    chi2=0\n",
    "    if sigma_int < 0:# or sigma_int > .2:\n",
    "        return -np.inf\n",
    "    if logM0 < 11: return -np.inf\n",
    "    np.random.seed(int(abs(194709*np.prod(theta1))))\n",
    "    #np.random.shuffle(u)\n",
    "    u = np.random.randn(100)\n",
    "   # print(' stop '+str(u[0]))\n",
    "    #print([u1, u2])\n",
    "    for n, halo in enumerate(prf_truncated):\n",
    "        mu_lnm = lnL.mu_logM_lambda(richness[n], z[n], theta)\n",
    "        \n",
    "        sigma_lnm = np.sqrt(sigma_int**2 + F**2/(richness[n]))\n",
    "        \n",
    "        ln_m = mu_lnm + sigma_lnm**2/2 + sigma_lnm*u\n",
    "\n",
    "        lnc = np.log(concDuffy08._concentration(cosmo_ccl, np.exp(ln_m), 1./(1. + z[n]))) + 0.2*u\n",
    "        c = np.exp(lnc)\n",
    "        \n",
    "        ds_table = np.zeros([len(u), len(radius_truncated[n])])\n",
    "        \n",
    "        for i in range(len(u)):\n",
    "            ds_table[i,:] = ds(radius_truncated[n], np.exp(ln_m[i]), c[i], z[n])\n",
    "    \n",
    "        #y=ds(radius_truncated[n], 10**log10m, c, z[n])\n",
    "        #ds_mean = ds(radius_truncated[n], np.exp(ln_mu_m), c, z[n])#\n",
    "        ds_mean = np.mean(ds_table, axis=0)\n",
    "        delta = halo-ds_mean\n",
    "        chi2+=.5*np.sum(delta*inv_cov_truncated[n].dot(delta))\n",
    "    return -chi2"
   ]
  },
  {
   "cell_type": "code",
   "execution_count": null,
   "id": "c8960658-aae2-47ec-a7f5-7e7796904b95",
   "metadata": {},
   "outputs": [],
   "source": [
    "lnlikelihood_from_shear_profile([14.32, -1, 1, .1 ])"
   ]
  },
  {
   "cell_type": "code",
   "execution_count": null,
   "id": "f10e758d-7825-46dd-80f3-4fc0422167bf",
   "metadata": {},
   "outputs": [],
   "source": [
    "pos_binned = [14.1, -.4, .7, .1] + 0.1 * np.random.randn(100, 4)\n",
    "lnL.set_pivot_values(z0, richness0)\n",
    "from multiprocessing import Pool\n",
    "with Pool(10) as pool:\n",
    "    sampler = emcee.EnsembleSampler(100, 4, lnlikelihood_from_shear_profile, pool=pool,)\n",
    "    sampler.run_mcmc(pos_binned, 100,progress=True)\n",
    "sampler_wl = sampler.get_chain(discard = 0, flat = True)"
   ]
  },
  {
   "cell_type": "code",
   "execution_count": null,
   "id": "8d5d3142-c188-495f-9f27-42302056e46e",
   "metadata": {},
   "outputs": [],
   "source": [
    "plt.plot(sampler_wl[:,0])"
   ]
  },
  {
   "cell_type": "code",
   "execution_count": null,
   "id": "5737e165-83d4-40e9-bae0-255133080f11",
   "metadata": {},
   "outputs": [],
   "source": [
    "k = sampler_wl\n",
    "a = len(k)\n",
    "middle = np.mean(k[8000:a-1], axis = 0)\n",
    "std = np.std(k[8000:a-1], axis = 0)\n",
    "range_corner_plot = [(middle[i]- 2*std[i], middle[i]+ 2*std[i]) for i in range(4)]"
   ]
  },
  {
   "cell_type": "code",
   "execution_count": null,
   "id": "69866c56-a160-4e6f-a80b-979c87f8034a",
   "metadata": {},
   "outputs": [],
   "source": [
    "range_corner_plot"
   ]
  },
  {
   "cell_type": "code",
   "execution_count": null,
   "id": "787d03b3-9489-4365-bd62-18023e47546f",
   "metadata": {},
   "outputs": [],
   "source": [
    "sigma1 = 1. - np.exp(-(1./1.)**2/2.)\n",
    "sigma2 = 1. - np.exp(-(2./1.)**2/2.)\n",
    "sigma3 = 1. - np.exp(-(3./1.)**2/2.)\n",
    "truth = [14.4, -0.23, 0.8]\n",
    "bins = 10\n",
    "c = ['k', 'b', 'r', 'k', 'b', 'g']\n",
    "fill_contours = [False, False,False, False,  False, False]\n",
    "dashed = ['solid','solid','solid', 'dashed', 'solid', 'solid']\n",
    "fig, axs = plt.subplots(4,4, figsize = (7,7))\n",
    "fig=corner.corner(sampler_wl[(sampler_wl[:,3]>0)*(sampler_wl[:,3]<0.4)][5000:][::3], bins=10\n",
    "                  , smooth=True,\n",
    "                  truths=[14.085413538879381, -0.28053966354593196 ,0.783988802896054, .4/np.log(10) ],\n",
    "                  color='red',\n",
    "                  plot_datapoints=True,smooth1d=False, #plot_density=False,\n",
    "                  labels = ['logM', 'G', 'F', 'sigma'], fig=fig, levels=[sigma1, sigma2], contour_kwargs={ 'linestyles':'--', 'linewidths':2})"
   ]
  },
  {
   "cell_type": "code",
   "execution_count": null,
   "id": "e852460d-b390-441b-a6e9-6aba27e2e0a0",
   "metadata": {},
   "outputs": [],
   "source": [
    "for p in "
   ]
  },
  {
   "cell_type": "code",
   "execution_count": null,
   "id": "c2ac1d17-a346-457a-b92c-0ddc0e17a7a8",
   "metadata": {},
   "outputs": [],
   "source": [
    "k = sampler_list[r'$M_{\\rm wl}$']\n",
    "a = len(k)\n",
    "middle = np.mean(k[19000:a-1], axis = 0)\n",
    "std = np.std(k[19000:a-1], axis = 0)\n",
    "range_corner_plot = [(middle[i]- 3.5*std[i], middle[i]+ 3.5*std[i]) for i in range(3)]"
   ]
  },
  {
   "cell_type": "code",
   "execution_count": null,
   "id": "184ad933",
   "metadata": {},
   "outputs": [],
   "source": [
    "plt.rcParams['axes.linewidth'] = 1.3\n",
    "labels_param = [r'$\\log_{10}(M_{0})$', r'$G_z$',r'$F_\\lambda$']\n",
    "sigma1 = 1. - np.exp(-(1./1.)**2/2.)\n",
    "sigma2 = 1. - np.exp(-(2./1.)**2/2.)\n",
    "sigma3 = 1. - np.exp(-(3./1.)**2/2.)\n",
    "truth = [14.162, -0.23, 0.8]\n",
    "bins = 10\n",
    "c = ['k', 'b', 'r', 'k', 'b', 'g']\n",
    "fill_contours = [False, False,False, False,  False, False]\n",
    "dashed = ['solid','solid','solid', 'dashed', 'solid', 'solid']\n",
    "fig, axs = plt.subplots(3,3, figsize = (7,7))\n",
    "fig.subplots_adjust(left=None, bottom=None, right=None, top=None, wspace=10, hspace=0)\n",
    "#for i, name in enumerate(label_plot):\n",
    "#*    axs[0,2].plot([],[], c[i], linewidth = 10, label = label_plot[i])\n",
    "\n",
    "for i,sample in enumerate(sampler_list):\n",
    "    #if np.isin(sample, [r'$M_{\\rm wl}$ + scatter']):\n",
    "    #    continue\n",
    "    sample = sampler_list[sample]\n",
    "    print(sample.shape)\n",
    "    a = len(sample)\n",
    "    print(a)\n",
    "    sample_cut = sample[19000:a-1]\n",
    "    fig = corner.corner(\n",
    "    sample_cut,\n",
    "    bins=bins, levels=(sigma1, sigma2),\n",
    "        #truths = fiducial_constraint,\n",
    "    \n",
    "    #range = range_corner_plot,\n",
    "    fig = fig,\n",
    "    color = c[i],\n",
    "        ls = '--',\n",
    "    smooth1d=True,smooth=True,plot_datapoints=False,\n",
    "    fill_contours=fill_contours[i], labels = labels_param,            \n",
    "    label_kwargs={\"fontsize\": 20},\n",
    "    use_math_text=True,\n",
    "    show_title = True,\n",
    "    plot_density=False,\n",
    "    max_n_ticks = 5, \n",
    "    contour_kwargs={'linestyles':dashed[i], 'linewidths':2})\n",
    "axs[0,2].legend(frameon = True, fontsize = 15, loc = 'upper right')\n",
    "for i in range(3):\n",
    "    for j in range(3):\n",
    "        axs[i,j].tick_params(axis='both', which = 'major', labelsize= 10)\n",
    "       # if i == j:\n",
    "           # axs[i,j].set_ylim(0,500)\n",
    "\n",
    "#plt.savefig('effect_modelling_likelihood_consideration.png', bbox_inches='tight', dpi=300)"
   ]
  },
  {
   "cell_type": "code",
   "execution_count": null,
   "id": "7715adec-6199-4cc2-9701-667b2cfdb7bc",
   "metadata": {},
   "outputs": [],
   "source": [
    "import emcee\n",
    "from multiprocessing import Pool\n",
    "n_walkers = 100\n",
    "n_step = 100\n",
    "start_walkers = [1,1,1] + 0.1 * np.random.randn(n_walkers, 3)\n",
    "def lnL(p):\n",
    "    u = np.random.random()\n",
    "    #use u in the likelihood evaluation\n",
    "    return ...\n",
    "with Pool() as pool:\n",
    "    sampler = emcee.EnsembleSampler(n_walkers 5, lnL, pool=pool, )\n",
    "    sampler.run_mcmc(start_walkers, n_step,progress=True)\n",
    "sampler = sampler.get_chain(discard = 0, flat = True)"
   ]
  }
 ],
 "metadata": {
  "kernelspec": {
   "display_name": "mydesc",
   "language": "python",
   "name": "mydesc"
  },
  "language_info": {
   "codemirror_mode": {
    "name": "ipython",
    "version": 3
   },
   "file_extension": ".py",
   "mimetype": "text/x-python",
   "name": "python",
   "nbconvert_exporter": "python",
   "pygments_lexer": "ipython3",
   "version": "3.7.6"
  }
 },
 "nbformat": 4,
 "nbformat_minor": 5
}
