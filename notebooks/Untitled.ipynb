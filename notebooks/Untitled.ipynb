{
 "cells": [
  {
   "cell_type": "code",
   "execution_count": 28,
   "id": "bc383c56-4aa8-4b2d-bd88-995bf97e069d",
   "metadata": {},
   "outputs": [],
   "source": [
    "from multiprocessing import Pool\n",
    "import matplotlib.pyplot as plt\n",
    "import pickle\n",
    "from astropy.coordinates import SkyCoord, match_coordinates_3d, match_coordinates_sky\n",
    "import sys\n",
    "import emcee\n",
    "import numpy as np\n",
    "from astropy.cosmology import FlatLambdaCDM\n",
    "import astropy.units as u\n",
    "from astropy.table import Table, QTable, hstack, vstack\n",
    "from astropy import units as u\n",
    "import corner, time\n",
    "from scipy.interpolate import interp2d\n",
    "from astropy.coordinates import SkyCoord, match_coordinates_3d\n",
    "cosmo_astropy = FlatLambdaCDM(H0=71.0, Om0=0.265, Ob0 = 0.0448)\n",
    "import iminuit\n",
    "from iminuit import Minuit\n",
    "cosmo_astropy.critical_density(0.4).to(u.Msun / u.Mpc**3).value\n",
    "\n",
    "sys.path.append('/pbs/throng/lsst/users/cpayerne/CLMassDC2/modules/')\n",
    "import CL_WL_miscentering as mis\n",
    "import analysis_Mass_Richness_relation as analysis\n",
    "import CL_WL_two_halo_term as twoh\n",
    "import CL_WL_mass_conversion as utils\n",
    "import CL_DATAOPS_match_catalogs as match\n",
    "import CL_Mass_richness_relation as mr\n",
    "import CL_Likelihood_for_Mass_richness_relation as likelihood_mr\n",
    "\n",
    "\n",
    "import clmm\n",
    "import clmm.dataops\n",
    "from clmm.dataops import compute_tangential_and_cross_components, make_radial_profile, make_bins\n",
    "from clmm.galaxycluster import GalaxyCluster\n",
    "import clmm.utils as u\n",
    "import astropy.units as un\n",
    "from clmm import Cosmology\n",
    "from clmm.support import mock_data as mock\n",
    "import pyccl as ccl"
   ]
  },
  {
   "cell_type": "code",
   "execution_count": 3,
   "id": "d81b2f4d-accb-450c-8621-2bd63ea2dca6",
   "metadata": {},
   "outputs": [],
   "source": [
    "def save_pickle(dat, filename, **kwargs):\n",
    "    file = open(filename,'wb')\n",
    "    pickle.dump(dat, file)\n",
    "    file.close()\n",
    "\n",
    "cosmo = Cosmology(H0 = 71.0, Omega_dm0 = 0.265 - 0.0448, Omega_b0 = 0.0448, Omega_k0 = 0.0)\n",
    "cosmo_astropy = FlatLambdaCDM(H0=71.0, Om0=0.265, Ob0 = 0.0448)\n",
    "cosmo_clmm = Cosmology(H0 = 71.0, Omega_dm0 = 0.265 - 0.0448, Omega_b0 = 0.0448, Omega_k0 = 0.0)\n",
    "cosmo_ccl  = ccl.Cosmology(Omega_c=0.265-0.0448, Omega_b=0.0448, h=0.71, A_s=2.1e-9, n_s=0.96, Neff=0, Omega_g=0)\n",
    "\n",
    "#modeling of the unitary excess surface density profile\n",
    "def esd_modeling(R, log10m, c, z, cosmo, halo_profile = 'nfw'):\n",
    "    return clmm.compute_excess_surface_density(R, 10**log10m, c, z, cosmo, delta_mdef=200,\n",
    "                                       halo_profile_model=halo_profile, massdef='critical')"
   ]
  },
  {
   "cell_type": "code",
   "execution_count": 4,
   "id": "a3a2ee3b-2d97-4fff-8c71-ba9a7eaf9246",
   "metadata": {},
   "outputs": [],
   "source": [
    "R = np.linspace(1, 5.5, 10)"
   ]
  },
  {
   "cell_type": "code",
   "execution_count": 6,
   "id": "97df2630-1e6c-4357-a277-a7cd6767d224",
   "metadata": {},
   "outputs": [],
   "source": [
    "logm = np.random.random(100)*(16-13) + 13\n",
    "c = np.random.random(100)*(20-1) + 1"
   ]
  },
  {
   "cell_type": "code",
   "execution_count": 18,
   "id": "5a284c69-a8e5-44fd-ae51-e19622aa1a55",
   "metadata": {},
   "outputs": [],
   "source": [
    "pos = np.array([[logm[i], c[i]] for i in range(100)])"
   ]
  },
  {
   "cell_type": "code",
   "execution_count": 8,
   "id": "e5348175-87ba-4f74-9d3c-b856fc254fc6",
   "metadata": {},
   "outputs": [],
   "source": [
    "table = Table()"
   ]
  },
  {
   "cell_type": "code",
   "execution_count": 15,
   "id": "299d3980-f3d6-41cc-b47d-88e8dd69cfee",
   "metadata": {},
   "outputs": [],
   "source": [
    "ds = []\n",
    "for i in range(100):\n",
    "    \n",
    "    ds.append( esd_modeling(R, logm[i], c[i], .3, cosmo, halo_profile = 'einasto') )"
   ]
  },
  {
   "cell_type": "code",
   "execution_count": 16,
   "id": "321051d0-24fa-47a0-a152-70ebb9b37748",
   "metadata": {},
   "outputs": [
    {
     "ename": "ValueError",
     "evalue": "There are 100 point arrays, but values has 2 dimensions",
     "output_type": "error",
     "traceback": [
      "\u001b[0;31m---------------------------------------------------------------------------\u001b[0m",
      "\u001b[0;31mValueError\u001b[0m                                Traceback (most recent call last)",
      "\u001b[0;32m<ipython-input-16-08bbf24f8694>\u001b[0m in \u001b[0;36m<module>\u001b[0;34m\u001b[0m\n\u001b[1;32m      1\u001b[0m \u001b[0;32mfrom\u001b[0m \u001b[0mscipy\u001b[0m\u001b[0;34m.\u001b[0m\u001b[0minterpolate\u001b[0m \u001b[0;32mimport\u001b[0m \u001b[0mRegularGridInterpolator\u001b[0m\u001b[0;34m\u001b[0m\u001b[0;34m\u001b[0m\u001b[0m\n\u001b[0;32m----> 2\u001b[0;31m \u001b[0minterp\u001b[0m \u001b[0;34m=\u001b[0m \u001b[0mRegularGridInterpolator\u001b[0m\u001b[0;34m(\u001b[0m\u001b[0mds\u001b[0m\u001b[0;34m,\u001b[0m \u001b[0;34m[\u001b[0m\u001b[0mlogm\u001b[0m\u001b[0;34m,\u001b[0m \u001b[0mc\u001b[0m\u001b[0;34m]\u001b[0m\u001b[0;34m)\u001b[0m\u001b[0;34m\u001b[0m\u001b[0;34m\u001b[0m\u001b[0m\n\u001b[0m",
      "\u001b[0;32m~/.conda/envs/mydesc/lib/python3.7/site-packages/scipy/interpolate/interpolate.py\u001b[0m in \u001b[0;36m__init__\u001b[0;34m(self, points, values, method, bounds_error, fill_value)\u001b[0m\n\u001b[1;32m   2420\u001b[0m         \u001b[0;32mif\u001b[0m \u001b[0mlen\u001b[0m\u001b[0;34m(\u001b[0m\u001b[0mpoints\u001b[0m\u001b[0;34m)\u001b[0m \u001b[0;34m>\u001b[0m \u001b[0mvalues\u001b[0m\u001b[0;34m.\u001b[0m\u001b[0mndim\u001b[0m\u001b[0;34m:\u001b[0m\u001b[0;34m\u001b[0m\u001b[0;34m\u001b[0m\u001b[0m\n\u001b[1;32m   2421\u001b[0m             raise ValueError(\"There are %d point arrays, but values has %d \"\n\u001b[0;32m-> 2422\u001b[0;31m                              \"dimensions\" % (len(points), values.ndim))\n\u001b[0m\u001b[1;32m   2423\u001b[0m \u001b[0;34m\u001b[0m\u001b[0m\n\u001b[1;32m   2424\u001b[0m         \u001b[0;32mif\u001b[0m \u001b[0mhasattr\u001b[0m\u001b[0;34m(\u001b[0m\u001b[0mvalues\u001b[0m\u001b[0;34m,\u001b[0m \u001b[0;34m'dtype'\u001b[0m\u001b[0;34m)\u001b[0m \u001b[0;32mand\u001b[0m \u001b[0mhasattr\u001b[0m\u001b[0;34m(\u001b[0m\u001b[0mvalues\u001b[0m\u001b[0;34m,\u001b[0m \u001b[0;34m'astype'\u001b[0m\u001b[0;34m)\u001b[0m\u001b[0;34m:\u001b[0m\u001b[0;34m\u001b[0m\u001b[0;34m\u001b[0m\u001b[0m\n",
      "\u001b[0;31mValueError\u001b[0m: There are 100 point arrays, but values has 2 dimensions"
     ]
    }
   ],
   "source": [
    "from scipy.interpolate import RegularGridInterpolator\n",
    "interp = RegularGridInterpolator(ds, [logm, c])"
   ]
  },
  {
   "cell_type": "code",
   "execution_count": 22,
   "id": "eb3b923b-cbfa-43b5-825d-efbb1d55cd30",
   "metadata": {},
   "outputs": [
    {
     "ename": "TypeError",
     "evalue": "_interp_dispatcher() missing 1 required positional argument: 'fp'",
     "output_type": "error",
     "traceback": [
      "\u001b[0;31m---------------------------------------------------------------------------\u001b[0m",
      "\u001b[0;31mTypeError\u001b[0m                                 Traceback (most recent call last)",
      "\u001b[0;32m<ipython-input-22-036417811bea>\u001b[0m in \u001b[0;36m<module>\u001b[0;34m\u001b[0m\n\u001b[0;32m----> 1\u001b[0;31m \u001b[0mnp\u001b[0m\u001b[0;34m.\u001b[0m\u001b[0minterp\u001b[0m\u001b[0;34m(\u001b[0m\u001b[0;34m[\u001b[0m\u001b[0;36m.3\u001b[0m\u001b[0;34m,\u001b[0m \u001b[0;36m15\u001b[0m\u001b[0;34m]\u001b[0m\u001b[0;34m,\u001b[0m\u001b[0mpos\u001b[0m\u001b[0;34m)\u001b[0m\u001b[0;34m\u001b[0m\u001b[0;34m\u001b[0m\u001b[0m\n\u001b[0m",
      "\u001b[0;32m<__array_function__ internals>\u001b[0m in \u001b[0;36minterp\u001b[0;34m(*args, **kwargs)\u001b[0m\n",
      "\u001b[0;31mTypeError\u001b[0m: _interp_dispatcher() missing 1 required positional argument: 'fp'"
     ]
    }
   ],
   "source": [
    "np.interp([.3, 15],pos, )"
   ]
  },
  {
   "cell_type": "code",
   "execution_count": 38,
   "id": "5bf84b5f-61d8-412b-8a44-39dcfbb6264a",
   "metadata": {},
   "outputs": [],
   "source": [
    "xa = np.linspace(1, 2, 10)\n",
    "xb =np.linspace(1, 2, 10)"
   ]
  },
  {
   "cell_type": "code",
   "execution_count": 39,
   "id": "d1d7a991-f3ff-4cee-aa07-ea81b7d6ad09",
   "metadata": {},
   "outputs": [],
   "source": [
    "Xa, Xb = np.meshgrid(xa, xb)"
   ]
  },
  {
   "cell_type": "code",
   "execution_count": 44,
   "id": "2200415e-dfc5-4c6e-9a05-15e756c92b02",
   "metadata": {},
   "outputs": [],
   "source": [
    "a = np.zeros([100]) + 1"
   ]
  },
  {
   "cell_type": "code",
   "execution_count": 47,
   "id": "09467a2c-d5ec-4eed-a5df-772304a99671",
   "metadata": {},
   "outputs": [
    {
     "ename": "ValueError",
     "evalue": "Invalid length for input z for non rectangular grid",
     "output_type": "error",
     "traceback": [
      "\u001b[0;31m---------------------------------------------------------------------------\u001b[0m",
      "\u001b[0;31mValueError\u001b[0m                                Traceback (most recent call last)",
      "\u001b[0;32m<ipython-input-47-ce61c1b92b18>\u001b[0m in \u001b[0;36m<module>\u001b[0;34m\u001b[0m\n\u001b[0;32m----> 1\u001b[0;31m \u001b[0mf\u001b[0m \u001b[0;34m=\u001b[0m \u001b[0minterp2d\u001b[0m\u001b[0;34m(\u001b[0m\u001b[0mXa\u001b[0m\u001b[0;34m,\u001b[0m \u001b[0mXb\u001b[0m\u001b[0;34m,\u001b[0m \u001b[0;34m[\u001b[0m\u001b[0ma\u001b[0m\u001b[0;34m,\u001b[0m \u001b[0ma\u001b[0m\u001b[0;34m]\u001b[0m\u001b[0;34m,\u001b[0m \u001b[0mkind\u001b[0m\u001b[0;34m=\u001b[0m\u001b[0;34m'cubic'\u001b[0m\u001b[0;34m)\u001b[0m\u001b[0;34m\u001b[0m\u001b[0;34m\u001b[0m\u001b[0m\n\u001b[0m",
      "\u001b[0;32m~/.conda/envs/mydesc/lib/python3.7/site-packages/scipy/interpolate/interpolate.py\u001b[0m in \u001b[0;36m__init__\u001b[0;34m(self, x, y, z, kind, copy, bounds_error, fill_value)\u001b[0m\n\u001b[1;32m    216\u001b[0m             \u001b[0;32mif\u001b[0m \u001b[0mlen\u001b[0m\u001b[0;34m(\u001b[0m\u001b[0mz\u001b[0m\u001b[0;34m)\u001b[0m \u001b[0;34m!=\u001b[0m \u001b[0mlen\u001b[0m\u001b[0;34m(\u001b[0m\u001b[0mx\u001b[0m\u001b[0;34m)\u001b[0m\u001b[0;34m:\u001b[0m\u001b[0;34m\u001b[0m\u001b[0;34m\u001b[0m\u001b[0m\n\u001b[1;32m    217\u001b[0m                 raise ValueError(\n\u001b[0;32m--> 218\u001b[0;31m                     \"Invalid length for input z for non rectangular grid\")\n\u001b[0m\u001b[1;32m    219\u001b[0m \u001b[0;34m\u001b[0m\u001b[0m\n\u001b[1;32m    220\u001b[0m         \u001b[0;32mtry\u001b[0m\u001b[0;34m:\u001b[0m\u001b[0;34m\u001b[0m\u001b[0;34m\u001b[0m\u001b[0m\n",
      "\u001b[0;31mValueError\u001b[0m: Invalid length for input z for non rectangular grid"
     ]
    }
   ],
   "source": [
    "f = interp2d(Xa, Xb, [a, a], kind='cubic')"
   ]
  },
  {
   "cell_type": "code",
   "execution_count": 46,
   "id": "5ba31f61-5a6a-45ea-84f3-21fb8064e21c",
   "metadata": {},
   "outputs": [
    {
     "data": {
      "text/plain": [
       "array([1.])"
      ]
     },
     "execution_count": 46,
     "metadata": {},
     "output_type": "execute_result"
    }
   ],
   "source": [
    "f(1, 2)"
   ]
  },
  {
   "cell_type": "code",
   "execution_count": null,
   "id": "e215c8b9-84d1-4ab4-a628-6561f5922360",
   "metadata": {},
   "outputs": [],
   "source": []
  }
 ],
 "metadata": {
  "kernelspec": {
   "display_name": "mydesc",
   "language": "python",
   "name": "mydesc"
  },
  "language_info": {
   "codemirror_mode": {
    "name": "ipython",
    "version": 3
   },
   "file_extension": ".py",
   "mimetype": "text/x-python",
   "name": "python",
   "nbconvert_exporter": "python",
   "pygments_lexer": "ipython3",
   "version": "3.7.6"
  }
 },
 "nbformat": 4,
 "nbformat_minor": 5
}
