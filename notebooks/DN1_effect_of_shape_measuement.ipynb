{
 "cells": [
  {
   "cell_type": "code",
   "execution_count": null,
   "id": "8f328bcf",
   "metadata": {},
   "outputs": [],
   "source": [
    "%load_ext autoreload\n",
    "%autoreload 2\n",
    "\n",
    "import matplotlib.pyplot as plt\n",
    "import pickle\n",
    "import sys\n",
    "import numpy as np\n",
    "import emcee\n",
    "import corner\n",
    "\n",
    "sys.path.append('../modules/')\n",
    "import CL_WL_DATAOPS_make_profile as prf\n",
    "import CL_WL_fit_cluster_mass as fit\n",
    "import analysis_Mass_Richness_relation as analysis\n",
    "import CL_fiducial_mass_richness_relation as fiducial\n",
    "import CL_Likelihood_for_Mass_richness_relation as mr"
   ]
  },
  {
   "cell_type": "code",
   "execution_count": null,
   "id": "30227c1b",
   "metadata": {},
   "outputs": [],
   "source": [
    "def load(filename, **kwargs):\n",
    "    with open(filename, 'rb') as fin:\n",
    "        return pickle.load(fin, **kwargs)"
   ]
  },
  {
   "cell_type": "code",
   "execution_count": null,
   "id": "d17d29f8",
   "metadata": {},
   "outputs": [],
   "source": [
    "profile_Metacal = load('../data/individual_profile_dc2dr6_gal_redMaPPer_cluster_Metacal.pkl')\n",
    "profile_HSM = load('../data/individual_profile_dc2dr6_gal_redMaPPer_cluster_HSM.pkl')\n",
    "profile_true = load('../data/individual_profile_cosmoDC2_gal_redMaPPer_cluster_epsilon_shape_true_z.pkl')\n",
    "profile_true_no_shapenoise = load('../data/individual_profile_cosmoDC2_gal_redMaPPer_cluster_shear_shape_true_z.pkl')"
   ]
  },
  {
   "cell_type": "code",
   "execution_count": null,
   "id": "9004e3e2-e3db-4069-ab2a-c5418977574d",
   "metadata": {},
   "outputs": [],
   "source": [
    "for i in range(10):\n",
    "    plt.plot(profile_true[i]['radius_av'], profile_true[i]['gt_av'])\n",
    "    plt.plot(profile_true_no_shapenoise[i]['radius_av'], profile_true_no_shapenoise[i]['gt_av'], '--')"
   ]
  },
  {
   "cell_type": "code",
   "execution_count": null,
   "id": "526dc807-0fff-462e-b377-151367d50a10",
   "metadata": {},
   "outputs": [],
   "source": [
    "fiducial_constraint = fiducial.constrain_fiducial(used_cluster_id_list = np.array(profile_true['cluster_id']), low_M_cut = 3e13)"
   ]
  },
  {
   "cell_type": "code",
   "execution_count": null,
   "id": "f48257bc",
   "metadata": {},
   "outputs": [],
   "source": [
    "gt_av = profile_Metacal['gt_av']\n",
    "R_T = profile_Metacal['<R_T>']\n",
    "a_calib = []\n",
    "for i, gt in enumerate(gt_av):\n",
    "    R = R_T[i]\n",
    "    norm = profile_Metacal['norm_sum'][i]\n",
    "    a_calib.append(np.array([gt[j]/R[j] if norm[j] != 0 else 0 for j in range(len(gt))]))\n",
    "profile_Metacal['gt_av_calib'] = np.array(a_calib)\n",
    "profile_HSM['gt_av_calib'] = profile_HSM['gt_av']/.8"
   ]
  },
  {
   "cell_type": "code",
   "execution_count": null,
   "id": "50f81334",
   "metadata": {},
   "outputs": [],
   "source": [
    "Obs_bin = analysis.Obs_bin\n",
    "Z_bin = analysis.Z_bin"
   ]
  },
  {
   "cell_type": "markdown",
   "id": "9f1978bb-91da-421d-8584-1eec2be48d80",
   "metadata": {},
   "source": [
    "# WL masses"
   ]
  },
  {
   "cell_type": "markdown",
   "id": "cd97ef02",
   "metadata": {},
   "source": [
    "Metacal"
   ]
  },
  {
   "cell_type": "code",
   "execution_count": null,
   "id": "42fade54",
   "metadata": {},
   "outputs": [],
   "source": [
    "profile_Metacal_stack_calib = prf.stacked_profile(profile = profile_Metacal,\n",
    "                    r_in = 'radius_av',\n",
    "                    gt_in = 'gt_av_calib', gx_in = 'gt_av',\n",
    "                    r_out = 'radius',\n",
    "                    gt_out = 'gt', gx_out = 'gx',\n",
    "                    weight = 'norm_sum',\n",
    "                    z_name = 'cluster_z', obs_name = 'richness',\n",
    "                    Z_bin = Z_bin, Obs_bin = Obs_bin)\n",
    "\n",
    "covariance_Metacal_stack_calib = prf.sample_covariance(profile = profile_Metacal,\n",
    "                    r_in = 'radius_av',\n",
    "                    gt_in = 'gt_av_calib', gx_in = 'gx_av',\n",
    "                    r_out = 'radius',\n",
    "                    gt_out = 'gt', gx_out = 'gx',\n",
    "                    weight = 'norm_sum',\n",
    "                    #n_boot = 400,\n",
    "                    z_name = 'cluster_z', obs_name = 'richness',\n",
    "                    Z_bin = Z_bin, Obs_bin = Obs_bin)"
   ]
  },
  {
   "cell_type": "code",
   "execution_count": null,
   "id": "78b80625-885e-4cd9-a5f5-d6d71c1dcf40",
   "metadata": {},
   "outputs": [],
   "source": [
    "for p in profile_Metacal_stack_calib:\n",
    "    plt.loglog(p['radius'], p['gt'])"
   ]
  },
  {
   "cell_type": "code",
   "execution_count": null,
   "id": "84675827-9f3d-489b-95b6-5f578acdedb5",
   "metadata": {},
   "outputs": [],
   "source": [
    "profile_Metacal_stack = prf.stacked_profile(profile = profile_Metacal,\n",
    "                    r_in = 'radius_av',\n",
    "                    gt_in = 'gt_av', gx_in = 'gt_av',\n",
    "                    r_out = 'radius',\n",
    "                    gt_out = 'gt', gx_out = 'gx',\n",
    "                    weight = 'norm_sum',\n",
    "                    z_name = 'cluster_z', obs_name = 'richness',\n",
    "                    Z_bin = Z_bin, Obs_bin = Obs_bin)\n",
    "\n",
    "covariance_Metacal_stack = prf.sample_covariance(profile = profile_Metacal,\n",
    "                    r_in = 'radius_av',\n",
    "                    gt_in = 'gt_av', gx_in = 'gx_av',\n",
    "                    r_out = 'radius',\n",
    "                    gt_out = 'gt', gx_out = 'gx',\n",
    "                    weight = 'norm_sum',\n",
    "                    #n_boot = 400,\n",
    "                    z_name = 'cluster_z', obs_name = 'richness',\n",
    "                    Z_bin = Z_bin, Obs_bin = Obs_bin)"
   ]
  },
  {
   "cell_type": "markdown",
   "id": "4b1897a7",
   "metadata": {},
   "source": [
    "HSM"
   ]
  },
  {
   "cell_type": "code",
   "execution_count": null,
   "id": "876f60aa",
   "metadata": {},
   "outputs": [],
   "source": [
    "profile_HSM_stack = prf.stacked_profile(profile = profile_HSM,\n",
    "                    r_in = 'radius_av',\n",
    "                    gt_in = 'gt_av', gx_in = 'gt_av',\n",
    "                    r_out = 'radius',\n",
    "                    gt_out = 'gt', gx_out = 'gx',\n",
    "                    weight = 'norm_sum',\n",
    "                    z_name = 'cluster_z', obs_name = 'richness',\n",
    "                    Z_bin = Z_bin, Obs_bin = Obs_bin)\n",
    "\n",
    "covariance_HSM_stack = prf.sample_covariance(profile = profile_HSM,\n",
    "                    r_in = 'radius_av',\n",
    "                    gt_in = 'gt_av', gx_in = 'gx_av',\n",
    "                    r_out = 'radius',\n",
    "                    gt_out = 'gt', gx_out = 'gx',\n",
    "                    weight = 'norm_sum',\n",
    "                    #n_boot = 400,\n",
    "                    z_name = 'cluster_z', obs_name = 'richness',\n",
    "                    Z_bin = Z_bin, Obs_bin = Obs_bin)"
   ]
  },
  {
   "cell_type": "code",
   "execution_count": null,
   "id": "f13fa63c-9b6e-4dce-89c3-29ca33199895",
   "metadata": {},
   "outputs": [],
   "source": [
    "profile_HSM_stack_calib = prf.stacked_profile(profile = profile_HSM,\n",
    "                    r_in = 'radius_av',\n",
    "                    gt_in = 'gt_av_calib', gx_in = 'gt_av',\n",
    "                    r_out = 'radius',\n",
    "                    gt_out = 'gt', gx_out = 'gx',\n",
    "                    weight = 'norm_sum',\n",
    "                    z_name = 'cluster_z', obs_name = 'richness',\n",
    "                    Z_bin = Z_bin, Obs_bin = Obs_bin)\n",
    "\n",
    "covariance_HSM_stack_calib = prf.sample_covariance(profile = profile_HSM,\n",
    "                    r_in = 'radius_av',\n",
    "                    gt_in = 'gt_av_calib', gx_in = 'gx_av',\n",
    "                    r_out = 'radius',\n",
    "                    gt_out = 'gt', gx_out = 'gx',\n",
    "                    weight = 'norm_sum',\n",
    "                    #n_boot = 400,\n",
    "                    z_name = 'cluster_z', obs_name = 'richness',\n",
    "                    Z_bin = Z_bin, Obs_bin = Obs_bin)"
   ]
  },
  {
   "cell_type": "markdown",
   "id": "f4ce7648-8668-4143-8b68-93411f5a2708",
   "metadata": {},
   "source": [
    "True"
   ]
  },
  {
   "cell_type": "code",
   "execution_count": null,
   "id": "b56d091b-1a81-46f5-b8e2-97c5b743c2ff",
   "metadata": {},
   "outputs": [],
   "source": [
    "profile_true_stack = prf.stacked_profile(profile = profile_true,\n",
    "                    r_in = 'radius_av',\n",
    "                    gt_in = 'gt_av', gx_in = 'gt_av',\n",
    "                    r_out = 'radius',\n",
    "                    gt_out = 'gt', gx_out = 'gx',\n",
    "                    weight = 'norm_sum',\n",
    "                    z_name = 'cluster_z', obs_name = 'richness',\n",
    "                    Z_bin = Z_bin, Obs_bin = Obs_bin)\n",
    "\n",
    "covariance_true_stack = prf.sample_covariance(profile = profile_true,\n",
    "                    r_in = 'radius_av',\n",
    "                    gt_in = 'gt_av', gx_in = 'gx_av',\n",
    "                    r_out = 'radius',\n",
    "                    gt_out = 'gt', gx_out = 'gx',\n",
    "                    weight = 'norm_sum',\n",
    "                #n_boot = 400,\n",
    "                    z_name = 'cluster_z', obs_name = 'richness',\n",
    "                    Z_bin = Z_bin, Obs_bin = Obs_bin)"
   ]
  },
  {
   "cell_type": "code",
   "execution_count": null,
   "id": "d9b6f354",
   "metadata": {},
   "outputs": [],
   "source": [
    "a = 1.53 + 0.25\n",
    "b = 0.38 + 0.10\n",
    "fit_Metacal = fit.fit_WL_cluster_mass(profile = profile_Metacal_stack, covariance = covariance_Metacal_stack, a = a, b = b, rmax = 5.5, two_halo_term = False, fix_c = True)\n",
    "fit_Metacal_calib = fit.fit_WL_cluster_mass(profile = profile_Metacal_stack_calib, covariance = covariance_Metacal_stack_calib, a = a, b = b, rmax = 5.5, two_halo_term = False, fix_c = True)\n",
    "fit_HSM = fit.fit_WL_cluster_mass(profile = profile_HSM_stack, covariance = covariance_HSM_stack, a = a, b = b,rmax = 5.5, two_halo_term = False, fix_c = True)\n",
    "fit_HSM_calib = fit.fit_WL_cluster_mass(profile = profile_HSM_stack_calib, covariance = covariance_HSM_stack_calib, a = a, b = b,rmax = 5.5, two_halo_term = False, fix_c = True)\n",
    "fit_true = fit.fit_WL_cluster_mass(profile = profile_true_stack, covariance = covariance_true_stack, a = a, b = b, rmax = 5.5, two_halo_term = False, fix_c = True)"
   ]
  },
  {
   "cell_type": "markdown",
   "id": "46244541-838e-4c63-aa1a-ee381807c4bc",
   "metadata": {},
   "source": [
    "# Mass richness relation"
   ]
  },
  {
   "cell_type": "code",
   "execution_count": null,
   "id": "4837b8f9-11b9-4429-90f3-185165bb6a3a",
   "metadata": {},
   "outputs": [],
   "source": [
    "def lnL(theta, m200c_mean, m200c_err_mean, richness_mean, z_mean):\n",
    "    return mr.lnL_WL_binned(theta, m200c_mean, m200c_err_mean, richness_mean, z_mean, analysis.z0, analysis.richness0)"
   ]
  },
  {
   "cell_type": "code",
   "execution_count": null,
   "id": "de604df9-fa35-4db2-b86a-e7786f169540",
   "metadata": {},
   "outputs": [],
   "source": [
    "fits = [fit_Metacal, fit_Metacal_calib, fit_HSM, fit_HSM_calib, fit_true]"
   ]
  },
  {
   "cell_type": "code",
   "execution_count": null,
   "id": "adaec509-3a46-422d-b7dc-5a245b047ae9",
   "metadata": {},
   "outputs": [],
   "source": [
    "z0 = np.median(fits[0]['z_mean'])\n",
    "richness0 = np.median(fits[0]['obs_mean'])\n",
    "initial_binned = [14.1,-0,.75]\n",
    "npath = 100\n",
    "ndim=3\n",
    "nwalkers = 800\n",
    "pos_binned = initial_binned + 0.01 * np.random.randn(nwalkers, len(initial_binned))\n",
    "label = ['metacal', 'metacal_calib','HSM','HSM_calib', 'true']\n",
    "sampler_list = {name : 0 for name in label}\n",
    "for i,fit_true in enumerate(fits):\n",
    "    m200c_mean = 10**np.array(fit_true['logm200_w'])\n",
    "    m200c_err_mean =np.array(fit_true['logm200_w_err'])*np.log(10)*m200c_mean\n",
    "    richness_mean = np.array(fit_true['obs_mean'])\n",
    "    z_mean = np.array(fit_true['z_mean'])\n",
    "    sampler = emcee.EnsembleSampler(nwalkers, ndim, lnL, args = (m200c_mean, m200c_err_mean, richness_mean, z_mean))\n",
    "    sampler.run_mcmc(pos_binned, npath,progress=True)\n",
    "    sampler_wl = sampler.get_chain(discard = 0, flat = True)\n",
    "    sampler_list[label[i]] = sampler_wl"
   ]
  },
  {
   "cell_type": "code",
   "execution_count": null,
   "id": "303062e1-32e5-4c9a-8464-d7d88f332fe8",
   "metadata": {},
   "outputs": [],
   "source": [
    "label_plot = [ r'WL true shapes',r'WL HSM',r'WL HSM calibrated',r'WL Metacalibration',r'WL Metacal']\n",
    "sampler_tot = [ sampler_list['true'], sampler_list['HSM'],sampler_list['HSM_calib'], sampler_list['metacal'], sampler_list['metacal_calib']]"
   ]
  },
  {
   "cell_type": "code",
   "execution_count": null,
   "id": "ff7b7ec0-50d9-4dab-863d-4e573e9c6046",
   "metadata": {},
   "outputs": [],
   "source": [
    "plt.rcParams['axes.linewidth'] = 1.\n",
    "sigma1 = 1. - np.exp(-(1./1.)**2/2.)\n",
    "sigma2 = 1. - np.exp(-(2./1.)**2/2.)\n",
    "sigma3 = 1. - np.exp(-(3./1.)**2/2.)\n",
    "truth = [14.162, -0.23, 0.8]\n",
    "bins = 25\n",
    "labels = [r'$\\log_{10}(M_{0})$', r'$G_z$',r'$F_\\lambda$']\n",
    "c = ['k','b','cyan','r','salmon']\n",
    "fill_contours = [False, False, False,False,  False]\n",
    "show = [True, True, True, False, True]\n",
    "fig, axs = plt.subplots(len(labels), len(labels), figsize = (7,7))\n",
    "for i, name in enumerate(label_plot):\n",
    "    if show[i] == False: continue\n",
    "    axs[0,2].plot([],[], c[i], linewidth = 10, label = label_plot[i])\n",
    "\n",
    "for i,sample in enumerate(sampler_tot):\n",
    "    if show[i] == False: continue\n",
    "    a = len(sample)\n",
    "    sample_cut = sample[50000:a-1]\n",
    "    fig = corner.corner(\n",
    "    sample_cut,\n",
    "    bins=bins, levels=(sigma1, sigma2),\n",
    "    range = [(13.66, 14.25), (-4, 2),(0.3, 1), ],\n",
    "    fig = fig,\n",
    "    color = c[i],\n",
    "         truths = fiducial_constraint,\n",
    "    smooth1d=True,smooth=True,plot_datapoints=False,\n",
    "    fill_contours=fill_contours[i], labels = labels,            \n",
    "    label_kwargs={\"fontsize\": 20},\n",
    "    use_math_text=True,\n",
    "    show_title = True,\n",
    "    plot_density=False,\n",
    "    max_n_ticks = 5);\n",
    "    \n",
    "for i in range(len(labels)):\n",
    "    for j in range(len(labels)):\n",
    "        axs[i,j].tick_params(axis='both', which = 'major', labelsize= 10)\n",
    "        axs[i,j].legend(frameon = False, fontsize = 15)\n",
    "        if i == j:\n",
    "            axs[i,j].set_ylim(0,7000)\n",
    "\n",
    "#plt.savefig('/pbs/throng/lsst/users/cpayerne/ThesisAtCCin2p3/Images/shape.png', bbox_inches='tight', dpi=300)"
   ]
  }
 ],
 "metadata": {
  "kernelspec": {
   "display_name": "mydesc",
   "language": "python",
   "name": "mydesc"
  },
  "language_info": {
   "codemirror_mode": {
    "name": "ipython",
    "version": 3
   },
   "file_extension": ".py",
   "mimetype": "text/x-python",
   "name": "python",
   "nbconvert_exporter": "python",
   "pygments_lexer": "ipython3",
   "version": "3.8.8"
  }
 },
 "nbformat": 4,
 "nbformat_minor": 5
}
