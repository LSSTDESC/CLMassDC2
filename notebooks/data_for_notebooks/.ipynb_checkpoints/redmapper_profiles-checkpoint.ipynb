{
 "cells": [
  {
   "cell_type": "code",
   "execution_count": 2,
   "id": "5c96e453",
   "metadata": {},
   "outputs": [],
   "source": [
    "%load_ext autoreload\n",
    "\n",
    "\n",
    "%autoreload 2\n",
    "import matplotlib.pyplot as plt\n",
    "import pickle\n",
    "import emcee\n",
    "import sys\n",
    "import numpy as np\n",
    "import corner\n",
    "from astropy.table import Table\n",
    "\n",
    "sys.path.append('/pbs/throng/lsst/users/cpayerne/CLMassDC2/modules/')\n",
    "import CL_WL_DATAOPS_make_profile as prf\n",
    "import analysis_Mass_Richness_relation as analysis"
   ]
  },
  {
   "cell_type": "code",
   "execution_count": 3,
   "id": "a78ec39f",
   "metadata": {},
   "outputs": [],
   "source": [
    "def load(filename, **kwargs):\n",
    "    with open(filename, 'rb') as fin:\n",
    "        return pickle.load(fin, **kwargs)\n",
    "def save_pickle(dat, filename, **kwargs):\n",
    "    file = open(filename,'wb')\n",
    "    pickle.dump(dat, file)\n",
    "    file.close()"
   ]
  },
  {
   "cell_type": "markdown",
   "id": "1db58c1c-d243-434c-b621-3579130a6ad7",
   "metadata": {},
   "source": [
    "# Load data"
   ]
  },
  {
   "cell_type": "code",
   "execution_count": 21,
   "id": "5813bb43-a78c-432b-85af-cc4b24205e0a",
   "metadata": {},
   "outputs": [],
   "source": [
    "ind_profile = np.load('/pbs/throng/lsst/users/cpayerne/CLMassDC2/data/data_new_version/ind_profile_redmapper.pkl', allow_pickle = True)\n",
    "ind_profile['cluster_id'] = ind_profile['id']"
   ]
  },
  {
   "cell_type": "code",
   "execution_count": 31,
   "id": "f3bcdd1b-090b-4003-8a47-c3dd484c2d45",
   "metadata": {},
   "outputs": [],
   "source": [
    "sum_weights_per_cluster_true_10 = []\n",
    "sum_weights_per_cluster_true_5 = []\n",
    "for i, cl in enumerate(ind_profile):\n",
    "    mask = (ind_profile['radius_true'][i] > 1)*(ind_profile['radius_true'][i] < 10)\n",
    "    sum_weights_per_cluster_true_10.append(np.sum(ind_profile['W_l_true'][i][mask]))\n",
    "    mask = (ind_profile['radius_true'][i] > 1)*(ind_profile['radius_true'][i] < 5.5)\n",
    "    sum_weights_per_cluster_true_5.append(np.sum(ind_profile['W_l_true'][i][mask]))"
   ]
  },
  {
   "cell_type": "code",
   "execution_count": 32,
   "id": "5d238ad2-ee65-4f6d-b086-b427efce6e32",
   "metadata": {},
   "outputs": [],
   "source": [
    "ind_profile['weight_per_cluster_true_5'] = np.array(sum_weights_per_cluster_true_5)*1e27\n",
    "ind_profile['weight_per_cluster_true_10'] = np.array(sum_weights_per_cluster_true_10)*1e27"
   ]
  },
  {
   "cell_type": "code",
   "execution_count": null,
   "id": "6c92befd-6c9b-4422-b493-28556a89598e",
   "metadata": {},
   "outputs": [],
   "source": []
  },
  {
   "cell_type": "code",
   "execution_count": 33,
   "id": "34ca69de-91bb-4f2c-a17c-c362f5ae4c0b",
   "metadata": {},
   "outputs": [],
   "source": [
    "sum_weights_per_cluster_bpz_10 = []\n",
    "sum_weights_per_cluster_bpz_5 = []\n",
    "for i, cl in enumerate(ind_profile):\n",
    "    mask = (ind_profile['radius_bpz'][i] > 1)*(ind_profile['radius_bpz'][i] < 10)\n",
    "    sum_weights_per_cluster_bpz_10.append(np.sum(ind_profile['W_l_bpz'][i][mask]))\n",
    "    mask = (ind_profile['radius_bpz'][i] > 1)*(ind_profile['radius_bpz'][i] < 5.5)\n",
    "    sum_weights_per_cluster_bpz_5.append(np.sum(ind_profile['W_l_bpz'][i][mask]))"
   ]
  },
  {
   "cell_type": "code",
   "execution_count": 34,
   "id": "dd303ada-8b0a-4864-9858-e2af93a03695",
   "metadata": {},
   "outputs": [],
   "source": [
    "ind_profile['weight_per_cluster_bpz_5'] = np.array(sum_weights_per_cluster_bpz_5)*1e27\n",
    "ind_profile['weight_per_cluster_bpz_10'] = np.array(sum_weights_per_cluster_bpz_10)*1e27"
   ]
  },
  {
   "cell_type": "code",
   "execution_count": null,
   "id": "d2e0634d-8688-440c-9f89-51a1dcbb1ddd",
   "metadata": {},
   "outputs": [],
   "source": []
  },
  {
   "cell_type": "code",
   "execution_count": 35,
   "id": "fdb2932d-1662-4ac0-9649-241eee7c7e3d",
   "metadata": {},
   "outputs": [],
   "source": [
    "sum_weights_per_cluster_flex_10 = []\n",
    "sum_weights_per_cluster_flex_5 = []\n",
    "for i, cl in enumerate(ind_profile):\n",
    "    mask = (ind_profile['radius_flex'][i] > 1)*(ind_profile['radius_flex'][i] < 10)\n",
    "    sum_weights_per_cluster_flex_10.append(np.sum(ind_profile['W_l_flex'][i][mask]))\n",
    "    mask = (ind_profile['radius_flex'][i] > 1)*(ind_profile['radius_flex'][i] < 5.5)\n",
    "    sum_weights_per_cluster_flex_5.append(np.sum(ind_profile['W_l_flex'][i][mask]))"
   ]
  },
  {
   "cell_type": "code",
   "execution_count": 36,
   "id": "6807be46-55df-4d2a-bdb0-b29aff84ee8b",
   "metadata": {},
   "outputs": [],
   "source": [
    "ind_profile['weight_per_cluster_flex_5'] = np.array(sum_weights_per_cluster_flex_5)*1e27\n",
    "ind_profile['weight_per_cluster_flex_10'] = np.array(sum_weights_per_cluster_flex_10)*1e27"
   ]
  },
  {
   "cell_type": "code",
   "execution_count": 37,
   "id": "60d13e61-f9cb-4ddb-87ce-423879116551",
   "metadata": {},
   "outputs": [
    {
     "data": {
      "image/png": "[encoded data removed]",
      "text/plain": [
       "<Figure size 640x480 with 1 Axes>"
      ]
     },
     "metadata": {},
     "output_type": "display_data"
    }
   ],
   "source": [
    "plt.hist(ind_profile['richness'], bins=np.logspace(np.log10(20), np.log10(200), 100))\n",
    "plt.xscale('log')"
   ]
  },
  {
   "cell_type": "code",
   "execution_count": 6,
   "id": "fdee7714-81f2-4e10-bc72-823a32854823",
   "metadata": {},
   "outputs": [
    {
     "data": {
      "text/html": [
       "&lt;Column name=&apos;richness&apos; dtype=&apos;float64&apos; length=5&gt;\n",
       "<table>\n",
       "<tr><td>20.00348472595215</td></tr>\n",
       "<tr><td>23.451108932495117</td></tr>\n",
       "<tr><td>28.72933006286621</td></tr>\n",
       "<tr><td>39.407814025878906</td></tr>\n",
       "<tr><td>119.55744934082031</td></tr>\n",
       "</table>"
      ],
      "text/plain": [
       "<Column name='richness' dtype='float64' length=5>\n",
       " 20.00348472595215\n",
       "23.451108932495117\n",
       " 28.72933006286621\n",
       "39.407814025878906\n",
       "119.55744934082031"
      ]
     },
     "execution_count": 6,
     "metadata": {},
     "output_type": "execute_result"
    }
   ],
   "source": [
    "np.quantile(ind_profile['richness'][ind_profile['richness'] < 120], [0, .25, .5, .75, 1])"
   ]
  },
  {
   "cell_type": "code",
   "execution_count": 7,
   "id": "269dc837-ad39-4257-8b82-897ec3f0e374",
   "metadata": {},
   "outputs": [],
   "source": [
    "Z_bin = analysis.Z_bin\n",
    "Obs_bin = analysis.Obs_bin"
   ]
  },
  {
   "cell_type": "code",
   "execution_count": 8,
   "id": "29d24f79-7937-4734-b9ea-1aaae24195a7",
   "metadata": {},
   "outputs": [
    {
     "data": {
      "text/plain": [
       "[[20, 35], [35, 70], [70, 100], [100, 200]]"
      ]
     },
     "execution_count": 8,
     "metadata": {},
     "output_type": "execute_result"
    }
   ],
   "source": [
    "Obs_bin"
   ]
  },
  {
   "cell_type": "code",
   "execution_count": 9,
   "id": "b3140414-6889-4ce3-9f7e-2598424b600f",
   "metadata": {},
   "outputs": [
    {
     "data": {
      "text/plain": [
       "[[0.2, 0.3],\n",
       " [0.3, 0.4],\n",
       " [0.4, 0.5],\n",
       " [0.5, 0.6],\n",
       " [0.6, 0.7],\n",
       " [0.7, 0.8],\n",
       " [0.8, 1.0]]"
      ]
     },
     "execution_count": 9,
     "metadata": {},
     "output_type": "execute_result"
    }
   ],
   "source": [
    "Z_bin"
   ]
  },
  {
   "cell_type": "markdown",
   "id": "696afb2a-49be-401c-8c1e-a8049494448e",
   "metadata": {},
   "source": [
    "# WL mass"
   ]
  },
  {
   "cell_type": "markdown",
   "id": "b1f4d24b-9adc-42e0-9858-3df216684f30",
   "metadata": {},
   "source": [
    "## Estimating shear profile"
   ]
  },
  {
   "cell_type": "code",
   "execution_count": 10,
   "id": "453eaa93",
   "metadata": {},
   "outputs": [
    {
     "name": "stdout",
     "output_type": "stream",
     "text": [
      "140\n",
      "73\n",
      "14\n",
      "6\n",
      "252\n",
      "104\n",
      "13\n",
      "6\n",
      "300\n",
      "137\n",
      "17\n",
      "17\n",
      "354\n",
      "122\n",
      "19\n",
      "12\n",
      "367\n",
      "153\n",
      "31\n",
      "14\n",
      "304\n",
      "139\n",
      "21\n",
      "7\n",
      "650\n",
      "288\n",
      "32\n",
      "22\n"
     ]
    }
   ],
   "source": [
    "profile_true_stack = prf.stacked_profile(profile = ind_profile,\n",
    "                    r_in = 'radius_true',\n",
    "                    gt_in = 'DSt_true', gx_in = 'DSx_true',\n",
    "                    r_out = 'radius',\n",
    "                    gt_out = 'gt', gx_out = 'gx',\n",
    "                    weight = 'W_l_true',\n",
    "                    z_name = 'redshift', obs_name = 'richness',\n",
    "                    Z_bin = Z_bin, Obs_bin = Obs_bin, add_columns_to_bin = ['W_l_true','richness', 'redshift', \n",
    "                                                                            'weight_per_cluster_true_5', 'weight_per_cluster_true_10',\n",
    "                                                                            'weight_per_cluster_bpz_5', 'weight_per_cluster_bpz_10',\n",
    "                                                                            'weight_per_cluster_flex_5', 'weight_per_cluster_flex_10'])\n",
    "covariance_true_stack = prf.bootstrap_covariance(profile = ind_profile,\n",
    "                    r_in = 'radius_true',\n",
    "                    gt_in = 'DSt_true', gx_in = 'DSx_true',\n",
    "                    r_out = 'radius',\n",
    "                    gt_out = 'gt', gx_out = 'gx',\n",
    "                    weight = 'W_l_true',\n",
    "                    n_boot = 400,\n",
    "                    z_name = 'redshift', obs_name = 'richness',\n",
    "                    Z_bin = Z_bin, Obs_bin = Obs_bin)"
   ]
  },
  {
   "cell_type": "code",
   "execution_count": 11,
   "id": "80e060c8-a44e-4aef-bbbe-0cc05e695f74",
   "metadata": {},
   "outputs": [],
   "source": [
    "t = {'stacked profile':profile_true_stack, 'stacked covariance': covariance_true_stack}"
   ]
  },
  {
   "cell_type": "code",
   "execution_count": 12,
   "id": "2062d7b2-84ce-4594-9f71-32ae279c0000",
   "metadata": {},
   "outputs": [],
   "source": [
    "save_pickle(t, '/pbs/throng/lsst/users/cpayerne/CLMassDC2/notebooks/data_for_notebooks/stacked_esd_profiles_redmapper_true.pkl', allow_pickle=True)"
   ]
  },
  {
   "cell_type": "code",
   "execution_count": 13,
   "id": "1e84ded8-e047-4edb-915a-ded8f6a03df4",
   "metadata": {},
   "outputs": [
    {
     "name": "stdout",
     "output_type": "stream",
     "text": [
      "140\n",
      "73\n",
      "14\n",
      "6\n",
      "252\n",
      "104\n",
      "13\n",
      "6\n",
      "300\n",
      "137\n",
      "17\n",
      "17\n",
      "354\n",
      "122\n",
      "19\n",
      "12\n",
      "367\n",
      "153\n",
      "31\n",
      "14\n",
      "304\n",
      "139\n",
      "21\n",
      "7\n",
      "650\n",
      "288\n",
      "32\n",
      "22\n"
     ]
    }
   ],
   "source": [
    "profile_BPZ_stack = prf.stacked_profile(profile = ind_profile,\n",
    " r_in = 'radius_bpz',\n",
    "                    gt_in = 'DSt_bpz', gx_in = 'DSx_bpz',\n",
    "                    r_out = 'radius',\n",
    "                    gt_out = 'gt', gx_out = 'gx',\n",
    "                    weight = 'W_l_bpz',\n",
    "                    z_name = 'redshift', obs_name = 'richness',\n",
    "                    Z_bin = Z_bin, Obs_bin = Obs_bin, add_columns_to_bin = ['W_l_bpz','richness', 'redshift'])\n",
    "covariance_BPZ_stack = prf.bootstrap_covariance(profile = ind_profile,\n",
    "                    r_in = 'radius_bpz',\n",
    "                    gt_in = 'DSt_bpz', gx_in = 'DSx_bpz',\n",
    "                    r_out = 'radius',\n",
    "                    gt_out = 'gt', gx_out = 'gx',\n",
    "                    weight = 'W_l_bpz',\n",
    "                    n_boot = 400,\n",
    "                    z_name = 'redshift', obs_name = 'richness',\n",
    "                    Z_bin = Z_bin, Obs_bin = Obs_bin)"
   ]
  },
  {
   "cell_type": "code",
   "execution_count": 14,
   "id": "b1aa82d6-ee73-43b7-87b4-092395507ed7",
   "metadata": {},
   "outputs": [],
   "source": [
    "t2 = {'stacked profile':profile_BPZ_stack, 'stacked covariance': covariance_BPZ_stack}"
   ]
  },
  {
   "cell_type": "code",
   "execution_count": 15,
   "id": "e9bef5f2-b677-407b-ab18-5f97d0eac204",
   "metadata": {},
   "outputs": [
    {
     "data": {
      "text/plain": [
       "28"
      ]
     },
     "execution_count": 15,
     "metadata": {},
     "output_type": "execute_result"
    }
   ],
   "source": [
    "len(profile_BPZ_stack)"
   ]
  },
  {
   "cell_type": "code",
   "execution_count": 16,
   "id": "064b56dd-7347-4b9e-89b2-0c466339714a",
   "metadata": {},
   "outputs": [],
   "source": [
    "save_pickle(t2, '/pbs/throng/lsst/users/cpayerne/CLMassDC2/notebooks/data_for_notebooks/stacked_esd_profiles_redmapper_BPZ.pkl', allow_pickle=True)"
   ]
  },
  {
   "cell_type": "code",
   "execution_count": 17,
   "id": "3300d8e9-b53a-4e90-86da-35ff24255241",
   "metadata": {},
   "outputs": [
    {
     "name": "stdout",
     "output_type": "stream",
     "text": [
      "140\n",
      "73\n",
      "14\n",
      "6\n",
      "252\n",
      "104\n",
      "13\n",
      "6\n",
      "300\n",
      "137\n",
      "17\n",
      "17\n",
      "354\n",
      "122\n",
      "19\n",
      "12\n",
      "367\n",
      "153\n",
      "31\n",
      "14\n",
      "304\n",
      "139\n",
      "21\n",
      "7\n",
      "650\n",
      "288\n",
      "32\n",
      "22\n"
     ]
    }
   ],
   "source": [
    "profile_flex_stack = prf.stacked_profile(profile = ind_profile,\n",
    " r_in = 'radius_flex',\n",
    "                    gt_in = 'DSt_flex', gx_in = 'DSx_flex',\n",
    "                    r_out = 'radius',\n",
    "                    gt_out = 'gt', gx_out = 'gx',\n",
    "                    weight = 'W_l_flex',\n",
    "                    z_name = 'redshift', obs_name = 'richness',\n",
    "                    Z_bin = Z_bin, Obs_bin = Obs_bin, add_columns_to_bin = ['W_l_flex','richness', 'redshift'])\n",
    "\n",
    "covariance_flex_stack = prf.bootstrap_covariance(profile = ind_profile,\n",
    "                    r_in = 'radius_flex',\n",
    "                    gt_in = 'DSt_flex', gx_in = 'DSx_flex',\n",
    "                    r_out = 'radius',\n",
    "                    gt_out = 'gt', gx_out = 'gx',\n",
    "                    weight = 'W_l_flex',\n",
    "                    n_boot = 400,\n",
    "                    z_name = 'redshift', obs_name = 'richness',\n",
    "                    Z_bin = Z_bin, Obs_bin = Obs_bin)"
   ]
  },
  {
   "cell_type": "code",
   "execution_count": 18,
   "id": "1862f2c8-1397-4b09-af36-4782b0cdcaca",
   "metadata": {},
   "outputs": [],
   "source": [
    "t3 = {'stacked profile':profile_flex_stack, 'stacked covariance': covariance_flex_stack}"
   ]
  },
  {
   "cell_type": "code",
   "execution_count": 19,
   "id": "03ec530c-f57f-447a-97db-96c5330addc6",
   "metadata": {},
   "outputs": [
    {
     "data": {
      "text/plain": [
       "28"
      ]
     },
     "execution_count": 19,
     "metadata": {},
     "output_type": "execute_result"
    }
   ],
   "source": [
    "len(profile_flex_stack)"
   ]
  },
  {
   "cell_type": "code",
   "execution_count": 20,
   "id": "0efd53ec-e967-495a-b857-b5da09635c90",
   "metadata": {},
   "outputs": [],
   "source": [
    "save_pickle(t3, '/pbs/throng/lsst/users/cpayerne/CLMassDC2/notebooks/data_for_notebooks/stacked_esd_profiles_redmapper_flex.pkl', allow_pickle=True)"
   ]
  },
  {
   "cell_type": "code",
   "execution_count": null,
   "id": "59bfcf65-a290-47dd-838f-3c7cf76e7159",
   "metadata": {},
   "outputs": [],
   "source": []
  }
 ],
 "metadata": {
  "kernelspec": {
   "display_name": "myenv",
   "language": "python",
   "name": "myenv"
  },
  "language_info": {
   "codemirror_mode": {
    "name": "ipython",
    "version": 3
   },
   "file_extension": ".py",
   "mimetype": "text/x-python",
   "name": "python",
   "nbconvert_exporter": "python",
   "pygments_lexer": "ipython3",
   "version": "3.10.10"
  }
 },
 "nbformat": 4,
 "nbformat_minor": 5
}
