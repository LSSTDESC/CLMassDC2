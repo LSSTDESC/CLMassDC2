{
 "cells": [
  {
   "cell_type": "code",
   "execution_count": 6,
   "id": "5c96e453",
   "metadata": {},
   "outputs": [
    {
     "name": "stdout",
     "output_type": "stream",
     "text": [
      "The autoreload extension is already loaded. To reload it, use:\n",
      "  %reload_ext autoreload\n"
     ]
    }
   ],
   "source": [
    "%load_ext autoreload\n",
    "\n",
    "%autoreload 2\n",
    "import matplotlib.pyplot as plt\n",
    "import pickle\n",
    "import emcee\n",
    "import sys\n",
    "import numpy as np\n",
    "import corner\n",
    "from astropy.table import Table\n",
    "\n",
    "sys.path.append('/pbs/throng/lsst/users/cpayerne/CLMassDC2/modules/')\n",
    "import CL_WL_DATAOPS_make_profile as prf\n",
    "import analysis_Mass_Richness_relation as analysis"
   ]
  },
  {
   "cell_type": "code",
   "execution_count": 7,
   "id": "a78ec39f",
   "metadata": {},
   "outputs": [],
   "source": [
    "def load(filename, **kwargs):\n",
    "    with open(filename, 'rb') as fin:\n",
    "        return pickle.load(fin, **kwargs)"
   ]
  },
  {
   "cell_type": "markdown",
   "id": "1db58c1c-d243-434c-b621-3579130a6ad7",
   "metadata": {},
   "source": [
    "# Load data"
   ]
  },
  {
   "cell_type": "code",
   "execution_count": 12,
   "id": "5813bb43-a78c-432b-85af-cc4b24205e0a",
   "metadata": {},
   "outputs": [],
   "source": [
    "ind_profile = np.load('/pbs/throng/lsst/users/cpayerne/CLMassDC2//data/data_new_version/ind_profile_redmapper.pkl', allow_pickle = True)\n",
    "ind_profile['cluster_id'] = ind_profile['id']"
   ]
  },
  {
   "cell_type": "code",
   "execution_count": 13,
   "id": "269dc837-ad39-4257-8b82-897ec3f0e374",
   "metadata": {},
   "outputs": [],
   "source": [
    "Z_bin = analysis.Z_bin\n",
    "Obs_bin = analysis.Obs_bin"
   ]
  },
  {
   "cell_type": "code",
   "execution_count": 14,
   "id": "29d24f79-7937-4734-b9ea-1aaae24195a7",
   "metadata": {},
   "outputs": [
    {
     "data": {
      "text/plain": [
       "[[20.0, 52.5], [52.5, 85.0], [85.0, 117.5], [117.5, 150.0]]"
      ]
     },
     "execution_count": 14,
     "metadata": {},
     "output_type": "execute_result"
    }
   ],
   "source": [
    "Obs_bin"
   ]
  },
  {
   "cell_type": "markdown",
   "id": "696afb2a-49be-401c-8c1e-a8049494448e",
   "metadata": {},
   "source": [
    "# WL mass"
   ]
  },
  {
   "cell_type": "markdown",
   "id": "b1f4d24b-9adc-42e0-9858-3df216684f30",
   "metadata": {},
   "source": [
    "## Estimating shear profile"
   ]
  },
  {
   "cell_type": "code",
   "execution_count": 5,
   "id": "453eaa93",
   "metadata": {},
   "outputs": [],
   "source": [
    "profile_true_stack = prf.stacked_profile(profile = ind_profile,\n",
    "                    r_in = 'radius_true',\n",
    "                    gt_in = 'DSt_true', gx_in = 'DSx_true',\n",
    "                    r_out = 'radius',\n",
    "                    gt_out = 'gt', gx_out = 'gx',\n",
    "                    weight = 'W_l_true',\n",
    "                    z_name = 'redshift', obs_name = 'richness',\n",
    "                    Z_bin = Z_bin, Obs_bin = Obs_bin)\n",
    "covariance_true_stack = prf.bootstrap_covariance(profile = ind_profile,\n",
    "                    r_in = 'radius_true',\n",
    "                    gt_in = 'DSt_true', gx_in = 'DSx_true',\n",
    "                    r_out = 'radius',\n",
    "                    gt_out = 'gt', gx_out = 'gx',\n",
    "                    weight = 'W_l_true',\n",
    "                    n_boot = 400,\n",
    "                    z_name = 'redshift', obs_name = 'richness',\n",
    "                    Z_bin = Z_bin, Obs_bin = Obs_bin)"
   ]
  },
  {
   "cell_type": "code",
   "execution_count": 6,
   "id": "1e84ded8-e047-4edb-915a-ded8f6a03df4",
   "metadata": {},
   "outputs": [],
   "source": [
    "profile_BPZ_stack = prf.stacked_profile(profile = ind_profile,\n",
    " r_in = 'radius_bpz',\n",
    "                    gt_in = 'DSt_bpz', gx_in = 'DSx_bpz',\n",
    "                    r_out = 'radius',\n",
    "                    gt_out = 'gt', gx_out = 'gx',\n",
    "                    weight = 'W_l_bpz',\n",
    "                    z_name = 'redshift', obs_name = 'richness',\n",
    "                    Z_bin = Z_bin, Obs_bin = Obs_bin)\n",
    "covariance_BPZ_stack = prf.bootstrap_covariance(profile = ind_profile,\n",
    "                    r_in = 'radius_bpz',\n",
    "                    gt_in = 'DSt_bpz', gx_in = 'DSx_bpz',\n",
    "                    r_out = 'radius',\n",
    "                    gt_out = 'gt', gx_out = 'gx',\n",
    "                    weight = 'W_l_bpz',\n",
    "                    n_boot = 400,\n",
    "                    z_name = 'redshift', obs_name = 'richness',\n",
    "                    Z_bin = Z_bin, Obs_bin = Obs_bin)"
   ]
  },
  {
   "cell_type": "code",
   "execution_count": 7,
   "id": "3300d8e9-b53a-4e90-86da-35ff24255241",
   "metadata": {},
   "outputs": [],
   "source": [
    "profile_flex_stack = prf.stacked_profile(profile = ind_profile,\n",
    " r_in = 'radius_flex',\n",
    "                    gt_in = 'DSt_flex', gx_in = 'DSx_flex',\n",
    "                    r_out = 'radius',\n",
    "                    gt_out = 'gt', gx_out = 'gx',\n",
    "                    weight = 'W_l_flex',\n",
    "                    z_name = 'redshift', obs_name = 'richness',\n",
    "                    Z_bin = Z_bin, Obs_bin = Obs_bin)\n",
    "\n",
    "covariance_flex_stack = prf.bootstrap_covariance(profile = ind_profile,\n",
    "                    r_in = 'radius_flex',\n",
    "                    gt_in = 'DSt_flex', gx_in = 'DSx_flex',\n",
    "                    r_out = 'radius',\n",
    "                    gt_out = 'gt', gx_out = 'gx',\n",
    "                    weight = 'W_l_flex',\n",
    "                    n_boot = 400,\n",
    "                    z_name = 'redshift', obs_name = 'richness',\n",
    "                    Z_bin = Z_bin, Obs_bin = Obs_bin)"
   ]
  }
 ],
 "metadata": {
  "kernelspec": {
   "display_name": "mydesc",
   "language": "python",
   "name": "mydesc"
  },
  "language_info": {
   "codemirror_mode": {
    "name": "ipython",
    "version": 3
   },
   "file_extension": ".py",
   "mimetype": "text/x-python",
   "name": "python",
   "nbconvert_exporter": "python",
   "pygments_lexer": "ipython3",
   "version": "3.7.6"
  }
 },
 "nbformat": 4,
 "nbformat_minor": 5
}
