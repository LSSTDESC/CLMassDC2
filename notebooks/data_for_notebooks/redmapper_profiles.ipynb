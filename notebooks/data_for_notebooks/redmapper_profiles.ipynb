{
 "cells": [
  {
   "cell_type": "code",
   "execution_count": 1,
   "id": "5c96e453",
   "metadata": {},
   "outputs": [],
   "source": [
    "%load_ext autoreload\n",
    "\n",
    "%autoreload 2\n",
    "import matplotlib.pyplot as plt\n",
    "import pickle\n",
    "import emcee\n",
    "import sys\n",
    "import numpy as np\n",
    "import corner\n",
    "from astropy.table import Table\n",
    "\n",
    "sys.path.append('/pbs/throng/lsst/users/cpayerne/CLMassDC2/modules/')\n",
    "import CL_WL_DATAOPS_make_profile as prf\n",
    "import analysis_Mass_Richness_relation as analysis"
   ]
  },
  {
   "cell_type": "code",
   "execution_count": 2,
   "id": "a78ec39f",
   "metadata": {},
   "outputs": [],
   "source": [
    "def load(filename, **kwargs):\n",
    "    with open(filename, 'rb') as fin:\n",
    "        return pickle.load(fin, **kwargs)\n",
    "def save_pickle(dat, filename, **kwargs):\n",
    "    file = open(filename,'wb')\n",
    "    pickle.dump(dat, file)\n",
    "    file.close()"
   ]
  },
  {
   "cell_type": "markdown",
   "id": "1db58c1c-d243-434c-b621-3579130a6ad7",
   "metadata": {},
   "source": [
    "# Load data"
   ]
  },
  {
   "cell_type": "code",
   "execution_count": 3,
   "id": "5813bb43-a78c-432b-85af-cc4b24205e0a",
   "metadata": {},
   "outputs": [],
   "source": [
    "ind_profile = np.load('/pbs/throng/lsst/users/cpayerne/CLMassDC2//data/data_new_version/ind_profile_redmapper.pkl', allow_pickle = True)\n",
    "ind_profile['cluster_id'] = ind_profile['id']"
   ]
  },
  {
   "cell_type": "code",
   "execution_count": 4,
   "id": "269dc837-ad39-4257-8b82-897ec3f0e374",
   "metadata": {},
   "outputs": [],
   "source": [
    "Z_bin = analysis.Z_bin\n",
    "Obs_bin = analysis.Obs_bin"
   ]
  },
  {
   "cell_type": "code",
   "execution_count": 5,
   "id": "29d24f79-7937-4734-b9ea-1aaae24195a7",
   "metadata": {},
   "outputs": [
    {
     "data": {
      "text/plain": [
       "[[20.0, 45.0], [45.0, 70.0], [70.0, 95.0], [95.0, 120.0]]"
      ]
     },
     "execution_count": 5,
     "metadata": {},
     "output_type": "execute_result"
    }
   ],
   "source": [
    "Obs_bin"
   ]
  },
  {
   "cell_type": "code",
   "execution_count": 6,
   "id": "b3140414-6889-4ce3-9f7e-2598424b600f",
   "metadata": {},
   "outputs": [
    {
     "data": {
      "text/plain": [
       "[[0.2, 0.35], [0.35, 0.5], [0.5, 0.65], [0.65, 0.8]]"
      ]
     },
     "execution_count": 6,
     "metadata": {},
     "output_type": "execute_result"
    }
   ],
   "source": [
    "Z_bin"
   ]
  },
  {
   "cell_type": "markdown",
   "id": "696afb2a-49be-401c-8c1e-a8049494448e",
   "metadata": {},
   "source": [
    "# WL mass"
   ]
  },
  {
   "cell_type": "markdown",
   "id": "b1f4d24b-9adc-42e0-9858-3df216684f30",
   "metadata": {},
   "source": [
    "## Estimating shear profile"
   ]
  },
  {
   "cell_type": "code",
   "execution_count": 7,
   "id": "453eaa93",
   "metadata": {},
   "outputs": [],
   "source": [
    "profile_true_stack = prf.stacked_profile(profile = ind_profile,\n",
    "                    r_in = 'radius_true',\n",
    "                    gt_in = 'DSt_true', gx_in = 'DSx_true',\n",
    "                    r_out = 'radius',\n",
    "                    gt_out = 'gt', gx_out = 'gx',\n",
    "                    weight = 'W_l_true',\n",
    "                    z_name = 'redshift', obs_name = 'richness',\n",
    "                    Z_bin = Z_bin, Obs_bin = Obs_bin, add_columns_to_bin = ['W_l_true','richness', 'redshift'])\n",
    "covariance_true_stack = prf.bootstrap_covariance(profile = ind_profile,\n",
    "                    r_in = 'radius_true',\n",
    "                    gt_in = 'DSt_true', gx_in = 'DSx_true',\n",
    "                    r_out = 'radius',\n",
    "                    gt_out = 'gt', gx_out = 'gx',\n",
    "                    weight = 'W_l_true',\n",
    "                    n_boot = 400,\n",
    "                    z_name = 'redshift', obs_name = 'richness',\n",
    "                    Z_bin = Z_bin, Obs_bin = Obs_bin)"
   ]
  },
  {
   "cell_type": "code",
   "execution_count": 8,
   "id": "80e060c8-a44e-4aef-bbbe-0cc05e695f74",
   "metadata": {},
   "outputs": [],
   "source": [
    "t = {'stacked profile':profile_true_stack, 'stacked covariance': covariance_true_stack}"
   ]
  },
  {
   "cell_type": "code",
   "execution_count": 9,
   "id": "e97f2a70-551f-4739-a533-3301366031fe",
   "metadata": {},
   "outputs": [
    {
     "data": {
      "text/plain": [
       "16"
      ]
     },
     "execution_count": 9,
     "metadata": {},
     "output_type": "execute_result"
    }
   ],
   "source": [
    "len(profile_true_stack)"
   ]
  },
  {
   "cell_type": "code",
   "execution_count": 10,
   "id": "2062d7b2-84ce-4594-9f71-32ae279c0000",
   "metadata": {},
   "outputs": [],
   "source": [
    "save_pickle(t, '/pbs/throng/lsst/users/cpayerne/CLMassDC2/notebooks/data_for_notebooks/stacked_esd_profiles_redmapper_true.pkl', allow_pickle=True)"
   ]
  },
  {
   "cell_type": "code",
   "execution_count": 11,
   "id": "1e84ded8-e047-4edb-915a-ded8f6a03df4",
   "metadata": {},
   "outputs": [],
   "source": [
    "profile_BPZ_stack = prf.stacked_profile(profile = ind_profile,\n",
    " r_in = 'radius_bpz',\n",
    "                    gt_in = 'DSt_bpz', gx_in = 'DSx_bpz',\n",
    "                    r_out = 'radius',\n",
    "                    gt_out = 'gt', gx_out = 'gx',\n",
    "                    weight = 'W_l_bpz',\n",
    "                    z_name = 'redshift', obs_name = 'richness',\n",
    "                    Z_bin = Z_bin, Obs_bin = Obs_bin, add_columns_to_bin = ['W_l_bpz','richness', 'redshift'])\n",
    "covariance_BPZ_stack = prf.bootstrap_covariance(profile = ind_profile,\n",
    "                    r_in = 'radius_bpz',\n",
    "                    gt_in = 'DSt_bpz', gx_in = 'DSx_bpz',\n",
    "                    r_out = 'radius',\n",
    "                    gt_out = 'gt', gx_out = 'gx',\n",
    "                    weight = 'W_l_bpz',\n",
    "                    n_boot = 400,\n",
    "                    z_name = 'redshift', obs_name = 'richness',\n",
    "                    Z_bin = Z_bin, Obs_bin = Obs_bin)"
   ]
  },
  {
   "cell_type": "code",
   "execution_count": 12,
   "id": "b1aa82d6-ee73-43b7-87b4-092395507ed7",
   "metadata": {},
   "outputs": [],
   "source": [
    "t2 = {'stacked profile':profile_BPZ_stack, 'stacked covariance': covariance_BPZ_stack}"
   ]
  },
  {
   "cell_type": "code",
   "execution_count": 13,
   "id": "e9bef5f2-b677-407b-ab18-5f97d0eac204",
   "metadata": {},
   "outputs": [
    {
     "data": {
      "text/plain": [
       "16"
      ]
     },
     "execution_count": 13,
     "metadata": {},
     "output_type": "execute_result"
    }
   ],
   "source": [
    "len(profile_BPZ_stack)"
   ]
  },
  {
   "cell_type": "code",
   "execution_count": 14,
   "id": "064b56dd-7347-4b9e-89b2-0c466339714a",
   "metadata": {},
   "outputs": [],
   "source": [
    "save_pickle(t2, '/pbs/throng/lsst/users/cpayerne/CLMassDC2/notebooks/data_for_notebooks/stacked_esd_profiles_redmapper_BPZ.pkl', allow_pickle=True)"
   ]
  },
  {
   "cell_type": "code",
   "execution_count": 15,
   "id": "3300d8e9-b53a-4e90-86da-35ff24255241",
   "metadata": {},
   "outputs": [],
   "source": [
    "profile_flex_stack = prf.stacked_profile(profile = ind_profile,\n",
    " r_in = 'radius_flex',\n",
    "                    gt_in = 'DSt_flex', gx_in = 'DSx_flex',\n",
    "                    r_out = 'radius',\n",
    "                    gt_out = 'gt', gx_out = 'gx',\n",
    "                    weight = 'W_l_flex',\n",
    "                    z_name = 'redshift', obs_name = 'richness',\n",
    "                    Z_bin = Z_bin, Obs_bin = Obs_bin, add_columns_to_bin = ['W_l_flex','richness', 'redshift'])\n",
    "\n",
    "covariance_flex_stack = prf.bootstrap_covariance(profile = ind_profile,\n",
    "                    r_in = 'radius_flex',\n",
    "                    gt_in = 'DSt_flex', gx_in = 'DSx_flex',\n",
    "                    r_out = 'radius',\n",
    "                    gt_out = 'gt', gx_out = 'gx',\n",
    "                    weight = 'W_l_flex',\n",
    "                    n_boot = 400,\n",
    "                    z_name = 'redshift', obs_name = 'richness',\n",
    "                    Z_bin = Z_bin, Obs_bin = Obs_bin)"
   ]
  },
  {
   "cell_type": "code",
   "execution_count": 16,
   "id": "1862f2c8-1397-4b09-af36-4782b0cdcaca",
   "metadata": {},
   "outputs": [],
   "source": [
    "t3 = {'stacked profile':profile_flex_stack, 'stacked covariance': covariance_flex_stack}"
   ]
  },
  {
   "cell_type": "code",
   "execution_count": 18,
   "id": "03ec530c-f57f-447a-97db-96c5330addc6",
   "metadata": {},
   "outputs": [
    {
     "data": {
      "text/plain": [
       "16"
      ]
     },
     "execution_count": 18,
     "metadata": {},
     "output_type": "execute_result"
    }
   ],
   "source": [
    "len(profile_flex_stack)"
   ]
  },
  {
   "cell_type": "code",
   "execution_count": 19,
   "id": "0efd53ec-e967-495a-b857-b5da09635c90",
   "metadata": {},
   "outputs": [],
   "source": [
    "save_pickle(t3, '/pbs/throng/lsst/users/cpayerne/CLMassDC2/notebooks/data_for_notebooks/stacked_esd_profiles_redmapper_flex.pkl', allow_pickle=True)"
   ]
  },
  {
   "cell_type": "code",
   "execution_count": null,
   "id": "13de4fda-cf13-4623-95a5-cda38cdc5a72",
   "metadata": {},
   "outputs": [],
   "source": []
  }
 ],
 "metadata": {
  "kernelspec": {
   "display_name": "mydesc",
   "language": "python",
   "name": "mydesc"
  },
  "language_info": {
   "codemirror_mode": {
    "name": "ipython",
    "version": 3
   },
   "file_extension": ".py",
   "mimetype": "text/x-python",
   "name": "python",
   "nbconvert_exporter": "python",
   "pygments_lexer": "ipython3",
   "version": "3.7.6"
  }
 },
 "nbformat": 4,
 "nbformat_minor": 5
}
