{
 "cells": [
  {
   "cell_type": "code",
   "execution_count": 32,
   "id": "5c96e453",
   "metadata": {},
   "outputs": [
    {
     "name": "stdout",
     "output_type": "stream",
     "text": [
      "The autoreload extension is already loaded. To reload it, use:\n",
      "  %reload_ext autoreload\n"
     ]
    }
   ],
   "source": [
    "%load_ext autoreload\n",
    "\n",
    "%autoreload 2\n",
    "import matplotlib.pyplot as plt\n",
    "import pickle\n",
    "from astropy.coordinates import SkyCoord, match_coordinates_3d, match_coordinates_sky\n",
    "import sys\n",
    "from scipy.integrate import quad\n",
    "import emcee\n",
    "import numpy as np\n",
    "from astropy.cosmology import FlatLambdaCDM\n",
    "import astropy.units as u\n",
    "from astropy.table import Table, QTable, hstack, vstack\n",
    "from astropy import units as u\n",
    "import corner\n",
    "from astropy.coordinates import SkyCoord, match_coordinates_3d\n",
    "cosmo_astropy = FlatLambdaCDM(H0=71.0, Om0=0.265, Ob0 = 0.0448)\n",
    "import iminuit\n",
    "from iminuit import Minuit\n",
    "cosmo_astropy.critical_density(0.4).to(u.Msun / u.Mpc**3).value\n",
    "\n",
    "sys.path.append('/pbs/throng/lsst/users/cpayerne/CLMassDC2/modules/')\n",
    "import CL_WL_miscentering as mis\n",
    "import analysis_Mass_Richness_relation as analysis\n",
    "import CL_WL_two_halo_term as twoh\n",
    "import CL_WL_mass_conversion as utils\n",
    "import CL_DATAOPS_match_catalogs as match\n",
    "import CL_WL_DATAOPS_make_profile as prf\n",
    "import CL_Likelihood_for_Mass_richness_relation as mass_richness\n",
    "import CL_WL_fit_cluster_mass as fit\n",
    "import CL_fiducial_mass_richness_relation as fiducial\n",
    "#import analysis_Mass_richness_relation as analysis\n",
    "\n",
    "import os\n",
    "os.environ['CLMM_MODELING_BACKEND'] = 'ccl'\n",
    "import clmm\n",
    "import clmm.dataops\n",
    "from clmm.dataops import compute_tangential_and_cross_components, make_radial_profile, make_bins\n",
    "from clmm.galaxycluster import GalaxyCluster\n",
    "import clmm.utils as u\n",
    "import astropy.units as un\n",
    "from clmm import Cosmology\n",
    "from clmm.support import mock_data as mock\n",
    "import pyccl as ccl\n",
    "\n",
    "cosmo = Cosmology(H0 = 71.0, Omega_dm0 = 0.265 - 0.0448, Omega_b0 = 0.0448, Omega_k0 = 0.0)\n",
    "cosmo_astropy = FlatLambdaCDM(H0=71.0, Om0=0.265, Ob0 = 0.0448)\n",
    "cosmo_clmm = Cosmology(H0 = 71.0, Omega_dm0 = 0.265 - 0.0448, Omega_b0 = 0.0448, Omega_k0 = 0.0)\n",
    "cosmo_ccl  = ccl.Cosmology(Omega_c=0.265-0.0448, Omega_b=0.0448, h=0.71, A_s=2.1e-9, n_s=0.96, Neff=0, Omega_g=0)"
   ]
  },
  {
   "cell_type": "code",
   "execution_count": 16,
   "id": "a78ec39f",
   "metadata": {},
   "outputs": [],
   "source": [
    "def load(filename, **kwargs):\n",
    "    with open(filename, 'rb') as fin:\n",
    "        return pickle.load(fin, **kwargs)"
   ]
  },
  {
   "cell_type": "code",
   "execution_count": 18,
   "id": "b286b46c-3394-46af-a8b5-0092d4daca7b",
   "metadata": {},
   "outputs": [],
   "source": [
    "ind_profile = np.load('/pbs/throng/lsst/users/cpayerne/CLMassDC2/data/data_new_version/ind_profile_redmapper.pkl', allow_pickle = True)\n",
    "ind_profile['cluster_id'] = ind_profile['id']"
   ]
  },
  {
   "cell_type": "code",
   "execution_count": 19,
   "id": "6fba9907-2ec7-41d3-b94a-0d4ccf8d0ce3",
   "metadata": {},
   "outputs": [
    {
     "data": {
      "text/plain": [
       "array([0.55273137, 0.67851916, 0.80686404, 1.01820147, 1.23706615,\n",
       "       1.50303785, 1.81363909, 2.24654963, 2.7709657 , 3.37497761,\n",
       "       4.10982024, 5.01707625, 6.11385028, 7.48693463, 9.10977681])"
      ]
     },
     "execution_count": 19,
     "metadata": {},
     "output_type": "execute_result"
    }
   ],
   "source": [
    "ind_profile['radius_true'][0]"
   ]
  },
  {
   "cell_type": "code",
   "execution_count": 20,
   "id": "510a1068-38ce-459a-a686-9fda7795c359",
   "metadata": {},
   "outputs": [],
   "source": [
    "r_corner = np.logspace(np.log10(.5), np.log10(10), 16)"
   ]
  },
  {
   "cell_type": "code",
   "execution_count": 21,
   "id": "a409750e-8282-4e24-83a4-0c27611e3d8a",
   "metadata": {},
   "outputs": [],
   "source": [
    "sum_weights_per_cluster_10 = []\n",
    "sum_weights_per_cluster_5 = []\n",
    "for i, cl in enumerate(ind_profile):\n",
    "    mask = (ind_profile['radius_true'][i] > 1)*(ind_profile['radius_true'][i] < 10)\n",
    "    sum_weights_per_cluster_10.append(np.sum(ind_profile['W_l_true'][i][mask]))\n",
    "    mask = (ind_profile['radius_true'][i] > 1)*(ind_profile['radius_true'][i] < 5.5)\n",
    "    sum_weights_per_cluster_5.append(np.sum(ind_profile['W_l_true'][i][mask]))"
   ]
  },
  {
   "cell_type": "code",
   "execution_count": 22,
   "id": "434da12f",
   "metadata": {},
   "outputs": [],
   "source": [
    "ind_profile['weight_per_cluster_5'] = np.array(sum_weights_per_cluster_5)*1e27\n",
    "ind_profile['weight_per_cluster_10'] = np.array(sum_weights_per_cluster_10)*1e27"
   ]
  },
  {
   "cell_type": "code",
   "execution_count": 23,
   "id": "efeeb09d",
   "metadata": {},
   "outputs": [],
   "source": [
    "Z_bin = analysis.Z_bin\n",
    "Obs_bin = analysis.Obs_bin\n",
    "Gamma_5 = 0.75\n",
    "Gamma_10 = 0.8"
   ]
  },
  {
   "cell_type": "code",
   "execution_count": 24,
   "id": "11f75089-90c2-419c-a098-3facd3bf44c2",
   "metadata": {},
   "outputs": [],
   "source": [
    "z_max = max(Z_bin[-1])\n",
    "z_min = min(Z_bin[0])\n",
    "obs_min = min(Obs_bin[0])\n",
    "obs_max = max(Obs_bin[-1])"
   ]
  },
  {
   "cell_type": "code",
   "execution_count": 25,
   "id": "a47663af-7e5b-4db2-9cbf-9f929f023282",
   "metadata": {},
   "outputs": [
    {
     "data": {
      "text/plain": [
       "0.2"
      ]
     },
     "execution_count": 25,
     "metadata": {},
     "output_type": "execute_result"
    }
   ],
   "source": [
    "z_min"
   ]
  },
  {
   "cell_type": "markdown",
   "id": "6f3eb348-8bb9-43a2-8a10-ae0b6acbf426",
   "metadata": {},
   "source": [
    "# WL masses"
   ]
  },
  {
   "cell_type": "markdown",
   "id": "fc71ac3b",
   "metadata": {},
   "source": [
    "## WL shear profiles"
   ]
  },
  {
   "cell_type": "code",
   "execution_count": 26,
   "id": "453eaa93",
   "metadata": {},
   "outputs": [],
   "source": [
    "profile_sky_stack = prf.stacked_profile(profile = ind_profile,\n",
    "                    r_in = 'radius_true',\n",
    "                    gt_in = 'DSt_true', gx_in = 'DSx_true',\n",
    "                    r_out = 'radius',\n",
    "                    gt_out = 'gt', gx_out = 'gx',\n",
    "                    weight = 'W_l_true',\n",
    "                    z_name = 'redshift', obs_name = 'richness',\n",
    "                    Z_bin = Z_bin, Obs_bin = Obs_bin,\n",
    "                    add_columns_to_bin = ['weight_per_cluster_10','weight_per_cluster_5', 'richness', 'redshift'])\n",
    "\n",
    "covariance_boot = prf.bootstrap_covariance(profile = ind_profile,\n",
    "                    r_in = 'radius_true',\n",
    "                    gt_in = 'DSt_true', gx_in = 'DSx_true',\n",
    "                    r_out = 'radius',\n",
    "                    gt_out = 'gt', gx_out = 'gx',\n",
    "                    weight = 'W_l_true',\n",
    "                    n_boot = 400,\n",
    "                    z_name = 'redshift', obs_name = 'richness',\n",
    "                    Z_bin = Z_bin, Obs_bin = Obs_bin)"
   ]
  },
  {
   "cell_type": "code",
   "execution_count": 27,
   "id": "c16816a8-3263-48b9-a56d-0eb5a2fd1d2d",
   "metadata": {},
   "outputs": [],
   "source": [
    "covariance_sample = prf.sample_covariance(profile = ind_profile,\n",
    "                    r_in = 'radius_true',\n",
    "                    gt_in = 'DSt_true', gx_in = 'DSx_true',\n",
    "                    r_out = 'radius',\n",
    "                    gt_out = 'gt', gx_out = 'gx',\n",
    "                    weight = 'W_l_true',\n",
    "                    #n_boot = 400,\n",
    "                    z_name = 'redshift', obs_name = 'richness',\n",
    "                    Z_bin = Z_bin, Obs_bin = Obs_bin)"
   ]
  },
  {
   "cell_type": "code",
   "execution_count": 28,
   "id": "d2aae0f8-0b54-4169-aada-9b5c57e84ec2",
   "metadata": {},
   "outputs": [],
   "source": [
    "covariance_jackk = prf.jacknife_covariance(profile = ind_profile,\n",
    "                    r_in = 'radius_true',\n",
    "                    gt_in = 'DSt_true', gx_in = 'DSx_true',\n",
    "                    r_out = 'radius',\n",
    "                    gt_out = 'gt', gx_out = 'gx',\n",
    "                    weight = 'W_l_true',\n",
    "                                            ra='ra', dec='dec',n_jack=500,\n",
    "                    #n_boot = 400,\n",
    "                    z_name = 'redshift', obs_name = 'richness',\n",
    "                    Z_bin = Z_bin, Obs_bin = Obs_bin)"
   ]
  },
  {
   "cell_type": "code",
   "execution_count": 29,
   "id": "689b3c81-e1d8-4053-b328-e96cb7a189c7",
   "metadata": {},
   "outputs": [],
   "source": [
    "index = 4"
   ]
  },
  {
   "cell_type": "code",
   "execution_count": 33,
   "id": "4fb73180-abb3-4b67-9823-df99162bac9b",
   "metadata": {},
   "outputs": [],
   "source": [
    "def av_sigma_2(zl, cosmo=None):\n",
    "    def sigma_c_2(zs):\n",
    "        return cosmo.eval_sigma_crit(zl, zs)**2.\n",
    "    def Chang(z): #Chang distribution of source redshift\n",
    "        a = 1.24\n",
    "        b = 1.01\n",
    "        z_0 = 0.51\n",
    "        return np.exp(-(z/z_0)**b)*z**a\n",
    "    norm = quad(Chang,0,np.inf)[0]\n",
    "    def __INTEGRAND__(z): return Chang(z)*sigma_c_2(z)\n",
    "    return quad(__INTEGRAND__,zl + 0.1,100)[0]/norm\n",
    "    \n",
    "def shape_noise_ds(profile = 1,z_name = 'z_mean',r_corner=None, shapenoise=.1, ns_arcmin2=None, cosmo=None):\n",
    "    \n",
    "    #def ns_arcmin2(z):\n",
    "    #    dy = 35-10\n",
    "    #    dx=0.9-0.3\n",
    "    #    return (z-0.3) * dy/dx + 35\n",
    "    res=[]\n",
    "    for p in profile:\n",
    "        dS_arcmin2 = 3437.75**2*np.pi*np.array([r_corner[i+1]**2 - r_corner[i]**2 for i in range(len(r_corner)-1)])/(cosmo.eval_da(p[z_name])**2)\n",
    "        Ngal = dS_arcmin2*ns_arcmin2#ns_arcmin2(p['z_mean'])*dS_arcmin2\n",
    "        av_s_2 = av_sigma_2(p[z_name], cosmo=cosmo)\n",
    "        res.append(av_s_2*shapenoise**2/(Ngal*p['n_stack']))\n",
    "    return np.array(res)"
   ]
  },
  {
   "cell_type": "code",
   "execution_count": 34,
   "id": "25ca55a8-21d1-49b7-84f6-ebde7bc8babd",
   "metadata": {},
   "outputs": [
    {
     "ename": "AttributeError",
     "evalue": "'NumCosmoCosmology' object has no attribute 'smd'",
     "output_type": "error",
     "traceback": [
      "\u001b[0;31m---------------------------------------------------------------------------\u001b[0m",
      "\u001b[0;31mAttributeError\u001b[0m                            Traceback (most recent call last)",
      "\u001b[0;32m<ipython-input-34-6712a729f6eb>\u001b[0m in \u001b[0;36m<module>\u001b[0;34m\u001b[0m\n\u001b[0;32m----> 1\u001b[0;31m \u001b[0mshape_noise_ds\u001b[0m\u001b[0;34m(\u001b[0m\u001b[0mprofile\u001b[0m \u001b[0;34m=\u001b[0m \u001b[0mind_profile\u001b[0m\u001b[0;34m,\u001b[0m\u001b[0mz_name\u001b[0m \u001b[0;34m=\u001b[0m \u001b[0;34m'redshift'\u001b[0m\u001b[0;34m,\u001b[0m\u001b[0mr_corner\u001b[0m\u001b[0;34m=\u001b[0m\u001b[0mr_corner\u001b[0m\u001b[0;34m,\u001b[0m \u001b[0mshapenoise\u001b[0m\u001b[0;34m=\u001b[0m\u001b[0;36m.1\u001b[0m\u001b[0;34m,\u001b[0m \u001b[0mns_arcmin2\u001b[0m\u001b[0;34m=\u001b[0m\u001b[0;36m30\u001b[0m\u001b[0;34m,\u001b[0m \u001b[0mcosmo\u001b[0m\u001b[0;34m=\u001b[0m\u001b[0mcosmo\u001b[0m\u001b[0;34m)\u001b[0m\u001b[0;34m\u001b[0m\u001b[0;34m\u001b[0m\u001b[0m\n\u001b[0m",
      "\u001b[0;32m<ipython-input-33-5543bef1d719>\u001b[0m in \u001b[0;36mshape_noise_ds\u001b[0;34m(profile, z_name, r_corner, shapenoise, ns_arcmin2, cosmo)\u001b[0m\n\u001b[1;32m     21\u001b[0m         \u001b[0mdS_arcmin2\u001b[0m \u001b[0;34m=\u001b[0m \u001b[0;36m3437.75\u001b[0m\u001b[0;34m**\u001b[0m\u001b[0;36m2\u001b[0m\u001b[0;34m*\u001b[0m\u001b[0mnp\u001b[0m\u001b[0;34m.\u001b[0m\u001b[0mpi\u001b[0m\u001b[0;34m*\u001b[0m\u001b[0mnp\u001b[0m\u001b[0;34m.\u001b[0m\u001b[0marray\u001b[0m\u001b[0;34m(\u001b[0m\u001b[0;34m[\u001b[0m\u001b[0mr_corner\u001b[0m\u001b[0;34m[\u001b[0m\u001b[0mi\u001b[0m\u001b[0;34m+\u001b[0m\u001b[0;36m1\u001b[0m\u001b[0;34m]\u001b[0m\u001b[0;34m**\u001b[0m\u001b[0;36m2\u001b[0m \u001b[0;34m-\u001b[0m \u001b[0mr_corner\u001b[0m\u001b[0;34m[\u001b[0m\u001b[0mi\u001b[0m\u001b[0;34m]\u001b[0m\u001b[0;34m**\u001b[0m\u001b[0;36m2\u001b[0m \u001b[0;32mfor\u001b[0m \u001b[0mi\u001b[0m \u001b[0;32min\u001b[0m \u001b[0mrange\u001b[0m\u001b[0;34m(\u001b[0m\u001b[0mlen\u001b[0m\u001b[0;34m(\u001b[0m\u001b[0mr_corner\u001b[0m\u001b[0;34m)\u001b[0m\u001b[0;34m-\u001b[0m\u001b[0;36m1\u001b[0m\u001b[0;34m)\u001b[0m\u001b[0;34m]\u001b[0m\u001b[0;34m)\u001b[0m\u001b[0;34m/\u001b[0m\u001b[0;34m(\u001b[0m\u001b[0mcosmo\u001b[0m\u001b[0;34m.\u001b[0m\u001b[0meval_da\u001b[0m\u001b[0;34m(\u001b[0m\u001b[0mp\u001b[0m\u001b[0;34m[\u001b[0m\u001b[0mz_name\u001b[0m\u001b[0;34m]\u001b[0m\u001b[0;34m)\u001b[0m\u001b[0;34m**\u001b[0m\u001b[0;36m2\u001b[0m\u001b[0;34m)\u001b[0m\u001b[0;34m\u001b[0m\u001b[0;34m\u001b[0m\u001b[0m\n\u001b[1;32m     22\u001b[0m         \u001b[0mNgal\u001b[0m \u001b[0;34m=\u001b[0m \u001b[0mdS_arcmin2\u001b[0m\u001b[0;34m*\u001b[0m\u001b[0mns_arcmin2\u001b[0m\u001b[0;31m#ns_arcmin2(p['z_mean'])*dS_arcmin2\u001b[0m\u001b[0;34m\u001b[0m\u001b[0;34m\u001b[0m\u001b[0m\n\u001b[0;32m---> 23\u001b[0;31m         \u001b[0mav_s_2\u001b[0m \u001b[0;34m=\u001b[0m \u001b[0mav_sigma_2\u001b[0m\u001b[0;34m(\u001b[0m\u001b[0mp\u001b[0m\u001b[0;34m[\u001b[0m\u001b[0mz_name\u001b[0m\u001b[0;34m]\u001b[0m\u001b[0;34m,\u001b[0m \u001b[0mcosmo\u001b[0m\u001b[0;34m=\u001b[0m\u001b[0mcosmo\u001b[0m\u001b[0;34m)\u001b[0m\u001b[0;34m\u001b[0m\u001b[0;34m\u001b[0m\u001b[0m\n\u001b[0m\u001b[1;32m     24\u001b[0m         \u001b[0mres\u001b[0m\u001b[0;34m.\u001b[0m\u001b[0mappend\u001b[0m\u001b[0;34m(\u001b[0m\u001b[0mav_s_2\u001b[0m\u001b[0;34m*\u001b[0m\u001b[0mshapenoise\u001b[0m\u001b[0;34m**\u001b[0m\u001b[0;36m2\u001b[0m\u001b[0;34m/\u001b[0m\u001b[0;34m(\u001b[0m\u001b[0mNgal\u001b[0m\u001b[0;34m*\u001b[0m\u001b[0mp\u001b[0m\u001b[0;34m[\u001b[0m\u001b[0;34m'n_stack'\u001b[0m\u001b[0;34m]\u001b[0m\u001b[0;34m)\u001b[0m\u001b[0;34m)\u001b[0m\u001b[0;34m\u001b[0m\u001b[0;34m\u001b[0m\u001b[0m\n\u001b[1;32m     25\u001b[0m     \u001b[0;32mreturn\u001b[0m \u001b[0mnp\u001b[0m\u001b[0;34m.\u001b[0m\u001b[0marray\u001b[0m\u001b[0;34m(\u001b[0m\u001b[0mres\u001b[0m\u001b[0;34m)\u001b[0m\u001b[0;34m\u001b[0m\u001b[0;34m\u001b[0m\u001b[0m\n",
      "\u001b[0;32m<ipython-input-33-5543bef1d719>\u001b[0m in \u001b[0;36mav_sigma_2\u001b[0;34m(zl, cosmo)\u001b[0m\n\u001b[1;32m      9\u001b[0m     \u001b[0mnorm\u001b[0m \u001b[0;34m=\u001b[0m \u001b[0mquad\u001b[0m\u001b[0;34m(\u001b[0m\u001b[0mChang\u001b[0m\u001b[0;34m,\u001b[0m\u001b[0;36m0\u001b[0m\u001b[0;34m,\u001b[0m\u001b[0mnp\u001b[0m\u001b[0;34m.\u001b[0m\u001b[0minf\u001b[0m\u001b[0;34m)\u001b[0m\u001b[0;34m[\u001b[0m\u001b[0;36m0\u001b[0m\u001b[0;34m]\u001b[0m\u001b[0;34m\u001b[0m\u001b[0;34m\u001b[0m\u001b[0m\n\u001b[1;32m     10\u001b[0m     \u001b[0;32mdef\u001b[0m \u001b[0m__INTEGRAND__\u001b[0m\u001b[0;34m(\u001b[0m\u001b[0mz\u001b[0m\u001b[0;34m)\u001b[0m\u001b[0;34m:\u001b[0m \u001b[0;32mreturn\u001b[0m \u001b[0mChang\u001b[0m\u001b[0;34m(\u001b[0m\u001b[0mz\u001b[0m\u001b[0;34m)\u001b[0m\u001b[0;34m*\u001b[0m\u001b[0msigma_c_2\u001b[0m\u001b[0;34m(\u001b[0m\u001b[0mz\u001b[0m\u001b[0;34m)\u001b[0m\u001b[0;34m\u001b[0m\u001b[0;34m\u001b[0m\u001b[0m\n\u001b[0;32m---> 11\u001b[0;31m     \u001b[0;32mreturn\u001b[0m \u001b[0mquad\u001b[0m\u001b[0;34m(\u001b[0m\u001b[0m__INTEGRAND__\u001b[0m\u001b[0;34m,\u001b[0m\u001b[0mzl\u001b[0m \u001b[0;34m+\u001b[0m \u001b[0;36m0.1\u001b[0m\u001b[0;34m,\u001b[0m\u001b[0;36m100\u001b[0m\u001b[0;34m)\u001b[0m\u001b[0;34m[\u001b[0m\u001b[0;36m0\u001b[0m\u001b[0;34m]\u001b[0m\u001b[0;34m/\u001b[0m\u001b[0mnorm\u001b[0m\u001b[0;34m\u001b[0m\u001b[0;34m\u001b[0m\u001b[0m\n\u001b[0m\u001b[1;32m     12\u001b[0m \u001b[0;34m\u001b[0m\u001b[0m\n\u001b[1;32m     13\u001b[0m \u001b[0;32mdef\u001b[0m \u001b[0mshape_noise_ds\u001b[0m\u001b[0;34m(\u001b[0m\u001b[0mprofile\u001b[0m \u001b[0;34m=\u001b[0m \u001b[0;36m1\u001b[0m\u001b[0;34m,\u001b[0m\u001b[0mz_name\u001b[0m \u001b[0;34m=\u001b[0m \u001b[0;34m'z_mean'\u001b[0m\u001b[0;34m,\u001b[0m\u001b[0mr_corner\u001b[0m\u001b[0;34m=\u001b[0m\u001b[0;32mNone\u001b[0m\u001b[0;34m,\u001b[0m \u001b[0mshapenoise\u001b[0m\u001b[0;34m=\u001b[0m\u001b[0;36m.1\u001b[0m\u001b[0;34m,\u001b[0m \u001b[0mns_arcmin2\u001b[0m\u001b[0;34m=\u001b[0m\u001b[0;32mNone\u001b[0m\u001b[0;34m,\u001b[0m \u001b[0mcosmo\u001b[0m\u001b[0;34m=\u001b[0m\u001b[0;32mNone\u001b[0m\u001b[0;34m)\u001b[0m\u001b[0;34m:\u001b[0m\u001b[0;34m\u001b[0m\u001b[0;34m\u001b[0m\u001b[0m\n",
      "\u001b[0;32m~/.conda/envs/mydesc/lib/python3.7/site-packages/scipy/integrate/quadpack.py\u001b[0m in \u001b[0;36mquad\u001b[0;34m(func, a, b, args, full_output, epsabs, epsrel, limit, points, weight, wvar, wopts, maxp1, limlst)\u001b[0m\n\u001b[1;32m    350\u001b[0m     \u001b[0;32mif\u001b[0m \u001b[0mweight\u001b[0m \u001b[0;32mis\u001b[0m \u001b[0;32mNone\u001b[0m\u001b[0;34m:\u001b[0m\u001b[0;34m\u001b[0m\u001b[0;34m\u001b[0m\u001b[0m\n\u001b[1;32m    351\u001b[0m         retval = _quad(func, a, b, args, full_output, epsabs, epsrel, limit,\n\u001b[0;32m--> 352\u001b[0;31m                        points)\n\u001b[0m\u001b[1;32m    353\u001b[0m     \u001b[0;32melse\u001b[0m\u001b[0;34m:\u001b[0m\u001b[0;34m\u001b[0m\u001b[0;34m\u001b[0m\u001b[0m\n\u001b[1;32m    354\u001b[0m         \u001b[0;32mif\u001b[0m \u001b[0mpoints\u001b[0m \u001b[0;32mis\u001b[0m \u001b[0;32mnot\u001b[0m \u001b[0;32mNone\u001b[0m\u001b[0;34m:\u001b[0m\u001b[0;34m\u001b[0m\u001b[0;34m\u001b[0m\u001b[0m\n",
      "\u001b[0;32m~/.conda/envs/mydesc/lib/python3.7/site-packages/scipy/integrate/quadpack.py\u001b[0m in \u001b[0;36m_quad\u001b[0;34m(func, a, b, args, full_output, epsabs, epsrel, limit, points)\u001b[0m\n\u001b[1;32m    461\u001b[0m     \u001b[0;32mif\u001b[0m \u001b[0mpoints\u001b[0m \u001b[0;32mis\u001b[0m \u001b[0;32mNone\u001b[0m\u001b[0;34m:\u001b[0m\u001b[0;34m\u001b[0m\u001b[0;34m\u001b[0m\u001b[0m\n\u001b[1;32m    462\u001b[0m         \u001b[0;32mif\u001b[0m \u001b[0minfbounds\u001b[0m \u001b[0;34m==\u001b[0m \u001b[0;36m0\u001b[0m\u001b[0;34m:\u001b[0m\u001b[0;34m\u001b[0m\u001b[0;34m\u001b[0m\u001b[0m\n\u001b[0;32m--> 463\u001b[0;31m             \u001b[0;32mreturn\u001b[0m \u001b[0m_quadpack\u001b[0m\u001b[0;34m.\u001b[0m\u001b[0m_qagse\u001b[0m\u001b[0;34m(\u001b[0m\u001b[0mfunc\u001b[0m\u001b[0;34m,\u001b[0m\u001b[0ma\u001b[0m\u001b[0;34m,\u001b[0m\u001b[0mb\u001b[0m\u001b[0;34m,\u001b[0m\u001b[0margs\u001b[0m\u001b[0;34m,\u001b[0m\u001b[0mfull_output\u001b[0m\u001b[0;34m,\u001b[0m\u001b[0mepsabs\u001b[0m\u001b[0;34m,\u001b[0m\u001b[0mepsrel\u001b[0m\u001b[0;34m,\u001b[0m\u001b[0mlimit\u001b[0m\u001b[0;34m)\u001b[0m\u001b[0;34m\u001b[0m\u001b[0;34m\u001b[0m\u001b[0m\n\u001b[0m\u001b[1;32m    464\u001b[0m         \u001b[0;32melse\u001b[0m\u001b[0;34m:\u001b[0m\u001b[0;34m\u001b[0m\u001b[0;34m\u001b[0m\u001b[0m\n\u001b[1;32m    465\u001b[0m             \u001b[0;32mreturn\u001b[0m \u001b[0m_quadpack\u001b[0m\u001b[0;34m.\u001b[0m\u001b[0m_qagie\u001b[0m\u001b[0;34m(\u001b[0m\u001b[0mfunc\u001b[0m\u001b[0;34m,\u001b[0m\u001b[0mbound\u001b[0m\u001b[0;34m,\u001b[0m\u001b[0minfbounds\u001b[0m\u001b[0;34m,\u001b[0m\u001b[0margs\u001b[0m\u001b[0;34m,\u001b[0m\u001b[0mfull_output\u001b[0m\u001b[0;34m,\u001b[0m\u001b[0mepsabs\u001b[0m\u001b[0;34m,\u001b[0m\u001b[0mepsrel\u001b[0m\u001b[0;34m,\u001b[0m\u001b[0mlimit\u001b[0m\u001b[0;34m)\u001b[0m\u001b[0;34m\u001b[0m\u001b[0;34m\u001b[0m\u001b[0m\n",
      "\u001b[0;32m<ipython-input-33-5543bef1d719>\u001b[0m in \u001b[0;36m__INTEGRAND__\u001b[0;34m(z)\u001b[0m\n\u001b[1;32m      8\u001b[0m         \u001b[0;32mreturn\u001b[0m \u001b[0mnp\u001b[0m\u001b[0;34m.\u001b[0m\u001b[0mexp\u001b[0m\u001b[0;34m(\u001b[0m\u001b[0;34m-\u001b[0m\u001b[0;34m(\u001b[0m\u001b[0mz\u001b[0m\u001b[0;34m/\u001b[0m\u001b[0mz_0\u001b[0m\u001b[0;34m)\u001b[0m\u001b[0;34m**\u001b[0m\u001b[0mb\u001b[0m\u001b[0;34m)\u001b[0m\u001b[0;34m*\u001b[0m\u001b[0mz\u001b[0m\u001b[0;34m**\u001b[0m\u001b[0ma\u001b[0m\u001b[0;34m\u001b[0m\u001b[0;34m\u001b[0m\u001b[0m\n\u001b[1;32m      9\u001b[0m     \u001b[0mnorm\u001b[0m \u001b[0;34m=\u001b[0m \u001b[0mquad\u001b[0m\u001b[0;34m(\u001b[0m\u001b[0mChang\u001b[0m\u001b[0;34m,\u001b[0m\u001b[0;36m0\u001b[0m\u001b[0;34m,\u001b[0m\u001b[0mnp\u001b[0m\u001b[0;34m.\u001b[0m\u001b[0minf\u001b[0m\u001b[0;34m)\u001b[0m\u001b[0;34m[\u001b[0m\u001b[0;36m0\u001b[0m\u001b[0;34m]\u001b[0m\u001b[0;34m\u001b[0m\u001b[0;34m\u001b[0m\u001b[0m\n\u001b[0;32m---> 10\u001b[0;31m     \u001b[0;32mdef\u001b[0m \u001b[0m__INTEGRAND__\u001b[0m\u001b[0;34m(\u001b[0m\u001b[0mz\u001b[0m\u001b[0;34m)\u001b[0m\u001b[0;34m:\u001b[0m \u001b[0;32mreturn\u001b[0m \u001b[0mChang\u001b[0m\u001b[0;34m(\u001b[0m\u001b[0mz\u001b[0m\u001b[0;34m)\u001b[0m\u001b[0;34m*\u001b[0m\u001b[0msigma_c_2\u001b[0m\u001b[0;34m(\u001b[0m\u001b[0mz\u001b[0m\u001b[0;34m)\u001b[0m\u001b[0;34m\u001b[0m\u001b[0;34m\u001b[0m\u001b[0m\n\u001b[0m\u001b[1;32m     11\u001b[0m     \u001b[0;32mreturn\u001b[0m \u001b[0mquad\u001b[0m\u001b[0;34m(\u001b[0m\u001b[0m__INTEGRAND__\u001b[0m\u001b[0;34m,\u001b[0m\u001b[0mzl\u001b[0m \u001b[0;34m+\u001b[0m \u001b[0;36m0.1\u001b[0m\u001b[0;34m,\u001b[0m\u001b[0;36m100\u001b[0m\u001b[0;34m)\u001b[0m\u001b[0;34m[\u001b[0m\u001b[0;36m0\u001b[0m\u001b[0;34m]\u001b[0m\u001b[0;34m/\u001b[0m\u001b[0mnorm\u001b[0m\u001b[0;34m\u001b[0m\u001b[0;34m\u001b[0m\u001b[0m\n\u001b[1;32m     12\u001b[0m \u001b[0;34m\u001b[0m\u001b[0m\n",
      "\u001b[0;32m<ipython-input-33-5543bef1d719>\u001b[0m in \u001b[0;36msigma_c_2\u001b[0;34m(zs)\u001b[0m\n\u001b[1;32m      1\u001b[0m \u001b[0;32mdef\u001b[0m \u001b[0mav_sigma_2\u001b[0m\u001b[0;34m(\u001b[0m\u001b[0mzl\u001b[0m\u001b[0;34m,\u001b[0m \u001b[0mcosmo\u001b[0m\u001b[0;34m=\u001b[0m\u001b[0;32mNone\u001b[0m\u001b[0;34m)\u001b[0m\u001b[0;34m:\u001b[0m\u001b[0;34m\u001b[0m\u001b[0;34m\u001b[0m\u001b[0m\n\u001b[1;32m      2\u001b[0m     \u001b[0;32mdef\u001b[0m \u001b[0msigma_c_2\u001b[0m\u001b[0;34m(\u001b[0m\u001b[0mzs\u001b[0m\u001b[0;34m)\u001b[0m\u001b[0;34m:\u001b[0m\u001b[0;34m\u001b[0m\u001b[0;34m\u001b[0m\u001b[0m\n\u001b[0;32m----> 3\u001b[0;31m         \u001b[0;32mreturn\u001b[0m \u001b[0mcosmo\u001b[0m\u001b[0;34m.\u001b[0m\u001b[0meval_sigma_crit\u001b[0m\u001b[0;34m(\u001b[0m\u001b[0mzl\u001b[0m\u001b[0;34m,\u001b[0m \u001b[0mzs\u001b[0m\u001b[0;34m)\u001b[0m\u001b[0;34m**\u001b[0m\u001b[0;36m2.\u001b[0m\u001b[0;34m\u001b[0m\u001b[0;34m\u001b[0m\u001b[0m\n\u001b[0m\u001b[1;32m      4\u001b[0m     \u001b[0;32mdef\u001b[0m \u001b[0mChang\u001b[0m\u001b[0;34m(\u001b[0m\u001b[0mz\u001b[0m\u001b[0;34m)\u001b[0m\u001b[0;34m:\u001b[0m \u001b[0;31m#Chang distribution of source redshift\u001b[0m\u001b[0;34m\u001b[0m\u001b[0;34m\u001b[0m\u001b[0m\n\u001b[1;32m      5\u001b[0m         \u001b[0ma\u001b[0m \u001b[0;34m=\u001b[0m \u001b[0;36m1.24\u001b[0m\u001b[0;34m\u001b[0m\u001b[0;34m\u001b[0m\u001b[0m\n",
      "\u001b[0;32m~/.conda/envs/mydesc/lib/python3.7/site-packages/clmm-1.1.9-py3.7.egg/clmm/cosmology/parent_class.py\u001b[0m in \u001b[0;36meval_sigma_crit\u001b[0;34m(self, z_len, z_src)\u001b[0m\n\u001b[1;32m    390\u001b[0m             \u001b[0mvalidate_argument\u001b[0m\u001b[0;34m(\u001b[0m\u001b[0mlocals\u001b[0m\u001b[0;34m(\u001b[0m\u001b[0;34m)\u001b[0m\u001b[0;34m,\u001b[0m \u001b[0;34m'z_len'\u001b[0m\u001b[0;34m,\u001b[0m \u001b[0mfloat\u001b[0m\u001b[0;34m,\u001b[0m \u001b[0margmin\u001b[0m\u001b[0;34m=\u001b[0m\u001b[0;36m0\u001b[0m\u001b[0;34m,\u001b[0m \u001b[0meqmin\u001b[0m\u001b[0;34m=\u001b[0m\u001b[0;32mTrue\u001b[0m\u001b[0;34m)\u001b[0m\u001b[0;34m\u001b[0m\u001b[0;34m\u001b[0m\u001b[0m\n\u001b[1;32m    391\u001b[0m             \u001b[0mvalidate_argument\u001b[0m\u001b[0;34m(\u001b[0m\u001b[0mlocals\u001b[0m\u001b[0;34m(\u001b[0m\u001b[0;34m)\u001b[0m\u001b[0;34m,\u001b[0m \u001b[0;34m'z_src'\u001b[0m\u001b[0;34m,\u001b[0m \u001b[0;34m'float_array'\u001b[0m\u001b[0;34m,\u001b[0m \u001b[0margmin\u001b[0m\u001b[0;34m=\u001b[0m\u001b[0;36m0\u001b[0m\u001b[0;34m)\u001b[0m\u001b[0;34m\u001b[0m\u001b[0;34m\u001b[0m\u001b[0m\n\u001b[0;32m--> 392\u001b[0;31m         \u001b[0;32mreturn\u001b[0m \u001b[0mself\u001b[0m\u001b[0;34m.\u001b[0m\u001b[0m_eval_sigma_crit\u001b[0m\u001b[0;34m(\u001b[0m\u001b[0mz_len\u001b[0m\u001b[0;34m=\u001b[0m\u001b[0mz_len\u001b[0m\u001b[0;34m,\u001b[0m \u001b[0mz_src\u001b[0m\u001b[0;34m=\u001b[0m\u001b[0mz_src\u001b[0m\u001b[0;34m)\u001b[0m\u001b[0;34m\u001b[0m\u001b[0;34m\u001b[0m\u001b[0m\n\u001b[0m\u001b[1;32m    393\u001b[0m \u001b[0;34m\u001b[0m\u001b[0m\n\u001b[1;32m    394\u001b[0m     \u001b[0;32mdef\u001b[0m \u001b[0m_eval_sigma_crit\u001b[0m\u001b[0;34m(\u001b[0m\u001b[0mself\u001b[0m\u001b[0;34m,\u001b[0m \u001b[0mz_len\u001b[0m\u001b[0;34m,\u001b[0m \u001b[0mz_src\u001b[0m\u001b[0;34m)\u001b[0m\u001b[0;34m:\u001b[0m\u001b[0;34m\u001b[0m\u001b[0;34m\u001b[0m\u001b[0m\n",
      "\u001b[0;32m~/.conda/envs/mydesc/lib/python3.7/site-packages/clmm-1.1.9-py3.7.egg/clmm/cosmology/numcosmo.py\u001b[0m in \u001b[0;36m_eval_sigma_crit\u001b[0;34m(self, z_len, z_src)\u001b[0m\n\u001b[1;32m    134\u001b[0m     \u001b[0;32mdef\u001b[0m \u001b[0m_eval_sigma_crit\u001b[0m\u001b[0;34m(\u001b[0m\u001b[0mself\u001b[0m\u001b[0;34m,\u001b[0m \u001b[0mz_len\u001b[0m\u001b[0;34m,\u001b[0m \u001b[0mz_src\u001b[0m\u001b[0;34m)\u001b[0m\u001b[0;34m:\u001b[0m\u001b[0;34m\u001b[0m\u001b[0;34m\u001b[0m\u001b[0m\n\u001b[1;32m    135\u001b[0m \u001b[0;34m\u001b[0m\u001b[0m\n\u001b[0;32m--> 136\u001b[0;31m         \u001b[0mself\u001b[0m\u001b[0;34m.\u001b[0m\u001b[0msmd\u001b[0m\u001b[0;34m.\u001b[0m\u001b[0mprepare_if_needed\u001b[0m\u001b[0;34m(\u001b[0m\u001b[0mself\u001b[0m\u001b[0;34m.\u001b[0m\u001b[0mbe_cosmo\u001b[0m\u001b[0;34m)\u001b[0m\u001b[0;34m\u001b[0m\u001b[0;34m\u001b[0m\u001b[0m\n\u001b[0m\u001b[1;32m    137\u001b[0m \u001b[0;34m\u001b[0m\u001b[0m\n\u001b[1;32m    138\u001b[0m         func = lambda z_len, z_src: self.smd.sigma_critical(\n",
      "\u001b[0;31mAttributeError\u001b[0m: 'NumCosmoCosmology' object has no attribute 'smd'"
     ]
    }
   ],
   "source": [
    "shape_noise_ds(profile = ind_profile,z_name = 'redshift',r_corner=r_corner, shapenoise=.1, ns_arcmin2=30, cosmo=cosmo)"
   ]
  },
  {
   "cell_type": "code",
   "execution_count": 36,
   "id": "9c2d67a2-f0c6-4cfc-8339-bd08bf8e1eaf",
   "metadata": {},
   "outputs": [
    {
     "data": {
      "text/plain": [
       "[]"
      ]
     },
     "execution_count": 36,
     "metadata": {},
     "output_type": "execute_result"
    },
    {
     "data": {
      "image/png": "[encoded data removed]",
      "text/plain": [
       "<Figure size 432x288 with 1 Axes>"
      ]
     },
     "metadata": {
      "needs_background": "light"
     },
     "output_type": "display_data"
    }
   ],
   "source": [
    "plt.plot(covariance_boot[index]['cov_t'].diagonal()**.5)\n",
    "plt.plot(covariance_sample[index]['cov_t'].diagonal()**.5)\n",
    "plt.plot(covariance_jackk[index]['cov_t'].diagonal()**.5, '--')\n",
    "plt.loglog()"
   ]
  },
  {
   "cell_type": "code",
   "execution_count": null,
   "id": "d885ad71-3229-425f-9722-f2a32e6e8df8",
   "metadata": {},
   "outputs": [],
   "source": []
  }
 ],
 "metadata": {
  "kernelspec": {
   "display_name": "mydesc",
   "language": "python",
   "name": "mydesc"
  },
  "language_info": {
   "codemirror_mode": {
    "name": "ipython",
    "version": 3
   },
   "file_extension": ".py",
   "mimetype": "text/x-python",
   "name": "python",
   "nbconvert_exporter": "python",
   "pygments_lexer": "ipython3",
   "version": "3.7.6"
  }
 },
 "nbformat": 4,
 "nbformat_minor": 5
}
