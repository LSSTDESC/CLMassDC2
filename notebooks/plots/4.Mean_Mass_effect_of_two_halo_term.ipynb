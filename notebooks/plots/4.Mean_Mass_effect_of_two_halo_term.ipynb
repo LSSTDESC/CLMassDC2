{
 "cells": [
  {
   "cell_type": "code",
   "execution_count": 24,
   "id": "5c96e453",
   "metadata": {},
   "outputs": [
    {
     "name": "stdout",
     "output_type": "stream",
     "text": [
      "The autoreload extension is already loaded. To reload it, use:\n",
      "  %reload_ext autoreload\n"
     ]
    }
   ],
   "source": [
    "%load_ext autoreload\n",
    "\n",
    "%autoreload 2\n",
    "import matplotlib.pyplot as plt\n",
    "import pickle\n",
    "from astropy.coordinates import SkyCoord, match_coordinates_3d, match_coordinates_sky\n",
    "import sys\n",
    "import emcee\n",
    "import numpy as np\n",
    "from astropy.cosmology import FlatLambdaCDM\n",
    "import astropy.units as u\n",
    "from astropy.table import Table, QTable, hstack, vstack\n",
    "from astropy import units as u\n",
    "import corner\n",
    "from astropy.coordinates import SkyCoord, match_coordinates_3d\n",
    "cosmo_astropy = FlatLambdaCDM(H0=71.0, Om0=0.265, Ob0 = 0.0448)\n",
    "import iminuit\n",
    "from iminuit import Minuit\n",
    "cosmo_astropy.critical_density(0.4).to(u.Msun / u.Mpc**3).value\n",
    "\n",
    "sys.path.append('/pbs/throng/lsst/users/cpayerne/CLMassDC2/modules/')\n",
    "#import CL_WL_miscentering as mis\n",
    "import analysis_Mass_Richness_relation as analysis\n",
    "import CL_WL_two_halo_term as twoh\n",
    "import CL_WL_mass_conversion as utils\n",
    "import CL_DATAOPS_match_catalogs as match\n",
    "import CL_WL_DATAOPS_make_profile as prf\n",
    "import CL_Likelihood_for_Mass_richness_relation as mass_richness\n",
    "import CL_WL_fit_cluster_mass_v2 as fit\n",
    "import CL_fiducial_mass_richness_relation as fiducial\n",
    "#import analysis_Mass_richness_relation as analysis\n",
    "\n",
    "\n",
    "import clmm\n",
    "import clmm.dataops\n",
    "from clmm.dataops import compute_tangential_and_cross_components, make_radial_profile, make_bins\n",
    "from clmm.galaxycluster import GalaxyCluster\n",
    "import clmm.utils as u\n",
    "import astropy.units as un\n",
    "from clmm import Cosmology\n",
    "from clmm.support import mock_data as mock\n",
    "import pyccl as ccl\n",
    "\n",
    "cosmo = Cosmology(H0 = 71.0, Omega_dm0 = 0.265 - 0.0448, Omega_b0 = 0.0448, Omega_k0 = 0.0)\n",
    "cosmo_astropy = FlatLambdaCDM(H0=71.0, Om0=0.265, Ob0 = 0.0448)\n",
    "cosmo_clmm = Cosmology(H0 = 71.0, Omega_dm0 = 0.265 - 0.0448, Omega_b0 = 0.0448, Omega_k0 = 0.0)\n",
    "cosmo_ccl  = ccl.Cosmology(Omega_c=0.265-0.0448, Omega_b=0.0448, h=0.71, A_s=2.1e-9, n_s=0.96, Neff=0, Omega_g=0)"
   ]
  },
  {
   "cell_type": "code",
   "execution_count": 25,
   "id": "a78ec39f",
   "metadata": {},
   "outputs": [],
   "source": [
    "def load(filename, **kwargs):\n",
    "    with open(filename, 'rb') as fin:\n",
    "        return pickle.load(fin, **kwargs)"
   ]
  },
  {
   "cell_type": "code",
   "execution_count": 26,
   "id": "b286b46c-3394-46af-a8b5-0092d4daca7b",
   "metadata": {},
   "outputs": [],
   "source": [
    "ind_profile = np.load('/pbs/throng/lsst/users/cpayerne/CLMassDC2/data/data_new_version/ind_profile_redmapper.pkl', allow_pickle = True)\n",
    "ind_profile['cluster_id'] = ind_profile['id']"
   ]
  },
  {
   "cell_type": "code",
   "execution_count": 27,
   "id": "2bcee6dd",
   "metadata": {},
   "outputs": [],
   "source": [
    "#profile_SkySim = load('/pbs/throng/lsst/users/cpayerne/CLMassDC2/data/individual_profile_SkySim5000_gal_redMaPPer_cluster_epsilon_shape_true_z.pkl')"
   ]
  },
  {
   "cell_type": "code",
   "execution_count": 28,
   "id": "a409750e-8282-4e24-83a4-0c27611e3d8a",
   "metadata": {},
   "outputs": [],
   "source": [
    "sum_weights_per_cluster_10 = []\n",
    "sum_weights_per_cluster_5 = []\n",
    "for i, cl in enumerate(ind_profile):\n",
    "    mask = (ind_profile['radius_true'][i] > 1)*(ind_profile['radius_true'][i] < 10)\n",
    "    sum_weights_per_cluster_10.append(np.sum(ind_profile['W_l_true'][i][mask]))\n",
    "    mask = (ind_profile['radius_true'][i] > 1)*(ind_profile['radius_true'][i] < 5.5)\n",
    "    sum_weights_per_cluster_5.append(np.sum(ind_profile['W_l_true'][i][mask]))"
   ]
  },
  {
   "cell_type": "code",
   "execution_count": 29,
   "id": "eac92aaf",
   "metadata": {},
   "outputs": [],
   "source": [
    "#sum_weights_per_cluster_10 = []\n",
    "#sum_weights_per_cluster_5 = []\n",
    "#for i, cl in enumerate(profile_SkySim):\n",
    "#    mask = (profile_SkySim['radius_av'][i] > 1)*(profile_SkySim['radius_av'][i] < 10)\n",
    " #   sum_weights_per_cluster_10.append(np.sum(profile_SkySim['norm_sum'][i][mask]))\n",
    " #   mask = (profile_SkySim['radius_av'][i] > 1)*(profile_SkySim['radius_av'][i] < 5.5)\n",
    "#    sum_weights_per_cluster_5.append(np.sum(profile_SkySim['norm_sum'][i][mask]))"
   ]
  },
  {
   "cell_type": "code",
   "execution_count": 30,
   "id": "434da12f",
   "metadata": {},
   "outputs": [],
   "source": [
    "ind_profile['weight_per_cluster_5'] = np.array(sum_weights_per_cluster_5)*1e27\n",
    "ind_profile['weight_per_cluster_10'] = np.array(sum_weights_per_cluster_10)*1e27"
   ]
  },
  {
   "cell_type": "code",
   "execution_count": 31,
   "id": "efeeb09d",
   "metadata": {},
   "outputs": [],
   "source": [
    "Z_bin = analysis.Z_bin\n",
    "Obs_bin = analysis.Obs_bin\n",
    "Gamma_5 = 0.75\n",
    "Gamma_10 = 0.8"
   ]
  },
  {
   "cell_type": "code",
   "execution_count": 32,
   "id": "0691ace7-bac8-45c1-9541-d1fae8d6bfa9",
   "metadata": {},
   "outputs": [],
   "source": [
    "#fiducial_constraint = fiducial.constrain_fiducial(used_cluster_id_list = np.array(profile_SkySim['cluster_id']), low_M_cut = 3e13)"
   ]
  },
  {
   "cell_type": "code",
   "execution_count": 33,
   "id": "578eb1ce-10a3-47b2-b972-64f6a8274899",
   "metadata": {},
   "outputs": [],
   "source": [
    "#fiducial_constraint"
   ]
  },
  {
   "cell_type": "code",
   "execution_count": 34,
   "id": "20e7ba7e",
   "metadata": {},
   "outputs": [],
   "source": [
    "#err = (binned_data['m200_err'])/(np.log(10)*np.array(binned_data['m200']))\n",
    "#err_logl = (binned_data['richness_err'])/(np.log(10)*10**np.array(binned_data['logrichness']))\n",
    "#plt.rcParams['axes.linewidth'] = 3\n",
    "#i_fits = [0,0,1,1]\n",
    "#j_fits = [1,0,1,0]\n",
    "#plt.figure(figsize = (10,7))\n",
    "#color_z = ['orange','red','magenta','purple','green','cyan','blue','black']\n",
    "#x = np.linspace(1,3,100)\n",
    "#y = 0.7*x + 13.2\n",
    "#for k, z_bin in enumerate(Z_bin):\n",
    "#        plt.plot([],[], '-', c = color_z[k],label = f'{z_bin[0]:.2f}'+ r'$< z < $'+ f'{z_bin[1]:.2f}',)\n",
    "#        mask = (binned_data['z_mean'] > z_bin[0])*(binned_data['z_mean'] < z_bin[1])\n",
    "#        f_cut = Table(binned_data)[mask]\n",
    "#        a_t = 1./(1 + f_cut['z_mean'])\n",
    "##        logrichness = f_cut['logrichness']\n",
    "#        logrichness_err = err_logl[mask]\n",
    "#        logm200w = np.log10(f_cut['m200'])\n",
    "#        logm200w_err = err[mask]\n",
    "#        plt.errorbar(logrichness,logm200w,logm200w_err, logrichness_err,\n",
    "#                marker = '.', \n",
    "#                elinewidth = 2, capsize = 0, markersize = 7, c = color_z[k],\n",
    "#                    markerfacecolor = None)\n",
    "##plt.xlim(1.3,2.4)\n",
    "#plt.ylim(14,14.8)\n",
    "#plt.legend(fontsize = 20)\n",
    "#plt.tick_params(axis='both', which = 'major', labelsize= 20)\n",
    "##plt.grid('True')\n",
    "#plt.xlabel(r'$\\log_{10}(\\langle \\lambda \\rangle)$', fontsize = 30)\n",
    "#plt.ylabel(r'$\\log_{10}(\\langle M_{\\rm 200c}^{\\rm}\\rangle)$', fontsize = 30)\n",
    "#plt.show()\n",
    "#plt.savefig('/pbs/throng/lsst/users/cpayerne/ThesisAtCCin2p3/Images/est_mass_validation.png', bbox_inches='tight', dpi=300)"
   ]
  },
  {
   "cell_type": "markdown",
   "id": "6f3eb348-8bb9-43a2-8a10-ae0b6acbf426",
   "metadata": {},
   "source": [
    "# WL masses"
   ]
  },
  {
   "cell_type": "markdown",
   "id": "fc71ac3b",
   "metadata": {},
   "source": [
    "## WL shear profiles"
   ]
  },
  {
   "cell_type": "code",
   "execution_count": 35,
   "id": "453eaa93",
   "metadata": {},
   "outputs": [
    {
     "name": "stdout",
     "output_type": "stream",
     "text": [
      "392\n",
      "137\n",
      "58\n",
      "14\n",
      "654\n",
      "203\n",
      "77\n",
      "33\n",
      "671\n",
      "224\n",
      "95\n",
      "35\n",
      "650\n",
      "235\n",
      "67\n",
      "29\n"
     ]
    }
   ],
   "source": [
    "profile_sky_stack = prf.stacked_profile(profile = ind_profile,\n",
    "                    r_in = 'radius_true',\n",
    "                    gt_in = 'DSt_true', gx_in = 'DSx_true',\n",
    "                    r_out = 'radius',\n",
    "                    gt_out = 'gt', gx_out = 'gx',\n",
    "                    weight = 'W_l_true',\n",
    "                    z_name = 'redshift', obs_name = 'richness',\n",
    "                    Z_bin = Z_bin, Obs_bin = Obs_bin,\n",
    "                    add_columns_to_bin = ['weight_per_cluster_10','weight_per_cluster_5', 'richness', 'redshift'])\n",
    "\n",
    "covariance_sky_stack = prf.bootstrap_covariance(profile = ind_profile,\n",
    "    r_in = 'radius_true',\n",
    "                    gt_in = 'DSt_true', gx_in = 'DSx_true',\n",
    "                    r_out = 'radius',\n",
    "                    gt_out = 'gt', gx_out = 'gx',\n",
    "                    weight = 'W_l_true',\n",
    "                    n_boot = 400,\n",
    "                    z_name = 'redshift', obs_name = 'richness',\n",
    "                    Z_bin = Z_bin, Obs_bin = Obs_bin)"
   ]
  },
  {
   "cell_type": "markdown",
   "id": "890b9359-284f-43c5-ad36-d70af6e119fd",
   "metadata": {},
   "source": [
    "## Fit WL masses"
   ]
  },
  {
   "cell_type": "code",
   "execution_count": 36,
   "id": "96e4e889-654a-44d9-be20-80ce713a04ab",
   "metadata": {},
   "outputs": [
    {
     "name": "stdout",
     "output_type": "stream",
     "text": [
      "The autoreload extension is already loaded. To reload it, use:\n",
      "  %reload_ext autoreload\n"
     ]
    }
   ],
   "source": [
    "%load_ext autoreload\n",
    "%autoreload 2\n",
    "import CL_WL_fit_cluster_mass_v2 as fit"
   ]
  },
  {
   "cell_type": "code",
   "execution_count": 37,
   "id": "f7c07e5a-3aca-4a52-9c38-4241201d391c",
   "metadata": {},
   "outputs": [
    {
     "name": "stdout",
     "output_type": "stream",
     "text": [
      "fitting...\n",
      "0/16\n",
      "1.0\n",
      "1/16\n",
      "1.0\n",
      "2/16\n",
      "1.0\n",
      "3/16\n",
      "1.0\n",
      "4/16\n",
      "1.0\n",
      "5/16\n",
      "1.0\n",
      "6/16\n",
      "1.0\n",
      "7/16\n",
      "1.0\n",
      "8/16\n",
      "1.0\n",
      "9/16\n",
      "1.0\n",
      "10/16\n",
      "1.0\n",
      "11/16\n",
      "1.0\n",
      "12/16\n",
      "1.0\n",
      "13/16\n",
      "1.0\n",
      "14/16\n",
      "1.0\n",
      "15/16\n",
      "1.0\n",
      "fitting...\n",
      "0/16\n",
      "1.0\n",
      "1/16\n",
      "1.0\n",
      "2/16\n",
      "1.0\n",
      "3/16\n",
      "1.0\n",
      "4/16\n",
      "1.0\n",
      "5/16\n",
      "1.0\n",
      "6/16\n",
      "1.0\n",
      "7/16\n",
      "1.0\n",
      "8/16\n",
      "1.0\n",
      "9/16\n",
      "1.0\n",
      "10/16\n",
      "1.0\n",
      "11/16\n",
      "1.0\n",
      "12/16\n",
      "1.0\n",
      "13/16\n",
      "1.0\n",
      "14/16\n",
      "1.0\n",
      "15/16\n",
      "1.0\n",
      "fitting...\n",
      "0/16\n",
      "1.0\n",
      "1/16\n",
      "1.0\n",
      "2/16\n",
      "1.0\n",
      "3/16\n",
      "1.0\n",
      "4/16\n",
      "1.0\n",
      "5/16\n",
      "1.0\n",
      "6/16\n",
      "1.0\n",
      "7/16\n",
      "1.0\n",
      "8/16\n",
      "1.0\n",
      "9/16\n",
      "1.0\n",
      "10/16\n",
      "1.0\n",
      "11/16\n",
      "1.0\n",
      "12/16\n",
      "1.0\n",
      "13/16\n",
      "1.0\n",
      "14/16\n",
      "1.0\n",
      "15/16\n",
      "1.0\n",
      "fitting...\n",
      "0/16\n",
      "1.0\n",
      "1/16\n",
      "1.0\n",
      "2/16\n",
      "1.0\n",
      "3/16\n",
      "1.0\n",
      "4/16\n",
      "1.0\n",
      "5/16\n",
      "1.0\n",
      "6/16\n",
      "1.0\n",
      "7/16\n",
      "1.0\n",
      "8/16\n",
      "1.0\n",
      "9/16\n",
      "1.0\n",
      "10/16\n",
      "1.0\n",
      "11/16\n",
      "1.0\n",
      "12/16\n",
      "1.0\n",
      "13/16\n",
      "1.0\n",
      "14/16\n",
      "1.0\n",
      "15/16\n",
      "1.0\n",
      "fitting...\n",
      "0/16\n",
      "1.0\n",
      "1/16\n",
      "1.0\n",
      "2/16\n",
      "1.0\n",
      "3/16\n",
      "1.0\n",
      "4/16\n",
      "1.0\n",
      "5/16\n",
      "1.0\n",
      "6/16\n",
      "1.0\n",
      "7/16\n",
      "1.0\n",
      "8/16\n",
      "1.0\n",
      "9/16\n",
      "1.0\n",
      "10/16\n",
      "1.0\n",
      "11/16\n",
      "1.0\n",
      "12/16\n",
      "1.0\n",
      "13/16\n",
      "1.0\n",
      "14/16\n",
      "1.0\n",
      "15/16\n",
      "1.0\n"
     ]
    }
   ],
   "source": [
    "fix_c_Diemer15 =       fit.fit_WL_cluster_mass(profile = profile_sky_stack, covariance = covariance_sky_stack, a = 0, b = 1, rmax = 5.5, two_halo_term = False, fix_c = True, mc_relation = 'Diemer15')\n",
    "fix_c_Duffy08 =        fit.fit_WL_cluster_mass(profile = profile_sky_stack, covariance = covariance_sky_stack, a = 0, b = 1, rmax = 5.5, two_halo_term = False, fix_c = True, mc_relation = 'Duffy08')\n",
    "fix_c_Prada12 =        fit.fit_WL_cluster_mass(profile = profile_sky_stack, covariance = covariance_sky_stack, a = 0, b = 1, rmax = 5.5, two_halo_term = False, fix_c = True, mc_relation = 'Prada12')\n",
    "fix_c_Bhattacharya13 = fit.fit_WL_cluster_mass(profile = profile_sky_stack, covariance = covariance_sky_stack, a = 0, b = 1, rmax = 5.5, two_halo_term = False, fix_c = True, mc_relation = 'Bhattacharya13')\n",
    "free_c_1h =            fit.fit_WL_cluster_mass(profile = profile_sky_stack, covariance = covariance_sky_stack, a = 0, b = 1, rmax = 5.5, two_halo_term = False, fix_c = False)"
   ]
  },
  {
   "cell_type": "code",
   "execution_count": 92,
   "id": "cff1c980-832b-4a29-9e61-370731faa688",
   "metadata": {},
   "outputs": [],
   "source": [
    "for f in [fix_c_Diemer15, fix_c_Duffy08, fix_c_Prada12 ,fix_c_Bhattacharya13, free_c_1h]:\n",
    "    mean_mass, err_mass = [], []\n",
    "    fchains = f['chain']\n",
    "    mean = [np.mean(fchains[i][10000:20000][:,0], axis=0) for i in range(len(fchains))]\n",
    "    err = [np.std(fchains[i][10000:20000][:,0], axis=0) for i in range(len(fchains))]\n",
    "    f['logmw'] = mean\n",
    "    f['logmw_err'] = err"
   ]
  },
  {
   "cell_type": "code",
   "execution_count": 93,
   "id": "658adeb0-10b4-437d-bc2f-cbeaca31d227",
   "metadata": {},
   "outputs": [],
   "source": [
    "#fix_c_2h = fit.fit_WL_cluster_mass(profile = profile_sky_stack, covariance = covariance_sky_stack, a = 0, b = 1, rmax = 10, two_halo_term = True, fix_c = True)\n",
    "##fix_c_1h = fit.fit_WL_cluster_mass(profile = profile_sky_stack, covariance = covariance_sky_stack, a = 0, b = 1, rmax = 5.5, two_halo_term = False, fix_c = True)\n",
    "#free_c_2h = fit.fit_WL_cluster_mass(profile = profile_sky_stack, covariance = covariance_sky_stack, a = 0, b = 1, rmax = 10, two_halo_term = True, fix_c = False)\n",
    "#free_c_1h = fit.fit_WL_cluster_mass(profile = profile_sky_stack, covariance = covariance_sky_stack, a = 0, b = 1, rmax = 5.5, two_halo_term = False, fix_c = False)"
   ]
  },
  {
   "cell_type": "code",
   "execution_count": 96,
   "id": "2712bb53-5f70-45b7-87c3-12638f31ec72",
   "metadata": {},
   "outputs": [
    {
     "data": {
      "text/plain": [
       "Text(0, 0.5, '$\\\\log_{10}(M_{\\\\rm 200c}^{\\\\rm WL}/M_{\\\\odot})$')"
      ]
     },
     "execution_count": 96,
     "metadata": {},
     "output_type": "execute_result"
    },
    {
     "data": {
      "image/png": "[encoded data removed]",
      "text/plain": [
       "<Figure size 1000x700 with 1 Axes>"
      ]
     },
     "metadata": {},
     "output_type": "display_data"
    }
   ],
   "source": [
    "import matplotlib.ticker\n",
    "fig, ax  = plt.subplots(figsize = (10,7))\n",
    "color_z = ['orange','red','magenta','purple','green','cyan','blue','black']\n",
    "x = np.linspace(1,3,100)\n",
    "f = fix_c_Diemer15#free_c_1h\n",
    "for k, z_bin in enumerate(Z_bin):\n",
    "        f = Table(f)\n",
    "        plt.plot([],[], '-', c = color_z[k],label = f'{z_bin[0]:.2f}'+ r'$< z < $'+ f'{z_bin[1]:.2f}',)\n",
    "        mask = (f['z_mean'] > z_bin[0])*(f['z_mean'] < z_bin[1])\n",
    "        f_cut = f[mask]\n",
    "        a_t = 1./(1 + f_cut['z_mean'])\n",
    "        richness = f_cut['obs_mean']\n",
    "        richness_err = f_cut['obs_rms']\n",
    "        logm200w, logm200w_err = f_cut['logmw'], f_cut['logmw_err']\n",
    "        \n",
    "        #logm200w_err = f_cut['logm200_w_err']\n",
    "        ax.errorbar(richness,logm200w,logm200w_err, richness_err,\n",
    "                    marker = '.', fmt = ' ',\n",
    "                    elinewidth = 2, capsize = 0, markersize = 7, c = color_z[k],\n",
    "                        markerfacecolor = None)\n",
    "\n",
    "ax.set_ylim(14,14.8)\n",
    "ax.set_xscale('log')\n",
    "ax.tick_params(axis='both', which = 'major', labelsize= 20)\n",
    "ax.set_xticks([30,40, 60, 100, 200])\n",
    "ax.get_xaxis().set_major_formatter(matplotlib.ticker.ScalarFormatter())\n",
    "ax.legend(frameon = False, fontsize = 20, loc = 'lower right')\n",
    "ax.set_xlabel(r'richness $\\lambda$', fontsize = 30)\n",
    "ax.set_ylabel(r'$\\log_{10}(M_{\\rm 200c}^{\\rm WL}/M_{\\odot})$', fontsize = 30)\n",
    "#plt.savefig('/pbs/throng/lsst/users/cpayerne/ThesisAtCCin2p3/Images/est_mass_validation_free_c_1h.png', bbox_inches='tight', dpi=300)\n",
    "#plt.show()"
   ]
  },
  {
   "cell_type": "code",
   "execution_count": 32,
   "id": "7e1694bd",
   "metadata": {},
   "outputs": [],
   "source": [
    "#fits = [fix_c_2h,fix_c_1h,free_c_2h,free_c_1h]\n",
    "#text = ['c-M, 2h', 'c-M, 1h','free c, 2h','free c, 1h']"
   ]
  },
  {
   "cell_type": "code",
   "execution_count": 33,
   "id": "1c30fa8c",
   "metadata": {},
   "outputs": [],
   "source": [
    "#plt.rcParams['axes.linewidth'] = 3\n",
    "#fig, axs = plt.subplots(2, 2, figsize = (10,10), sharex=True, sharey=True)\n",
    "#plt.rcParams['axes.linewidth'] = 3\n",
    "#fig.subplots_adjust(wspace=0, hspace=0)\n",
    "#i_fits = [0,0,1,1]\n",
    "#j_fits = [1,0,1,0]\n",
    "#color_z = ['orange','red','magenta','purple','green','cyan','blue','black']\n",
    "#x = np.linspace(1,3,100)\n",
    "#y = 0.7*x + 13.2\n",
    "#for i,f in enumerate(fits):\n",
    "#    f = Table(f)\n",
    "#    for k, z_bin in enumerate(Z_bin):\n",
    "#            if i == 0:      \n",
    "#                axs[i_fits[i],j_fits[i]].plot([],[], '-', c = color_z[k],label = f'{z_bin[0]:.2f}'+ r'$< z < $'+ f'{z_bin[1]:.2f}',)\n",
    "#            mask = (f['z_mean'] > z_bin[0])*(f['z_mean'] < z_bin[1])\n",
    "#            f_cut = f[mask]\n",
    "#            a_t = 1./(1 + f_cut['z_mean'])\n",
    "#            richness = f_cut['obs_mean']\n",
    "#            richness_err = f_cut['obs_rms']\n",
    "#            logm200w = f_cut['logm200_w']\n",
    "#            logm200w_err = f_cut['logm200_w_err']\n",
    "#            axs[i_fits[i],j_fits[i]].text(1.5, 14.7, text[i], fontsize = 20)\n",
    "#            axs[i_fits[i],j_fits[i]].errorbar(np.log10(richness),logm200w,logm200w_err, richness_err/(np.log(10)*richness),\n",
    "#                    marker = '.', \n",
    "#                    elinewidth = 2, capsize = 0, markersize = 7, c = color_z[k],\n",
    "#                        markerfacecolor = None)\n",
    "#    axs[i_fits[i],j_fits[i]].set_xlim(1.3,2.4)\n",
    "#    axs[i_fits[i],j_fits[i]].set_ylim(14,14.8)\n",
    "#    axs[i_fits[i],j_fits[i]].plot(x,y,'--k')\n",
    "#    axs[i_fits[i],j_fits[i]].tick_params(axis='both', which = 'major', labelsize= 20)\n",
    "#    axs[i_fits[i],j_fits[i]].legend(frameon = False, fontsize = 20, loc = 'lower right')\n",
    "#    axs[i_fits[i],j_fits[i]].grid('True')\n",
    "#    axs[i_fits[i],j_fits[i]].set_xlabel(r'$\\log_{10}(\\langle \\lambda \\rangle)$', fontsize = 15)\n",
    "#    if j_fits[i] == 0:\n",
    "#        axs[i_fits[i],j_fits[i]].set_ylabel(r'$\\log_{10}(\\langle M_{\\rm 200c}^{\\rm WL}\\rangle)$', fontsize = 15)\n",
    "#plt.savefig('/pbs/throng/lsst/users/cpayerne/ThesisAtCCin2p3/Images/est_wl_mass.png', bbox_inches='tight', dpi=300)"
   ]
  },
  {
   "cell_type": "code",
   "execution_count": 34,
   "id": "be3abf6e-d362-44d4-ae76-662341420921",
   "metadata": {},
   "outputs": [],
   "source": [
    "#fig, axs = plt.subplots(2, 2, figsize = (10,10), sharex=True, sharey=True)\n",
    "#plt.rcParams['axes.linewidth'] = 1\n",
    "#fig.subplots_adjust(wspace=0, hspace=0)\n",
    "#i_fits = [0,0,1,1]\n",
    "#j_fits = [1,0,1,0]\n",
    "#color_z = ['orange','red','magenta','purple','green','cyan','blue','black']\n",
    "#x = np.linspace(1,3,100)\n",
    "#y = 0.7*x + 13.2\n",
    "#for i,f in enumerate(fits):\n",
    "#    f = Table(f)\n",
    "#    for k, z_bin in enumerate(Z_bin):\n",
    "##            if i == 0:\n",
    "#                axs[i_fits[i],j_fits[i]].plot([],[], '-', c = color_z[k],label = f'{z_bin[0]:.2f}'+ r'$< z < $'+ f'{z_bin[1]:.2f}',)\n",
    "#            mask = (f['z_mean'] > z_bin[0])*(f['z_mean'] < z_bin[1])\n",
    "#            f_cut = f[mask]\n",
    "#@            f_cut_validation = Table(binned_data)[mask]\n",
    "#            a_t = 1./(1 + f_cut['z_mean'])\n",
    "#            logm200 = np.log10(f_cut_validation['m200'])\n",
    "#            logm200w = f_cut['logm200_w']\n",
    "#            logm200w_err = f_cut['logm200_w_err']\n",
    "#            axs[i_fits[i],j_fits[i]].text(14.1, 14.6, text[i], fontsize = 30)\n",
    "#            axs[i_fits[i],j_fits[i]].errorbar(logm200,logm200w,logm200w_err,\n",
    "#                    marker = '.', \n",
    "#                    elinewidth = 2, capsize = 0, markersize = 7, c = color_z[k],\n",
    "#                        markerfacecolor = None)\n",
    " #   axs[i_fits[i],j_fits[i]].set_xlim(14,14.8)\n",
    "#    axs[i_fits[i],j_fits[i]].set_ylim(14,14.8)\n",
    "#    axs[i_fits[i],j_fits[i]].plot(y,y,'--k')\n",
    "#    axs[i_fits[i],j_fits[i]].tick_params(axis='both', which = 'major', labelsize= 20)\n",
    "#    axs[i_fits[i],j_fits[i]].legend(frameon = False, fontsize = 10, loc = 'lower right')\n",
    "#    axs[i_fits[i],j_fits[i]].grid('True')\n",
    "#    axs[i_fits[i],j_fits[i]].set_xlabel(r'$\\log_{10}(\\langle M_{\\rm 200c}\\rangle)$', fontsize = 30)\n",
    "#    if j_fits[i] == 0:\n",
    "#        axs[i_fits[i],j_fits[i]].set_ylabel(r'$\\log_{10}(\\langle M_{\\rm 200c}^{\\rm WL}\\rangle)$', fontsize = 30)\n",
    "#plt.savefig('/pbs/throng/lsst/users/cpayerne/ThesisAtCCin2p3/Images/est_wl_mass_mass.png', bbox_inches='tight', dpi=300)"
   ]
  },
  {
   "cell_type": "markdown",
   "id": "7fa77df1-7c76-4eae-a353-b7a1e247c485",
   "metadata": {},
   "source": [
    "# WL Mass-richness relation"
   ]
  },
  {
   "cell_type": "code",
   "execution_count": 35,
   "id": "957431aa-9519-47ea-8757-c92c03039b4c",
   "metadata": {},
   "outputs": [],
   "source": [
    "fits = [fix_c_Duffy08, fix_c_Prada12, fix_c_Bhattacharya13, fix_c_Diemer15, free_c_1h]\n",
    "label_fits = ['Duffy08', 'Prada12', 'Bhattacharya13', 'Diemer15',  'free']"
   ]
  },
  {
   "cell_type": "code",
   "execution_count": 38,
   "id": "cbb4dddb-7c7c-44c6-8918-6cc1680fdfe2",
   "metadata": {},
   "outputs": [],
   "source": [
    "lnL = mass_richness.WL_Mass_Richness()"
   ]
  },
  {
   "cell_type": "code",
   "execution_count": 83,
   "id": "cc620524-aef0-4128-9fcb-28a20fab8bca",
   "metadata": {},
   "outputs": [
    {
     "name": "stderr",
     "output_type": "stream",
     "text": [
      "100%|██████████| 100/100 [00:34<00:00,  2.86it/s]\n",
      "100%|██████████| 100/100 [00:35<00:00,  2.83it/s]\n",
      "100%|██████████| 100/100 [00:34<00:00,  2.86it/s]\n",
      "100%|██████████| 100/100 [00:35<00:00,  2.84it/s]\n",
      "100%|██████████| 100/100 [00:34<00:00,  2.91it/s]\n"
     ]
    }
   ],
   "source": [
    "z0 = analysis.z0\n",
    "richness0 = analysis.richness0\n",
    "initial_binned = [14.1,-1,.75]\n",
    "npath = 100\n",
    "ndim=3\n",
    "nwalkers = 800\n",
    "pos_binned = initial_binned + 0.01 * np.random.randn(nwalkers, len(initial_binned))\n",
    "label = label_fits\n",
    "sampler_list = {name : 0 for name in label}\n",
    "for i,fit_true in enumerate(fits):\n",
    "    fit_true = fit_true[fit_true['z_mean'] < .8]\n",
    "    lnL = mass_richness.WL_Mass_Richness(logm=fit_true['logm200_w'], logm_err=fit_true['logm200_w_err'], \n",
    "                 richness=fit_true['obs_mean'], richness_err=None, \n",
    "                 z=fit_true['z_mean'], z_err=None,\n",
    "                 richness_individual=None, \n",
    "                 z_individual=None, \n",
    "                 n_cluster_per_bin=None, weights_individual=None)\n",
    "    lnL.set_pivot_values(z0, richness0)\n",
    "    sampler = emcee.EnsembleSampler(nwalkers, ndim, lnL.lnLikelihood_binned_classic,)\n",
    "    sampler.run_mcmc(pos_binned, npath,progress=True)\n",
    "    sampler_wl = sampler.get_chain(discard = 0, flat = True)\n",
    "    sampler_list[label[i]] = sampler_wl"
   ]
  },
  {
   "cell_type": "code",
   "execution_count": 84,
   "id": "d8dccfb1",
   "metadata": {},
   "outputs": [],
   "source": [
    "\n",
    "# Gamma_5 = 0.79\n",
    "# Gamma_10 = 0.75\n",
    "# Gamma = [Gamma_5, Gamma_5, Gamma_5, Gamma_5, Gamma_5]\n",
    "\n",
    "# npath = 100\n",
    "# ndim = 3\n",
    "# nwalkers = 100\n",
    "# initial_binned = [14.15,0,0.75]\n",
    "# pos_binned = initial_binned + 0.01 * np.random.randn(npath, len(initial_binned))\n",
    "\n",
    "# _5_or_10 = ['5', '5', '5', '5', '5']\n",
    "# sampler = {name : 0 for name in label_fits}\n",
    "# for i,fit_true in enumerate(fits):\n",
    "    \n",
    "#     m200c_mean = 10**np.array(fit_true['logm200_w'])\n",
    "#     m200c_err_mean =np.array(fit_true['logm200_w_err'])*np.log(10)*m200c_mean\n",
    "#     richness_individual = np.array(fit_true['obs_individual'])\n",
    "#     richness_mean = np.array([np.mean(richness_individual[i]) for i in range(len(richness_individual))])\n",
    "#     z_individual = fit_true['z_individual']\n",
    "#     z_mean = np.array([np.mean(z_individual[i]) for i in range(len(z_individual))])\n",
    "#     weight_individual = fit_true['weight_per_cluster' + '_' + _5_or_10[i]]\n",
    "#     sampler_binned = emcee.EnsembleSampler(nwalkers, ndim, lnL_WL_binned_Gamma, args = (m200c_mean, m200c_err_mean, richness_individual, z_individual, weight_individual, Gamma[i]))\n",
    "#     sampler_binned.run_mcmc(pos_binned, npath, progress=True);\n",
    "#     sampler_binned_wl = sampler_binned.get_chain(discard = 0, flat = True)\n",
    "#     sampler[label_fits[i]] = sampler_binned_wl"
   ]
  },
  {
   "cell_type": "code",
   "execution_count": 85,
   "id": "0c078e91-c7cf-47a5-8500-ba2835e05b0c",
   "metadata": {},
   "outputs": [],
   "source": [
    "##label_plot = [r'WL no c(M) - 1h' ,r'WL free concentration, 1h + 2h',r'WL c(M) - 1h' ,r'WL fix concentration, 1h + 2h','fiducial',]\n",
    "##sampler_tot = [ sampler['free_c_1h'],sampler['free_c_2h'], sampler['fix_c_1h'],sampler['fix_c_2h'],flat_samples_binned_true]"
   ]
  },
  {
   "cell_type": "code",
   "execution_count": 86,
   "id": "b0be1e87-a119-4f04-8157-afe8cf747942",
   "metadata": {},
   "outputs": [],
   "source": [
    "label_plot = label_fits\n",
    "sampler_tot = [sampler_list[keys] for keys in sampler_list.keys()]"
   ]
  },
  {
   "cell_type": "code",
   "execution_count": 90,
   "id": "c2ac1d17-a346-457a-b92c-0ddc0e17a7a8",
   "metadata": {},
   "outputs": [],
   "source": [
    "k = sampler_list['free']\n",
    "a = len(k)\n",
    "middle = np.mean(k[30000:a-1], axis = 0)\n",
    "std = np.std(k[8000:a-1], axis = 0)\n",
    "range_corner_plot = [(middle[i]- 3*std[i], middle[i]+ 3*std[i]) for i in range(3)]"
   ]
  },
  {
   "cell_type": "code",
   "execution_count": 91,
   "id": "4cb8803e-373d-4094-867f-95e43efa67ac",
   "metadata": {},
   "outputs": [
    {
     "data": {
      "text/plain": [
       "[(14.077505517910582, 14.15517890699027),\n",
       " (-1.2124072963886479, 0.03584514938585981),\n",
       " (0.6703933044515928, 0.8285593887285447)]"
      ]
     },
     "execution_count": 91,
     "metadata": {},
     "output_type": "execute_result"
    }
   ],
   "source": [
    "range_corner_plot"
   ]
  },
  {
   "cell_type": "code",
   "execution_count": 94,
   "id": "184ad933",
   "metadata": {},
   "outputs": [
    {
     "name": "stdout",
     "output_type": "stream",
     "text": [
      "80000\n",
      "80000\n",
      "80000\n",
      "80000\n",
      "80000\n"
     ]
    },
    {
     "name": "stderr",
     "output_type": "stream",
     "text": [
      "No handles with labels found to put in legend.\n",
      "No handles with labels found to put in legend.\n",
      "No handles with labels found to put in legend.\n",
      "No handles with labels found to put in legend.\n",
      "No handles with labels found to put in legend.\n",
      "No handles with labels found to put in legend.\n",
      "No handles with labels found to put in legend.\n",
      "No handles with labels found to put in legend.\n"
     ]
    },
    {
     "data": {
      "image/png": "[encoded data removed]",
      "text/plain": [
       "<Figure size 504x504 with 9 Axes>"
      ]
     },
     "metadata": {
      "needs_background": "light"
     },
     "output_type": "display_data"
    }
   ],
   "source": [
    "plt.rcParams['axes.linewidth'] = 1.3\n",
    "labels_param = [r'$\\log_{10}(M_{0})$', r'$G_z$',r'$F_\\lambda$']\n",
    "sigma1 = 1. - np.exp(-(1./1.)**2/2.)\n",
    "sigma2 = 1. - np.exp(-(2./1.)**2/2.)\n",
    "sigma3 = 1. - np.exp(-(3./1.)**2/2.)\n",
    "truth = [14.162, -0.23, 0.8]\n",
    "bins = 20\n",
    "c = ['orange', 'salmon', 'r', 'm','k']\n",
    "show = [True, True, True, True, True]\n",
    "fill_contours = [False, False, False, False,  False]\n",
    "fig, axs = plt.subplots(3,3, figsize = (7,7))\n",
    "for i, name in enumerate(label_plot):\n",
    "    if not show[i]: continue\n",
    "    axs[0,2].plot([],[], c[i], linewidth = 10, label = label_fits[i])\n",
    "\n",
    "for i,sample in enumerate(sampler_tot):\n",
    "    if not show[i]: continue\n",
    "    a = len(sample)\n",
    "    print(a)\n",
    "    sample_cut = sample[40000:a-1]\n",
    "    fig = corner.corner(\n",
    "    sample_cut,\n",
    "    bins=bins, levels=(sigma1, sigma2),\n",
    "        #truths = fiducial_constraint,\n",
    "    \n",
    "    range = range_corner_plot,\n",
    "    fig = fig,\n",
    "    color = c[i],\n",
    "        ls = '--',\n",
    "    smooth1d=True,smooth=True,plot_datapoints=False,\n",
    "    fill_contours=fill_contours[i], labels = labels_param,            \n",
    "    label_kwargs={\"fontsize\": 20},\n",
    "    use_math_text=True,\n",
    "    show_title = True,\n",
    "    plot_density=False,\n",
    "    max_n_ticks = 5);\n",
    "    \n",
    "for i in range(3):\n",
    "    for j in range(3):\n",
    "        axs[i,j].tick_params(axis='both', which = 'major', labelsize= 10)\n",
    "        axs[i,j].legend(frameon = False, fontsize = 15, loc = 'upper right')\n",
    "        if i == j:\n",
    "            axs[i,j].set_ylim(0,10000)\n",
    "\n",
    "#plt.savefig('/pbs/throng/lsst/users/cpayerne/ThesisAtCCin2p3/Images/MCMC_mass_Richness.png', bbox_inches='tight', dpi=300)"
   ]
  },
  {
   "cell_type": "code",
   "execution_count": null,
   "id": "bcabb913-afa5-4f72-ba76-d8910f0b1532",
   "metadata": {},
   "outputs": [],
   "source": []
  },
  {
   "cell_type": "code",
   "execution_count": null,
   "id": "9f704324-d78a-4658-89cb-87f2ea56ba5c",
   "metadata": {},
   "outputs": [],
   "source": []
  }
 ],
 "metadata": {
  "kernelspec": {
   "display_name": "myenv",
   "language": "python",
   "name": "myenv"
  },
  "language_info": {
   "codemirror_mode": {
    "name": "ipython",
    "version": 3
   },
   "file_extension": ".py",
   "mimetype": "text/x-python",
   "name": "python",
   "nbconvert_exporter": "python",
   "pygments_lexer": "ipython3",
   "version": "3.10.10"
  }
 },
 "nbformat": 4,
 "nbformat_minor": 5
}
