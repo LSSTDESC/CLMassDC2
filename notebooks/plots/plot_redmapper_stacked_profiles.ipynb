{
 "cells": [
  {
   "cell_type": "code",
   "execution_count": 58,
   "id": "5c96e453",
   "metadata": {},
   "outputs": [
    {
     "name": "stdout",
     "output_type": "stream",
     "text": [
      "The autoreload extension is already loaded. To reload it, use:\n",
      "  %reload_ext autoreload\n"
     ]
    }
   ],
   "source": [
    "%load_ext autoreload\n",
    "\n",
    "%autoreload 2\n",
    "from multiprocessing import Pool\n",
    "import matplotlib.pyplot as plt\n",
    "import pickle\n",
    "from astropy.coordinates import SkyCoord, match_coordinates_3d, match_coordinates_sky\n",
    "import sys\n",
    "import emcee\n",
    "import numpy as np\n",
    "from astropy.cosmology import FlatLambdaCDM\n",
    "import astropy.units as u\n",
    "from astropy.table import Table, QTable, hstack, vstack\n",
    "from astropy import units as u\n",
    "import corner\n",
    "from astropy.coordinates import SkyCoord, match_coordinates_3d\n",
    "cosmo_astropy = FlatLambdaCDM(H0=71.0, Om0=0.265, Ob0 = 0.0448)\n",
    "import iminuit\n",
    "from iminuit import Minuit\n",
    "cosmo_astropy.critical_density(0.4).to(u.Msun / u.Mpc**3).value\n",
    "\n",
    "sys.path.append('/pbs/throng/lsst/users/cpayerne/CLMassDC2/modules/')\n",
    "import CL_WL_miscentering as mis\n",
    "import analysis_Mass_Richness_relation as analysis\n",
    "import CL_WL_two_halo_term as twoh\n",
    "import CL_WL_mass_conversion as utils\n",
    "import CL_DATAOPS_match_catalogs as match\n",
    "import CL_WL_DATAOPS_make_profile as prf\n",
    "#import CL_Likelihood_for_Mass_richness_relation as mass_richness\n",
    "#import CL_fiducial_mass_richness_relation as fiducial\n",
    "#import analysis_Mass_richness_relation as analysis\n",
    "\n",
    "\n",
    "import clmm\n",
    "import clmm.dataops\n",
    "from clmm.dataops import compute_tangential_and_cross_components, make_radial_profile, make_bins\n",
    "from clmm.galaxycluster import GalaxyCluster\n",
    "import clmm.utils as u\n",
    "import astropy.units as un\n",
    "from clmm import Cosmology\n",
    "from clmm.support import mock_data as mock\n",
    "import pyccl as ccl\n",
    "\n",
    "cosmo = Cosmology(H0 = 71.0, Omega_dm0 = 0.265 - 0.0448, Omega_b0 = 0.0448, Omega_k0 = 0.0)\n",
    "cosmo_astropy = FlatLambdaCDM(H0=71.0, Om0=0.265, Ob0 = 0.0448)\n",
    "cosmo_clmm = Cosmology(H0 = 71.0, Omega_dm0 = 0.265 - 0.0448, Omega_b0 = 0.0448, Omega_k0 = 0.0)\n",
    "cosmo_ccl  = ccl.Cosmology(Omega_c=0.265-0.0448, Omega_b=0.0448, h=0.71, A_s=2.1e-9, n_s=0.96, Neff=0, Omega_g=0)"
   ]
  },
  {
   "cell_type": "code",
   "execution_count": 59,
   "id": "a78ec39f",
   "metadata": {},
   "outputs": [],
   "source": [
    "def load(filename, **kwargs):\n",
    "    with open(filename, 'rb') as fin:\n",
    "        return pickle.load(fin, **kwargs)"
   ]
  },
  {
   "cell_type": "code",
   "execution_count": 60,
   "id": "b286b46c-3394-46af-a8b5-0092d4daca7b",
   "metadata": {},
   "outputs": [],
   "source": [
    "ind_profile = np.load('/pbs/throng/lsst/users/cpayerne/CLMassDC2//data/data_new_version/ind_profile_redmapper.pkl', allow_pickle = True)\n",
    "ind_profile['cluster_id'] = ind_profile['id']"
   ]
  },
  {
   "cell_type": "code",
   "execution_count": 61,
   "id": "8ea5d8eb-43bc-4cfc-8ce8-bcc90976d64a",
   "metadata": {},
   "outputs": [],
   "source": [
    "data = np.load('/pbs/throng/lsst/users/cpayerne/CLMassDC2/notebooks/data_for_notebooks/stacked_esd_profiles_redmapper_BPZ.pkl', allow_pickle=True)\n",
    "profiles = data['stacked profile']\n",
    "covariances = data['stacked covariance']"
   ]
  },
  {
   "cell_type": "code",
   "execution_count": 62,
   "id": "477c069f-d911-4d7d-8c7f-7c50af07d6e9",
   "metadata": {},
   "outputs": [
    {
     "data": {
      "text/plain": [
       "16"
      ]
     },
     "execution_count": 62,
     "metadata": {},
     "output_type": "execute_result"
    }
   ],
   "source": [
    "len(profiles)"
   ]
  },
  {
   "cell_type": "code",
   "execution_count": 63,
   "id": "efeeb09d",
   "metadata": {},
   "outputs": [],
   "source": [
    "Z_bin = analysis.Z_bin\n",
    "Obs_bin = analysis.Obs_bin"
   ]
  },
  {
   "cell_type": "code",
   "execution_count": 64,
   "id": "90f46498-cc72-4c16-bf98-e0b2f4165668",
   "metadata": {},
   "outputs": [
    {
     "data": {
      "text/plain": [
       "([[0.2, 0.35], [0.35, 0.5], [0.5, 0.65], [0.65, 0.8]],\n",
       " [[20.0, 45.0], [45.0, 70.0], [70.0, 95.0], [95.0, 120.0]])"
      ]
     },
     "execution_count": 64,
     "metadata": {},
     "output_type": "execute_result"
    }
   ],
   "source": [
    "Z_bin, Obs_bin"
   ]
  },
  {
   "cell_type": "code",
   "execution_count": 65,
   "id": "94e8c1c6-2fdf-4bf7-a50f-c37b27abe637",
   "metadata": {},
   "outputs": [
    {
     "data": {
      "text/plain": [
       "(16, 16)"
      ]
     },
     "execution_count": 65,
     "metadata": {},
     "output_type": "execute_result"
    }
   ],
   "source": [
    "len(covariances), len(profiles)"
   ]
  },
  {
   "cell_type": "code",
   "execution_count": 66,
   "id": "286e8712-085a-4d60-8eb4-e43853b191e8",
   "metadata": {},
   "outputs": [],
   "source": [
    "import CL_Mass_richness_relation as mr\n",
    "import CL_Likelihood_for_Mass_richness_relation_v2 as likelihood_mr\n",
    "MR_modeling = mr.WL_Mass_Richness()\n",
    "MR_modeling.set_pivot_values(analysis.z0, analysis.richness0)"
   ]
  },
  {
   "cell_type": "code",
   "execution_count": 57,
   "id": "b212d4c6-93ad-4009-913e-3a2e99e307d7",
   "metadata": {},
   "outputs": [
    {
     "name": "stdout",
     "output_type": "stream",
     "text": [
      "4 4\n"
     ]
    },
    {
     "name": "stderr",
     "output_type": "stream",
     "text": [
      "/pbs/home/c/cpayerne/.conda/envs/mydesc/lib/python3.7/site-packages/ipykernel_launcher.py:21: RuntimeWarning: invalid value encountered in sqrt\n"
     ]
    },
    {
     "data": {
      "image/png": "[encoded data removed]",
      "text/plain": [
       "<Figure size 720x504 with 16 Axes>"
      ]
     },
     "metadata": {
      "needs_background": "light"
     },
     "output_type": "display_data"
    }
   ],
   "source": [
    "n_z_bin = len(Z_bin) \n",
    "n_m_bin = len(Obs_bin) \n",
    "print(n_z_bin, n_m_bin)\n",
    "scale = 3\n",
    "fig, axs = plt.subplots( n_z_bin, n_m_bin, figsize = (10,7), sharex = True, sharey = True)\n",
    "fig.subplots_adjust(wspace=0, hspace=0)\n",
    "for i, z_bin in enumerate(Z_bin):\n",
    "\n",
    "    for j, m_bin in enumerate(Obs_bin):\n",
    "        try:\n",
    "\n",
    "            if i >= n_m_bin: continue\n",
    "\n",
    "            mask_z = (profiles['z_mean'] > z_bin[0])*(profiles['z_mean'] < z_bin[1])\n",
    "            mask_m = (profiles['obs_mean'] > m_bin[0])*(profiles['obs_mean'] < m_bin[1])\n",
    "            index = np.arange(len(profiles))\n",
    "            index_cut = index[mask_m * mask_z]\n",
    "            f_cut = profiles[index_cut]\n",
    "            cov = np.array(covariances['cov_t'][index_cut])\n",
    "\n",
    "            err = cov.diagonal()**.5\n",
    "\n",
    "\n",
    "            axs[i, j].errorbar(f_cut['radius'][0], f_cut['gt'][0] \n",
    "                               #err,  c = 'k'\n",
    "                               ,marker = 'o',fmt = ' ', elinewidth = 2, capsize = 5, markersize = 5, markerfacecolor = None)\n",
    "            #r=np.linspace(1, 5.5, 100)\n",
    "            #lnM = MR_modeling.lnM(f_cut['obs_mean'][0], f_cut['z_mean'][0], [14.13190028, -0.71776671,  0.7400713 ])\n",
    "            #print(lnM)\n",
    "            #y = clmm.compute_excess_surface_density(r, np.exp(lnM), 4, f_cut['z_mean'][0], cosmo, delta_mdef=200,\n",
    "            #                               halo_profile_model='nfw', massdef='critical')     \n",
    "            #axs[i, j].plot(r,y)\n",
    "            axs[i, j].set_ylim(1e12, 3e14)\n",
    "            axs[i, j].set_xlim(0.4, 11)\n",
    "            axs[i, j].set_xscale('log')\n",
    "            axs[i, j].set_yscale('log')\n",
    "           # axs[i, j].legend(frameon = False, loc = 'upper right', fontsize = 10)\n",
    "            axs[i, j].set_xlabel('R [Mpc]', fontsize = 20)\n",
    "            axs[i, j].set_ylabel(r'$\\Delta\\Sigma_+$ ' +'$[$' + r'${\\rm M}$' + r'$_\\odot\\;$'+ r'${\\rm Mpc}$'+r'$^{-2}$'r'$]$', fontsize = 14)\n",
    "        except: a=1\n",
    "\n",
    "for ax in fig.get_axes():\n",
    "    ax.label_outer()"
   ]
  },
  {
   "cell_type": "code",
   "execution_count": null,
   "id": "5828bfd5-2063-4f59-bb6c-dd1faeeac42d",
   "metadata": {},
   "outputs": [],
   "source": []
  }
 ],
 "metadata": {
  "kernelspec": {
   "display_name": "mydesc",
   "language": "python",
   "name": "mydesc"
  },
  "language_info": {
   "codemirror_mode": {
    "name": "ipython",
    "version": 3
   },
   "file_extension": ".py",
   "mimetype": "text/x-python",
   "name": "python",
   "nbconvert_exporter": "python",
   "pygments_lexer": "ipython3",
   "version": "3.7.6"
  }
 },
 "nbformat": 4,
 "nbformat_minor": 5
}
