{
 "cells": [
  {
   "cell_type": "code",
   "execution_count": 45,
   "id": "37d8778e",
   "metadata": {},
   "outputs": [
    {
     "name": "stdout",
     "output_type": "stream",
     "text": [
      "The autoreload extension is already loaded. To reload it, use:\n",
      "  %reload_ext autoreload\n"
     ]
    }
   ],
   "source": [
    "%load_ext autoreload\n",
    "\n",
    "import matplotlib.pyplot as plt\n",
    "import pickle\n",
    "import sys\n",
    "from astropy.table import join \n",
    "import numpy as np\n",
    "\n",
    "import clmm\n",
    "from clmm import Cosmology\n",
    "import pyccl as ccl\n",
    "\n",
    "sys.path.append('../modules/')\n",
    "import CL_WL_DATAOPS_make_profile as prf\n"
   ]
  },
  {
   "cell_type": "code",
   "execution_count": 46,
   "id": "5d25d8f8-5653-4cc6-ba72-70653ae4b406",
   "metadata": {},
   "outputs": [],
   "source": [
    "cosmo = Cosmology(H0 = 71.0, Omega_dm0 = 0.265 - 0.0448, Omega_b0 = 0.0448, Omega_k0 = 0.0)\n",
    "cosmo_ccl  = ccl.Cosmology(Omega_c=0.265-0.0448, Omega_b=0.0448, h=0.71, A_s=2.1e-9, n_s=0.96, Neff=0, Omega_g=0)"
   ]
  },
  {
   "cell_type": "code",
   "execution_count": 47,
   "id": "ec324e26",
   "metadata": {},
   "outputs": [],
   "source": [
    "from scipy.integrate import quad\n",
    "def av_sigma_2(zl):\n",
    "    def sigma_c_2(zs):\n",
    "        return cosmo.eval_sigma_crit(zl, zs)**(2)\n",
    "    def Chang(z): #Chang distribution of source redshift\n",
    "        a = 1.24\n",
    "        b = 1.01\n",
    "        z_0 = 0.51\n",
    "        return np.exp(-(z/z_0)**b)*z**a\n",
    "    norm = quad(Chang,0,np.inf)[0]\n",
    "    print(norm)\n",
    "    def __INTEGRAND__(z): return Chang(z)*sigma_c_2(z)\n",
    "    return quad(__INTEGRAND__,zl + 0.1,100)[0]/norm"
   ]
  },
  {
   "cell_type": "code",
   "execution_count": 48,
   "id": "576358dc",
   "metadata": {},
   "outputs": [
    {
     "name": "stdout",
     "output_type": "stream",
     "text": [
      "0.2437764410130451\n"
     ]
    },
    {
     "data": {
      "text/plain": [
       "1.190128691931685e+31"
      ]
     },
     "execution_count": 48,
     "metadata": {},
     "output_type": "execute_result"
    }
   ],
   "source": [
    "av_sigma_2(1)"
   ]
  },
  {
   "cell_type": "code",
   "execution_count": 49,
   "id": "f5899b1b",
   "metadata": {},
   "outputs": [],
   "source": [
    "filename = '../data/individual_profile_cosmoDC2_gal_cosmoDC2_halo_epsilon_shape_with_number_density.pkl'\n",
    "profile_nsf = pickle.load(open(filename, 'rb'))\n",
    "filename = '../data/individual_profile_cosmoDC2_gal_cosmoDC2_halo_shear_shape.pkl'\n",
    "profile_f = pickle.load(open(filename, 'rb'))\n",
    "filename = '../data/lens_catalog_SkySim5000.pkl'\n",
    "dat_SkySim = pickle.load(open(filename, 'rb'))\n",
    "\n",
    "# profile_nsf = load('/pbs/throng/lsst/users/cpayerne/CLMassDC2/data/individual_profile_cosmoDC2_gal_cosmoDC2_halo_epsilon_shape_with_number_density.pkl')\n",
    "# profile_f = load('/pbs/throng/lsst/users/cpayerne/CLMassDC2/data/individual_profile_cosmoDC2_gal_cosmoDC2_halo_shear_shape.pkl')\n",
    "# dat_SkySim = load('/pbs/throng/lsst/users/cpayerne/CLMassDC2/data/lens_catalog_SkySim5000.pkl')"
   ]
  },
  {
   "cell_type": "code",
   "execution_count": 50,
   "id": "6fb23f30-5540-45a6-b9b2-39a4aef4f926",
   "metadata": {},
   "outputs": [
    {
     "data": {
      "text/plain": [
       "['cluster_id',\n",
       " 'M200c',\n",
       " 'cluster_z',\n",
       " 'radial_bin',\n",
       " 'gt_av',\n",
       " 'gx_av',\n",
       " 'radius_av',\n",
       " 'norm_sum']"
      ]
     },
     "execution_count": 50,
     "metadata": {},
     "output_type": "execute_result"
    }
   ],
   "source": [
    "profile_f.colnames"
   ]
  },
  {
   "cell_type": "code",
   "execution_count": 51,
   "id": "17a6509e",
   "metadata": {},
   "outputs": [],
   "source": [
    "profile_nsf['halo_id'] = profile_nsf['cluster_id']\n",
    "profile_f['halo_id'] = profile_f['cluster_id']\n",
    "profile_shapenoise = join(profile_nsf,dat_SkySim,keys='halo_id')\n",
    "profile_noshapenoise = join(profile_f,dat_SkySim,keys='halo_id')"
   ]
  },
  {
   "cell_type": "code",
   "execution_count": 52,
   "id": "003384f7",
   "metadata": {},
   "outputs": [],
   "source": [
    "m_SORT = np.sort(np.array(profile_f['M200c']), axis = 0)\n",
    "m_list = np.array_split(m_SORT,5)\n",
    "m_corner = []\n",
    "for m_ in m_list[1:]:\n",
    "    m_corner.append(m_[0][0])\n",
    "m_corner.append(np.inf)"
   ]
  },
  {
   "cell_type": "code",
   "execution_count": 53,
   "id": "fd589660",
   "metadata": {},
   "outputs": [],
   "source": [
    "def binning(corner): return [[corner[i],corner[i+1]] for i in range(len(corner)-1)]\n",
    "def binning(corner): return [[corner[i],corner[i+1]] for i in range(len(corner)-1)]\n",
    "z_corner = np.linspace(0.2, 1, 9)\n",
    "Z_bin = binning(z_corner)\n",
    "Mass_bin = binning(m_corner)"
   ]
  },
  {
   "cell_type": "code",
   "execution_count": 54,
   "id": "5c3b6a73",
   "metadata": {},
   "outputs": [
    {
     "data": {
      "text/plain": [
       "array([0.2, 0.3, 0.4, 0.5, 0.6, 0.7, 0.8, 0.9, 1. ])"
      ]
     },
     "execution_count": 54,
     "metadata": {},
     "output_type": "execute_result"
    }
   ],
   "source": [
    "z_corner"
   ]
  },
  {
   "cell_type": "code",
   "execution_count": 55,
   "id": "c0e69449",
   "metadata": {},
   "outputs": [],
   "source": [
    "n_boot = 100\n",
    "n_jack = 150"
   ]
  },
  {
   "cell_type": "code",
   "execution_count": 56,
   "id": "9bd6305e",
   "metadata": {},
   "outputs": [
    {
     "name": "stderr",
     "output_type": "stream",
     "text": [
      "/pbs/home/c/cpayerne/.conda/envs/mydesc/lib/python3.7/site-packages/numpy/ma/core.py:2832: VisibleDeprecationWarning: Creating an ndarray from ragged nested sequences (which is a list-or-tuple of lists-or-tuples-or ndarrays with different lengths or shapes) is deprecated. If you meant to do this, you must specify 'dtype=object' when creating the ndarray\n",
      "  order=order, subok=True, ndmin=ndmin)\n"
     ]
    }
   ],
   "source": [
    "profile_stack_shapenoise = prf.stacked_profile(profile = profile_shapenoise,\n",
    "                    r_in = 'radius_av',\n",
    "                    gt_in = 'gt_av', gx_in = 'gx_av',\n",
    "                    r_out = 'radius',\n",
    "                    gt_out = 'gt', gx_out = 'gx',\n",
    "                    weight = 'norm_sum',\n",
    "                    z_name = 'cluster_z', obs_name = 'M200c',\n",
    "                    Z_bin = Z_bin, Obs_bin = Mass_bin)\n",
    "profile_stack_noshapenoise = prf.stacked_profile(profile = profile_noshapenoise,\n",
    "                    r_in = 'radius_av',\n",
    "                    gt_in = 'gt_av', gx_in = 'gx_av',\n",
    "                    r_out = 'radius',\n",
    "                    gt_out = 'gt', gx_out = 'gx',\n",
    "                    weight = 'norm_sum',\n",
    "                    z_name = 'cluster_z', obs_name = 'M200c',\n",
    "                    Z_bin = Z_bin, Obs_bin = Mass_bin)"
   ]
  },
  {
   "cell_type": "code",
   "execution_count": 75,
   "id": "dc023aac",
   "metadata": {},
   "outputs": [
    {
     "name": "stdout",
     "output_type": "stream",
     "text": [
      "ok boot\n",
      "ok sample\n"
     ]
    }
   ],
   "source": [
    "covariance_stack_bootstrap_shapenoise = prf.bootstrap_covariance(profile = profile_shapenoise,\n",
    "                    r_in = 'radius_av',\n",
    "                    gt_in = 'gt_av', gx_in = 'gx_av',\n",
    "                    r_out = 'radius',\n",
    "                    gt_out = 'gt', gx_out = 'gx',\n",
    "                    weight = 'norm_sum',\n",
    "                    n_boot = 200,\n",
    "                    z_name = 'cluster_z', obs_name = 'M200c',\n",
    "                    Z_bin = Z_bin, Obs_bin = Mass_bin)\n",
    "\n",
    "#covariance_stack_bootstrap_noshapenoise = prf.bootstrap_covariance(profile = profile_noshapenoise,\n",
    "#                    r_in = 'radius_av',\n",
    "#                    gt_in = 'gt_av', gx_in = 'gx_av',\n",
    "#                    r_out = 'radius',\n",
    "#                    gt_out = 'gt', gx_out = 'gx',\n",
    "#                    weight = 'norm_sum',\n",
    "#                    n_boot = n_boot,\n",
    "#                    z_name = 'cluster_z', obs_name = 'M200c',\n",
    "#                    Z_bin = Z_bin, Obs_bin = Mass_bin)\n",
    "\n",
    "print('ok boot')\n",
    "\n",
    "#covariance_stack_sample_shapenoise = prf.sample_covariance(profile = profile_shapenoise,\n",
    "#                    r_in = 'radius_av',\n",
    "##                    gt_in = 'gt_av', gx_in = 'gx_av',\n",
    "#                   r_out = 'radius',\n",
    "#                    gt_out = 'gt', gx_out = 'gx',\n",
    "#                    weight = 'norm_sum',\n",
    "#                    z_name = 'cluster_z', obs_name = 'M200c',\n",
    "#                    Z_bin = Z_bin, Obs_bin = Mass_bin)\n",
    "\n",
    "#covariance_stack_sample_noshapenoise = prf.sample_covariance(profile = profile_noshapenoise,\n",
    "###                    r_in = 'radius_av',\n",
    "#                    gt_in = 'gt_av', gx_in = 'gx_av',\n",
    "#                    r_out = 'radius',\n",
    "#                    gt_out = 'gt', gx_out = 'gx',\n",
    "#                    weight = 'norm_sum',\n",
    "#                    #n_boot = n_boot,                              \n",
    "#                    z_name = 'cluster_z', obs_name = 'M200c',\n",
    "#                    Z_bin = Z_bin, Obs_bin = Mass_bin)\n",
    "\n",
    "print('ok sample')\n",
    "\n",
    "#covariance_stack_jacknife_shapenoise = prf.jacknife_covariance(profile = profile_shapenoise,\n",
    "#                    r_in = 'radius_av',\n",
    "#                    gt_in = 'gt_av', gx_in = 'gx_av',\n",
    "#                    r_out = 'radius',\n",
    "#                    gt_out = 'gt', gx_out = 'gx',\n",
    "#                    weight = 'norm_sum',\n",
    "#                   n_jack = n_jack,\n",
    "#                    ra = 'ra', dec = 'dec',                                       \n",
    "#                    z_name = 'cluster_z', obs_name = 'M200c',\n",
    "#                    Z_bin = Z_bin, Obs_bin = Mass_bin)\n",
    "\n",
    "#covariance_stack_jacknife_noshapenoise = prf.jacknife_covariance(profile = profile_noshapenoise,\n",
    "#                    r_in = 'radius_av',\n",
    "#                    gt_in = 'gt_av', gx_in = 'gx_av',\n",
    "#                    r_out = 'radius',\n",
    "#                    gt_out = 'gt', gx_out = 'gx',\n",
    "#                    weight = 'norm_sum',\n",
    "#                   n_jack = n_jack,\n",
    "#                    ra = 'ra', dec = 'dec',                                       \n",
    "#                    z_name = 'cluster_z', obs_name = 'M200c',\n",
    "#                    Z_bin = Z_bin, Obs_bin = Mass_bin)\n",
    "\n",
    "#print('ok jackknife')"
   ]
  },
  {
   "cell_type": "code",
   "execution_count": 76,
   "id": "e123eabc-508a-416d-be87-19471a6dfa82",
   "metadata": {},
   "outputs": [
    {
     "data": {
      "text/plain": [
       "<matplotlib.image.AxesImage at 0x7f814ec2e290>"
      ]
     },
     "execution_count": 76,
     "metadata": {},
     "output_type": "execute_result"
    },
    {
     "data": {
      "image/png": "[encoded data removed]",
      "text/plain": [
       "<Figure size 432x288 with 1 Axes>"
      ]
     },
     "metadata": {
      "needs_background": "light"
     },
     "output_type": "display_data"
    }
   ],
   "source": [
    "plt.imshow(np.corrcoef(covariance_stack_bootstrap_shapenoise['cov_t'][19]), cmap='bwr')"
   ]
  },
  {
   "cell_type": "code",
   "execution_count": 81,
   "id": "fbe811b7",
   "metadata": {},
   "outputs": [],
   "source": [
    "index_dm = 1"
   ]
  },
  {
   "cell_type": "code",
   "execution_count": 82,
   "id": "157b38ea-7ec9-4bd9-a63d-bb79d5388f9b",
   "metadata": {},
   "outputs": [
    {
     "data": {
      "text/plain": [
       "array([ 0.1       ,  0.11334498,  0.12847084,  0.14561524,  0.16504757,\n",
       "        0.18707313,  0.21203799,  0.24033442,  0.27240699,  0.30875965,\n",
       "        0.34996355,  0.39666611,  0.44960111,  0.50960028,  0.57760633,\n",
       "        0.65468776,  0.7420557 ,  0.84108286,  0.95332519,  1.08054622,\n",
       "        1.22474487,  1.3881868 ,  1.57344002,  1.78341524,  2.02141161,\n",
       "        2.29116854,  2.59692447,  2.94348346,  3.33629067,  3.78151792,\n",
       "        4.28616064,  4.85814783,  5.50646657,  6.24130331,  7.07420385,\n",
       "        8.01825478,  9.08828909, 10.30111925, 11.67580132, 13.2339344 ,\n",
       "       15.        ])"
      ]
     },
     "execution_count": 82,
     "metadata": {},
     "output_type": "execute_result"
    }
   ],
   "source": [
    "profile_f['radial_bin'][0]"
   ]
  },
  {
   "cell_type": "code",
   "execution_count": 83,
   "id": "df061ee7",
   "metadata": {},
   "outputs": [
    {
     "data": {
      "image/png": "[encoded data removed]",
      "text/plain": [
       "<Figure size 432x288 with 1 Axes>"
      ]
     },
     "metadata": {
      "needs_background": "light"
     },
     "output_type": "display_data"
    }
   ],
   "source": [
    "S = 4*np.pi*15**2 #Mpc^2\n",
    "n_gal_per_bin_average = []\n",
    "ns_Mpc, ns_arcmin = [],[]\n",
    "sigma_2_av = []\n",
    "for p in profile_stack_noshapenoise:\n",
    "    cluster_id = np.array(p['cluster_id'])\n",
    "    mask = np.isin(profile_nsf['cluster_id'],cluster_id)\n",
    "    dm_halos_cut = profile_nsf[mask]\n",
    "    average_n_gal_per_bin = np.sum(dm_halos_cut['n_gal'], axis = 0)\n",
    "    average_sigma_2_per_bin = np.average(dm_halos_cut['sigma_crit^2_av'], axis = 0)\n",
    "    n_gal_per_bin_average.append(average_n_gal_per_bin)\n",
    "    average_n_gal_tot = np.sum(average_n_gal_per_bin)\n",
    "    average_sigma_2 = np.mean(average_sigma_2_per_bin)\n",
    "#   S = 4*np.pi*15**2 #Mpc^2\n",
    "    ns_Mpc.append(average_n_gal_tot/S)\n",
    "    theta_arcmin = 3437.75*(15/cosmo.eval_da(p['z_mean']))\n",
    "    S_arcmin = np.pi*theta_arcmin**2\n",
    "    ns_arcmin.append(average_n_gal_tot/S_arcmin)\n",
    "    sigma_2_av.append(average_sigma_2_per_bin)\n",
    "    plt.scatter(p['z_mean'], average_n_gal_tot/S_arcmin)\n",
    "profile_stack_noshapenoise['ngal_per_bin'] = np.array(n_gal_per_bin_average)\n",
    "profile_stack_noshapenoise['av_sigma^2'] = np.array(average_sigma_2)"
   ]
  },
  {
   "cell_type": "code",
   "execution_count": null,
   "id": "24ecee3a-a70c-4d36-8761-87ad22fd61b3",
   "metadata": {},
   "outputs": [],
   "source": []
  },
  {
   "cell_type": "code",
   "execution_count": 84,
   "id": "2483587b",
   "metadata": {},
   "outputs": [
    {
     "name": "stdout",
     "output_type": "stream",
     "text": [
      "0.2437764410130451\n",
      "0.2437764410130451\n"
     ]
    },
    {
     "data": {
      "image/png": "[encoded data removed]",
      "text/plain": [
       "<Figure size 720x576 with 1 Axes>"
      ]
     },
     "metadata": {
      "needs_background": "light"
     },
     "output_type": "display_data"
    }
   ],
   "source": [
    "plt.rcParams['axes.linewidth']=2\n",
    "index = index_dm\n",
    "plt.figure(figsize = (10,8))\n",
    "#label_z = f'{z_bin[0]:.2f} < z < {z_bin[1]:.2f}'\n",
    "#label_M = f'{np.log10(m_bin[0]):.2f}' + r'$ < \\log_{10}(M_{\\rm 200c}) < $' + f'{np.log10(m_bin[1]):.2f}'\n",
    "#plt.plot([], [], 'w', label = label_z)\n",
    "#plt.plot([], [], 'w', label = label_M)\n",
    "c = ['r','b']\n",
    "fmt = ['-', '--']\n",
    "marker = ['o', 's']\n",
    "markersize = [2,2]\n",
    "name = ['center cosmoDC2', 'center RedMapper']\n",
    "profile_ = profile_stack_noshapenoise\n",
    "#covariance = [covariance_RedMapper_stack_bootstrap, covariance_RedMapper_stack_jacknife, covariance_RedMapper_stack_sample]\n",
    "f_cut = profile_[index_dm]\n",
    "std_epsilon = 0.15\n",
    "std_shear = 0.013\n",
    "\n",
    "label_boot = f'Bootstrap'\n",
    "label_jack = f'Jackknife'\n",
    "label_sample = 'Sample'\n",
    "\n",
    "gt_err_bootstrap = np.sqrt(f_cut['n_stack']*np.array(covariance_stack_bootstrap_shapenoise[index_dm]['cov_t'].T.diagonal()))\n",
    "#gt_err_jacknife  = np.sqrt(f_cut['n_stack']*np.array(covariance_stack_jacknife_shapenoise[index_dm]['cov_t'].T.diagonal()))#/covariance_RedMapper_stack_jacknife[index_cut]['Hartlap'][0]\n",
    "#gt_err_sample  = np.array(f_cut['n_stack']*covariance_stack_sample_shapenoise[index_dm]['cov_t'].T.diagonal())**(1/2)\n",
    "#gt_err_sample_true  = np.array(f_cut['n_stack']*covariance_stack_sample_noshapenoise[index_dm]['cov_t'].T.diagonal())**(1/2)\n",
    "\n",
    "#print(gt_err_sample)\n",
    "plt.plot(f_cut['radius'], gt_err_bootstrap,'cyan', label = label_boot + ' $-\\ \\sigma_\\epsilon$', linewidth = 3)\n",
    "#plt.plot(f_cut['radius'], gt_err_sample_true,'--r', linewidth = 3, label = label_boot + ' $-\\ \\sigma_\\gamma$')\n",
    "#plt.plot(f_cut['radius'], gt_err_jacknife,'.b', label = label_jack+ ' $-\\ \\sigma_\\epsilon$', linewidth = 5)\n",
    "#plt.plot(f_cut['radius'], gt_err_sample,'xg', label = label_sample+ ' $-\\ \\sigma_\\epsilon$', linewidth = 1, markersize = 10)\n",
    "\n",
    "gt_err_th_epsilon = (av_sigma_2(f_cut['z_mean']) * std_epsilon**2/(f_cut['ngal_per_bin']))**(1/2)\n",
    "gt_err_th_shear = (av_sigma_2(f_cut['z_mean']) *std_shear**2/(f_cut['ngal_per_bin']))**(1/2)\n",
    "plt.plot(f_cut['radius'], gt_err_th_epsilon,'-k', zorder = 0, alpha = 1, linewidth = 3, label = r'shapenoise $-\\ \\sigma_\\epsilon$')\n",
    "#plt.plot(f_cut['radius'], gt_err_th_shear,'-r', zorder = 0, alpha = 1, linewidth = 3, label = 'shapenoise $-\\ \\sigma_\\gamma$')\n",
    "\n",
    "\n",
    "plt.ylim(3e12, 9*1e14)\n",
    "plt.xlim(min(f_cut['radius']), max(f_cut['radius']))\n",
    "plt.xscale('log')\n",
    "plt.yscale('log')\n",
    "plt.legend(frameon = False, loc = 'upper right', fontsize = 18)\n",
    "plt.xlabel('R [Mpc]', fontsize = 20)\n",
    "plt.ylabel(r'$[N_{\\rm cluster}Cov(\\Delta\\Sigma, \\Delta\\Sigma)]^{1/2}$ '+'$[$' + r'${\\rm M}$' + r'$_\\odot\\;$'+ r'${\\rm Mpc}$'+r'$^{-2}$'r'$]$', fontsize = 20)\n",
    "plt.xticks(ticks=[0.1, 1,10], labels=['0.1', '1','10'])\n",
    "plt.tick_params(axis='both', which = 'major', labelsize= 20)\n",
    "#plt.savefig('/pbs/throng/lsst/users/cpayerne/ThesisAtCCin2p3/Images/covariance_diagonal.png', bbox_inches='tight', dpi=300)"
   ]
  },
  {
   "cell_type": "code",
   "execution_count": null,
   "id": "6c203462",
   "metadata": {},
   "outputs": [],
   "source": [
    "moo = clmm.Modeling(massdef = 'critical', delta_mdef = 200, halo_profile_model = 'nfw')\n",
    "moo.set_cosmo(cosmo)\n",
    "deff = ccl.halos.massdef.MassDef(200, 'critical', c_m_relation=None)\n",
    "conc = ccl.halos.concentration.ConcentrationDiemer15(mdef=deff)"
   ]
  },
  {
   "cell_type": "code",
   "execution_count": null,
   "id": "0d7da874",
   "metadata": {},
   "outputs": [],
   "source": [
    "def modele_ds(r, logm, c, cluster_z):\n",
    "    m = 10.**logm \n",
    "    moo.set_mass(m), moo.set_concentration(c)\n",
    "    deltasigma = []\n",
    "    for i, xr in enumerate(r):\n",
    "        deltasigma.append(moo.eval_excess_surface_density(xr, cluster_z))\n",
    "    return np.array(deltasigma)"
   ]
  },
  {
   "cell_type": "code",
   "execution_count": null,
   "id": "3390e0bc",
   "metadata": {
    "tags": []
   },
   "outputs": [],
   "source": [
    "from matplotlib.transforms import Affine2D\n",
    "fig, ax = plt.subplots(figsize = (10,10))\n",
    "z_bin = Z_bin[2]\n",
    "m_bin = Mass_bin[2]\n",
    "label_z = f'{z_bin[0]:.2f} < z < {z_bin[1]:.2f}'\n",
    "label_M = f'{np.log10(m_bin[0]):.2f}' + r'$ < \\log_{10}(M_{\\rm 200c}) < $' + f'{np.log10(m_bin[1]):.2f}'\n",
    "plt.plot([], [], 'w', label = label_z)\n",
    "plt.plot([], [], 'w', label = label_M)\n",
    "c = ['r','b']\n",
    "fmt = ['-', '--']\n",
    "marker = ['o', 's']\n",
    "markersize = [2,2]\n",
    "name = ['center cosmoDC2', 'center RedMapper']\n",
    "profile_ = profile_stack_shapenoise\n",
    "profile_true = profile_stack_noshapenoise\n",
    "mask_z = (profile_['z_mean'] > z_bin[0])*(profile_['z_mean'] < z_bin[1])\n",
    "mask_m = (profile_['obs_mean'] > m_bin[0])*(profile_['obs_mean'] < m_bin[1])\n",
    "index = np.arange(len(profile_))\n",
    "index_cut = index[mask_m * mask_z]\n",
    "f_cut_true = profile_true[index_cut][0]\n",
    "f_cut = profile_[index_cut][0]\n",
    "\n",
    "gt_err_sample  = np.array(covariance_stack_bootstrap_shapenoise[index_cut]['cov_t'].T.diagonal()[0])**(1/2)\n",
    "gt_err_sample_true  = np.array(covariance_stack_bootstrap_noshapenoise[index_cut]['cov_t'].T.diagonal()[0])**(1/2)\n",
    "\n",
    "cst = 0.02\n",
    "\n",
    "#ax.errorbar(f_cut_true['radius']- f_cut['radius']*cst, f_cut_true['gt'], gt_err_sample_true, fmt = '.', label = 'wo/ intrinsic ellipticity', linewidth = 2, capsize = 3, c = 'magenta')\n",
    "#plt.fill_between(list(f_cut['radius']), list(f_cut['gt'] + gt_err_sample), list(f_cut['gt'] - gt_err_sample), color = 'cyan', alpha = 0.3, label = 'shapenoise')\n",
    "#plt.fill_between(list(f_cut_true['radius']), list(f_cut_true['gt'] + gt_err_sample_true), list(f_cut_true['gt'] - gt_err_sample_true), color = 'magenta', alpha = 0.5, label = 'no shapenoise')\n",
    "ax.errorbar(f_cut['radius'] + f_cut['radius']*cst, f_cut['gt'], gt_err_sample, fmt = '.', linewidth = 2, capsize = 4, c = 'b', markersize = 10, zorder = 1000)\n",
    "#plt.errorbar(f_cut['radius'][0], f_cut['gt'][0],gt_err_sample,'.b', linewidth = 3)\n",
    "\n",
    "cfiducial = conc._concentration(cosmo_ccl, f_cut['obs_mean'], 1/(1 + f_cut['z_mean']))\n",
    "#cfiducial = Duffy_concentration(f_cut['obs_mean'], f_cut['z_mean'], 'critical')\n",
    "fiducial = modele_ds(f_cut['radius'], np.log10(f_cut['obs_mean']), cfiducial, f_cut['z_mean'])\n",
    "ax.plot(f_cut['radius'], fiducial,'--', c = 'g', alpha = 1, linewidth= 3, label = 'NFW 1-halo term')\n",
    "#ax.grid(True)\n",
    "\n",
    "n = f_cut['n_stack']\n",
    "label_n = f'N = {n:.0f}'\n",
    "#ax.plot([], [], 'w', label = label_n)\n",
    "ax.set_ylim(9e11, 3*1e14)\n",
    "ax.set_xlim(min(f_cut_true['radius']), max(f_cut_true['radius']))\n",
    "ax.set_xscale('log')\n",
    "ax.set_yscale('log')\n",
    "ax.tick_params(axis='both', which = 'major', labelsize= 18, zorder = 0)\n",
    "ax.legend(frameon = False, loc = 'upper right', fontsize = 20)\n",
    "ax.set_xlabel('R [Mpc]', fontsize = 22)\n",
    "ax.set_ylabel(r'$\\Delta\\Sigma_+$ ' +'$[$' + r'${\\rm M}$' + r'$_\\odot\\;$'+ r'${\\rm Mpc}$'+r'$^{-2}$'r'$]$', fontsize = 22)\n",
    "#plt.xticks(ticks=[0.1, 1,2, 3,6,10], labels=['0.1', '1','2', '3', '6','10'])\n",
    "#plt.tick_params(axis='both', which = 'major', labelsize= 15)\n",
    "#plt.savefig('/pbs/throng/lsst/users/cpayerne/ThesisAtCCin2p3/Images/t.png', bbox_inches='tight', dpi=300)"
   ]
  },
  {
   "cell_type": "code",
   "execution_count": null,
   "id": "ab19cade-9ac4-4658-b285-04f2fb2c6f71",
   "metadata": {},
   "outputs": [],
   "source": [
    "fig, ax = plt.subplots(1,len(Z_bin), figsize = (30,5), sharey = True)\n",
    "plt.rcParams['axes.linewidth']= 2\n",
    "fig.subplots_adjust(wspace=0, hspace=0)\n",
    "m_bin = Mass_bin[0]\n",
    "\n",
    "for i,z in enumerate(Z_bin):\n",
    "    mask_z = (profile_['z_mean'] > z[0])*(profile_['z_mean'] < z[1])\n",
    "    f_cut = profile_[mask_z][0]\n",
    "    gt_err_sample  = np.array(covariance_stack_bootstrap_shapenoise[index_cut]['cov_t'].T.diagonal()[0])**(1/2)\n",
    "    ax[i].fill_between(list(f_cut['radius']), list(f_cut['gt'] + gt_err_sample), list(f_cut['gt'] - gt_err_sample), color = 'magenta', alpha = 0.3, label = 'shapenoise')\n",
    "    \n",
    "    cfiducial = conc._concentration(cosmo_ccl, f_cut['obs_mean'], 1/(1 + f_cut['z_mean']))\n",
    "    #cfiducial = Duffy_concentration(f_cut['obs_mean'], f_cut['z_mean'], 'critical')\n",
    "    fiducial = modele_ds(f_cut['radius'], np.log10(f_cut['obs_mean']), cfiducial, f_cut['z_mean'])\n",
    "    ax[i].plot(f_cut['radius'], fiducial,'--', c = 'b', alpha = 1, linewidth= 3, label = 'fiducial')\n",
    "    \n",
    "    ax[i].set_ylim(5e11, 2*1e14)\n",
    "    ax[i].set_xlim(min(f_cut_true['radius']), max(f_cut_true['radius']))\n",
    "    #ax[i].vlines(1,5e11, 3*1e14, linestyle = '--', color = 'k')\n",
    "    ax[i].set_xscale('log')\n",
    "    ax[i].set_yscale('log')\n",
    "    ax[i].tick_params(axis='both', which = 'major', labelsize= 18, zorder = 0)\n",
    "    ax[i].set_xlabel('R [Mpc]', fontsize = 22)\n",
    "    if i == 0:\n",
    "        ax[i].set_ylabel(r'$\\Delta\\Sigma_+$ ' +'$[$' + r'${\\rm M}$' + r'$_\\odot\\;$'+ r'${\\rm Mpc}$'+r'$^{-2}$'r'$]$', fontsize = 22)\n",
    "        ax[i].legend(frameon = False, loc = 'upper right', fontsize = 15)"
   ]
  }
 ],
 "metadata": {
  "kernelspec": {
   "display_name": "mydesc",
   "language": "python",
   "name": "mydesc"
  },
  "language_info": {
   "codemirror_mode": {
    "name": "ipython",
    "version": 3
   },
   "file_extension": ".py",
   "mimetype": "text/x-python",
   "name": "python",
   "nbconvert_exporter": "python",
   "pygments_lexer": "ipython3",
   "version": "3.7.6"
  }
 },
 "nbformat": 4,
 "nbformat_minor": 5
}
